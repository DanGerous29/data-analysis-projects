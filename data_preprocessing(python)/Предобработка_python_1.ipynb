{
 "cells": [
  {
   "cell_type": "markdown",
   "id": "e06910dd",
   "metadata": {
    "id": "e06910dd"
   },
   "source": [
    "# Игровая индустрия 2000-2013: тренды, платформы и RPG\n",
    "\n",
    "- Автор: Заславский Данила\n",
    "- Дата: 20.03.2025"
   ]
  },
  {
   "cell_type": "markdown",
   "id": "4149134c",
   "metadata": {
    "id": "4149134c"
   },
   "source": [
    "### Цели и задачи проекта\n",
    "\n",
    "Данный проект посвящён проведению исследования развития игровой индустрии в период с 2000 по 2013 год для написания аналитической статьи, которая привлечёт внимание любителей старых игр и вызовет интерес к игре \"Секреты Темнолесья\". Для этого будет необходимо ознакомиться и проанализоровать данные о продажах игр, жанрах, платформах, оценках пользователей и критиков. Основной акцент будет сделан на RPG-играх, чтобы подчеркнуть их роль в развитии индустрии и связать с современными трендами."
   ]
  },
  {
   "cell_type": "markdown",
   "id": "728986ea",
   "metadata": {
    "id": "728986ea"
   },
   "source": [
    "### Описание данных\n",
    "\n",
    "В проекте будут использованы данные датасета `new_games.csv` с таким описанием:\n",
    "- `Name` - название игры;\n",
    "- `Platform` - название платформы;\n",
    "- `Year of Release` - год выпуска игры;\n",
    "- `Genre` - жанр игры;\n",
    "- `NA sales` - продажи в Северной Америке (в миллионах проданных копий);\n",
    "- `EU sales` - продажи в Европе (в миллионах проданных копий);\n",
    "- `JP sales` - продажи в Японии (в миллионах проданных копий);\n",
    "- `Other sales` - продажи в других странах (в миллионах проданных копий);\n",
    "- `Critic Score` - оценка критиков (от 0 до 100);\n",
    "- `User Score` - оценка пользователей (от 0 до 10);\n",
    "- `Rating` - рейтинг организации ESRB."
   ]
  },
  {
   "cell_type": "markdown",
   "id": "4fecaf95",
   "metadata": {
    "id": "4fecaf95"
   },
   "source": [
    "### Содержимое проекта\n",
    "\n",
    "[1. Загрузка данных и знакомство с ними](#chapter1)  \n",
    "[2. Проверка ошибок в данных и их предобработка](#chapter2)    \n",
    "&nbsp;&nbsp;[2.1. Названия, или метки, столбцов датафрейма](#chapter2_1)  \n",
    "&nbsp;&nbsp;[2.2. Типы данных](#chapter2_2)  \n",
    "&nbsp;&nbsp;[2.3. Наличия пропусков в данных](#chapter2_3)  \n",
    "&nbsp;&nbsp;[2.4. Явные и неявные дубликаты в данных](#chapter2_4)  \n",
    "[3. Фильтрация данных](#chapter3)  \n",
    "[4. Категоризация данных](#chapter4)  \n",
    "[5. Итоговый вывод](#chapter5)  \n",
    "\n"
   ]
  },
  {
   "cell_type": "markdown",
   "id": "6f7d21d6",
   "metadata": {
    "id": "6f7d21d6"
   },
   "source": [
    "## 1. Загрузка данных и знакомство с ними\n",
    "<a id='chapter1'></a>\n",
    "\n",
    "- Загрузите необходимые библиотеки Python и данные датасета `/datasets/new_games.csv`.\n"
   ]
  },
  {
   "cell_type": "code",
   "execution_count": 4,
   "id": "ebb66dc5",
   "metadata": {
    "id": "ebb66dc5"
   },
   "outputs": [],
   "source": [
    "# Импортируем библиотеку pandas\n",
    "import pandas as pd"
   ]
  },
  {
   "cell_type": "code",
   "execution_count": 5,
   "id": "ce87c1db",
   "metadata": {
    "id": "ce87c1db"
   },
   "outputs": [],
   "source": [
    "# Выгружаем данные из датасета new_games.csv в датафрейм games\n",
    "games = pd.read_csv('https://code.s3.yandex.net/datasets/new_games.csv')\n"
   ]
  },
  {
   "cell_type": "markdown",
   "id": "e0a8705f",
   "metadata": {
    "id": "e0a8705f"
   },
   "source": [
    "- Познакомимся с данными: выведем первые строки и результат метода `info()`.\n"
   ]
  },
  {
   "cell_type": "code",
   "execution_count": 7,
   "id": "3937acf7",
   "metadata": {
    "id": "3937acf7"
   },
   "outputs": [
    {
     "name": "stdout",
     "output_type": "stream",
     "text": [
      "<class 'pandas.core.frame.DataFrame'>\n",
      "RangeIndex: 16956 entries, 0 to 16955\n",
      "Data columns (total 11 columns):\n",
      " #   Column           Non-Null Count  Dtype  \n",
      "---  ------           --------------  -----  \n",
      " 0   Name             16954 non-null  object \n",
      " 1   Platform         16956 non-null  object \n",
      " 2   Year of Release  16681 non-null  float64\n",
      " 3   Genre            16954 non-null  object \n",
      " 4   NA sales         16956 non-null  float64\n",
      " 5   EU sales         16956 non-null  object \n",
      " 6   JP sales         16956 non-null  object \n",
      " 7   Other sales      16956 non-null  float64\n",
      " 8   Critic Score     8242 non-null   float64\n",
      " 9   User Score       10152 non-null  object \n",
      " 10  Rating           10085 non-null  object \n",
      "dtypes: float64(4), object(7)\n",
      "memory usage: 1.4+ MB\n"
     ]
    }
   ],
   "source": [
    "# Выводим информацию о датафрейме\n",
    "games.info()\n",
    "#нахождение количества строк датафрейма до предобработки\n",
    "len_start = len(games)"
   ]
  },
  {
   "cell_type": "code",
   "execution_count": 8,
   "id": "d7c8eb4b",
   "metadata": {
    "id": "d7c8eb4b",
    "scrolled": true
   },
   "outputs": [
    {
     "data": {
      "text/html": [
       "<div>\n",
       "<style scoped>\n",
       "    .dataframe tbody tr th:only-of-type {\n",
       "        vertical-align: middle;\n",
       "    }\n",
       "\n",
       "    .dataframe tbody tr th {\n",
       "        vertical-align: top;\n",
       "    }\n",
       "\n",
       "    .dataframe thead th {\n",
       "        text-align: right;\n",
       "    }\n",
       "</style>\n",
       "<table border=\"1\" class=\"dataframe\">\n",
       "  <thead>\n",
       "    <tr style=\"text-align: right;\">\n",
       "      <th></th>\n",
       "      <th>Name</th>\n",
       "      <th>Platform</th>\n",
       "      <th>Year of Release</th>\n",
       "      <th>Genre</th>\n",
       "      <th>NA sales</th>\n",
       "      <th>EU sales</th>\n",
       "      <th>JP sales</th>\n",
       "      <th>Other sales</th>\n",
       "      <th>Critic Score</th>\n",
       "      <th>User Score</th>\n",
       "      <th>Rating</th>\n",
       "    </tr>\n",
       "  </thead>\n",
       "  <tbody>\n",
       "    <tr>\n",
       "      <th>0</th>\n",
       "      <td>Wii Sports</td>\n",
       "      <td>Wii</td>\n",
       "      <td>2006.0</td>\n",
       "      <td>Sports</td>\n",
       "      <td>41.36</td>\n",
       "      <td>28.96</td>\n",
       "      <td>3.77</td>\n",
       "      <td>8.45</td>\n",
       "      <td>76.0</td>\n",
       "      <td>8</td>\n",
       "      <td>E</td>\n",
       "    </tr>\n",
       "    <tr>\n",
       "      <th>1</th>\n",
       "      <td>Super Mario Bros.</td>\n",
       "      <td>NES</td>\n",
       "      <td>1985.0</td>\n",
       "      <td>Platform</td>\n",
       "      <td>29.08</td>\n",
       "      <td>3.58</td>\n",
       "      <td>6.81</td>\n",
       "      <td>0.77</td>\n",
       "      <td>NaN</td>\n",
       "      <td>NaN</td>\n",
       "      <td>NaN</td>\n",
       "    </tr>\n",
       "    <tr>\n",
       "      <th>2</th>\n",
       "      <td>Mario Kart Wii</td>\n",
       "      <td>Wii</td>\n",
       "      <td>2008.0</td>\n",
       "      <td>Racing</td>\n",
       "      <td>15.68</td>\n",
       "      <td>12.76</td>\n",
       "      <td>3.79</td>\n",
       "      <td>3.29</td>\n",
       "      <td>82.0</td>\n",
       "      <td>8.3</td>\n",
       "      <td>E</td>\n",
       "    </tr>\n",
       "    <tr>\n",
       "      <th>3</th>\n",
       "      <td>Wii Sports Resort</td>\n",
       "      <td>Wii</td>\n",
       "      <td>2009.0</td>\n",
       "      <td>Sports</td>\n",
       "      <td>15.61</td>\n",
       "      <td>10.93</td>\n",
       "      <td>3.28</td>\n",
       "      <td>2.95</td>\n",
       "      <td>80.0</td>\n",
       "      <td>8</td>\n",
       "      <td>E</td>\n",
       "    </tr>\n",
       "    <tr>\n",
       "      <th>4</th>\n",
       "      <td>Pokemon Red/Pokemon Blue</td>\n",
       "      <td>GB</td>\n",
       "      <td>1996.0</td>\n",
       "      <td>Role-Playing</td>\n",
       "      <td>11.27</td>\n",
       "      <td>8.89</td>\n",
       "      <td>10.22</td>\n",
       "      <td>1.00</td>\n",
       "      <td>NaN</td>\n",
       "      <td>NaN</td>\n",
       "      <td>NaN</td>\n",
       "    </tr>\n",
       "  </tbody>\n",
       "</table>\n",
       "</div>"
      ],
      "text/plain": [
       "                       Name Platform  Year of Release         Genre  NA sales  \\\n",
       "0                Wii Sports      Wii           2006.0        Sports     41.36   \n",
       "1         Super Mario Bros.      NES           1985.0      Platform     29.08   \n",
       "2            Mario Kart Wii      Wii           2008.0        Racing     15.68   \n",
       "3         Wii Sports Resort      Wii           2009.0        Sports     15.61   \n",
       "4  Pokemon Red/Pokemon Blue       GB           1996.0  Role-Playing     11.27   \n",
       "\n",
       "  EU sales JP sales  Other sales  Critic Score User Score Rating  \n",
       "0    28.96     3.77         8.45          76.0          8      E  \n",
       "1     3.58     6.81         0.77           NaN        NaN    NaN  \n",
       "2    12.76     3.79         3.29          82.0        8.3      E  \n",
       "3    10.93     3.28         2.95          80.0          8      E  \n",
       "4     8.89    10.22         1.00           NaN        NaN    NaN  "
      ]
     },
     "execution_count": 8,
     "metadata": {},
     "output_type": "execute_result"
    }
   ],
   "source": [
    "# Выводим первые строки датафрейма на экран\n",
    "games.head()"
   ]
  },
  {
   "cell_type": "markdown",
   "id": "05f55eb6",
   "metadata": {
    "id": "05f55eb6"
   },
   "source": [
    "Датасет `new_games.csv` содержит 11 стобцов и 16956 строк, в которых представлена информация о продажах игр, их жанрах, платформах, оценках пользователей и критиков.\n",
    "\n",
    "Изучим типы данных и их корректность:\n",
    "- **Числовые значения с плавающей запятой (float64).** Четыре столбца представлены типом `float64`. Это `Year of Release`, `NA sales`, `Other sales`, `Critic Score`.   \n",
    "`Year of Release`содержит информацию о дате выпуска игры, представленной только значением года. Для данного случая рекомендуется использовать тип `int16`, который облегчит выполнение вычислений. \n",
    "- **Строковые данные (object)**. Семь столбцов имеют тип данных `object`:\n",
    "    - `Name`, `Platform` и `Genre` содержат строковую информацию (название игры, её платформа и жанр), что логично для текстовых данных. Здесь тип данных `object` подходит.\n",
    "    - `EU sales`, `JP sales ` и `User Score` содержат информацию о количестве продаж в разных регионах и оценке пользователей. Для таких данных рекомендуется использовать тип `float64` для проведения арифметических операций и агрегирующих функций.\n",
    "    - `Rating` содержит рейтинг организации ESRB, представленный одним из 7 обозначений. Рекомендуемый тип - `category`.\n",
    "    \n",
    "В датасете встречаются пропуски в 6 столбцах `Name`, `Year of Release`,`Genre`,`Critic Score`,`User Score`,`Rating`.   \n",
    "\n",
    "Названия столбцов отражают содержимое столбцов, однако их можно нормализовать, приведя к общему оформлению **snake_case**."
   ]
  },
  {
   "cell_type": "markdown",
   "id": "774bf76e",
   "metadata": {
    "id": "774bf76e"
   },
   "source": [
    "---\n",
    "\n",
    "## 2.  Проверка ошибок в данных и их предобработка\n",
    "<a id='chapter2'></a>\n",
    "\n",
    "\n",
    "### 2.1. Названия, или метки, столбцов датафрейма\n",
    "<a id='chapter2_1'></a>\n",
    "\n",
    "- Выведите на экран названия всех столбцов датафрейма и проверьте их стиль написания.\n",
    "- Приведите все столбцы к стилю snake case. Названия должны быть в нижнем регистре, а вместо пробелов — подчёркивания."
   ]
  },
  {
   "cell_type": "code",
   "execution_count": 9,
   "id": "b9276a2b",
   "metadata": {
    "id": "b9276a2b"
   },
   "outputs": [
    {
     "data": {
      "text/plain": [
       "Index(['Name', 'Platform', 'Year of Release', 'Genre', 'NA sales', 'EU sales',\n",
       "       'JP sales', 'Other sales', 'Critic Score', 'User Score', 'Rating'],\n",
       "      dtype='object')"
      ]
     },
     "execution_count": 9,
     "metadata": {},
     "output_type": "execute_result"
    }
   ],
   "source": [
    "games.columns"
   ]
  },
  {
   "cell_type": "markdown",
   "id": "93bd408e",
   "metadata": {
    "id": "d554563c"
   },
   "source": [
    "Приведём стиль написания названий столбцов к **snake_case**: "
   ]
  },
  {
   "cell_type": "code",
   "execution_count": 10,
   "id": "87b573dd",
   "metadata": {
    "id": "87b573dd"
   },
   "outputs": [],
   "source": [
    "games = games.rename(columns = { 'Name' : 'name',\n",
    "                               'Platform' : 'platform',\n",
    "                               'Year of Release' : 'year_of_release',\n",
    "                               'Genre' : 'genre',\n",
    "                               'NA sales' : 'na_sales',\n",
    "                               'EU sales' : 'ea_sales',\n",
    "                               'JP sales' : 'jp_sales',\n",
    "                               'Other sales' : 'other_sales',\n",
    "                               'Critic Score' : 'critic_score',\n",
    "                               'User Score' : 'user_score',\n",
    "                               'Rating' : 'rating'\n",
    "                               })"
   ]
  },
  {
   "cell_type": "markdown",
   "id": "41bc6bf8",
   "metadata": {
    "id": "41bc6bf8"
   },
   "source": [
    "### 2.2. Типы данных\n",
    "<a id='chapter2_2'></a>\n",
    "\n",
    "- Если встречаются некорректные типы данных, предположите их причины.\n",
    "- При необходимости проведите преобразование типов данных. Помните, что столбцы с числовыми данными и пропусками нельзя преобразовать к типу `int64`. Сначала вам понадобится обработать пропуски, а затем преобразовать типы данных."
   ]
  },
  {
   "cell_type": "markdown",
   "id": "a03f90b4",
   "metadata": {
    "id": "8adaac81"
   },
   "source": [
    "В датасете встречаются некорректные типы данных. Скорее всего, это связано с тем, что тип данных назначался автоматически. Проведём преобразование типов данных необходимым столбцам:  "
   ]
  },
  {
   "cell_type": "code",
   "execution_count": 11,
   "id": "e8412c01",
   "metadata": {
    "id": "e8412c01"
   },
   "outputs": [],
   "source": [
    "#Приведём столбец year_of_release к типу int16, \n",
    "#заменив строковые значения на пропуски\n",
    "games['year_of_release'] = pd.to_numeric(games['year_of_release'], errors = 'coerce')\n",
    "games['year_of_release'] = games['year_of_release'].fillna(0).astype('int16')"
   ]
  },
  {
   "cell_type": "code",
   "execution_count": 12,
   "id": "9e53cff4",
   "metadata": {
    "id": "9e53cff4"
   },
   "outputs": [],
   "source": [
    "#Приведём столбцы ea_sales, jp_sales и user_score к типу float64\n",
    "#Случайные строковые значения заменим на пропуски\n",
    "games['ea_sales'] = pd.to_numeric(games['ea_sales'], errors = 'coerce')\n",
    "games['jp_sales'] = pd.to_numeric(games['jp_sales'], errors = 'coerce')\n",
    "games['user_score'] = pd.to_numeric(games['user_score'], errors = 'coerce')"
   ]
  },
  {
   "cell_type": "code",
   "execution_count": 13,
   "id": "5033ee32",
   "metadata": {
    "id": "5033ee32"
   },
   "outputs": [
    {
     "name": "stdout",
     "output_type": "stream",
     "text": [
      "<class 'pandas.core.frame.DataFrame'>\n",
      "RangeIndex: 16956 entries, 0 to 16955\n",
      "Data columns (total 11 columns):\n",
      " #   Column           Non-Null Count  Dtype   \n",
      "---  ------           --------------  -----   \n",
      " 0   name             16954 non-null  object  \n",
      " 1   platform         16956 non-null  object  \n",
      " 2   year_of_release  16956 non-null  int16   \n",
      " 3   genre            16954 non-null  object  \n",
      " 4   na_sales         16956 non-null  float64 \n",
      " 5   ea_sales         16950 non-null  float64 \n",
      " 6   jp_sales         16952 non-null  float64 \n",
      " 7   other_sales      16956 non-null  float64 \n",
      " 8   critic_score     8242 non-null   float64 \n",
      " 9   user_score       7688 non-null   float64 \n",
      " 10  rating           10085 non-null  category\n",
      "dtypes: category(1), float64(6), int16(1), object(3)\n",
      "memory usage: 1.2+ MB\n"
     ]
    }
   ],
   "source": [
    "#Приведём столбец rating к типу category\n",
    "games['rating']  = games['rating'].astype('category')\n",
    "games.info()"
   ]
  },
  {
   "cell_type": "markdown",
   "id": "b39893cb",
   "metadata": {
    "id": "b39893cb"
   },
   "source": [
    "### 2.3. Наличие пропусков в данных\n",
    "<a id='chapter2_3'></a>\n",
    "\n",
    "- Посчитаем количество пропусков в каждом столбце в абсолютных и относительных значениях.\n"
   ]
  },
  {
   "cell_type": "code",
   "execution_count": 14,
   "id": "0f1c91a8",
   "metadata": {
    "id": "0f1c91a8"
   },
   "outputs": [
    {
     "data": {
      "text/plain": [
       "name                  2\n",
       "platform              0\n",
       "year_of_release       0\n",
       "genre                 2\n",
       "na_sales              0\n",
       "ea_sales              6\n",
       "jp_sales              4\n",
       "other_sales           0\n",
       "critic_score       8714\n",
       "user_score         9268\n",
       "rating             6871\n",
       "dtype: int64"
      ]
     },
     "execution_count": 14,
     "metadata": {},
     "output_type": "execute_result"
    }
   ],
   "source": [
    "#Посчитаем количество пропущенных строк в датафрейме\n",
    "games.isna().sum()"
   ]
  },
  {
   "cell_type": "code",
   "execution_count": 15,
   "id": "86cd1cc1",
   "metadata": {
    "id": "86cd1cc1"
   },
   "outputs": [
    {
     "data": {
      "text/plain": [
       "name                0.011795\n",
       "platform            0.000000\n",
       "year_of_release     0.000000\n",
       "genre               0.011795\n",
       "na_sales            0.000000\n",
       "ea_sales            0.035386\n",
       "jp_sales            0.023590\n",
       "other_sales         0.000000\n",
       "critic_score       51.391838\n",
       "user_score         54.659118\n",
       "rating             40.522529\n",
       "dtype: float64"
      ]
     },
     "execution_count": 15,
     "metadata": {},
     "output_type": "execute_result"
    }
   ],
   "source": [
    "#Посчитаем процент строк с пропусками\n",
    "games.isna().mean() * 100"
   ]
  },
  {
   "cell_type": "markdown",
   "id": "f9dc84e9",
   "metadata": {
    "id": "247a6cf7"
   },
   "source": [
    "Датасет `new_games.csv` содержит 25140 пропущенных значений, среди них:\n",
    " - 2 пропуска в столбце `name`;\n",
    " - 273 пропуска в столбце `year_of_release`;\n",
    " - 2 пропуска в столбце `genre`;\n",
    " - 6 пропусков в столбце `ea_sales`;\n",
    " - 4 пропусков в столбце `jp_sales`;\n",
    " - 8714 пропусков в столбце `critic_score`;\n",
    " - 9268 пропусков в столбце `user_score`;\n",
    " - 6871 пропуск в столбце `rating` \n",
    " \n",
    "Пропуски в столбце `year_of_release` представлены нулями. Причинами возникновения пропусков в столбцах могут быть ошибки при сборе данных, отсутвие или потеря информации.     \n",
    "Обработаем пропущенные значения:\n"
   ]
  },
  {
   "cell_type": "markdown",
   "id": "1a654456",
   "metadata": {
    "id": "cf796f51"
   },
   "source": [
    "Удалим 2 пропуска в столбце `name`, так как название игры - ключевая информация:"
   ]
  },
  {
   "cell_type": "code",
   "execution_count": 16,
   "id": "bd69e642",
   "metadata": {
    "id": "bd69e642"
   },
   "outputs": [],
   "source": [
    "games = games.dropna(subset = ['name'])"
   ]
  },
  {
   "cell_type": "markdown",
   "id": "3ae6a43c",
   "metadata": {},
   "source": [
    "273 пропуска в столбце `year_of_release`, представленные нулями, при фильтрации по годам уйдут, поэтому удалим их: "
   ]
  },
  {
   "cell_type": "code",
   "execution_count": 17,
   "id": "0bb338c8",
   "metadata": {},
   "outputs": [],
   "source": [
    "games = games[games['year_of_release'] != 0]"
   ]
  },
  {
   "cell_type": "markdown",
   "id": "0f521849",
   "metadata": {
    "id": "b6965b19"
   },
   "source": [
    " \n",
    "2 пропуска в столбце `genre` удаляем, так как жанр - важная характеристика игры:"
   ]
  },
  {
   "cell_type": "code",
   "execution_count": 18,
   "id": "cc2d1374",
   "metadata": {
    "id": "cc2d1374"
   },
   "outputs": [],
   "source": [
    "games = games.dropna(subset = ['genre'])"
   ]
  },
  {
   "cell_type": "markdown",
   "id": "bc07edf8",
   "metadata": {
    "id": "154be65d"
   },
   "source": [
    "Пропуски в столбцах `ea_sales` и `jp_sales` заполним средним значением продаж для конкретной платформы и года выпуска:"
   ]
  },
  {
   "cell_type": "code",
   "execution_count": 19,
   "id": "3f42817b",
   "metadata": {
    "id": "3f42817b"
   },
   "outputs": [],
   "source": [
    "#функция для заполнения пропусков средним значением по платформе и году выпуска\n",
    "def calc_average(group):\n",
    "    mean_value = group.mean()\n",
    "    return group.fillna(mean_value)\n",
    "\n",
    "#применяем функцию к столбцам\n",
    "games['ea_sales'] = games.groupby(['platform','year_of_release'])['ea_sales'].apply(calc_average) \n",
    "games['jp_sales'] = games.groupby(['platform','year_of_release'])['jp_sales'].apply(calc_average)"
   ]
  },
  {
   "cell_type": "markdown",
   "id": "aae3ee57",
   "metadata": {},
   "source": [
    "Пропуски в столбцах `critic_score` и `user_score` заполним средним значением оценки критиков и пользователей"
   ]
  },
  {
   "cell_type": "code",
   "execution_count": 20,
   "id": "2784c760",
   "metadata": {
    "id": "2784c760"
   },
   "outputs": [
    {
     "name": "stdout",
     "output_type": "stream",
     "text": [
      "<class 'pandas.core.frame.DataFrame'>\n",
      "Int64Index: 16679 entries, 0 to 16955\n",
      "Data columns (total 11 columns):\n",
      " #   Column           Non-Null Count  Dtype   \n",
      "---  ------           --------------  -----   \n",
      " 0   name             16679 non-null  object  \n",
      " 1   platform         16679 non-null  object  \n",
      " 2   year_of_release  16679 non-null  int16   \n",
      " 3   genre            16679 non-null  object  \n",
      " 4   na_sales         16679 non-null  float64 \n",
      " 5   ea_sales         16679 non-null  float64 \n",
      " 6   jp_sales         16679 non-null  float64 \n",
      " 7   other_sales      16679 non-null  float64 \n",
      " 8   critic_score     16679 non-null  float64 \n",
      " 9   user_score       16679 non-null  float64 \n",
      " 10  rating           9901 non-null   category\n",
      "dtypes: category(1), float64(6), int16(1), object(3)\n",
      "memory usage: 1.3+ MB\n"
     ]
    }
   ],
   "source": [
    "games['critic_score'] = games['critic_score'].fillna(games['critic_score'].mean())\n",
    "games['user_score'] = games['user_score'].fillna(games['user_score'].mean())\n",
    "games.info()"
   ]
  },
  {
   "cell_type": "markdown",
   "id": "adaa2c43",
   "metadata": {
    "id": "491c9c39"
   },
   "source": [
    "Заполним пропуски столбца `rating` значением-индикатором \"Unknown\", чтобы явно обозначить отсутсвие рейтинга "
   ]
  },
  {
   "cell_type": "code",
   "execution_count": 21,
   "id": "93879518",
   "metadata": {},
   "outputs": [
    {
     "data": {
      "text/plain": [
       "['E', NaN, 'M', 'T', 'E10+', 'K-A', 'AO', 'EC', 'RP']\n",
       "Categories (8, object): ['E', 'M', 'T', 'E10+', 'K-A', 'AO', 'EC', 'RP']"
      ]
     },
     "execution_count": 21,
     "metadata": {},
     "output_type": "execute_result"
    }
   ],
   "source": [
    "#проверка уникальных значений перед заполнением пропусков индикатором\n",
    "games['rating'].unique()"
   ]
  },
  {
   "cell_type": "markdown",
   "id": "d0e86794",
   "metadata": {},
   "source": [
    "Уникальные значения соответствуют градации рейтинга организации ESRB."
   ]
  },
  {
   "cell_type": "code",
   "execution_count": 22,
   "id": "f1627198",
   "metadata": {
    "id": "f1627198"
   },
   "outputs": [
    {
     "name": "stdout",
     "output_type": "stream",
     "text": [
      "<class 'pandas.core.frame.DataFrame'>\n",
      "Int64Index: 16679 entries, 0 to 16955\n",
      "Data columns (total 11 columns):\n",
      " #   Column           Non-Null Count  Dtype   \n",
      "---  ------           --------------  -----   \n",
      " 0   name             16679 non-null  object  \n",
      " 1   platform         16679 non-null  object  \n",
      " 2   year_of_release  16679 non-null  int16   \n",
      " 3   genre            16679 non-null  object  \n",
      " 4   na_sales         16679 non-null  float64 \n",
      " 5   ea_sales         16679 non-null  float64 \n",
      " 6   jp_sales         16679 non-null  float64 \n",
      " 7   other_sales      16679 non-null  float64 \n",
      " 8   critic_score     16679 non-null  float64 \n",
      " 9   user_score       16679 non-null  float64 \n",
      " 10  rating           16679 non-null  category\n",
      "dtypes: category(1), float64(6), int16(1), object(3)\n",
      "memory usage: 1.3+ MB\n"
     ]
    }
   ],
   "source": [
    "games['rating'] = games['rating'].astype('object')\n",
    "games['rating'] = games['rating'].fillna('UNKNOWN')\n",
    "games['rating'] = games['rating'].astype('category')                                         \n",
    "games.info()"
   ]
  },
  {
   "cell_type": "code",
   "execution_count": 23,
   "id": "575ddd9c",
   "metadata": {},
   "outputs": [
    {
     "data": {
      "text/plain": [
       "dtype('int16')"
      ]
     },
     "execution_count": 23,
     "metadata": {},
     "output_type": "execute_result"
    }
   ],
   "source": [
    "#проверка типа данных столбца `year_of_release`\n",
    "games['year_of_release'].dtypes"
   ]
  },
  {
   "cell_type": "code",
   "execution_count": 24,
   "id": "0853a0a0",
   "metadata": {},
   "outputs": [
    {
     "data": {
      "text/plain": [
       "dtype('int16')"
      ]
     },
     "execution_count": 24,
     "metadata": {},
     "output_type": "execute_result"
    }
   ],
   "source": [
    "#проверка типа данных столбца `critic_score`\n",
    "games['critic_score'] = games['critic_score'].astype('int16')\n",
    "games['critic_score'].dtypes"
   ]
  },
  {
   "cell_type": "markdown",
   "id": "60239083",
   "metadata": {},
   "source": [
    "Проверка на наличие пропусков показала наличие в датасете `new_games.csv` 25140 пропущенных значений, среди них:\n",
    " - 2 пропуска в столбце `name`;\n",
    " - 273 пропуска в столбце `year_of_release`;\n",
    " - 2 пропуска в столбце `genre`;\n",
    " - 6 пропусков в столбце `ea_sales`;\n",
    " - 4 пропусков в столбце `jp_sales`;\n",
    " - 8714 пропусков в столбце `critic_score`;\n",
    " - 9268 пропусков в столбце `user_score`;\n",
    " - 6871 пропуск в столбце `rating`.  \n",
    "\n",
    "Была проведена обработка полученных значений, так:     \n",
    " - Пропуски в столбцах `name`, `year_of_release`, `genre` были удалены; \n",
    " - пропуски в столбцах  `ea_sales`, `jp_sales`, `critic_score`, `user_score` были заменены на средние значения;\n",
    " - пропуски в столбце `rating` были заменены на индикатор `UNKNOWN`.  \n",
    "   \n",
    "Таким образом, в датасете осталось 16679 значений. "
   ]
  },
  {
   "cell_type": "markdown",
   "id": "a63363fd",
   "metadata": {
    "id": "a63363fd"
   },
   "source": [
    "### 2.4. Явные и неявные дубликаты в данных\n",
    "<a id='chapter2_4'></a>\n",
    "\n",
    "- Изучите уникальные значения в категориальных данных, например с названиями жанра игры, платформы, рейтинга и года выпуска. Проверьте, встречаются ли среди данных неявные дубликаты, связанные с опечатками или разным способом написания.\n",
    "- При необходимости проведите нормализацию данных с текстовыми значениями. Названия или жанры игр можно привести к нижнему регистру, а названия рейтинга — к верхнему."
   ]
  },
  {
   "cell_type": "markdown",
   "id": "dd2f0dac",
   "metadata": {},
   "source": [
    "Рассмотрим уникальные значения в каждом категориальном столбце. Выведем столбец `genre` "
   ]
  },
  {
   "cell_type": "code",
   "execution_count": 25,
   "id": "a0cac80c",
   "metadata": {
    "id": "a0cac80c"
   },
   "outputs": [
    {
     "data": {
      "text/plain": [
       "array(['Sports', 'Platform', 'Racing', 'Role-Playing', 'Puzzle', 'Misc',\n",
       "       'Shooter', 'Simulation', 'Action', 'Fighting', 'Adventure',\n",
       "       'Strategy', 'MISC', 'ROLE-PLAYING', 'RACING', 'ACTION', 'SHOOTER',\n",
       "       'FIGHTING', 'SPORTS', 'PLATFORM', 'ADVENTURE', 'SIMULATION',\n",
       "       'PUZZLE', 'STRATEGY'], dtype=object)"
      ]
     },
     "execution_count": 25,
     "metadata": {},
     "output_type": "execute_result"
    }
   ],
   "source": [
    "games['genre'].unique()"
   ]
  },
  {
   "cell_type": "markdown",
   "id": "95e11c18",
   "metadata": {},
   "source": [
    "В столбце встречаются неявные дубликаты, например, 'Misc' и 'MISC'. Требуется нормализация данных.  \n",
    "Рассмотрим столбец `platform`"
   ]
  },
  {
   "cell_type": "code",
   "execution_count": 26,
   "id": "cd4258ff",
   "metadata": {},
   "outputs": [
    {
     "data": {
      "text/plain": [
       "array(['Wii', 'NES', 'GB', 'DS', 'X360', 'PS3', 'PS2', 'SNES', 'GBA',\n",
       "       'PS4', '3DS', 'N64', 'PS', 'XB', 'PC', '2600', 'PSP', 'XOne',\n",
       "       'WiiU', 'GC', 'GEN', 'DC', 'PSV', 'SAT', 'SCD', 'WS', 'NG', 'TG16',\n",
       "       '3DO', 'GG', 'PCFX'], dtype=object)"
      ]
     },
     "execution_count": 26,
     "metadata": {},
     "output_type": "execute_result"
    }
   ],
   "source": [
    "games['platform'].unique()"
   ]
  },
  {
   "cell_type": "markdown",
   "id": "f3cb4e58",
   "metadata": {},
   "source": [
    "Данные о платформе уникальны, нормализация не требуется.  \n",
    "Рассмотрим столбец `rating`"
   ]
  },
  {
   "cell_type": "code",
   "execution_count": 27,
   "id": "c6c33c28",
   "metadata": {},
   "outputs": [
    {
     "data": {
      "text/plain": [
       "['E', 'UNKNOWN', 'M', 'T', 'E10+', 'K-A', 'AO', 'EC', 'RP']\n",
       "Categories (9, object): ['E', 'UNKNOWN', 'M', 'T', ..., 'K-A', 'AO', 'EC', 'RP']"
      ]
     },
     "execution_count": 27,
     "metadata": {},
     "output_type": "execute_result"
    }
   ],
   "source": [
    "games['rating'].unique()"
   ]
  },
  {
   "cell_type": "markdown",
   "id": "d70ac6eb",
   "metadata": {},
   "source": [
    "Данные о рейтинге ESRB уникальны, нормализация не требуется.  \n",
    "Рассмотрим столбец `year_of_release`"
   ]
  },
  {
   "cell_type": "code",
   "execution_count": 28,
   "id": "8afb7339",
   "metadata": {},
   "outputs": [
    {
     "data": {
      "text/plain": [
       "array([2006, 1985, 2008, 2009, 1996, 1989, 1984, 2005, 1999, 2007, 2010,\n",
       "       2013, 2004, 1990, 1988, 2002, 2001, 2011, 1998, 2015, 2012, 2014,\n",
       "       1992, 1997, 1993, 1994, 1982, 2016, 2003, 1986, 2000, 1995, 1991,\n",
       "       1981, 1987, 1980, 1983], dtype=int16)"
      ]
     },
     "execution_count": 28,
     "metadata": {},
     "output_type": "execute_result"
    }
   ],
   "source": [
    "games['year_of_release'].unique()"
   ]
  },
  {
   "cell_type": "markdown",
   "id": "a0205719",
   "metadata": {},
   "source": [
    "Данные о годах релиза уникальны, нормализация не требуется.  \n",
    "Проведем нормализацию данных в столбцах `name` и `genre`"
   ]
  },
  {
   "cell_type": "code",
   "execution_count": 29,
   "id": "86d375ad",
   "metadata": {},
   "outputs": [],
   "source": [
    "#Приводим столбцы `name` и `genre` к нижнему регистру\n",
    "games['name'] = games['name'].str.lower()\n",
    "games['genre'] = games['genre'].str.lower()"
   ]
  },
  {
   "cell_type": "markdown",
   "id": "fc3d3db4",
   "metadata": {
    "id": "fc3d3db4"
   },
   "source": [
    "- После того как нормализуете данные и устраните неявные дубликаты, проверьте наличие явных дубликатов в данных."
   ]
  },
  {
   "cell_type": "markdown",
   "id": "f4e83532",
   "metadata": {},
   "source": [
    "Проверим датасет на наличие явных дубликатов."
   ]
  },
  {
   "cell_type": "code",
   "execution_count": 30,
   "id": "fc5c91b5",
   "metadata": {
    "id": "fc5c91b5"
   },
   "outputs": [
    {
     "data": {
      "text/plain": [
       "235"
      ]
     },
     "execution_count": 30,
     "metadata": {},
     "output_type": "execute_result"
    }
   ],
   "source": [
    "games.duplicated().sum()"
   ]
  },
  {
   "cell_type": "markdown",
   "id": "c618c7f2",
   "metadata": {
    "id": "2f61e076"
   },
   "source": [
    "В датасете находится 235 явных дубликатов. Воспользуемся методом `drop_duplicates`:"
   ]
  },
  {
   "cell_type": "code",
   "execution_count": 31,
   "id": "29e57705",
   "metadata": {
    "id": "29e57705"
   },
   "outputs": [
    {
     "name": "stdout",
     "output_type": "stream",
     "text": [
      "<class 'pandas.core.frame.DataFrame'>\n",
      "Int64Index: 16444 entries, 0 to 16955\n",
      "Data columns (total 11 columns):\n",
      " #   Column           Non-Null Count  Dtype   \n",
      "---  ------           --------------  -----   \n",
      " 0   name             16444 non-null  object  \n",
      " 1   platform         16444 non-null  object  \n",
      " 2   year_of_release  16444 non-null  int16   \n",
      " 3   genre            16444 non-null  object  \n",
      " 4   na_sales         16444 non-null  float64 \n",
      " 5   ea_sales         16444 non-null  float64 \n",
      " 6   jp_sales         16444 non-null  float64 \n",
      " 7   other_sales      16444 non-null  float64 \n",
      " 8   critic_score     16444 non-null  int16   \n",
      " 9   user_score       16444 non-null  float64 \n",
      " 10  rating           16444 non-null  category\n",
      "dtypes: category(1), float64(5), int16(2), object(3)\n",
      "memory usage: 1.2+ MB\n"
     ]
    }
   ],
   "source": [
    "games = games.drop_duplicates()\n",
    "games.info()"
   ]
  },
  {
   "cell_type": "markdown",
   "id": "54616bae",
   "metadata": {
    "id": "54616bae"
   },
   "source": [
    "- Напишите промежуточный вывод: укажите количество найденных дубликатов и действия по их обработке."
   ]
  },
  {
   "cell_type": "markdown",
   "id": "5f4141ee",
   "metadata": {
    "id": "8548f894"
   },
   "source": [
    "После проверки столбцов на неявные дубликаты было обнаружено их наличие в столбце `genre`. Для устранения этой проблемы столбец был приведён к нижнему регистру. В остальных столбцах неявных дубликатов обнаружено не было.  \n",
    "После нормализации данных проверка на явные дубликаты показала наличие 235 явных дубликатов. Для их устранения был использован метод `drop_duplicates`. После удаления дубликатов количество строк в датасете стало равных 16444."
   ]
  },
  {
   "cell_type": "markdown",
   "id": "72645ae9",
   "metadata": {
    "id": "72645ae9"
   },
   "source": [
    "- В процессе подготовки данных вы могли что-либо удалять, например строки с пропусками или ошибками, дубликаты и прочее. В этом случае посчитайте количество удалённых строк в абсолютном и относительном значениях."
   ]
  },
  {
   "cell_type": "markdown",
   "id": "cd0f5d7a",
   "metadata": {},
   "source": [
    "Ранее мы посчитали количество строк в датасете в переменной **len_start**. Найдём количество строк в обработанном датафрейме, а также количество удаленных строк в абсолютном относительном значениях."
   ]
  },
  {
   "cell_type": "code",
   "execution_count": 32,
   "id": "f9d8ee19",
   "metadata": {
    "id": "f9d8ee19"
   },
   "outputs": [
    {
     "name": "stdout",
     "output_type": "stream",
     "text": [
      "Количество удалённых строк: 512\n",
      "Относительное количество удалённых строк: 3.0 %\n"
     ]
    }
   ],
   "source": [
    "#находим количество строк после предобработки\n",
    "len_finish = len(games)\n",
    "\n",
    "#находим количество удалённых строк\n",
    "count_del_rows = len_start - len_finish\n",
    "print(f'Количество удалённых строк: {count_del_rows}')\n",
    "#находим количество удалённых строк в относительном значении\n",
    "relative_del_rows = round(count_del_rows / len_start,2) * 100\n",
    "print(f'Относительное количество удалённых строк: {relative_del_rows} %')"
   ]
  },
  {
   "cell_type": "markdown",
   "id": "47613d75",
   "metadata": {
    "id": "47613d75"
   },
   "source": [
    "- После проведения предобработки данных напишите общий промежуточный вывод."
   ]
  },
  {
   "cell_type": "markdown",
   "id": "1e157156",
   "metadata": {
    "id": "a2c09ca7"
   },
   "source": [
    "Перед началом работы датасет содержал 16 956 строк и 11 столбцов. Были обнаружены пропуски, некорректные типы данных и дубликаты.  \n",
    "Названия столбцов были приведены к `snake_case`. Были исправлены типы данных у некоторых столбцов: `year_of_release`,`critic_score` → **int16**, `ea_sales`, `jp_sales`, `user_score` → **float64**, `rating` → **category**.  \n",
    "Удалены строки с пропусками в `name`(2), `year_of_release`(273), `genre`(2).  \n",
    "Пропуски в `rating` заменены на 'UNKNOWN'.  \n",
    "Остальные пропуски заполнены средними значениями.  \n",
    "Было удалено 235 явных дубликатов.  \n",
    "Таким образом, было удалено 512 строк, составляющие 3% от исходного датафрейма. Остальные 16 444 строки очищены и готовы для дальнейшей работы."
   ]
  },
  {
   "cell_type": "markdown",
   "id": "613f0eb0",
   "metadata": {
    "id": "613f0eb0"
   },
   "source": [
    "---\n",
    "\n",
    "## 3. Фильтрация данных\n",
    "<a id='chapter3'></a>\n",
    "\n",
    "Коллеги хотят изучить историю продаж игр в начале XXI века, и их интересует период с 2000 по 2013 год включительно. Отберите данные по этому показателю. Сохраните новый срез данных в отдельном датафрейме, например `df_actual`."
   ]
  },
  {
   "cell_type": "code",
   "execution_count": 33,
   "id": "2344916d",
   "metadata": {
    "id": "2344916d"
   },
   "outputs": [],
   "source": [
    "#фильтруем датафрейм по дате\n",
    "df_actual = games[(games['year_of_release'] >= 2000) & (games['year_of_release'] <= 2013)]                                                      "
   ]
  },
  {
   "cell_type": "code",
   "execution_count": 34,
   "id": "906577e8",
   "metadata": {
    "id": "906577e8",
    "scrolled": true
   },
   "outputs": [
    {
     "name": "stdout",
     "output_type": "stream",
     "text": [
      "<class 'pandas.core.frame.DataFrame'>\n",
      "Int64Index: 12781 entries, 0 to 16954\n",
      "Data columns (total 11 columns):\n",
      " #   Column           Non-Null Count  Dtype   \n",
      "---  ------           --------------  -----   \n",
      " 0   name             12781 non-null  object  \n",
      " 1   platform         12781 non-null  object  \n",
      " 2   year_of_release  12781 non-null  int16   \n",
      " 3   genre            12781 non-null  object  \n",
      " 4   na_sales         12781 non-null  float64 \n",
      " 5   ea_sales         12781 non-null  float64 \n",
      " 6   jp_sales         12781 non-null  float64 \n",
      " 7   other_sales      12781 non-null  float64 \n",
      " 8   critic_score     12781 non-null  int16   \n",
      " 9   user_score       12781 non-null  float64 \n",
      " 10  rating           12781 non-null  category\n",
      "dtypes: category(1), float64(5), int16(2), object(3)\n",
      "memory usage: 961.4+ KB\n"
     ]
    }
   ],
   "source": [
    "#выводим информацию о новом датафрейме\n",
    "df_actual.info()"
   ]
  },
  {
   "cell_type": "markdown",
   "id": "318ee068",
   "metadata": {},
   "source": [
    "После фильтрации по дате количество строк в датафрейме сократилось с **16 444** до **12 781**.\n"
   ]
  },
  {
   "cell_type": "markdown",
   "id": "a6f10b01",
   "metadata": {
    "id": "a6f10b01"
   },
   "source": [
    "---\n",
    "\n",
    "## 4. Категоризация данных\n",
    "<a id='chapter4'></a>\n",
    "    \n",
    "Проведите категоризацию данных:\n",
    "- Разделите все игры по оценкам пользователей и выделите такие категории: высокая оценка (от 8 до 10 включительно), средняя оценка (от 3 до 8, не включая правую границу интервала) и низкая оценка (от 0 до 3, не включая правую границу интервала)."
   ]
  },
  {
   "cell_type": "code",
   "execution_count": 35,
   "id": "3db87229",
   "metadata": {
    "id": "3db87229"
   },
   "outputs": [
    {
     "name": "stderr",
     "output_type": "stream",
     "text": [
      "/tmp/ipykernel_31/3712519711.py:1: SettingWithCopyWarning: \n",
      "A value is trying to be set on a copy of a slice from a DataFrame.\n",
      "Try using .loc[row_indexer,col_indexer] = value instead\n",
      "\n",
      "See the caveats in the documentation: https://pandas.pydata.org/pandas-docs/stable/user_guide/indexing.html#returning-a-view-versus-a-copy\n",
      "  df_actual['user_score_category'] = pd.cut(df_actual['user_score'], bins = [0, 3, 8, 10],\n"
     ]
    }
   ],
   "source": [
    "df_actual['user_score_category'] = pd.cut(df_actual['user_score'], bins = [0, 3, 8, 10], \n",
    "                                      labels = ['низкая оценка', 'средняя оценка', 'высокая оценка'],\n",
    "                                      right = False)"
   ]
  },
  {
   "cell_type": "markdown",
   "id": "f8f34b40",
   "metadata": {
    "id": "f8f34b40"
   },
   "source": [
    "- Разделите все игры по оценкам критиков и выделите такие категории: высокая оценка (от 80 до 100 включительно), средняя оценка (от 30 до 80, не включая правую границу интервала) и низкая оценка (от 0 до 30, не включая правую границу интервала)."
   ]
  },
  {
   "cell_type": "code",
   "execution_count": 36,
   "id": "e3f7acb0",
   "metadata": {
    "id": "e3f7acb0"
   },
   "outputs": [
    {
     "name": "stderr",
     "output_type": "stream",
     "text": [
      "/tmp/ipykernel_31/2813004753.py:1: SettingWithCopyWarning: \n",
      "A value is trying to be set on a copy of a slice from a DataFrame.\n",
      "Try using .loc[row_indexer,col_indexer] = value instead\n",
      "\n",
      "See the caveats in the documentation: https://pandas.pydata.org/pandas-docs/stable/user_guide/indexing.html#returning-a-view-versus-a-copy\n",
      "  df_actual['critic_score_category'] = pd.cut(df_actual['critic_score'], bins = [0, 30, 80, 100],\n"
     ]
    }
   ],
   "source": [
    "df_actual['critic_score_category'] = pd.cut(df_actual['critic_score'], bins = [0, 30, 80, 100], \n",
    "                                      labels = ['низкая оценка', 'средняя оценка', 'высокая оценка'],\n",
    "                                      right = False)"
   ]
  },
  {
   "cell_type": "markdown",
   "id": "olkTlTlAUDR9",
   "metadata": {
    "id": "olkTlTlAUDR9"
   },
   "source": [
    "- После категоризации данных проверьте результат: сгруппируйте данные по выделенным категориям и посчитайте количество игр в каждой категории."
   ]
  },
  {
   "cell_type": "code",
   "execution_count": 37,
   "id": "HW0Nsp-4UMSL",
   "metadata": {
    "id": "HW0Nsp-4UMSL"
   },
   "outputs": [
    {
     "name": "stdout",
     "output_type": "stream",
     "text": [
      "user_score_category\n",
      "низкая оценка       116\n",
      "средняя оценка    10379\n",
      "высокая оценка     2286\n",
      "dtype: int64\n"
     ]
    }
   ],
   "source": [
    "#считаем количество игр по категориям оценок пользователей\n",
    "grouped_user_score = df_actual.groupby('user_score_category').size()\n",
    "print(grouped_user_score)"
   ]
  },
  {
   "cell_type": "code",
   "execution_count": 38,
   "id": "x2ne0HIpUMMD",
   "metadata": {
    "id": "x2ne0HIpUMMD"
   },
   "outputs": [
    {
     "name": "stdout",
     "output_type": "stream",
     "text": [
      "средняя оценка    11034\n",
      "высокая оценка     1692\n",
      "низкая оценка        55\n",
      "Name: critic_score_category, dtype: int64\n"
     ]
    }
   ],
   "source": [
    "#считаем количество игр по категориям оценок критиков\n",
    "grouped_critic_score = df_actual['critic_score_category'].value_counts()\n",
    "print(grouped_critic_score)"
   ]
  },
  {
   "cell_type": "code",
   "execution_count": 39,
   "id": "955aef26",
   "metadata": {},
   "outputs": [],
   "source": [
    "#функция для категоризации оценок критиков\n",
    "def categorize_critic_score(score):\n",
    "    if 0 <= score < 30:\n",
    "        return 'низкая оценка'\n",
    "    elif 30 <= score < 80:\n",
    "        return 'средняя оценка'\n",
    "    elif 80 <= score <= 100:\n",
    "        return 'высокая оценка'\n",
    "    else:\n",
    "        return None\n",
    "\n",
    "#функция для категоризации оценок пользователей\n",
    "def categorize_user_score(score):\n",
    "    if 0 <= score < 3:\n",
    "        return 'низкая оценка'\n",
    "    elif 3 <= score < 8:\n",
    "        return 'средняя оценка'\n",
    "    elif 8 <= score <= 10:\n",
    "        return 'высокая оценка'\n",
    "    else:\n",
    "        return None"
   ]
  },
  {
   "cell_type": "code",
   "execution_count": 40,
   "id": "76540588",
   "metadata": {},
   "outputs": [
    {
     "name": "stderr",
     "output_type": "stream",
     "text": [
      "/tmp/ipykernel_31/1104004688.py:2: SettingWithCopyWarning: \n",
      "A value is trying to be set on a copy of a slice from a DataFrame.\n",
      "Try using .loc[row_indexer,col_indexer] = value instead\n",
      "\n",
      "See the caveats in the documentation: https://pandas.pydata.org/pandas-docs/stable/user_guide/indexing.html#returning-a-view-versus-a-copy\n",
      "  df_actual['critic_score_category2'] = df_actual['critic_score'].apply(categorize_critic_score)\n",
      "/tmp/ipykernel_31/1104004688.py:3: SettingWithCopyWarning: \n",
      "A value is trying to be set on a copy of a slice from a DataFrame.\n",
      "Try using .loc[row_indexer,col_indexer] = value instead\n",
      "\n",
      "See the caveats in the documentation: https://pandas.pydata.org/pandas-docs/stable/user_guide/indexing.html#returning-a-view-versus-a-copy\n",
      "  df_actual['user_score_category2'] = df_actual['user_score'].apply(categorize_user_score)\n"
     ]
    },
    {
     "data": {
      "text/html": [
       "<div>\n",
       "<style scoped>\n",
       "    .dataframe tbody tr th:only-of-type {\n",
       "        vertical-align: middle;\n",
       "    }\n",
       "\n",
       "    .dataframe tbody tr th {\n",
       "        vertical-align: top;\n",
       "    }\n",
       "\n",
       "    .dataframe thead th {\n",
       "        text-align: right;\n",
       "    }\n",
       "</style>\n",
       "<table border=\"1\" class=\"dataframe\">\n",
       "  <thead>\n",
       "    <tr style=\"text-align: right;\">\n",
       "      <th></th>\n",
       "      <th>name</th>\n",
       "      <th>platform</th>\n",
       "      <th>year_of_release</th>\n",
       "      <th>genre</th>\n",
       "      <th>na_sales</th>\n",
       "      <th>ea_sales</th>\n",
       "      <th>jp_sales</th>\n",
       "      <th>other_sales</th>\n",
       "      <th>critic_score</th>\n",
       "      <th>user_score</th>\n",
       "      <th>rating</th>\n",
       "      <th>user_score_category</th>\n",
       "      <th>critic_score_category</th>\n",
       "      <th>critic_score_category2</th>\n",
       "      <th>user_score_category2</th>\n",
       "    </tr>\n",
       "  </thead>\n",
       "  <tbody>\n",
       "    <tr>\n",
       "      <th>0</th>\n",
       "      <td>wii sports</td>\n",
       "      <td>Wii</td>\n",
       "      <td>2006</td>\n",
       "      <td>sports</td>\n",
       "      <td>41.36</td>\n",
       "      <td>28.96</td>\n",
       "      <td>3.77</td>\n",
       "      <td>8.45</td>\n",
       "      <td>76</td>\n",
       "      <td>8.000000</td>\n",
       "      <td>E</td>\n",
       "      <td>высокая оценка</td>\n",
       "      <td>средняя оценка</td>\n",
       "      <td>средняя оценка</td>\n",
       "      <td>высокая оценка</td>\n",
       "    </tr>\n",
       "    <tr>\n",
       "      <th>2</th>\n",
       "      <td>mario kart wii</td>\n",
       "      <td>Wii</td>\n",
       "      <td>2008</td>\n",
       "      <td>racing</td>\n",
       "      <td>15.68</td>\n",
       "      <td>12.76</td>\n",
       "      <td>3.79</td>\n",
       "      <td>3.29</td>\n",
       "      <td>82</td>\n",
       "      <td>8.300000</td>\n",
       "      <td>E</td>\n",
       "      <td>высокая оценка</td>\n",
       "      <td>высокая оценка</td>\n",
       "      <td>высокая оценка</td>\n",
       "      <td>высокая оценка</td>\n",
       "    </tr>\n",
       "    <tr>\n",
       "      <th>3</th>\n",
       "      <td>wii sports resort</td>\n",
       "      <td>Wii</td>\n",
       "      <td>2009</td>\n",
       "      <td>sports</td>\n",
       "      <td>15.61</td>\n",
       "      <td>10.93</td>\n",
       "      <td>3.28</td>\n",
       "      <td>2.95</td>\n",
       "      <td>80</td>\n",
       "      <td>8.000000</td>\n",
       "      <td>E</td>\n",
       "      <td>высокая оценка</td>\n",
       "      <td>высокая оценка</td>\n",
       "      <td>высокая оценка</td>\n",
       "      <td>высокая оценка</td>\n",
       "    </tr>\n",
       "    <tr>\n",
       "      <th>6</th>\n",
       "      <td>new super mario bros.</td>\n",
       "      <td>DS</td>\n",
       "      <td>2006</td>\n",
       "      <td>platform</td>\n",
       "      <td>11.28</td>\n",
       "      <td>9.14</td>\n",
       "      <td>6.50</td>\n",
       "      <td>2.88</td>\n",
       "      <td>89</td>\n",
       "      <td>8.500000</td>\n",
       "      <td>E</td>\n",
       "      <td>высокая оценка</td>\n",
       "      <td>высокая оценка</td>\n",
       "      <td>высокая оценка</td>\n",
       "      <td>высокая оценка</td>\n",
       "    </tr>\n",
       "    <tr>\n",
       "      <th>7</th>\n",
       "      <td>wii play</td>\n",
       "      <td>Wii</td>\n",
       "      <td>2006</td>\n",
       "      <td>misc</td>\n",
       "      <td>13.96</td>\n",
       "      <td>9.18</td>\n",
       "      <td>2.93</td>\n",
       "      <td>2.84</td>\n",
       "      <td>58</td>\n",
       "      <td>6.600000</td>\n",
       "      <td>E</td>\n",
       "      <td>средняя оценка</td>\n",
       "      <td>средняя оценка</td>\n",
       "      <td>средняя оценка</td>\n",
       "      <td>средняя оценка</td>\n",
       "    </tr>\n",
       "    <tr>\n",
       "      <th>8</th>\n",
       "      <td>new super mario bros. wii</td>\n",
       "      <td>Wii</td>\n",
       "      <td>2009</td>\n",
       "      <td>platform</td>\n",
       "      <td>14.44</td>\n",
       "      <td>6.94</td>\n",
       "      <td>4.70</td>\n",
       "      <td>2.24</td>\n",
       "      <td>87</td>\n",
       "      <td>8.400000</td>\n",
       "      <td>E</td>\n",
       "      <td>высокая оценка</td>\n",
       "      <td>высокая оценка</td>\n",
       "      <td>высокая оценка</td>\n",
       "      <td>высокая оценка</td>\n",
       "    </tr>\n",
       "    <tr>\n",
       "      <th>10</th>\n",
       "      <td>nintendogs</td>\n",
       "      <td>DS</td>\n",
       "      <td>2005</td>\n",
       "      <td>simulation</td>\n",
       "      <td>9.05</td>\n",
       "      <td>10.95</td>\n",
       "      <td>1.93</td>\n",
       "      <td>2.74</td>\n",
       "      <td>68</td>\n",
       "      <td>7.124438</td>\n",
       "      <td>UNKNOWN</td>\n",
       "      <td>средняя оценка</td>\n",
       "      <td>средняя оценка</td>\n",
       "      <td>средняя оценка</td>\n",
       "      <td>средняя оценка</td>\n",
       "    </tr>\n",
       "    <tr>\n",
       "      <th>11</th>\n",
       "      <td>mario kart ds</td>\n",
       "      <td>DS</td>\n",
       "      <td>2005</td>\n",
       "      <td>racing</td>\n",
       "      <td>9.71</td>\n",
       "      <td>7.47</td>\n",
       "      <td>4.13</td>\n",
       "      <td>1.90</td>\n",
       "      <td>91</td>\n",
       "      <td>8.600000</td>\n",
       "      <td>E</td>\n",
       "      <td>высокая оценка</td>\n",
       "      <td>высокая оценка</td>\n",
       "      <td>высокая оценка</td>\n",
       "      <td>высокая оценка</td>\n",
       "    </tr>\n",
       "    <tr>\n",
       "      <th>13</th>\n",
       "      <td>wii fit</td>\n",
       "      <td>Wii</td>\n",
       "      <td>2007</td>\n",
       "      <td>sports</td>\n",
       "      <td>8.92</td>\n",
       "      <td>8.03</td>\n",
       "      <td>3.60</td>\n",
       "      <td>2.15</td>\n",
       "      <td>80</td>\n",
       "      <td>7.700000</td>\n",
       "      <td>E</td>\n",
       "      <td>средняя оценка</td>\n",
       "      <td>высокая оценка</td>\n",
       "      <td>высокая оценка</td>\n",
       "      <td>средняя оценка</td>\n",
       "    </tr>\n",
       "    <tr>\n",
       "      <th>14</th>\n",
       "      <td>kinect adventures!</td>\n",
       "      <td>X360</td>\n",
       "      <td>2010</td>\n",
       "      <td>misc</td>\n",
       "      <td>15.00</td>\n",
       "      <td>4.89</td>\n",
       "      <td>0.24</td>\n",
       "      <td>1.69</td>\n",
       "      <td>61</td>\n",
       "      <td>6.300000</td>\n",
       "      <td>E</td>\n",
       "      <td>средняя оценка</td>\n",
       "      <td>средняя оценка</td>\n",
       "      <td>средняя оценка</td>\n",
       "      <td>средняя оценка</td>\n",
       "    </tr>\n",
       "  </tbody>\n",
       "</table>\n",
       "</div>"
      ],
      "text/plain": [
       "                         name platform  year_of_release       genre  na_sales  \\\n",
       "0                  wii sports      Wii             2006      sports     41.36   \n",
       "2              mario kart wii      Wii             2008      racing     15.68   \n",
       "3           wii sports resort      Wii             2009      sports     15.61   \n",
       "6       new super mario bros.       DS             2006    platform     11.28   \n",
       "7                    wii play      Wii             2006        misc     13.96   \n",
       "8   new super mario bros. wii      Wii             2009    platform     14.44   \n",
       "10                 nintendogs       DS             2005  simulation      9.05   \n",
       "11              mario kart ds       DS             2005      racing      9.71   \n",
       "13                    wii fit      Wii             2007      sports      8.92   \n",
       "14         kinect adventures!     X360             2010        misc     15.00   \n",
       "\n",
       "    ea_sales  jp_sales  other_sales  critic_score  user_score   rating  \\\n",
       "0      28.96      3.77         8.45            76    8.000000        E   \n",
       "2      12.76      3.79         3.29            82    8.300000        E   \n",
       "3      10.93      3.28         2.95            80    8.000000        E   \n",
       "6       9.14      6.50         2.88            89    8.500000        E   \n",
       "7       9.18      2.93         2.84            58    6.600000        E   \n",
       "8       6.94      4.70         2.24            87    8.400000        E   \n",
       "10     10.95      1.93         2.74            68    7.124438  UNKNOWN   \n",
       "11      7.47      4.13         1.90            91    8.600000        E   \n",
       "13      8.03      3.60         2.15            80    7.700000        E   \n",
       "14      4.89      0.24         1.69            61    6.300000        E   \n",
       "\n",
       "   user_score_category critic_score_category critic_score_category2  \\\n",
       "0       высокая оценка        средняя оценка         средняя оценка   \n",
       "2       высокая оценка        высокая оценка         высокая оценка   \n",
       "3       высокая оценка        высокая оценка         высокая оценка   \n",
       "6       высокая оценка        высокая оценка         высокая оценка   \n",
       "7       средняя оценка        средняя оценка         средняя оценка   \n",
       "8       высокая оценка        высокая оценка         высокая оценка   \n",
       "10      средняя оценка        средняя оценка         средняя оценка   \n",
       "11      высокая оценка        высокая оценка         высокая оценка   \n",
       "13      средняя оценка        высокая оценка         высокая оценка   \n",
       "14      средняя оценка        средняя оценка         средняя оценка   \n",
       "\n",
       "   user_score_category2  \n",
       "0        высокая оценка  \n",
       "2        высокая оценка  \n",
       "3        высокая оценка  \n",
       "6        высокая оценка  \n",
       "7        средняя оценка  \n",
       "8        высокая оценка  \n",
       "10       средняя оценка  \n",
       "11       высокая оценка  \n",
       "13       средняя оценка  \n",
       "14       средняя оценка  "
      ]
     },
     "execution_count": 40,
     "metadata": {},
     "output_type": "execute_result"
    }
   ],
   "source": [
    "#Применяем функцию к столбцам `critic_score` и `user_score`\n",
    "df_actual['critic_score_category2'] = df_actual['critic_score'].apply(categorize_critic_score)\n",
    "df_actual['user_score_category2'] = df_actual['user_score'].apply(categorize_user_score)\n",
    "df_actual.head(10)"
   ]
  },
  {
   "cell_type": "markdown",
   "id": "6a98444c",
   "metadata": {
    "id": "6a98444c"
   },
   "source": [
    "- Выделите топ-7 платформ по количеству игр, выпущенных за весь актуальный период."
   ]
  },
  {
   "cell_type": "code",
   "execution_count": 41,
   "id": "003caa2c",
   "metadata": {
    "id": "003caa2c"
   },
   "outputs": [
    {
     "data": {
      "text/plain": [
       "PS2     2127\n",
       "DS      2120\n",
       "Wii     1275\n",
       "PSP     1180\n",
       "X360    1121\n",
       "PS3     1087\n",
       "GBA      811\n",
       "Name: platform, dtype: int64"
      ]
     },
     "execution_count": 41,
     "metadata": {},
     "output_type": "execute_result"
    }
   ],
   "source": [
    "grouped_year = df_actual['platform'].value_counts()\n",
    "grouped_year.head(7)"
   ]
  },
  {
   "cell_type": "markdown",
   "id": "961dd75e",
   "metadata": {},
   "source": [
    "Теперь датафрейм содержит столбец `grouped_user_score`, содержащий информацию о категории оценки пользователей и  `grouped_critic_score`, содержащий информацию о категории оценки критиков.  \n",
    "Самыми популярными платформами за актуальный период являются: PS2(2127), DS(2120), Wii(1275), PSP(1180), X360(1121), PS3(1087) и GBA(811)."
   ]
  },
  {
   "cell_type": "markdown",
   "id": "c0158881",
   "metadata": {
    "id": "c0158881"
   },
   "source": [
    "---\n",
    "\n",
    "## 5. Итоговый вывод\n",
    "<a id='chapter5'></a>\n",
    "\n",
    "В конце напишите основной вывод и отразите, какую работу проделали. Не забудьте указать описание среза данных и новых полей, которые добавили в исходный датасет."
   ]
  },
  {
   "cell_type": "markdown",
   "id": "daabf30c",
   "metadata": {
    "id": "20175f5b"
   },
   "source": [
    "Были загружены данные датасета `new_games.csv`. Они содержали 11 столбцов и 16 956 строк, в которым была информация о продажах игр, жанрах, платформах, оценках пользователей и критиков. При первичном знакомстве с данными и их предобработкой были получены следующие результаты:\n",
    " - В восьми столбцах (`name`, `year_of_release`, `genre`, `ea_sales`, `jp_sales`, `critic_score`, `user_score`, `rating`) были обнаружены пропущенные значения. Максимальное значение пропущенных данных в столбце `user_score` - 9268.  \n",
    " Пропуски в столбцах `name`, `year_of_release`, `genre` были удалены, в столбцах  `ea_sales`, `jp_sales`, `critic_score`, `user_score` были заменены на средние значения, а в столбце `rating` - на `UNKNOWN`.\n",
    " - Для оптимизации работы с данными в датафрейме были произведены следующие изменения типов данных:\n",
    "     - `year_of_release`, `critic_score`: тип данных изменён с `float64` на `int16`;\n",
    "     - `ea_sales`, `jp_sales` и `user_score`: тип данных изменён с `object` на `float64`;\n",
    "     - `rating`: тип данных изменён с `object` на `category`.\n",
    " - Для дополнительной работы с данными были созданы столбцы:\n",
    "     - `user_score_category`: столбец, содержащий три категории оценки пользователей;\n",
    "     - `critic_score_category`: столбец, содержащий три категории оценки критиков;\n",
    " - Датафрейм был отфильтрован по дате по диапазону от 2000 до 2013 включительно, чтобы выделить историю продаж игр в начале XXI века.\n",
    " - После работы с дубликатами и пропусками было удалено 512 строк, составляющих 3% исходного датафрейма. Итоговый датафрейм содержит 16444 строки.  \n",
    "Основные наблюдения по данных после предобработки:\n",
    " - оценки пользователей: большинство игр получили средние оценки (3-8), что говорит о том, что пользователи чаще ставят средние баллы. Высокие оценки (8-10) получили 2286 игр, а низкие (0-3) - 116.\n",
    " - оценки критиков: критики чаще ставят средние оценки (30-80). Высоких оценок - 1692, низких(0-30) - 55.\n",
    " - популярные платформы: лидерами по количеству выпущенных игр являются PS2 (2127) и DS(2120), что подтверждает их популярность в начале XXI века.\n",
    "     \n",
    "\n"
   ]
  },
  {
   "cell_type": "markdown",
   "id": "50f44a96",
   "metadata": {},
   "source": [
    "<div class=\"alert alert-success\">\n",
    "<h2> Комментарий ревьюера <a class=\"tocSkip\"> </h2>\n",
    "\n",
    "<b>Все отлично!👍:  </b> \n",
    "\n",
    "Молодец, что не забываешь написать итоговый вывод по проекту. И отлично, что  пишешь выводы по предобработке — это хорошая практика, используй пожалуйста ее в следующих проектах, когда будешь готовить данные \n",
    "\n",
    "</div>   \n",
    "    \n",
    "    \n",
    "<div style=\"border:solid Chocolate 2px; padding: 40px\">\n",
    "\n",
    "\n",
    "<h2> Итоговый комментарий ревьюера (общий вывод по проекту)  <a class=\"tocSkip\"> </h2>    \n",
    "    \n",
    "  \n",
    "У меня сложилось хорошее впечатление о проекте. Молодец! Осмысленная аналитика и дельная работа - многое удалось как надо)\n",
    "    \n",
    "Отмечу отдельные положительные моменты проекта🙂:\n",
    "    \n",
    "- Была проделана значительная работа по обработке и анализу данных! \n",
    "- Твой вывод чётко отражает проделанные шаги, что важно для демонстрации результатов исследования.   \n",
    "    \n",
    "Есть несколько моментов всего, на которые стоит ещё раз взглянуть, я указал их в моих комментариях по ходу проекта.\n",
    "    \n",
    "Предлагаю тебе доработать проект по моим комментариям, чтобы довести его до совершенства.   \n",
    "    \n",
    "\n",
    " \n",
    "</div>\n"
   ]
  },
  {
   "cell_type": "markdown",
   "id": "39d10bc5",
   "metadata": {},
   "source": [
    "<div style=\"border:solid Chocolate 2px; padding: 40px\">\n",
    "\n",
    "\n",
    "<h2>  Итоговый комментарий ревьюера 2 (итоговый вывод по проекту) <a class=\"tocSkip\"> </h2>    \n",
    "    \n",
    "      \n",
    "  \n",
    "Теперь почти идеально, молодец! Принимаю твой проект)\n",
    "    \n",
    "Могу порекомендовать тебе отличную книгу про Python:\n",
    "    \n",
    "https://monster-book.com/avtomatizaciya-zadach-s-python    \n",
    "    \n",
    "По визуализации могу посоветовать следующие материалы:\n",
    "    \n",
    "1. https://github.com/esokolov/ml-course-hse/blob/master/2022-fall/seminars/sem02-charts.ipynb\n",
    "    \n",
    "2. https://github.com/Palladain/Deep_Python/blob/main/Lectures/Lecture_3/Lecture_3_Python.ipynb    \n",
    "    \n",
    "Советую тебе обратить внимание на библиотеки `sweetviz` и `ydata_profiling`, которые помогут в проведении более тщательного EDA анализа. Данные библиотеки хороши для максимизации комфорта презентации результатов анализа бизнес-пользователям. \n",
    "    \n",
    "Очень просты в использоовании, на вход кладется датафрейм: `ydata_profiling.ProfileReport(df)`\n",
    "    \n",
    "Цель нашего проекта достигнута. Рад был тебе помочь)\n",
    "    \n",
    "Удачи тебе в следующем проекте!\n",
    "    \n",
    "**Буду очень благодарен, если ты поставишь мне положительную оценку за проект в форме на странице курса, это важно для меня. Достаточно поставить оценку, а комментарий можешь написать по желанию:)**     \n",
    "    \n",
    "</div>    \n"
   ]
  },
  {
   "cell_type": "code",
   "execution_count": null,
   "id": "c158d1ca",
   "metadata": {},
   "outputs": [],
   "source": []
  }
 ],
 "metadata": {
  "ExecuteTimeLog": [
   {
    "duration": 4,
    "start_time": "2025-03-20T07:53:07.915Z"
   },
   {
    "duration": 8,
    "start_time": "2025-03-20T07:53:07.920Z"
   },
   {
    "duration": 6,
    "start_time": "2025-03-20T07:53:07.930Z"
   },
   {
    "duration": 2,
    "start_time": "2025-03-20T07:56:00.603Z"
   },
   {
    "duration": 29,
    "start_time": "2025-03-20T07:56:00.606Z"
   },
   {
    "duration": 43,
    "start_time": "2025-03-20T07:56:00.637Z"
   },
   {
    "duration": 44,
    "start_time": "2025-03-20T08:43:11.776Z"
   },
   {
    "duration": 362,
    "start_time": "2025-03-20T08:43:48.369Z"
   },
   {
    "duration": 76,
    "start_time": "2025-03-20T08:43:52.701Z"
   },
   {
    "duration": 114,
    "start_time": "2025-03-20T08:43:59.183Z"
   },
   {
    "duration": 80,
    "start_time": "2025-03-20T08:44:25.141Z"
   },
   {
    "duration": 89,
    "start_time": "2025-03-20T08:46:22.763Z"
   },
   {
    "duration": 12,
    "start_time": "2025-03-20T08:47:28.154Z"
   },
   {
    "duration": 17,
    "start_time": "2025-03-20T08:47:50.536Z"
   },
   {
    "duration": 3,
    "start_time": "2025-03-20T09:44:52.903Z"
   },
   {
    "duration": 4,
    "start_time": "2025-03-20T09:51:59.669Z"
   },
   {
    "duration": 7,
    "start_time": "2025-03-20T09:52:14.085Z"
   },
   {
    "duration": 4,
    "start_time": "2025-03-20T09:52:44.527Z"
   },
   {
    "duration": 32,
    "start_time": "2025-03-20T10:14:50.319Z"
   },
   {
    "duration": 10,
    "start_time": "2025-03-20T10:20:34.742Z"
   },
   {
    "duration": 6,
    "start_time": "2025-03-20T10:20:45.638Z"
   },
   {
    "duration": 12,
    "start_time": "2025-03-20T10:21:23.485Z"
   },
   {
    "duration": 7,
    "start_time": "2025-03-20T10:56:34.082Z"
   },
   {
    "duration": 6,
    "start_time": "2025-03-20T11:00:46.934Z"
   },
   {
    "duration": 13,
    "start_time": "2025-03-20T11:01:02.001Z"
   },
   {
    "duration": 13,
    "start_time": "2025-03-20T11:01:19.543Z"
   },
   {
    "duration": 4,
    "start_time": "2025-03-20T11:06:43.752Z"
   },
   {
    "duration": 14,
    "start_time": "2025-03-20T11:06:48.956Z"
   },
   {
    "duration": 13,
    "start_time": "2025-03-20T11:06:50.814Z"
   },
   {
    "duration": 0,
    "start_time": "2025-03-20T11:12:00.481Z"
   },
   {
    "duration": 1328,
    "start_time": "2025-03-20T11:12:05.367Z"
   },
   {
    "duration": 2,
    "start_time": "2025-03-20T11:12:29.005Z"
   },
   {
    "duration": 117,
    "start_time": "2025-03-20T11:12:29.009Z"
   },
   {
    "duration": 2,
    "start_time": "2025-03-20T11:12:29.128Z"
   },
   {
    "duration": 32,
    "start_time": "2025-03-20T11:12:29.131Z"
   },
   {
    "duration": 59,
    "start_time": "2025-03-20T11:12:29.165Z"
   },
   {
    "duration": 23,
    "start_time": "2025-03-20T11:12:29.225Z"
   },
   {
    "duration": 7,
    "start_time": "2025-03-20T11:12:29.249Z"
   },
   {
    "duration": 17,
    "start_time": "2025-03-20T11:12:29.257Z"
   },
   {
    "duration": 29,
    "start_time": "2025-03-20T11:12:29.275Z"
   },
   {
    "duration": 16,
    "start_time": "2025-03-20T11:16:50.535Z"
   },
   {
    "duration": 12,
    "start_time": "2025-03-20T11:23:48.307Z"
   },
   {
    "duration": 2,
    "start_time": "2025-03-20T11:24:28.596Z"
   },
   {
    "duration": 91,
    "start_time": "2025-03-20T11:24:28.636Z"
   },
   {
    "duration": 2,
    "start_time": "2025-03-20T11:24:34.838Z"
   },
   {
    "duration": 54,
    "start_time": "2025-03-20T11:24:34.842Z"
   },
   {
    "duration": 12,
    "start_time": "2025-03-20T11:24:34.898Z"
   },
   {
    "duration": 14,
    "start_time": "2025-03-20T11:24:34.911Z"
   },
   {
    "duration": 3,
    "start_time": "2025-03-20T11:24:45.227Z"
   },
   {
    "duration": 4,
    "start_time": "2025-03-20T11:24:45.467Z"
   },
   {
    "duration": 18,
    "start_time": "2025-03-20T11:24:45.472Z"
   },
   {
    "duration": 12,
    "start_time": "2025-03-20T11:24:45.556Z"
   },
   {
    "duration": 8,
    "start_time": "2025-03-20T11:36:19.488Z"
   },
   {
    "duration": 8,
    "start_time": "2025-03-20T11:38:04.388Z"
   },
   {
    "duration": 14,
    "start_time": "2025-03-20T11:38:17.561Z"
   },
   {
    "duration": 6,
    "start_time": "2025-03-20T12:10:46.083Z"
   },
   {
    "duration": 19,
    "start_time": "2025-03-20T12:11:54.272Z"
   },
   {
    "duration": 6,
    "start_time": "2025-03-20T12:12:27.552Z"
   },
   {
    "duration": 5,
    "start_time": "2025-03-20T12:13:14.433Z"
   },
   {
    "duration": 6,
    "start_time": "2025-03-20T12:17:07.662Z"
   },
   {
    "duration": 7,
    "start_time": "2025-03-20T12:17:20.251Z"
   },
   {
    "duration": 7,
    "start_time": "2025-03-20T12:17:21.463Z"
   },
   {
    "duration": 4,
    "start_time": "2025-03-20T12:33:26.053Z"
   },
   {
    "duration": 3,
    "start_time": "2025-03-20T12:37:28.383Z"
   },
   {
    "duration": 98,
    "start_time": "2025-03-20T12:37:28.388Z"
   },
   {
    "duration": 2,
    "start_time": "2025-03-20T12:37:28.487Z"
   },
   {
    "duration": 60,
    "start_time": "2025-03-20T12:37:28.491Z"
   },
   {
    "duration": 18,
    "start_time": "2025-03-20T12:37:28.552Z"
   },
   {
    "duration": 12,
    "start_time": "2025-03-20T12:37:28.572Z"
   },
   {
    "duration": 11,
    "start_time": "2025-03-20T12:37:28.586Z"
   },
   {
    "duration": 12,
    "start_time": "2025-03-20T12:37:28.598Z"
   },
   {
    "duration": 17,
    "start_time": "2025-03-20T12:37:28.613Z"
   },
   {
    "duration": 13,
    "start_time": "2025-03-20T12:37:28.631Z"
   },
   {
    "duration": 7,
    "start_time": "2025-03-20T12:37:28.646Z"
   },
   {
    "duration": 8,
    "start_time": "2025-03-20T12:37:28.655Z"
   },
   {
    "duration": 5,
    "start_time": "2025-03-20T12:37:28.665Z"
   },
   {
    "duration": 3,
    "start_time": "2025-03-20T12:37:28.672Z"
   },
   {
    "duration": 5,
    "start_time": "2025-03-20T12:37:28.676Z"
   },
   {
    "duration": 10,
    "start_time": "2025-03-20T12:37:28.682Z"
   },
   {
    "duration": 123,
    "start_time": "2025-03-20T12:38:06.440Z"
   },
   {
    "duration": 30,
    "start_time": "2025-03-20T12:43:09.979Z"
   },
   {
    "duration": 4,
    "start_time": "2025-03-20T12:46:22.682Z"
   },
   {
    "duration": 2,
    "start_time": "2025-03-20T12:46:47.562Z"
   },
   {
    "duration": 96,
    "start_time": "2025-03-20T12:46:47.566Z"
   },
   {
    "duration": 2,
    "start_time": "2025-03-20T12:46:47.664Z"
   },
   {
    "duration": 90,
    "start_time": "2025-03-20T12:46:47.667Z"
   },
   {
    "duration": 11,
    "start_time": "2025-03-20T12:46:47.759Z"
   },
   {
    "duration": 6,
    "start_time": "2025-03-20T12:46:47.771Z"
   },
   {
    "duration": 6,
    "start_time": "2025-03-20T12:46:47.779Z"
   },
   {
    "duration": 16,
    "start_time": "2025-03-20T12:46:47.787Z"
   },
   {
    "duration": 23,
    "start_time": "2025-03-20T12:46:47.804Z"
   },
   {
    "duration": 24,
    "start_time": "2025-03-20T12:46:47.829Z"
   },
   {
    "duration": 7,
    "start_time": "2025-03-20T12:46:47.854Z"
   },
   {
    "duration": 10,
    "start_time": "2025-03-20T12:46:47.862Z"
   },
   {
    "duration": 6,
    "start_time": "2025-03-20T12:46:47.874Z"
   },
   {
    "duration": 3,
    "start_time": "2025-03-20T12:46:47.881Z"
   },
   {
    "duration": 5,
    "start_time": "2025-03-20T12:46:47.885Z"
   },
   {
    "duration": 113,
    "start_time": "2025-03-20T12:46:47.891Z"
   },
   {
    "duration": 26,
    "start_time": "2025-03-20T12:46:48.005Z"
   },
   {
    "duration": 10,
    "start_time": "2025-03-20T12:48:12.200Z"
   },
   {
    "duration": 28,
    "start_time": "2025-03-20T12:48:17.989Z"
   },
   {
    "duration": 28,
    "start_time": "2025-03-20T12:48:29.442Z"
   },
   {
    "duration": 92,
    "start_time": "2025-03-20T12:49:21.436Z"
   },
   {
    "duration": 132,
    "start_time": "2025-03-20T12:52:08.849Z"
   },
   {
    "duration": 12,
    "start_time": "2025-03-20T12:53:05.202Z"
   },
   {
    "duration": 2,
    "start_time": "2025-03-20T12:54:13.908Z"
   },
   {
    "duration": 101,
    "start_time": "2025-03-20T12:54:13.912Z"
   },
   {
    "duration": 2,
    "start_time": "2025-03-20T12:54:14.014Z"
   },
   {
    "duration": 21,
    "start_time": "2025-03-20T12:54:14.018Z"
   },
   {
    "duration": 28,
    "start_time": "2025-03-20T12:54:14.041Z"
   },
   {
    "duration": 6,
    "start_time": "2025-03-20T12:54:14.070Z"
   },
   {
    "duration": 10,
    "start_time": "2025-03-20T12:54:14.078Z"
   },
   {
    "duration": 31,
    "start_time": "2025-03-20T12:54:14.090Z"
   },
   {
    "duration": 18,
    "start_time": "2025-03-20T12:54:14.123Z"
   },
   {
    "duration": 11,
    "start_time": "2025-03-20T12:54:14.142Z"
   },
   {
    "duration": 7,
    "start_time": "2025-03-20T12:54:14.154Z"
   },
   {
    "duration": 22,
    "start_time": "2025-03-20T12:54:14.162Z"
   },
   {
    "duration": 10,
    "start_time": "2025-03-20T12:54:14.185Z"
   },
   {
    "duration": 3,
    "start_time": "2025-03-20T12:54:14.197Z"
   },
   {
    "duration": 5,
    "start_time": "2025-03-20T12:54:14.201Z"
   },
   {
    "duration": 97,
    "start_time": "2025-03-20T12:54:14.207Z"
   },
   {
    "duration": 106,
    "start_time": "2025-03-20T12:54:14.306Z"
   },
   {
    "duration": 11,
    "start_time": "2025-03-20T12:54:14.414Z"
   },
   {
    "duration": 15,
    "start_time": "2025-03-20T13:09:59.793Z"
   },
   {
    "duration": 2,
    "start_time": "2025-03-20T13:10:11.846Z"
   },
   {
    "duration": 139,
    "start_time": "2025-03-20T13:10:11.849Z"
   },
   {
    "duration": 3,
    "start_time": "2025-03-20T13:10:11.989Z"
   },
   {
    "duration": 26,
    "start_time": "2025-03-20T13:10:11.993Z"
   },
   {
    "duration": 10,
    "start_time": "2025-03-20T13:10:12.021Z"
   },
   {
    "duration": 5,
    "start_time": "2025-03-20T13:10:12.032Z"
   },
   {
    "duration": 5,
    "start_time": "2025-03-20T13:10:12.038Z"
   },
   {
    "duration": 16,
    "start_time": "2025-03-20T13:10:12.044Z"
   },
   {
    "duration": 15,
    "start_time": "2025-03-20T13:10:12.062Z"
   },
   {
    "duration": 13,
    "start_time": "2025-03-20T13:10:12.078Z"
   },
   {
    "duration": 49,
    "start_time": "2025-03-20T13:10:12.093Z"
   },
   {
    "duration": 62,
    "start_time": "2025-03-20T13:10:12.143Z"
   },
   {
    "duration": 16,
    "start_time": "2025-03-20T13:10:12.207Z"
   },
   {
    "duration": 9,
    "start_time": "2025-03-20T13:10:12.224Z"
   },
   {
    "duration": 16,
    "start_time": "2025-03-20T13:10:12.234Z"
   },
   {
    "duration": 110,
    "start_time": "2025-03-20T13:10:12.251Z"
   },
   {
    "duration": 98,
    "start_time": "2025-03-20T13:10:12.363Z"
   },
   {
    "duration": 14,
    "start_time": "2025-03-20T13:10:12.462Z"
   },
   {
    "duration": 110,
    "start_time": "2025-03-20T13:23:02.107Z"
   },
   {
    "duration": 370,
    "start_time": "2025-03-20T13:23:16.283Z"
   },
   {
    "duration": 7,
    "start_time": "2025-03-20T13:24:03.324Z"
   },
   {
    "duration": 101,
    "start_time": "2025-03-20T13:24:35.485Z"
   },
   {
    "duration": 8,
    "start_time": "2025-03-20T13:24:47.866Z"
   },
   {
    "duration": 57,
    "start_time": "2025-03-20T13:25:12.670Z"
   },
   {
    "duration": 7,
    "start_time": "2025-03-20T13:25:27.903Z"
   },
   {
    "duration": 10,
    "start_time": "2025-03-20T13:28:03.375Z"
   },
   {
    "duration": 107,
    "start_time": "2025-03-20T13:50:22.234Z"
   },
   {
    "duration": 3,
    "start_time": "2025-03-20T13:50:34.356Z"
   },
   {
    "duration": 131,
    "start_time": "2025-03-20T13:50:34.360Z"
   },
   {
    "duration": 2,
    "start_time": "2025-03-20T13:50:34.493Z"
   },
   {
    "duration": 20,
    "start_time": "2025-03-20T13:50:34.497Z"
   },
   {
    "duration": 11,
    "start_time": "2025-03-20T13:50:34.518Z"
   },
   {
    "duration": 20,
    "start_time": "2025-03-20T13:50:34.530Z"
   },
   {
    "duration": 21,
    "start_time": "2025-03-20T13:50:34.551Z"
   },
   {
    "duration": 25,
    "start_time": "2025-03-20T13:50:34.574Z"
   },
   {
    "duration": 16,
    "start_time": "2025-03-20T13:50:34.601Z"
   },
   {
    "duration": 14,
    "start_time": "2025-03-20T13:50:34.619Z"
   },
   {
    "duration": 7,
    "start_time": "2025-03-20T13:50:34.635Z"
   },
   {
    "duration": 17,
    "start_time": "2025-03-20T13:50:34.643Z"
   },
   {
    "duration": 21,
    "start_time": "2025-03-20T13:50:34.661Z"
   },
   {
    "duration": 16,
    "start_time": "2025-03-20T13:50:34.683Z"
   },
   {
    "duration": 6,
    "start_time": "2025-03-20T13:50:34.700Z"
   },
   {
    "duration": 125,
    "start_time": "2025-03-20T13:50:34.707Z"
   },
   {
    "duration": 113,
    "start_time": "2025-03-20T13:50:34.833Z"
   },
   {
    "duration": 22,
    "start_time": "2025-03-20T13:50:34.947Z"
   },
   {
    "duration": 102,
    "start_time": "2025-03-20T13:50:58.254Z"
   },
   {
    "duration": 17,
    "start_time": "2025-03-20T13:54:05.808Z"
   },
   {
    "duration": 20,
    "start_time": "2025-03-20T13:54:08.867Z"
   },
   {
    "duration": 58,
    "start_time": "2025-03-20T14:01:37.790Z"
   },
   {
    "duration": 2,
    "start_time": "2025-03-20T14:01:44.778Z"
   },
   {
    "duration": 144,
    "start_time": "2025-03-20T14:01:44.782Z"
   },
   {
    "duration": 2,
    "start_time": "2025-03-20T14:01:44.928Z"
   },
   {
    "duration": 35,
    "start_time": "2025-03-20T14:01:44.931Z"
   },
   {
    "duration": 11,
    "start_time": "2025-03-20T14:01:44.967Z"
   },
   {
    "duration": 11,
    "start_time": "2025-03-20T14:01:44.979Z"
   },
   {
    "duration": 22,
    "start_time": "2025-03-20T14:01:44.992Z"
   },
   {
    "duration": 49,
    "start_time": "2025-03-20T14:01:45.015Z"
   },
   {
    "duration": 54,
    "start_time": "2025-03-20T14:01:45.065Z"
   },
   {
    "duration": 40,
    "start_time": "2025-03-20T14:01:45.120Z"
   },
   {
    "duration": 78,
    "start_time": "2025-03-20T14:01:45.161Z"
   },
   {
    "duration": 38,
    "start_time": "2025-03-20T14:01:45.241Z"
   },
   {
    "duration": 18,
    "start_time": "2025-03-20T14:01:45.281Z"
   },
   {
    "duration": 49,
    "start_time": "2025-03-20T14:01:45.301Z"
   },
   {
    "duration": 30,
    "start_time": "2025-03-20T14:01:45.352Z"
   },
   {
    "duration": 111,
    "start_time": "2025-03-20T14:01:45.383Z"
   },
   {
    "duration": 60,
    "start_time": "2025-03-20T14:01:45.496Z"
   },
   {
    "duration": 18,
    "start_time": "2025-03-20T14:01:45.557Z"
   },
   {
    "duration": 13,
    "start_time": "2025-03-20T14:02:21.971Z"
   },
   {
    "duration": 2,
    "start_time": "2025-03-20T14:02:49.620Z"
   },
   {
    "duration": 191,
    "start_time": "2025-03-20T14:02:49.624Z"
   },
   {
    "duration": 2,
    "start_time": "2025-03-20T14:02:49.817Z"
   },
   {
    "duration": 16,
    "start_time": "2025-03-20T14:02:49.820Z"
   },
   {
    "duration": 18,
    "start_time": "2025-03-20T14:02:49.837Z"
   },
   {
    "duration": 17,
    "start_time": "2025-03-20T14:02:49.856Z"
   },
   {
    "duration": 11,
    "start_time": "2025-03-20T14:02:49.874Z"
   },
   {
    "duration": 17,
    "start_time": "2025-03-20T14:02:49.886Z"
   },
   {
    "duration": 16,
    "start_time": "2025-03-20T14:02:49.905Z"
   },
   {
    "duration": 18,
    "start_time": "2025-03-20T14:02:49.922Z"
   },
   {
    "duration": 10,
    "start_time": "2025-03-20T14:02:49.942Z"
   },
   {
    "duration": 12,
    "start_time": "2025-03-20T14:02:49.954Z"
   },
   {
    "duration": 7,
    "start_time": "2025-03-20T14:02:49.969Z"
   },
   {
    "duration": 6,
    "start_time": "2025-03-20T14:02:49.978Z"
   },
   {
    "duration": 10,
    "start_time": "2025-03-20T14:02:49.985Z"
   },
   {
    "duration": 119,
    "start_time": "2025-03-20T14:02:49.997Z"
   },
   {
    "duration": 13,
    "start_time": "2025-03-20T14:02:50.118Z"
   },
   {
    "duration": 29,
    "start_time": "2025-03-20T14:02:50.132Z"
   },
   {
    "duration": 17,
    "start_time": "2025-03-20T14:03:10.837Z"
   },
   {
    "duration": 7,
    "start_time": "2025-03-20T14:19:48.563Z"
   },
   {
    "duration": 5,
    "start_time": "2025-03-20T14:20:04.076Z"
   },
   {
    "duration": 4,
    "start_time": "2025-03-20T14:20:40.592Z"
   },
   {
    "duration": 4,
    "start_time": "2025-03-20T14:20:55.051Z"
   },
   {
    "duration": 4,
    "start_time": "2025-03-20T14:21:19.364Z"
   },
   {
    "duration": 1393,
    "start_time": "2025-03-20T14:22:44.235Z"
   },
   {
    "duration": 7,
    "start_time": "2025-03-20T14:22:55.436Z"
   },
   {
    "duration": 5,
    "start_time": "2025-03-20T14:24:20.474Z"
   },
   {
    "duration": 4,
    "start_time": "2025-03-20T14:29:58.453Z"
   },
   {
    "duration": 5,
    "start_time": "2025-03-20T14:35:39.662Z"
   },
   {
    "duration": 2,
    "start_time": "2025-03-20T14:36:29.473Z"
   },
   {
    "duration": 113,
    "start_time": "2025-03-20T14:36:29.477Z"
   },
   {
    "duration": 3,
    "start_time": "2025-03-20T14:36:29.591Z"
   },
   {
    "duration": 30,
    "start_time": "2025-03-20T14:36:29.596Z"
   },
   {
    "duration": 16,
    "start_time": "2025-03-20T14:36:29.628Z"
   },
   {
    "duration": 15,
    "start_time": "2025-03-20T14:36:29.646Z"
   },
   {
    "duration": 73,
    "start_time": "2025-03-20T14:36:29.663Z"
   },
   {
    "duration": 19,
    "start_time": "2025-03-20T14:36:29.737Z"
   },
   {
    "duration": 20,
    "start_time": "2025-03-20T14:36:29.757Z"
   },
   {
    "duration": 14,
    "start_time": "2025-03-20T14:36:29.779Z"
   },
   {
    "duration": 92,
    "start_time": "2025-03-20T14:36:29.795Z"
   },
   {
    "duration": 11,
    "start_time": "2025-03-20T14:36:29.888Z"
   },
   {
    "duration": 8,
    "start_time": "2025-03-20T14:36:29.901Z"
   },
   {
    "duration": 15,
    "start_time": "2025-03-20T14:36:29.911Z"
   },
   {
    "duration": 14,
    "start_time": "2025-03-20T14:36:29.928Z"
   },
   {
    "duration": 88,
    "start_time": "2025-03-20T14:36:29.943Z"
   },
   {
    "duration": 12,
    "start_time": "2025-03-20T14:36:30.032Z"
   },
   {
    "duration": 42,
    "start_time": "2025-03-20T14:36:30.045Z"
   },
   {
    "duration": 31,
    "start_time": "2025-03-20T14:36:30.088Z"
   },
   {
    "duration": 30,
    "start_time": "2025-03-20T14:36:30.120Z"
   },
   {
    "duration": 80,
    "start_time": "2025-03-20T14:36:30.152Z"
   },
   {
    "duration": 40,
    "start_time": "2025-03-20T14:36:30.233Z"
   },
   {
    "duration": 5,
    "start_time": "2025-03-20T14:38:41.113Z"
   },
   {
    "duration": 4,
    "start_time": "2025-03-20T14:38:50.113Z"
   },
   {
    "duration": 108,
    "start_time": "2025-03-20T14:40:18.469Z"
   },
   {
    "duration": 6,
    "start_time": "2025-03-20T14:41:09.653Z"
   },
   {
    "duration": 387,
    "start_time": "2025-03-20T17:36:24.262Z"
   },
   {
    "duration": 112,
    "start_time": "2025-03-20T17:36:24.652Z"
   },
   {
    "duration": 2,
    "start_time": "2025-03-20T17:36:24.766Z"
   },
   {
    "duration": 18,
    "start_time": "2025-03-20T17:36:24.770Z"
   },
   {
    "duration": 20,
    "start_time": "2025-03-20T17:36:24.790Z"
   },
   {
    "duration": 4,
    "start_time": "2025-03-20T17:36:24.812Z"
   },
   {
    "duration": 11,
    "start_time": "2025-03-20T17:36:24.818Z"
   },
   {
    "duration": 6,
    "start_time": "2025-03-20T17:36:24.830Z"
   },
   {
    "duration": 22,
    "start_time": "2025-03-20T17:36:24.837Z"
   },
   {
    "duration": 18,
    "start_time": "2025-03-20T17:36:24.860Z"
   },
   {
    "duration": 28,
    "start_time": "2025-03-20T17:36:24.879Z"
   },
   {
    "duration": 11,
    "start_time": "2025-03-20T17:36:24.909Z"
   },
   {
    "duration": 8,
    "start_time": "2025-03-20T17:36:24.922Z"
   },
   {
    "duration": 5,
    "start_time": "2025-03-20T17:36:24.932Z"
   },
   {
    "duration": 11,
    "start_time": "2025-03-20T17:36:24.939Z"
   },
   {
    "duration": 160,
    "start_time": "2025-03-20T17:36:24.952Z"
   },
   {
    "duration": 17,
    "start_time": "2025-03-20T17:36:25.113Z"
   },
   {
    "duration": 20,
    "start_time": "2025-03-20T17:36:25.132Z"
   },
   {
    "duration": 5,
    "start_time": "2025-03-20T17:36:25.154Z"
   },
   {
    "duration": 7,
    "start_time": "2025-03-20T17:36:25.161Z"
   },
   {
    "duration": 38,
    "start_time": "2025-03-20T17:36:25.170Z"
   },
   {
    "duration": 12,
    "start_time": "2025-03-20T17:36:25.210Z"
   },
   {
    "duration": 17,
    "start_time": "2025-03-20T17:39:19.898Z"
   },
   {
    "duration": 17,
    "start_time": "2025-03-20T17:39:30.923Z"
   },
   {
    "duration": 20,
    "start_time": "2025-03-20T17:40:40.460Z"
   },
   {
    "duration": 7,
    "start_time": "2025-03-20T17:45:07.116Z"
   },
   {
    "duration": 5,
    "start_time": "2025-03-20T17:45:20.240Z"
   },
   {
    "duration": 6,
    "start_time": "2025-03-20T17:45:29.612Z"
   },
   {
    "duration": 15,
    "start_time": "2025-03-20T17:46:09.173Z"
   },
   {
    "duration": 87,
    "start_time": "2025-03-20T17:51:11.323Z"
   },
   {
    "duration": 23,
    "start_time": "2025-03-20T17:51:27.201Z"
   },
   {
    "duration": 31,
    "start_time": "2025-03-20T17:51:37.503Z"
   },
   {
    "duration": 30,
    "start_time": "2025-03-20T17:57:23.170Z"
   },
   {
    "duration": 25,
    "start_time": "2025-03-20T17:57:32.914Z"
   },
   {
    "duration": 21,
    "start_time": "2025-03-20T18:05:49.334Z"
   },
   {
    "duration": 15,
    "start_time": "2025-03-20T18:06:14.325Z"
   },
   {
    "duration": 72,
    "start_time": "2025-03-20T18:06:41.213Z"
   },
   {
    "duration": 4,
    "start_time": "2025-03-20T18:07:32.710Z"
   },
   {
    "duration": 3,
    "start_time": "2025-03-20T18:07:37.273Z"
   },
   {
    "duration": 179,
    "start_time": "2025-03-20T18:07:37.278Z"
   },
   {
    "duration": 3,
    "start_time": "2025-03-20T18:07:37.459Z"
   },
   {
    "duration": 36,
    "start_time": "2025-03-20T18:07:37.464Z"
   },
   {
    "duration": 52,
    "start_time": "2025-03-20T18:07:37.501Z"
   },
   {
    "duration": 35,
    "start_time": "2025-03-20T18:07:37.555Z"
   },
   {
    "duration": 45,
    "start_time": "2025-03-20T18:07:37.593Z"
   },
   {
    "duration": 34,
    "start_time": "2025-03-20T18:07:37.640Z"
   },
   {
    "duration": 96,
    "start_time": "2025-03-20T18:07:37.675Z"
   },
   {
    "duration": 75,
    "start_time": "2025-03-20T18:07:37.774Z"
   },
   {
    "duration": 48,
    "start_time": "2025-03-20T18:07:37.851Z"
   },
   {
    "duration": 65,
    "start_time": "2025-03-20T18:07:37.901Z"
   },
   {
    "duration": 33,
    "start_time": "2025-03-20T18:07:37.967Z"
   },
   {
    "duration": 29,
    "start_time": "2025-03-20T18:07:38.002Z"
   },
   {
    "duration": 21,
    "start_time": "2025-03-20T18:07:38.033Z"
   },
   {
    "duration": 151,
    "start_time": "2025-03-20T18:07:38.056Z"
   },
   {
    "duration": 16,
    "start_time": "2025-03-20T18:07:38.209Z"
   },
   {
    "duration": 25,
    "start_time": "2025-03-20T18:07:38.227Z"
   },
   {
    "duration": 19,
    "start_time": "2025-03-20T18:07:38.254Z"
   },
   {
    "duration": 32,
    "start_time": "2025-03-20T18:07:38.275Z"
   },
   {
    "duration": 33,
    "start_time": "2025-03-20T18:07:38.308Z"
   },
   {
    "duration": 35,
    "start_time": "2025-03-20T18:07:38.343Z"
   },
   {
    "duration": 25,
    "start_time": "2025-03-20T18:07:38.380Z"
   },
   {
    "duration": 72,
    "start_time": "2025-03-20T18:07:38.407Z"
   },
   {
    "duration": 68,
    "start_time": "2025-03-20T18:07:38.481Z"
   },
   {
    "duration": 8,
    "start_time": "2025-03-20T18:07:38.552Z"
   },
   {
    "duration": 97,
    "start_time": "2025-03-20T18:14:53.044Z"
   },
   {
    "duration": 7,
    "start_time": "2025-03-20T18:16:11.489Z"
   },
   {
    "duration": 10,
    "start_time": "2025-03-20T18:16:37.580Z"
   },
   {
    "duration": 97,
    "start_time": "2025-03-20T18:19:00.475Z"
   },
   {
    "duration": 6,
    "start_time": "2025-03-20T18:19:06.908Z"
   },
   {
    "duration": 7,
    "start_time": "2025-03-20T18:19:18.544Z"
   },
   {
    "duration": 10,
    "start_time": "2025-03-20T18:21:22.147Z"
   },
   {
    "duration": 8,
    "start_time": "2025-03-20T18:46:41.622Z"
   },
   {
    "duration": 5,
    "start_time": "2025-03-20T18:46:47.904Z"
   },
   {
    "duration": 34,
    "start_time": "2025-03-20T18:46:56.322Z"
   },
   {
    "duration": 20,
    "start_time": "2025-03-20T18:48:01.814Z"
   },
   {
    "duration": 25,
    "start_time": "2025-03-20T18:48:45.318Z"
   },
   {
    "duration": 14,
    "start_time": "2025-03-20T18:49:43.660Z"
   },
   {
    "duration": 5,
    "start_time": "2025-03-20T18:49:49.311Z"
   },
   {
    "duration": 18,
    "start_time": "2025-03-20T18:49:54.559Z"
   },
   {
    "duration": 21,
    "start_time": "2025-03-20T18:50:05.812Z"
   },
   {
    "duration": 25,
    "start_time": "2025-03-20T18:50:19.873Z"
   },
   {
    "duration": 28,
    "start_time": "2025-03-20T18:57:59.619Z"
   },
   {
    "duration": 26,
    "start_time": "2025-03-20T18:58:29.004Z"
   },
   {
    "duration": 1432,
    "start_time": "2025-03-20T19:00:00.677Z"
   },
   {
    "duration": 1377,
    "start_time": "2025-03-20T19:00:16.212Z"
   },
   {
    "duration": 29,
    "start_time": "2025-03-20T19:00:34.516Z"
   },
   {
    "duration": 4,
    "start_time": "2025-03-20T19:01:09.463Z"
   },
   {
    "duration": 160,
    "start_time": "2025-03-20T19:01:09.470Z"
   },
   {
    "duration": 3,
    "start_time": "2025-03-20T19:01:09.640Z"
   },
   {
    "duration": 29,
    "start_time": "2025-03-20T19:01:09.645Z"
   },
   {
    "duration": 26,
    "start_time": "2025-03-20T19:01:09.677Z"
   },
   {
    "duration": 7,
    "start_time": "2025-03-20T19:01:09.704Z"
   },
   {
    "duration": 11,
    "start_time": "2025-03-20T19:01:09.712Z"
   },
   {
    "duration": 6,
    "start_time": "2025-03-20T19:01:09.725Z"
   },
   {
    "duration": 32,
    "start_time": "2025-03-20T19:01:09.733Z"
   },
   {
    "duration": 55,
    "start_time": "2025-03-20T19:01:09.767Z"
   },
   {
    "duration": 15,
    "start_time": "2025-03-20T19:01:09.824Z"
   },
   {
    "duration": 20,
    "start_time": "2025-03-20T19:01:09.843Z"
   },
   {
    "duration": 43,
    "start_time": "2025-03-20T19:01:09.865Z"
   },
   {
    "duration": 5,
    "start_time": "2025-03-20T19:01:09.911Z"
   },
   {
    "duration": 11,
    "start_time": "2025-03-20T19:01:09.917Z"
   },
   {
    "duration": 148,
    "start_time": "2025-03-20T19:01:09.930Z"
   },
   {
    "duration": 26,
    "start_time": "2025-03-20T19:01:10.080Z"
   },
   {
    "duration": 36,
    "start_time": "2025-03-20T19:01:10.108Z"
   },
   {
    "duration": 6,
    "start_time": "2025-03-20T19:01:10.146Z"
   },
   {
    "duration": 5,
    "start_time": "2025-03-20T19:01:10.157Z"
   },
   {
    "duration": 6,
    "start_time": "2025-03-20T19:01:10.164Z"
   },
   {
    "duration": 5,
    "start_time": "2025-03-20T19:01:10.172Z"
   },
   {
    "duration": 39,
    "start_time": "2025-03-20T19:01:10.179Z"
   },
   {
    "duration": 21,
    "start_time": "2025-03-20T19:01:10.219Z"
   },
   {
    "duration": 35,
    "start_time": "2025-03-20T19:01:10.243Z"
   },
   {
    "duration": 5,
    "start_time": "2025-03-20T19:01:10.280Z"
   },
   {
    "duration": 59,
    "start_time": "2025-03-20T19:01:10.303Z"
   },
   {
    "duration": 52,
    "start_time": "2025-03-20T19:01:10.364Z"
   },
   {
    "duration": 35,
    "start_time": "2025-03-20T19:01:10.418Z"
   },
   {
    "duration": 20,
    "start_time": "2025-03-20T19:05:11.399Z"
   },
   {
    "duration": 19,
    "start_time": "2025-03-20T19:06:03.103Z"
   },
   {
    "duration": 18,
    "start_time": "2025-03-20T19:06:52.166Z"
   },
   {
    "duration": 29,
    "start_time": "2025-03-20T19:11:00.872Z"
   },
   {
    "duration": 31,
    "start_time": "2025-03-20T19:12:19.284Z"
   },
   {
    "duration": 17,
    "start_time": "2025-03-20T19:12:51.042Z"
   },
   {
    "duration": 18,
    "start_time": "2025-03-20T19:14:41.409Z"
   },
   {
    "duration": 13,
    "start_time": "2025-03-20T19:16:49.971Z"
   },
   {
    "duration": 12,
    "start_time": "2025-03-20T19:16:56.623Z"
   },
   {
    "duration": 15,
    "start_time": "2025-03-20T19:17:48.617Z"
   },
   {
    "duration": 18,
    "start_time": "2025-03-20T19:18:13.685Z"
   },
   {
    "duration": 20,
    "start_time": "2025-03-20T19:22:48.141Z"
   },
   {
    "duration": 17,
    "start_time": "2025-03-20T19:23:02.878Z"
   },
   {
    "duration": 7,
    "start_time": "2025-03-20T19:57:19.748Z"
   },
   {
    "duration": 158,
    "start_time": "2025-03-20T19:57:19.758Z"
   },
   {
    "duration": 4,
    "start_time": "2025-03-20T19:57:19.917Z"
   },
   {
    "duration": 34,
    "start_time": "2025-03-20T19:57:19.922Z"
   },
   {
    "duration": 20,
    "start_time": "2025-03-20T19:57:19.958Z"
   },
   {
    "duration": 5,
    "start_time": "2025-03-20T19:57:19.980Z"
   },
   {
    "duration": 18,
    "start_time": "2025-03-20T19:57:19.987Z"
   },
   {
    "duration": 7,
    "start_time": "2025-03-20T19:57:20.007Z"
   },
   {
    "duration": 31,
    "start_time": "2025-03-20T19:57:20.016Z"
   },
   {
    "duration": 21,
    "start_time": "2025-03-20T19:57:20.049Z"
   },
   {
    "duration": 36,
    "start_time": "2025-03-20T19:57:20.072Z"
   },
   {
    "duration": 12,
    "start_time": "2025-03-20T19:57:20.111Z"
   },
   {
    "duration": 9,
    "start_time": "2025-03-20T19:57:20.125Z"
   },
   {
    "duration": 10,
    "start_time": "2025-03-20T19:57:20.137Z"
   },
   {
    "duration": 11,
    "start_time": "2025-03-20T19:57:20.149Z"
   },
   {
    "duration": 158,
    "start_time": "2025-03-20T19:57:20.162Z"
   },
   {
    "duration": 18,
    "start_time": "2025-03-20T19:57:20.322Z"
   },
   {
    "duration": 37,
    "start_time": "2025-03-20T19:57:20.341Z"
   },
   {
    "duration": 5,
    "start_time": "2025-03-20T19:57:20.380Z"
   },
   {
    "duration": 18,
    "start_time": "2025-03-20T19:57:20.387Z"
   },
   {
    "duration": 7,
    "start_time": "2025-03-20T19:57:20.407Z"
   },
   {
    "duration": 14,
    "start_time": "2025-03-20T19:57:20.416Z"
   },
   {
    "duration": 17,
    "start_time": "2025-03-20T19:57:20.431Z"
   },
   {
    "duration": 15,
    "start_time": "2025-03-20T19:57:20.450Z"
   },
   {
    "duration": 48,
    "start_time": "2025-03-20T19:57:20.467Z"
   },
   {
    "duration": 4,
    "start_time": "2025-03-20T19:57:20.517Z"
   },
   {
    "duration": 11,
    "start_time": "2025-03-20T19:57:20.523Z"
   },
   {
    "duration": 26,
    "start_time": "2025-03-20T19:57:20.536Z"
   },
   {
    "duration": 8,
    "start_time": "2025-03-20T19:57:20.564Z"
   },
   {
    "duration": 15,
    "start_time": "2025-03-20T19:57:20.573Z"
   },
   {
    "duration": 18,
    "start_time": "2025-03-20T19:57:20.590Z"
   },
   {
    "duration": 16,
    "start_time": "2025-03-20T19:57:20.610Z"
   },
   {
    "duration": 35,
    "start_time": "2025-03-20T19:57:20.627Z"
   },
   {
    "duration": 49,
    "start_time": "2025-03-21T06:40:26.917Z"
   },
   {
    "duration": 379,
    "start_time": "2025-03-21T06:40:36.222Z"
   },
   {
    "duration": 108,
    "start_time": "2025-03-21T06:40:36.603Z"
   },
   {
    "duration": 3,
    "start_time": "2025-03-21T06:40:36.712Z"
   },
   {
    "duration": 39,
    "start_time": "2025-03-21T06:40:36.716Z"
   },
   {
    "duration": 37,
    "start_time": "2025-03-21T06:40:36.758Z"
   },
   {
    "duration": 28,
    "start_time": "2025-03-21T06:40:36.796Z"
   },
   {
    "duration": 15,
    "start_time": "2025-03-21T06:40:36.826Z"
   },
   {
    "duration": 16,
    "start_time": "2025-03-21T06:40:36.843Z"
   },
   {
    "duration": 34,
    "start_time": "2025-03-21T06:40:36.861Z"
   },
   {
    "duration": 64,
    "start_time": "2025-03-21T06:40:36.896Z"
   },
   {
    "duration": 186,
    "start_time": "2025-03-21T06:40:36.961Z"
   },
   {
    "duration": 19,
    "start_time": "2025-03-21T06:40:37.149Z"
   },
   {
    "duration": 8,
    "start_time": "2025-03-21T06:40:37.170Z"
   },
   {
    "duration": 5,
    "start_time": "2025-03-21T06:40:37.182Z"
   },
   {
    "duration": 36,
    "start_time": "2025-03-21T06:40:37.189Z"
   },
   {
    "duration": 118,
    "start_time": "2025-03-21T06:40:37.227Z"
   },
   {
    "duration": 19,
    "start_time": "2025-03-21T06:40:37.347Z"
   },
   {
    "duration": 58,
    "start_time": "2025-03-21T06:40:37.368Z"
   },
   {
    "duration": 55,
    "start_time": "2025-03-21T06:40:37.428Z"
   },
   {
    "duration": 6,
    "start_time": "2025-03-21T06:40:37.485Z"
   },
   {
    "duration": 21,
    "start_time": "2025-03-21T06:40:37.493Z"
   },
   {
    "duration": 12,
    "start_time": "2025-03-21T06:40:37.515Z"
   },
   {
    "duration": 91,
    "start_time": "2025-03-21T06:40:37.528Z"
   },
   {
    "duration": 36,
    "start_time": "2025-03-21T06:40:37.621Z"
   },
   {
    "duration": 36,
    "start_time": "2025-03-21T06:40:37.659Z"
   },
   {
    "duration": 61,
    "start_time": "2025-03-21T06:40:37.696Z"
   },
   {
    "duration": 39,
    "start_time": "2025-03-21T06:40:37.759Z"
   },
   {
    "duration": 21,
    "start_time": "2025-03-21T06:40:37.800Z"
   },
   {
    "duration": 13,
    "start_time": "2025-03-21T06:40:37.823Z"
   },
   {
    "duration": 5,
    "start_time": "2025-03-21T06:40:37.838Z"
   },
   {
    "duration": 17,
    "start_time": "2025-03-21T06:40:37.845Z"
   },
   {
    "duration": 11,
    "start_time": "2025-03-21T06:40:37.864Z"
   },
   {
    "duration": 5,
    "start_time": "2025-03-21T06:40:37.876Z"
   },
   {
    "duration": 49,
    "start_time": "2025-03-21T06:40:37.882Z"
   },
   {
    "duration": 30,
    "start_time": "2025-03-21T06:54:16.556Z"
   },
   {
    "duration": 4,
    "start_time": "2025-03-21T06:54:23.483Z"
   },
   {
    "duration": 2,
    "start_time": "2025-03-21T06:55:37.084Z"
   },
   {
    "duration": 4,
    "start_time": "2025-03-21T06:55:47.158Z"
   },
   {
    "duration": 4,
    "start_time": "2025-03-21T06:55:58.447Z"
   },
   {
    "duration": 4,
    "start_time": "2025-03-21T06:56:55.207Z"
   },
   {
    "duration": 96,
    "start_time": "2025-03-21T06:57:45.280Z"
   },
   {
    "duration": 103,
    "start_time": "2025-03-21T06:57:49.807Z"
   },
   {
    "duration": 122,
    "start_time": "2025-03-21T06:58:10.186Z"
   },
   {
    "duration": 88,
    "start_time": "2025-03-21T06:58:57.209Z"
   },
   {
    "duration": 131,
    "start_time": "2025-03-21T07:00:10.970Z"
   },
   {
    "duration": 97,
    "start_time": "2025-03-21T07:12:28.839Z"
   },
   {
    "duration": 3,
    "start_time": "2025-03-21T08:11:47.722Z"
   },
   {
    "duration": 114,
    "start_time": "2025-03-21T08:11:47.730Z"
   },
   {
    "duration": 3,
    "start_time": "2025-03-21T08:11:47.846Z"
   },
   {
    "duration": 88,
    "start_time": "2025-03-21T08:11:47.850Z"
   },
   {
    "duration": 13,
    "start_time": "2025-03-21T08:11:47.940Z"
   },
   {
    "duration": 7,
    "start_time": "2025-03-21T08:11:47.956Z"
   },
   {
    "duration": 9,
    "start_time": "2025-03-21T08:11:47.965Z"
   },
   {
    "duration": 19,
    "start_time": "2025-03-21T08:11:47.976Z"
   },
   {
    "duration": 47,
    "start_time": "2025-03-21T08:11:47.997Z"
   },
   {
    "duration": 30,
    "start_time": "2025-03-21T08:11:48.046Z"
   },
   {
    "duration": 8,
    "start_time": "2025-03-21T08:11:48.078Z"
   },
   {
    "duration": 27,
    "start_time": "2025-03-21T08:11:48.088Z"
   },
   {
    "duration": 11,
    "start_time": "2025-03-21T08:11:48.117Z"
   },
   {
    "duration": 6,
    "start_time": "2025-03-21T08:11:48.129Z"
   },
   {
    "duration": 9,
    "start_time": "2025-03-21T08:11:48.140Z"
   },
   {
    "duration": 143,
    "start_time": "2025-03-21T08:11:48.163Z"
   },
   {
    "duration": 16,
    "start_time": "2025-03-21T08:11:48.308Z"
   },
   {
    "duration": 6,
    "start_time": "2025-03-21T08:11:48.326Z"
   },
   {
    "duration": 37,
    "start_time": "2025-03-21T08:11:48.333Z"
   },
   {
    "duration": 3,
    "start_time": "2025-03-21T08:11:48.372Z"
   },
   {
    "duration": 28,
    "start_time": "2025-03-21T08:11:48.377Z"
   },
   {
    "duration": 19,
    "start_time": "2025-03-21T08:11:48.406Z"
   },
   {
    "duration": 12,
    "start_time": "2025-03-21T08:11:48.427Z"
   },
   {
    "duration": 30,
    "start_time": "2025-03-21T08:11:48.440Z"
   },
   {
    "duration": 7,
    "start_time": "2025-03-21T08:11:48.472Z"
   },
   {
    "duration": 20,
    "start_time": "2025-03-21T08:11:48.480Z"
   },
   {
    "duration": 15,
    "start_time": "2025-03-21T08:11:48.501Z"
   },
   {
    "duration": 44,
    "start_time": "2025-03-21T08:11:48.518Z"
   },
   {
    "duration": 5,
    "start_time": "2025-03-21T08:11:48.564Z"
   },
   {
    "duration": 76,
    "start_time": "2025-03-21T08:11:48.570Z"
   },
   {
    "duration": 15,
    "start_time": "2025-03-21T08:11:48.648Z"
   },
   {
    "duration": 10,
    "start_time": "2025-03-21T08:11:48.665Z"
   },
   {
    "duration": 17,
    "start_time": "2025-03-21T08:11:48.677Z"
   },
   {
    "duration": 21,
    "start_time": "2025-03-21T08:11:48.696Z"
   },
   {
    "duration": 11,
    "start_time": "2025-03-21T08:11:48.718Z"
   },
   {
    "duration": 4,
    "start_time": "2025-03-21T08:11:48.731Z"
   },
   {
    "duration": 37,
    "start_time": "2025-03-21T08:11:48.737Z"
   },
   {
    "duration": 22,
    "start_time": "2025-03-21T08:11:48.776Z"
   },
   {
    "duration": 3,
    "start_time": "2025-03-21T08:12:44.487Z"
   },
   {
    "duration": 107,
    "start_time": "2025-03-21T08:12:44.492Z"
   },
   {
    "duration": 3,
    "start_time": "2025-03-21T08:12:44.601Z"
   },
   {
    "duration": 20,
    "start_time": "2025-03-21T08:12:44.606Z"
   },
   {
    "duration": 13,
    "start_time": "2025-03-21T08:12:44.628Z"
   },
   {
    "duration": 20,
    "start_time": "2025-03-21T08:12:44.643Z"
   },
   {
    "duration": 5,
    "start_time": "2025-03-21T08:12:44.664Z"
   },
   {
    "duration": 28,
    "start_time": "2025-03-21T08:12:44.670Z"
   },
   {
    "duration": 38,
    "start_time": "2025-03-21T08:12:44.700Z"
   },
   {
    "duration": 19,
    "start_time": "2025-03-21T08:12:44.739Z"
   },
   {
    "duration": 10,
    "start_time": "2025-03-21T08:12:44.759Z"
   },
   {
    "duration": 16,
    "start_time": "2025-03-21T08:12:44.770Z"
   },
   {
    "duration": 12,
    "start_time": "2025-03-21T08:12:44.787Z"
   },
   {
    "duration": 8,
    "start_time": "2025-03-21T08:12:44.802Z"
   },
   {
    "duration": 10,
    "start_time": "2025-03-21T08:12:44.811Z"
   },
   {
    "duration": 139,
    "start_time": "2025-03-21T08:12:44.823Z"
   },
   {
    "duration": 18,
    "start_time": "2025-03-21T08:12:44.964Z"
   },
   {
    "duration": 5,
    "start_time": "2025-03-21T08:12:44.983Z"
   },
   {
    "duration": 24,
    "start_time": "2025-03-21T08:12:44.990Z"
   },
   {
    "duration": 37,
    "start_time": "2025-03-21T08:12:45.016Z"
   },
   {
    "duration": 50,
    "start_time": "2025-03-21T08:12:45.055Z"
   },
   {
    "duration": 25,
    "start_time": "2025-03-21T08:12:45.107Z"
   },
   {
    "duration": 57,
    "start_time": "2025-03-21T08:12:45.134Z"
   },
   {
    "duration": 64,
    "start_time": "2025-03-21T08:12:45.193Z"
   },
   {
    "duration": 46,
    "start_time": "2025-03-21T08:12:45.259Z"
   },
   {
    "duration": 49,
    "start_time": "2025-03-21T08:12:45.307Z"
   },
   {
    "duration": 114,
    "start_time": "2025-03-21T08:12:45.358Z"
   },
   {
    "duration": 106,
    "start_time": "2025-03-21T08:12:45.474Z"
   },
   {
    "duration": 4,
    "start_time": "2025-03-21T08:12:45.582Z"
   },
   {
    "duration": 155,
    "start_time": "2025-03-21T08:12:45.588Z"
   },
   {
    "duration": 43,
    "start_time": "2025-03-21T08:12:45.744Z"
   },
   {
    "duration": 8,
    "start_time": "2025-03-21T08:12:45.789Z"
   },
   {
    "duration": 14,
    "start_time": "2025-03-21T08:12:45.798Z"
   },
   {
    "duration": 5,
    "start_time": "2025-03-21T08:12:45.813Z"
   },
   {
    "duration": 125,
    "start_time": "2025-03-21T08:12:45.820Z"
   },
   {
    "duration": 6,
    "start_time": "2025-03-21T08:12:45.946Z"
   },
   {
    "duration": 69,
    "start_time": "2025-03-21T08:12:45.954Z"
   },
   {
    "duration": 7,
    "start_time": "2025-03-21T08:12:46.025Z"
   },
   {
    "duration": 31,
    "start_time": "2025-03-21T08:13:13.428Z"
   },
   {
    "duration": 3,
    "start_time": "2025-03-21T08:13:19.655Z"
   },
   {
    "duration": 170,
    "start_time": "2025-03-21T08:13:19.659Z"
   },
   {
    "duration": 3,
    "start_time": "2025-03-21T08:13:19.831Z"
   },
   {
    "duration": 130,
    "start_time": "2025-03-21T08:13:19.835Z"
   },
   {
    "duration": 26,
    "start_time": "2025-03-21T08:13:19.967Z"
   },
   {
    "duration": 46,
    "start_time": "2025-03-21T08:13:19.995Z"
   },
   {
    "duration": 18,
    "start_time": "2025-03-21T08:13:20.043Z"
   },
   {
    "duration": 10,
    "start_time": "2025-03-21T08:13:20.063Z"
   },
   {
    "duration": 47,
    "start_time": "2025-03-21T08:13:20.075Z"
   },
   {
    "duration": 23,
    "start_time": "2025-03-21T08:13:20.123Z"
   },
   {
    "duration": 10,
    "start_time": "2025-03-21T08:13:20.148Z"
   },
   {
    "duration": 34,
    "start_time": "2025-03-21T08:13:20.160Z"
   },
   {
    "duration": 18,
    "start_time": "2025-03-21T08:13:20.198Z"
   },
   {
    "duration": 11,
    "start_time": "2025-03-21T08:13:20.217Z"
   },
   {
    "duration": 7,
    "start_time": "2025-03-21T08:13:20.229Z"
   },
   {
    "duration": 116,
    "start_time": "2025-03-21T08:13:20.237Z"
   },
   {
    "duration": 21,
    "start_time": "2025-03-21T08:13:20.355Z"
   },
   {
    "duration": 46,
    "start_time": "2025-03-21T08:13:20.379Z"
   },
   {
    "duration": 38,
    "start_time": "2025-03-21T08:13:20.427Z"
   },
   {
    "duration": 18,
    "start_time": "2025-03-21T08:13:20.467Z"
   },
   {
    "duration": 46,
    "start_time": "2025-03-21T08:13:20.486Z"
   },
   {
    "duration": 11,
    "start_time": "2025-03-21T08:13:20.534Z"
   },
   {
    "duration": 33,
    "start_time": "2025-03-21T08:13:20.546Z"
   },
   {
    "duration": 15,
    "start_time": "2025-03-21T08:13:20.581Z"
   },
   {
    "duration": 21,
    "start_time": "2025-03-21T08:13:20.598Z"
   },
   {
    "duration": 37,
    "start_time": "2025-03-21T08:13:20.621Z"
   },
   {
    "duration": 19,
    "start_time": "2025-03-21T08:13:20.660Z"
   },
   {
    "duration": 33,
    "start_time": "2025-03-21T08:13:20.681Z"
   },
   {
    "duration": 4,
    "start_time": "2025-03-21T08:13:20.715Z"
   },
   {
    "duration": 49,
    "start_time": "2025-03-21T08:13:20.721Z"
   },
   {
    "duration": 35,
    "start_time": "2025-03-21T08:13:20.772Z"
   },
   {
    "duration": 9,
    "start_time": "2025-03-21T08:13:20.809Z"
   },
   {
    "duration": 23,
    "start_time": "2025-03-21T08:13:20.819Z"
   },
   {
    "duration": 19,
    "start_time": "2025-03-21T08:13:20.844Z"
   },
   {
    "duration": 22,
    "start_time": "2025-03-21T08:13:20.865Z"
   },
   {
    "duration": 18,
    "start_time": "2025-03-21T08:13:20.889Z"
   },
   {
    "duration": 57,
    "start_time": "2025-03-21T08:13:20.910Z"
   },
   {
    "duration": 7,
    "start_time": "2025-03-21T08:13:20.968Z"
   },
   {
    "duration": 643,
    "start_time": "2025-03-21T21:14:23.111Z"
   },
   {
    "duration": 140,
    "start_time": "2025-03-21T21:14:23.756Z"
   },
   {
    "duration": 2,
    "start_time": "2025-03-21T21:14:23.898Z"
   },
   {
    "duration": 70,
    "start_time": "2025-03-21T21:14:23.902Z"
   },
   {
    "duration": 31,
    "start_time": "2025-03-21T21:14:23.975Z"
   },
   {
    "duration": 7,
    "start_time": "2025-03-21T21:14:24.008Z"
   },
   {
    "duration": 6,
    "start_time": "2025-03-21T21:14:24.017Z"
   },
   {
    "duration": 10,
    "start_time": "2025-03-21T21:14:24.043Z"
   },
   {
    "duration": 50,
    "start_time": "2025-03-21T21:14:24.061Z"
   },
   {
    "duration": 25,
    "start_time": "2025-03-21T21:14:24.114Z"
   },
   {
    "duration": 11,
    "start_time": "2025-03-21T21:14:24.143Z"
   },
   {
    "duration": 16,
    "start_time": "2025-03-21T21:14:24.156Z"
   },
   {
    "duration": 9,
    "start_time": "2025-03-21T21:14:24.174Z"
   },
   {
    "duration": 4,
    "start_time": "2025-03-21T21:14:24.184Z"
   },
   {
    "duration": 6,
    "start_time": "2025-03-21T21:14:24.190Z"
   },
   {
    "duration": 468,
    "start_time": "2025-03-21T21:14:24.237Z"
   },
   {
    "duration": 0,
    "start_time": "2025-03-21T21:14:24.707Z"
   },
   {
    "duration": 0,
    "start_time": "2025-03-21T21:14:24.708Z"
   },
   {
    "duration": 0,
    "start_time": "2025-03-21T21:14:24.709Z"
   },
   {
    "duration": 0,
    "start_time": "2025-03-21T21:14:24.710Z"
   },
   {
    "duration": 0,
    "start_time": "2025-03-21T21:14:24.711Z"
   },
   {
    "duration": 0,
    "start_time": "2025-03-21T21:14:24.712Z"
   },
   {
    "duration": 0,
    "start_time": "2025-03-21T21:14:24.713Z"
   },
   {
    "duration": 0,
    "start_time": "2025-03-21T21:14:24.714Z"
   },
   {
    "duration": 0,
    "start_time": "2025-03-21T21:14:24.715Z"
   },
   {
    "duration": 0,
    "start_time": "2025-03-21T21:14:24.716Z"
   },
   {
    "duration": 0,
    "start_time": "2025-03-21T21:14:24.717Z"
   },
   {
    "duration": 0,
    "start_time": "2025-03-21T21:14:24.718Z"
   },
   {
    "duration": 0,
    "start_time": "2025-03-21T21:14:24.719Z"
   },
   {
    "duration": 0,
    "start_time": "2025-03-21T21:14:24.720Z"
   },
   {
    "duration": 0,
    "start_time": "2025-03-21T21:14:24.721Z"
   },
   {
    "duration": 0,
    "start_time": "2025-03-21T21:14:24.722Z"
   },
   {
    "duration": 0,
    "start_time": "2025-03-21T21:14:24.723Z"
   },
   {
    "duration": 0,
    "start_time": "2025-03-21T21:14:24.726Z"
   },
   {
    "duration": 0,
    "start_time": "2025-03-21T21:14:24.727Z"
   },
   {
    "duration": 0,
    "start_time": "2025-03-21T21:14:24.728Z"
   },
   {
    "duration": 0,
    "start_time": "2025-03-21T21:14:24.729Z"
   },
   {
    "duration": 0,
    "start_time": "2025-03-21T21:14:24.730Z"
   },
   {
    "duration": 407,
    "start_time": "2025-03-21T21:15:54.338Z"
   },
   {
    "duration": 129,
    "start_time": "2025-03-21T21:15:54.748Z"
   },
   {
    "duration": 3,
    "start_time": "2025-03-21T21:15:54.879Z"
   },
   {
    "duration": 18,
    "start_time": "2025-03-21T21:15:54.883Z"
   },
   {
    "duration": 32,
    "start_time": "2025-03-21T21:15:54.904Z"
   },
   {
    "duration": 5,
    "start_time": "2025-03-21T21:15:54.941Z"
   },
   {
    "duration": 6,
    "start_time": "2025-03-21T21:15:54.948Z"
   },
   {
    "duration": 6,
    "start_time": "2025-03-21T21:15:54.956Z"
   },
   {
    "duration": 22,
    "start_time": "2025-03-21T21:15:54.964Z"
   },
   {
    "duration": 59,
    "start_time": "2025-03-21T21:15:54.988Z"
   },
   {
    "duration": 10,
    "start_time": "2025-03-21T21:15:55.049Z"
   },
   {
    "duration": 11,
    "start_time": "2025-03-21T21:15:55.060Z"
   },
   {
    "duration": 21,
    "start_time": "2025-03-21T21:15:55.072Z"
   },
   {
    "duration": 5,
    "start_time": "2025-03-21T21:15:55.096Z"
   },
   {
    "duration": 39,
    "start_time": "2025-03-21T21:15:55.102Z"
   },
   {
    "duration": 165,
    "start_time": "2025-03-21T21:15:55.145Z"
   },
   {
    "duration": 30,
    "start_time": "2025-03-21T21:15:55.312Z"
   },
   {
    "duration": 6,
    "start_time": "2025-03-21T21:15:55.345Z"
   },
   {
    "duration": 18,
    "start_time": "2025-03-21T21:15:55.353Z"
   },
   {
    "duration": 4,
    "start_time": "2025-03-21T21:15:55.373Z"
   },
   {
    "duration": 10,
    "start_time": "2025-03-21T21:15:55.379Z"
   },
   {
    "duration": 42,
    "start_time": "2025-03-21T21:15:55.391Z"
   },
   {
    "duration": 12,
    "start_time": "2025-03-21T21:15:55.435Z"
   },
   {
    "duration": 6,
    "start_time": "2025-03-21T21:15:55.449Z"
   },
   {
    "duration": 7,
    "start_time": "2025-03-21T21:15:55.456Z"
   },
   {
    "duration": 24,
    "start_time": "2025-03-21T21:15:55.464Z"
   },
   {
    "duration": 51,
    "start_time": "2025-03-21T21:15:55.490Z"
   },
   {
    "duration": 24,
    "start_time": "2025-03-21T21:15:55.544Z"
   },
   {
    "duration": 5,
    "start_time": "2025-03-21T21:15:55.569Z"
   },
   {
    "duration": 6,
    "start_time": "2025-03-21T21:15:55.576Z"
   },
   {
    "duration": 13,
    "start_time": "2025-03-21T21:15:55.584Z"
   },
   {
    "duration": 39,
    "start_time": "2025-03-21T21:15:55.599Z"
   },
   {
    "duration": 14,
    "start_time": "2025-03-21T21:15:55.639Z"
   },
   {
    "duration": 7,
    "start_time": "2025-03-21T21:15:55.655Z"
   },
   {
    "duration": 14,
    "start_time": "2025-03-21T21:15:55.664Z"
   },
   {
    "duration": 5,
    "start_time": "2025-03-21T21:15:55.681Z"
   },
   {
    "duration": 67,
    "start_time": "2025-03-21T21:15:55.688Z"
   },
   {
    "duration": 7,
    "start_time": "2025-03-21T21:15:55.757Z"
   },
   {
    "duration": 103,
    "start_time": "2025-03-22T06:06:47.372Z"
   },
   {
    "duration": 43,
    "start_time": "2025-03-22T06:07:00.812Z"
   },
   {
    "duration": 6,
    "start_time": "2025-03-22T06:07:15.092Z"
   },
   {
    "duration": 379,
    "start_time": "2025-03-22T06:07:24.197Z"
   },
   {
    "duration": 113,
    "start_time": "2025-03-22T06:07:24.577Z"
   },
   {
    "duration": 2,
    "start_time": "2025-03-22T06:07:24.692Z"
   },
   {
    "duration": 39,
    "start_time": "2025-03-22T06:07:24.696Z"
   },
   {
    "duration": 19,
    "start_time": "2025-03-22T06:07:24.737Z"
   },
   {
    "duration": 5,
    "start_time": "2025-03-22T06:07:24.766Z"
   },
   {
    "duration": 6,
    "start_time": "2025-03-22T06:07:24.773Z"
   },
   {
    "duration": 5,
    "start_time": "2025-03-22T06:07:24.780Z"
   },
   {
    "duration": 20,
    "start_time": "2025-03-22T06:07:24.787Z"
   },
   {
    "duration": 16,
    "start_time": "2025-03-22T06:07:24.811Z"
   },
   {
    "duration": 40,
    "start_time": "2025-03-22T06:07:24.829Z"
   },
   {
    "duration": 11,
    "start_time": "2025-03-22T06:07:24.871Z"
   },
   {
    "duration": 7,
    "start_time": "2025-03-22T06:07:24.883Z"
   },
   {
    "duration": 4,
    "start_time": "2025-03-22T06:07:24.891Z"
   },
   {
    "duration": 6,
    "start_time": "2025-03-22T06:07:24.897Z"
   },
   {
    "duration": 189,
    "start_time": "2025-03-22T06:07:24.904Z"
   },
   {
    "duration": 13,
    "start_time": "2025-03-22T06:07:25.095Z"
   },
   {
    "duration": 4,
    "start_time": "2025-03-22T06:07:25.110Z"
   },
   {
    "duration": 20,
    "start_time": "2025-03-22T06:07:25.116Z"
   },
   {
    "duration": 30,
    "start_time": "2025-03-22T06:07:25.138Z"
   },
   {
    "duration": 16,
    "start_time": "2025-03-22T06:07:25.171Z"
   },
   {
    "duration": 7,
    "start_time": "2025-03-22T06:07:25.189Z"
   },
   {
    "duration": 7,
    "start_time": "2025-03-22T06:07:25.197Z"
   },
   {
    "duration": 7,
    "start_time": "2025-03-22T06:07:25.206Z"
   },
   {
    "duration": 6,
    "start_time": "2025-03-22T06:07:25.215Z"
   },
   {
    "duration": 50,
    "start_time": "2025-03-22T06:07:25.222Z"
   },
   {
    "duration": 13,
    "start_time": "2025-03-22T06:07:25.274Z"
   },
   {
    "duration": 22,
    "start_time": "2025-03-22T06:07:25.290Z"
   },
   {
    "duration": 4,
    "start_time": "2025-03-22T06:07:25.313Z"
   },
   {
    "duration": 4,
    "start_time": "2025-03-22T06:07:25.319Z"
   },
   {
    "duration": 49,
    "start_time": "2025-03-22T06:07:25.325Z"
   },
   {
    "duration": 6,
    "start_time": "2025-03-22T06:07:25.376Z"
   },
   {
    "duration": 6,
    "start_time": "2025-03-22T06:07:25.383Z"
   },
   {
    "duration": 5,
    "start_time": "2025-03-22T06:07:25.390Z"
   },
   {
    "duration": 13,
    "start_time": "2025-03-22T06:07:25.396Z"
   },
   {
    "duration": 5,
    "start_time": "2025-03-22T06:07:25.411Z"
   },
   {
    "duration": 48,
    "start_time": "2025-03-22T06:07:25.417Z"
   },
   {
    "duration": 9,
    "start_time": "2025-03-22T06:07:25.466Z"
   }
  ],
  "colab": {
   "provenance": []
  },
  "kernelspec": {
   "display_name": "Python [conda env:base] *",
   "language": "python",
   "name": "conda-base-py"
  },
  "language_info": {
   "codemirror_mode": {
    "name": "ipython",
    "version": 3
   },
   "file_extension": ".py",
   "mimetype": "text/x-python",
   "name": "python",
   "nbconvert_exporter": "python",
   "pygments_lexer": "ipython3",
   "version": "3.12.7"
  },
  "toc": {
   "base_numbering": 1,
   "nav_menu": {
    "height": "12px",
    "width": "160px"
   },
   "number_sections": false,
   "sideBar": true,
   "skip_h1_title": true,
   "title_cell": "Table of Contents",
   "title_sidebar": "Contents",
   "toc_cell": false,
   "toc_position": {
    "height": "calc(100% - 180px)",
    "left": "10px",
    "top": "150px",
    "width": "165px"
   },
   "toc_section_display": true,
   "toc_window_display": true
  }
 },
 "nbformat": 4,
 "nbformat_minor": 5
}
