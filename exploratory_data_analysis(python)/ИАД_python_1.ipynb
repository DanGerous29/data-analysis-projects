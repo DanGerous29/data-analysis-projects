{
 "cells": [
  {
   "cell_type": "markdown",
   "id": "e06910dd",
   "metadata": {
    "id": "e06910dd"
   },
   "source": [
    "# Изучение рынка заведений общественного питания Москвы\n",
    "\n",
    "- Автор: Заславский Данила\n",
    "- Дата: 15.04.25"
   ]
  },
  {
   "cell_type": "markdown",
   "id": "4149134c",
   "metadata": {
    "id": "4149134c"
   },
   "source": [
    "### Цели и задачи проекта\n",
    "\n",
    "**Цель:** Провести исследовательский анализ данных рынка общественного питания Москвы на основе данных сервисов Яндекс Карты и Яндекс Бизнес.\n",
    "\n",
    "**Задачи:** \n",
    "1. Загрузить данные и ознакомиться с их содержимым.\n",
    "2. Провести предобработку данных.\n",
    "3. Провести исследовательский анализ данных:\n",
    "    - изучить категории заведений, представленные в данных;\n",
    "    - исследовать распределение количества заведений по административным округам Москвы;\n",
    "    - изучить соотношение сетевых и несетевых заведений в целом и в разрезе категорий заведения;\n",
    "    - исследовать количество посадочных мест в заведениях;\n",
    "    - исследовать рейтинг заведений;\n",
    "    - изучить взаимосвязь рейтинга заведений с другими данными;\n",
    "    - изучить вариацию среднего чека заведения в зависимости от района Москвы.\n",
    "4. Сформулировать выводы по проведённому анализу."
   ]
  },
  {
   "cell_type": "markdown",
   "id": "728986ea",
   "metadata": {
    "id": "728986ea"
   },
   "source": [
    "### Описание данных\n",
    "\n",
    "Данные состоят из двух датасетов:\n",
    "\n",
    "- `rest_info.csv` - информация о заведениях общественного питания;\n",
    "- `rest_price.csv` - информация о среднем чеке в заведениях общественного питания.\n",
    "\n",
    "**Описание датасета `rest_info`:**\n",
    "\n",
    "- `name` - название заведения;\n",
    "- `address` - адрес заведния;\n",
    "- `district` - административный район;\n",
    "- `category` - категория заведения;\n",
    "- `hours` - информация о днях и часах работы;\n",
    "- `rating` - рейтинг заведения по оценкам пользователей в Яндекс Картах;\n",
    "- `chain`- является ли заведение сетевым;\n",
    "- `seats` - количество посадочных мест.\n",
    "\n",
    "**Описание датасета `rest_price`:**\n",
    "\n",
    "- `price` - категория цен в заведении;\n",
    "- `avg_bill` - средняя стоимость заказа в виде диапазона;\n",
    "- `middle_avg_bill` - оценка среднего чека;\n",
    "- `middle_coffee_cup` - оценка одной чашки капучино."
   ]
  },
  {
   "cell_type": "markdown",
   "id": "4fecaf95",
   "metadata": {
    "id": "4fecaf95"
   },
   "source": [
    "### Содержимое проекта\n",
    "\n",
    "[1. Загрузка данных и знакомство с ними](#chapter1)    \n",
    "[2. Предобработка данных](#chapter2)    \n",
    "[3. Исследовательский анализ данных](#chapter3)    \n",
    "[4. Итоговый вывод и рекомендации](#chapter4)\n",
    "\n"
   ]
  },
  {
   "cell_type": "markdown",
   "id": "6f7d21d6",
   "metadata": {
    "id": "6f7d21d6"
   },
   "source": [
    "## 1. Загрузка данных и знакомство с ними\n",
    "<a id='chapter1'></a>\n",
    "\n",
    "Начнём с загрузки библиотек и датасетов `rest_info.csv` и `rest_price.csv`. Будем использовать pandas и библиотеки визуализации данных matplotlib и seaborn, а также phik для построения матрицы корреляции. Данные датасетов сохраним в двух переменных: `rest_info` и `rest_price`."
   ]
  },
  {
   "cell_type": "code",
   "execution_count": 1,
   "id": "05faf34b",
   "metadata": {
    "id": "05faf34b"
   },
   "outputs": [],
   "source": [
    "# Импортируем библиотеки\n",
    "import pandas as pd\n",
    "\n",
    "# Загружаем библиотеки для визуализации данных\n",
    "import matplotlib.pyplot as plt\n",
    "import seaborn as sns\n",
    "\n",
    "#Загружаем библиотеку для расчета коэффициента корреляции phi_k\n",
    "!pip install -q phik\n",
    "from phik import phik_matrix\n",
    "import phik"
   ]
  },
  {
   "cell_type": "code",
   "execution_count": 2,
   "id": "ce87c1db",
   "metadata": {
    "id": "ce87c1db"
   },
   "outputs": [],
   "source": [
    "# Выгружаем данные в переменные rest_info и rest_price\n",
    "rest_info = pd.read_csv('https://code.s3.yandex.net/datasets/rest_info.csv')\n",
    "rest_price = pd.read_csv('https://code.s3.yandex.net/datasets/rest_price.csv')"
   ]
  },
  {
   "cell_type": "markdown",
   "id": "18b5dfff",
   "metadata": {
    "id": "18b5dfff"
   },
   "source": [
    "Познакомимся с данными датасета `rest_info.csv` - выведем первые строки методом `head()`, а информацию о датафрейме методом `info()`:"
   ]
  },
  {
   "cell_type": "code",
   "execution_count": 3,
   "id": "90fee493",
   "metadata": {
    "id": "90fee493"
   },
   "outputs": [
    {
     "data": {
      "text/html": [
       "<div>\n",
       "<style scoped>\n",
       "    .dataframe tbody tr th:only-of-type {\n",
       "        vertical-align: middle;\n",
       "    }\n",
       "\n",
       "    .dataframe tbody tr th {\n",
       "        vertical-align: top;\n",
       "    }\n",
       "\n",
       "    .dataframe thead th {\n",
       "        text-align: right;\n",
       "    }\n",
       "</style>\n",
       "<table border=\"1\" class=\"dataframe\">\n",
       "  <thead>\n",
       "    <tr style=\"text-align: right;\">\n",
       "      <th></th>\n",
       "      <th>id</th>\n",
       "      <th>name</th>\n",
       "      <th>category</th>\n",
       "      <th>address</th>\n",
       "      <th>district</th>\n",
       "      <th>hours</th>\n",
       "      <th>rating</th>\n",
       "      <th>chain</th>\n",
       "      <th>seats</th>\n",
       "    </tr>\n",
       "  </thead>\n",
       "  <tbody>\n",
       "    <tr>\n",
       "      <th>0</th>\n",
       "      <td>0c3e3439a8c64ea5bf6ecd6ca6ae19f0</td>\n",
       "      <td>WoWфли</td>\n",
       "      <td>кафе</td>\n",
       "      <td>Москва, улица Дыбенко, 7/1</td>\n",
       "      <td>Северный административный округ</td>\n",
       "      <td>ежедневно, 10:00–22:00</td>\n",
       "      <td>5.0</td>\n",
       "      <td>0</td>\n",
       "      <td>NaN</td>\n",
       "    </tr>\n",
       "    <tr>\n",
       "      <th>1</th>\n",
       "      <td>045780ada3474c57a2112e505d74b633</td>\n",
       "      <td>Четыре комнаты</td>\n",
       "      <td>ресторан</td>\n",
       "      <td>Москва, улица Дыбенко, 36, корп. 1</td>\n",
       "      <td>Северный административный округ</td>\n",
       "      <td>ежедневно, 10:00–22:00</td>\n",
       "      <td>4.5</td>\n",
       "      <td>0</td>\n",
       "      <td>4.0</td>\n",
       "    </tr>\n",
       "    <tr>\n",
       "      <th>2</th>\n",
       "      <td>1070b6b59144425896c65889347fcff6</td>\n",
       "      <td>Хазри</td>\n",
       "      <td>кафе</td>\n",
       "      <td>Москва, Клязьминская улица, 15</td>\n",
       "      <td>Северный административный округ</td>\n",
       "      <td>пн-чт 11:00–02:00; пт,сб 11:00–05:00; вс 11:00...</td>\n",
       "      <td>4.6</td>\n",
       "      <td>0</td>\n",
       "      <td>45.0</td>\n",
       "    </tr>\n",
       "    <tr>\n",
       "      <th>3</th>\n",
       "      <td>03ac7cd772104f65b58b349dc59f03ee</td>\n",
       "      <td>Dormouse Coffee Shop</td>\n",
       "      <td>кофейня</td>\n",
       "      <td>Москва, улица Маршала Федоренко, 12</td>\n",
       "      <td>Северный административный округ</td>\n",
       "      <td>ежедневно, 09:00–22:00</td>\n",
       "      <td>5.0</td>\n",
       "      <td>0</td>\n",
       "      <td>NaN</td>\n",
       "    </tr>\n",
       "    <tr>\n",
       "      <th>4</th>\n",
       "      <td>a163aada139c4c7f87b0b1c0b466a50f</td>\n",
       "      <td>Иль Марко</td>\n",
       "      <td>пиццерия</td>\n",
       "      <td>Москва, Правобережная улица, 1Б</td>\n",
       "      <td>Северный административный округ</td>\n",
       "      <td>ежедневно, 10:00–22:00</td>\n",
       "      <td>5.0</td>\n",
       "      <td>1</td>\n",
       "      <td>148.0</td>\n",
       "    </tr>\n",
       "  </tbody>\n",
       "</table>\n",
       "</div>"
      ],
      "text/plain": [
       "                                 id                  name  category  \\\n",
       "0  0c3e3439a8c64ea5bf6ecd6ca6ae19f0                WoWфли      кафе   \n",
       "1  045780ada3474c57a2112e505d74b633        Четыре комнаты  ресторан   \n",
       "2  1070b6b59144425896c65889347fcff6                 Хазри      кафе   \n",
       "3  03ac7cd772104f65b58b349dc59f03ee  Dormouse Coffee Shop   кофейня   \n",
       "4  a163aada139c4c7f87b0b1c0b466a50f             Иль Марко  пиццерия   \n",
       "\n",
       "                               address                         district  \\\n",
       "0           Москва, улица Дыбенко, 7/1  Северный административный округ   \n",
       "1   Москва, улица Дыбенко, 36, корп. 1  Северный административный округ   \n",
       "2       Москва, Клязьминская улица, 15  Северный административный округ   \n",
       "3  Москва, улица Маршала Федоренко, 12  Северный административный округ   \n",
       "4      Москва, Правобережная улица, 1Б  Северный административный округ   \n",
       "\n",
       "                                               hours  rating  chain  seats  \n",
       "0                             ежедневно, 10:00–22:00     5.0      0    NaN  \n",
       "1                             ежедневно, 10:00–22:00     4.5      0    4.0  \n",
       "2  пн-чт 11:00–02:00; пт,сб 11:00–05:00; вс 11:00...     4.6      0   45.0  \n",
       "3                             ежедневно, 09:00–22:00     5.0      0    NaN  \n",
       "4                             ежедневно, 10:00–22:00     5.0      1  148.0  "
      ]
     },
     "execution_count": 3,
     "metadata": {},
     "output_type": "execute_result"
    }
   ],
   "source": [
    "# Выводим первые строки датафрейма на экран\n",
    "rest_info.head()"
   ]
  },
  {
   "cell_type": "code",
   "execution_count": 4,
   "id": "e1852707",
   "metadata": {},
   "outputs": [
    {
     "name": "stdout",
     "output_type": "stream",
     "text": [
      "<class 'pandas.core.frame.DataFrame'>\n",
      "RangeIndex: 8406 entries, 0 to 8405\n",
      "Data columns (total 9 columns):\n",
      " #   Column    Non-Null Count  Dtype  \n",
      "---  ------    --------------  -----  \n",
      " 0   id        8406 non-null   object \n",
      " 1   name      8406 non-null   object \n",
      " 2   category  8406 non-null   object \n",
      " 3   address   8406 non-null   object \n",
      " 4   district  8406 non-null   object \n",
      " 5   hours     7870 non-null   object \n",
      " 6   rating    8406 non-null   float64\n",
      " 7   chain     8406 non-null   int64  \n",
      " 8   seats     4795 non-null   float64\n",
      "dtypes: float64(2), int64(1), object(6)\n",
      "memory usage: 591.2+ KB\n"
     ]
    }
   ],
   "source": [
    "# Выводим информацию о датафрейме\n",
    "rest_info.info()"
   ]
  },
  {
   "cell_type": "markdown",
   "id": "3d03449f",
   "metadata": {
    "id": "f68a7419"
   },
   "source": [
    "Датасет `rest_info.csv` содержит 9 столбцов и 8406 строк, в которых представлена информация о заведениях общественного питания.\n",
    "\n",
    "После первичного анализа можно сделать выводы:\n",
    "\n",
    "- названия столбцов приведены к одному виду и отражают содержимое столбцов;\n",
    "- шесть столбцов представлены типом `object`. Это `id`, `name`, `category`, `address`, `district`, `hours`. Тип данных соответсвует содержимому этих столбцов;\n",
    "- два столбца представлены типом `float64`: `rating` и `seats`. Столбец `seats` содержит количество посадочных мест, рекомендуется использовать тип `Int64`;\n",
    "- столбец `chain` представлен типом `int64`. Так как он содержит признак, является ли заведение сетевым, и содержит значения 1 и 0 - рекомендуется использовать тип `int8`;\n",
    "- пропуски расположены в стлолбцах `hours` и `seats`.\n",
    "\n",
    "Теперь познакомимся с данными датасета `rest_price.csv`:"
   ]
  },
  {
   "cell_type": "code",
   "execution_count": 5,
   "id": "dd415c80",
   "metadata": {
    "id": "dd415c80"
   },
   "outputs": [
    {
     "data": {
      "text/html": [
       "<div>\n",
       "<style scoped>\n",
       "    .dataframe tbody tr th:only-of-type {\n",
       "        vertical-align: middle;\n",
       "    }\n",
       "\n",
       "    .dataframe tbody tr th {\n",
       "        vertical-align: top;\n",
       "    }\n",
       "\n",
       "    .dataframe thead th {\n",
       "        text-align: right;\n",
       "    }\n",
       "</style>\n",
       "<table border=\"1\" class=\"dataframe\">\n",
       "  <thead>\n",
       "    <tr style=\"text-align: right;\">\n",
       "      <th></th>\n",
       "      <th>id</th>\n",
       "      <th>price</th>\n",
       "      <th>avg_bill</th>\n",
       "      <th>middle_avg_bill</th>\n",
       "      <th>middle_coffee_cup</th>\n",
       "    </tr>\n",
       "  </thead>\n",
       "  <tbody>\n",
       "    <tr>\n",
       "      <th>0</th>\n",
       "      <td>045780ada3474c57a2112e505d74b633</td>\n",
       "      <td>выше среднего</td>\n",
       "      <td>Средний счёт:1500–1600 ₽</td>\n",
       "      <td>1550.0</td>\n",
       "      <td>NaN</td>\n",
       "    </tr>\n",
       "    <tr>\n",
       "      <th>1</th>\n",
       "      <td>1070b6b59144425896c65889347fcff6</td>\n",
       "      <td>средние</td>\n",
       "      <td>Средний счёт:от 1000 ₽</td>\n",
       "      <td>1000.0</td>\n",
       "      <td>NaN</td>\n",
       "    </tr>\n",
       "    <tr>\n",
       "      <th>2</th>\n",
       "      <td>03ac7cd772104f65b58b349dc59f03ee</td>\n",
       "      <td>NaN</td>\n",
       "      <td>Цена чашки капучино:155–185 ₽</td>\n",
       "      <td>NaN</td>\n",
       "      <td>170.0</td>\n",
       "    </tr>\n",
       "    <tr>\n",
       "      <th>3</th>\n",
       "      <td>a163aada139c4c7f87b0b1c0b466a50f</td>\n",
       "      <td>средние</td>\n",
       "      <td>Средний счёт:400–600 ₽</td>\n",
       "      <td>500.0</td>\n",
       "      <td>NaN</td>\n",
       "    </tr>\n",
       "    <tr>\n",
       "      <th>4</th>\n",
       "      <td>8a343546b24e4a499ad96eb7d0797a8a</td>\n",
       "      <td>средние</td>\n",
       "      <td>NaN</td>\n",
       "      <td>NaN</td>\n",
       "      <td>NaN</td>\n",
       "    </tr>\n",
       "  </tbody>\n",
       "</table>\n",
       "</div>"
      ],
      "text/plain": [
       "                                 id          price  \\\n",
       "0  045780ada3474c57a2112e505d74b633  выше среднего   \n",
       "1  1070b6b59144425896c65889347fcff6        средние   \n",
       "2  03ac7cd772104f65b58b349dc59f03ee            NaN   \n",
       "3  a163aada139c4c7f87b0b1c0b466a50f        средние   \n",
       "4  8a343546b24e4a499ad96eb7d0797a8a        средние   \n",
       "\n",
       "                        avg_bill  middle_avg_bill  middle_coffee_cup  \n",
       "0       Средний счёт:1500–1600 ₽           1550.0                NaN  \n",
       "1         Средний счёт:от 1000 ₽           1000.0                NaN  \n",
       "2  Цена чашки капучино:155–185 ₽              NaN              170.0  \n",
       "3         Средний счёт:400–600 ₽            500.0                NaN  \n",
       "4                            NaN              NaN                NaN  "
      ]
     },
     "execution_count": 5,
     "metadata": {},
     "output_type": "execute_result"
    }
   ],
   "source": [
    "#выводим первые строки датафрейма на экран\n",
    "rest_price.head()"
   ]
  },
  {
   "cell_type": "code",
   "execution_count": 6,
   "id": "3158ad37",
   "metadata": {
    "id": "3158ad37"
   },
   "outputs": [
    {
     "name": "stdout",
     "output_type": "stream",
     "text": [
      "<class 'pandas.core.frame.DataFrame'>\n",
      "RangeIndex: 4058 entries, 0 to 4057\n",
      "Data columns (total 5 columns):\n",
      " #   Column             Non-Null Count  Dtype  \n",
      "---  ------             --------------  -----  \n",
      " 0   id                 4058 non-null   object \n",
      " 1   price              3315 non-null   object \n",
      " 2   avg_bill           3816 non-null   object \n",
      " 3   middle_avg_bill    3149 non-null   float64\n",
      " 4   middle_coffee_cup  535 non-null    float64\n",
      "dtypes: float64(2), object(3)\n",
      "memory usage: 158.6+ KB\n"
     ]
    }
   ],
   "source": [
    "#выводим информацию о датафрейме\n",
    "rest_price.info()"
   ]
  },
  {
   "cell_type": "markdown",
   "id": "cd200a6b",
   "metadata": {},
   "source": [
    "Датасет `rest_price.csv` содержит 5 столбцов и 4058 строк, в которых представлена информация о среднем чеке в заведениях общественного питания. По аналогии можно отметить, что:\n",
    "\n",
    "- названия столбцов приведены к одному виду и отражают сождержимое столбцов;\n",
    "- три столбца представлены типом `object`: `id`, `price`, `avg_bill`. Тип данных соответсвует содержимому столбцов;\n",
    "- два столбца представлены типов `float64`: `middle_avg_bill` и `middle_coffee_cup`. Тип данных соответсвует содержимому столбцов;\n",
    "- пропуски расположены в столбцах `price`, `avg_bill`, `middle_avg_bill` и `middle_coffee_cup`."
   ]
  },
  {
   "cell_type": "markdown",
   "id": "2c614a62",
   "metadata": {
    "id": "2c614a62"
   },
   "source": [
    "---\n",
    "\n",
    "### Промежуточный вывод\n",
    "\n"
   ]
  },
  {
   "cell_type": "markdown",
   "id": "3ca3b796",
   "metadata": {
    "id": "3593b7d5"
   },
   "source": [
    "Первичное знакомство с данными показывает, что датасет `rest_info` содержит 9 столбцов и 8406 строк, а датасет `rest_price` - 5 столбцов и 4058 строк. Все столбцы и их содержимое сооответствут представленному описанию, но датасеты имеют разную размерность. Датасет `rest_info` содержит пропуски в 2 столбцах, датасет `rest_price` содержит пропуски в 4 столбцах. В обоих датасетах используется корректный тип данных, но в некоторых столбцах их можно оптимизировать.\n",
    "Столбец `middle_coffee_cup` содержит большое количество пропусков, вероятно, заполнен только для кофеен. Столбец `seats` содержит большое количество пропусков, можно предположить, что данные не собирались для заведений без посадочных мест (фудкорты, доставка)"
   ]
  },
  {
   "cell_type": "markdown",
   "id": "8a8d1491",
   "metadata": {
    "id": "8a8d1491"
   },
   "source": [
    "### Подготовка единого датафрейма\n",
    "\n",
    "Соединим данные, используя значение параметра `how` - `left`:"
   ]
  },
  {
   "cell_type": "code",
   "execution_count": 7,
   "id": "3408e303",
   "metadata": {
    "id": "3408e303"
   },
   "outputs": [],
   "source": [
    "#соединяем данные в единый датафрейм\n",
    "df = rest_info.merge(rest_price, on = 'id', how = 'left')"
   ]
  },
  {
   "cell_type": "code",
   "execution_count": 8,
   "id": "5695950b",
   "metadata": {
    "id": "5695950b"
   },
   "outputs": [
    {
     "name": "stdout",
     "output_type": "stream",
     "text": [
      "<class 'pandas.core.frame.DataFrame'>\n",
      "Int64Index: 8406 entries, 0 to 8405\n",
      "Data columns (total 13 columns):\n",
      " #   Column             Non-Null Count  Dtype  \n",
      "---  ------             --------------  -----  \n",
      " 0   id                 8406 non-null   object \n",
      " 1   name               8406 non-null   object \n",
      " 2   category           8406 non-null   object \n",
      " 3   address            8406 non-null   object \n",
      " 4   district           8406 non-null   object \n",
      " 5   hours              7870 non-null   object \n",
      " 6   rating             8406 non-null   float64\n",
      " 7   chain              8406 non-null   int64  \n",
      " 8   seats              4795 non-null   float64\n",
      " 9   price              3315 non-null   object \n",
      " 10  avg_bill           3816 non-null   object \n",
      " 11  middle_avg_bill    3149 non-null   float64\n",
      " 12  middle_coffee_cup  535 non-null    float64\n",
      "dtypes: float64(4), int64(1), object(8)\n",
      "memory usage: 919.4+ KB\n"
     ]
    }
   ],
   "source": [
    "#выводим информацию об объединённом датафрейме\n",
    "df.info()"
   ]
  },
  {
   "cell_type": "markdown",
   "id": "c1180d0d",
   "metadata": {
    "id": "6577c71c"
   },
   "source": [
    "Данные соединены, информация о всех заведениях общественного питания сохранена."
   ]
  },
  {
   "cell_type": "markdown",
   "id": "956e82e2",
   "metadata": {
    "id": "956e82e2"
   },
   "source": [
    "## 2. Предобработка данных\n",
    "<a id='chapter2'></a>\n",
    "\n",
    "В датасете встречаются типы данных, которые следует оптимизировать. Проведём преобразование необходимым столбцам:"
   ]
  },
  {
   "cell_type": "code",
   "execution_count": 9,
   "id": "67956690",
   "metadata": {
    "id": "67956690"
   },
   "outputs": [],
   "source": [
    "#Приведём столбец `seats` к типу int16, а `chain` - int8\n",
    "df = df.astype({\n",
    "    'seats': 'Int64',\n",
    "    'chain': 'int8'\n",
    "})"
   ]
  },
  {
   "cell_type": "code",
   "execution_count": 10,
   "id": "b5f2a94d",
   "metadata": {
    "id": "b5f2a94d"
   },
   "outputs": [
    {
     "data": {
      "text/plain": [
       "id                    object\n",
       "name                  object\n",
       "category              object\n",
       "address               object\n",
       "district              object\n",
       "hours                 object\n",
       "rating               float64\n",
       "chain                   int8\n",
       "seats                  Int64\n",
       "price                 object\n",
       "avg_bill              object\n",
       "middle_avg_bill      float64\n",
       "middle_coffee_cup    float64\n",
       "dtype: object"
      ]
     },
     "execution_count": 10,
     "metadata": {},
     "output_type": "execute_result"
    }
   ],
   "source": [
    "#Проверим типы данных в датафрейме с помощью атрибута dtypes\n",
    "df.dtypes"
   ]
  },
  {
   "cell_type": "markdown",
   "id": "4b1bff4d",
   "metadata": {},
   "source": [
    "Типы данных были успешно оптимизированы и преобразованы."
   ]
  },
  {
   "cell_type": "markdown",
   "id": "85810adf",
   "metadata": {
    "id": "3d8840ca"
   },
   "source": [
    "При первичном анализе мы обнаружили пропуски в столбцах датафрейма. Узнаем абсолютное и относительное количество пропусков в столбцах датасета:"
   ]
  },
  {
   "cell_type": "code",
   "execution_count": 2,
   "id": "492dbbc1",
   "metadata": {},
   "outputs": [
    {
     "ename": "NameError",
     "evalue": "name 'df' is not defined",
     "output_type": "error",
     "traceback": [
      "\u001b[1;31m---------------------------------------------------------------------------\u001b[0m",
      "\u001b[1;31mNameError\u001b[0m                                 Traceback (most recent call last)",
      "Cell \u001b[1;32mIn[2], line 2\u001b[0m\n\u001b[0;32m      1\u001b[0m \u001b[38;5;66;03m# Делаем копию текущего датасета\u001b[39;00m\n\u001b[1;32m----> 2\u001b[0m tmp \u001b[38;5;241m=\u001b[39m df\u001b[38;5;241m.\u001b[39mcopy()          \n\u001b[0;32m      3\u001b[0m missing \u001b[38;5;241m=\u001b[39m (pd\u001b[38;5;241m.\u001b[39mDataFrame({\u001b[38;5;124m'\u001b[39m\u001b[38;5;124mКол-во пропусков\u001b[39m\u001b[38;5;124m'\u001b[39m: tmp\u001b[38;5;241m.\u001b[39misnull()\u001b[38;5;241m.\u001b[39msum(), \u001b[38;5;124m'\u001b[39m\u001b[38;5;124mДоля пропусков\u001b[39m\u001b[38;5;124m'\u001b[39m: tmp\u001b[38;5;241m.\u001b[39misnull()\u001b[38;5;241m.\u001b[39mmean()\u001b[38;5;241m.\u001b[39mround(\u001b[38;5;241m4\u001b[39m)})\n\u001b[0;32m      4\u001b[0m            \u001b[38;5;241m.\u001b[39mstyle\u001b[38;5;241m.\u001b[39mbackground_gradient(cmap\u001b[38;5;241m=\u001b[39m\u001b[38;5;124m'\u001b[39m\u001b[38;5;124mcoolwarm\u001b[39m\u001b[38;5;124m'\u001b[39m))\n\u001b[0;32m      5\u001b[0m missing\n",
      "\u001b[1;31mNameError\u001b[0m: name 'df' is not defined"
     ]
    }
   ],
   "source": [
    "# Делаем копию текущего датасета\n",
    "tmp = df.copy()          \n",
    "missing = (pd.DataFrame({'Кол-во пропусков': tmp.isnull().sum(), 'Доля пропусков': tmp.isnull().mean().round(4)})\n",
    "           .style.background_gradient(cmap='coolwarm'))\n",
    "missing"
   ]
  },
  {
   "cell_type": "markdown",
   "id": "914b7b98",
   "metadata": {},
   "source": [
    "Датафрейм `df` содержит 26956 пропущенных значений, среди них:\n",
    "\n",
    "- 536 пропусков в столбце `hours`;\n",
    "- 3611 пропусков в столбце `seats`;\n",
    "- 5091 пропуск в столбце `price`;\n",
    "- 4590 пропусков в столбце `avg_bill`;\n",
    "- 5257 пропусков в столбце `middle_avg_bill`;\n",
    "- 7871 пропуск в столбце `middle_coffee_cup`.\n",
    "\n",
    "Причинами возникновения пропусков в столбцах могут быть ошибки при сборе данных, отсутствие или потеря информации. Например, пропуски в столбце `seats` могут быть из-за того, что в заведении отсутсвуют места или их количество неизвестно (фудкорт, доставка), пропуски в столбце `middle_coffee_cup` могут свидетельствовать о том, что информация была собрана в одной из категорий заведений. Проведём обработку пропущенных заведений:"
   ]
  },
  {
   "cell_type": "markdown",
   "id": "116c8b2f",
   "metadata": {},
   "source": [
    "<font color='DarkBlue'><b>Комментарий ревьюера</b></font><br>\n",
    "<font color='DarkGreen'>👌 Хорошо, проанализирваны пропуски, сделаны предположения о причинах.</font>"
   ]
  },
  {
   "cell_type": "markdown",
   "id": "0a1710d8",
   "metadata": {},
   "source": [
    "Пропуски в столбце `hours` заполним значением-индикатором 'Нет информации':"
   ]
  },
  {
   "cell_type": "code",
   "execution_count": 15,
   "id": "dc3c7e61",
   "metadata": {},
   "outputs": [
    {
     "data": {
      "text/plain": [
       "1307"
      ]
     },
     "execution_count": 15,
     "metadata": {},
     "output_type": "execute_result"
    }
   ],
   "source": [
    "#проверяем количество уникальных значений\n",
    "df['hours'].nunique()"
   ]
  },
  {
   "cell_type": "code",
   "execution_count": 16,
   "id": "2cb4aee3",
   "metadata": {},
   "outputs": [
    {
     "data": {
      "text/plain": [
       "1308"
      ]
     },
     "execution_count": 16,
     "metadata": {},
     "output_type": "execute_result"
    }
   ],
   "source": [
    "#заменяем пропуски на индикатор 'нет информации'\n",
    "df['hours'] = df['hours'].fillna('Информация отсутсвует')\n",
    "#проверяем новое количество уникальных значений\n",
    "df['hours'].nunique()"
   ]
  },
  {
   "cell_type": "markdown",
   "id": "d18fbbe5",
   "metadata": {},
   "source": [
    "Узнаем категории заведений, где есть содержимое в столбце `middle_coffee_cup`:"
   ]
  },
  {
   "cell_type": "code",
   "execution_count": 18,
   "id": "fb52feaf",
   "metadata": {},
   "outputs": [
    {
     "data": {
      "text/plain": [
       "кофейня            521\n",
       "бар,паб              6\n",
       "кафе                 4\n",
       "пиццерия             3\n",
       "быстрое питание      1\n",
       "Name: category, dtype: int64"
      ]
     },
     "execution_count": 18,
     "metadata": {},
     "output_type": "execute_result"
    }
   ],
   "source": [
    "coffee_shops = df[df['middle_coffee_cup'].notna()]\n",
    "# Анализ категорий этих заведений\n",
    "coffee_categories = coffee_shops['category'].value_counts()\n",
    "coffee_categories.head()"
   ]
  },
  {
   "cell_type": "markdown",
   "id": "99c33004",
   "metadata": {},
   "source": [
    "Предположение подтвержается - столбец заполнен в основном в кофейнях.\n",
    "Проверим типы данных и количество элементов после обработки пропусков:   "
   ]
  },
  {
   "cell_type": "code",
   "execution_count": 19,
   "id": "a71e5a59",
   "metadata": {},
   "outputs": [
    {
     "name": "stdout",
     "output_type": "stream",
     "text": [
      "<class 'pandas.core.frame.DataFrame'>\n",
      "Int64Index: 8406 entries, 0 to 8405\n",
      "Data columns (total 13 columns):\n",
      " #   Column             Non-Null Count  Dtype  \n",
      "---  ------             --------------  -----  \n",
      " 0   id                 8406 non-null   object \n",
      " 1   name               8406 non-null   object \n",
      " 2   category           8406 non-null   object \n",
      " 3   address            8406 non-null   object \n",
      " 4   district           8406 non-null   object \n",
      " 5   hours              8406 non-null   object \n",
      " 6   rating             8406 non-null   float64\n",
      " 7   chain              8406 non-null   int8   \n",
      " 8   seats              4795 non-null   Int64  \n",
      " 9   price              3315 non-null   object \n",
      " 10  avg_bill           3816 non-null   object \n",
      " 11  middle_avg_bill    3149 non-null   float64\n",
      " 12  middle_coffee_cup  535 non-null    float64\n",
      "dtypes: Int64(1), float64(3), int8(1), object(8)\n",
      "memory usage: 870.2+ KB\n"
     ]
    }
   ],
   "source": [
    "df.info()"
   ]
  },
  {
   "cell_type": "markdown",
   "id": "a5ece103",
   "metadata": {
    "id": "95b15cd0"
   },
   "source": [
    "Проверим данные на наличие явных и неявных дубликатов. Начнём с полных дубликатов:"
   ]
  },
  {
   "cell_type": "code",
   "execution_count": 20,
   "id": "b52bae9a",
   "metadata": {
    "id": "b52bae9a"
   },
   "outputs": [
    {
     "data": {
      "text/plain": [
       "0"
      ]
     },
     "execution_count": 20,
     "metadata": {},
     "output_type": "execute_result"
    }
   ],
   "source": [
    "#проверяем полные дубликаты в датафрейме\n",
    "df.duplicated().sum()"
   ]
  },
  {
   "cell_type": "markdown",
   "id": "0f1c1600",
   "metadata": {},
   "source": [
    "В датафрейме нет полных дубликатов строк. Проверим неявные дубликаты - значения по полям  `name` и `address` должны быть уникальными:"
   ]
  },
  {
   "cell_type": "code",
   "execution_count": 21,
   "id": "ffc52dd3",
   "metadata": {},
   "outputs": [],
   "source": [
    "#производим нормализацию данных в столбцах 'name' и 'address'\n",
    "df['name'] = df['name'].str.upper().str.strip()\n",
    "df['address'] = df['address'].str.upper().str.strip()"
   ]
  },
  {
   "cell_type": "code",
   "execution_count": 22,
   "id": "8d911d6c",
   "metadata": {},
   "outputs": [
    {
     "name": "stdout",
     "output_type": "stream",
     "text": [
      "В датафрейме содержится 2894 одинаковых наименований и 2654 одинаковых адресов\n"
     ]
    }
   ],
   "source": [
    "#найдём дубликаты в столбцах 'name' и 'address'\n",
    "dup_name = df['name'].duplicated().sum()\n",
    "dup_address = df['address'].duplicated().sum()\n",
    "print(f'В датафрейме содержится {dup_name} одинаковых наименований и {dup_address} одинаковых адресов')"
   ]
  },
  {
   "cell_type": "code",
   "execution_count": 23,
   "id": "e5be17dc",
   "metadata": {},
   "outputs": [
    {
     "data": {
      "text/html": [
       "<div>\n",
       "<style scoped>\n",
       "    .dataframe tbody tr th:only-of-type {\n",
       "        vertical-align: middle;\n",
       "    }\n",
       "\n",
       "    .dataframe tbody tr th {\n",
       "        vertical-align: top;\n",
       "    }\n",
       "\n",
       "    .dataframe thead th {\n",
       "        text-align: right;\n",
       "    }\n",
       "</style>\n",
       "<table border=\"1\" class=\"dataframe\">\n",
       "  <thead>\n",
       "    <tr style=\"text-align: right;\">\n",
       "      <th></th>\n",
       "      <th>id</th>\n",
       "      <th>name</th>\n",
       "      <th>category</th>\n",
       "      <th>address</th>\n",
       "      <th>district</th>\n",
       "      <th>hours</th>\n",
       "      <th>rating</th>\n",
       "      <th>chain</th>\n",
       "      <th>seats</th>\n",
       "      <th>price</th>\n",
       "      <th>avg_bill</th>\n",
       "      <th>middle_avg_bill</th>\n",
       "      <th>middle_coffee_cup</th>\n",
       "    </tr>\n",
       "  </thead>\n",
       "  <tbody>\n",
       "    <tr>\n",
       "      <th>189</th>\n",
       "      <td>072032ce16dc47bfbc63b672c75bd371</td>\n",
       "      <td>КАФЕ</td>\n",
       "      <td>кафе</td>\n",
       "      <td>МОСКВА, ПАРК АНГАРСКИЕ ПРУДЫ</td>\n",
       "      <td>Северный административный округ</td>\n",
       "      <td>ежедневно, 09:00–23:00</td>\n",
       "      <td>3.2</td>\n",
       "      <td>0</td>\n",
       "      <td>&lt;NA&gt;</td>\n",
       "      <td>NaN</td>\n",
       "      <td>NaN</td>\n",
       "      <td>NaN</td>\n",
       "      <td>NaN</td>\n",
       "    </tr>\n",
       "    <tr>\n",
       "      <th>215</th>\n",
       "      <td>897ddbc6746c4388b19dc8a9fcdbb488</td>\n",
       "      <td>КАФЕ</td>\n",
       "      <td>кафе</td>\n",
       "      <td>МОСКВА, ПАРК АНГАРСКИЕ ПРУДЫ</td>\n",
       "      <td>Северный административный округ</td>\n",
       "      <td>ежедневно, 10:00–22:00</td>\n",
       "      <td>3.2</td>\n",
       "      <td>0</td>\n",
       "      <td>&lt;NA&gt;</td>\n",
       "      <td>NaN</td>\n",
       "      <td>NaN</td>\n",
       "      <td>NaN</td>\n",
       "      <td>NaN</td>\n",
       "    </tr>\n",
       "    <tr>\n",
       "      <th>1430</th>\n",
       "      <td>62608690e9cc464fbcd980cfd552e334</td>\n",
       "      <td>MORE POKE</td>\n",
       "      <td>ресторан</td>\n",
       "      <td>МОСКВА, ВОЛОКОЛАМСКОЕ ШОССЕ, 11, СТР. 2</td>\n",
       "      <td>Северный административный округ</td>\n",
       "      <td>ежедневно, 09:00–21:00</td>\n",
       "      <td>4.2</td>\n",
       "      <td>0</td>\n",
       "      <td>188</td>\n",
       "      <td>NaN</td>\n",
       "      <td>NaN</td>\n",
       "      <td>NaN</td>\n",
       "      <td>NaN</td>\n",
       "    </tr>\n",
       "    <tr>\n",
       "      <th>1511</th>\n",
       "      <td>a69f018d5c064873a3b491b0121bc1b4</td>\n",
       "      <td>MORE POKE</td>\n",
       "      <td>ресторан</td>\n",
       "      <td>МОСКВА, ВОЛОКОЛАМСКОЕ ШОССЕ, 11, СТР. 2</td>\n",
       "      <td>Северный административный округ</td>\n",
       "      <td>пн-чт 09:00–18:00; пт,сб 09:00–21:00; вс 09:00...</td>\n",
       "      <td>4.2</td>\n",
       "      <td>1</td>\n",
       "      <td>188</td>\n",
       "      <td>NaN</td>\n",
       "      <td>NaN</td>\n",
       "      <td>NaN</td>\n",
       "      <td>NaN</td>\n",
       "    </tr>\n",
       "    <tr>\n",
       "      <th>2211</th>\n",
       "      <td>c6ef39ae8a8c483d8f9a6531bc386a2c</td>\n",
       "      <td>РАКОВАРНЯ КЛЕШНИ И ХВОСТЫ</td>\n",
       "      <td>ресторан</td>\n",
       "      <td>МОСКВА, ПРОСПЕКТ МИРА, 118</td>\n",
       "      <td>Северо-Восточный административный округ</td>\n",
       "      <td>ежедневно, 12:00–00:00</td>\n",
       "      <td>4.4</td>\n",
       "      <td>0</td>\n",
       "      <td>150</td>\n",
       "      <td>NaN</td>\n",
       "      <td>NaN</td>\n",
       "      <td>NaN</td>\n",
       "      <td>NaN</td>\n",
       "    </tr>\n",
       "    <tr>\n",
       "      <th>2420</th>\n",
       "      <td>aba1de7ad7d64ac0a3f8684bda29d905</td>\n",
       "      <td>РАКОВАРНЯ КЛЕШНИ И ХВОСТЫ</td>\n",
       "      <td>бар,паб</td>\n",
       "      <td>МОСКВА, ПРОСПЕКТ МИРА, 118</td>\n",
       "      <td>Северо-Восточный административный округ</td>\n",
       "      <td>пн-чт 12:00–00:00; пт,сб 12:00–01:00; вс 12:00...</td>\n",
       "      <td>4.4</td>\n",
       "      <td>1</td>\n",
       "      <td>150</td>\n",
       "      <td>NaN</td>\n",
       "      <td>NaN</td>\n",
       "      <td>NaN</td>\n",
       "      <td>NaN</td>\n",
       "    </tr>\n",
       "    <tr>\n",
       "      <th>3091</th>\n",
       "      <td>3c2a73ea79a04be48858fab3685f2f37</td>\n",
       "      <td>ХЛЕБ ДА ВЫПЕЧКА</td>\n",
       "      <td>булочная</td>\n",
       "      <td>МОСКВА, ЯРЦЕВСКАЯ УЛИЦА, 19</td>\n",
       "      <td>Западный административный округ</td>\n",
       "      <td>ежедневно, 09:00–22:00</td>\n",
       "      <td>4.1</td>\n",
       "      <td>1</td>\n",
       "      <td>276</td>\n",
       "      <td>NaN</td>\n",
       "      <td>NaN</td>\n",
       "      <td>NaN</td>\n",
       "      <td>NaN</td>\n",
       "    </tr>\n",
       "    <tr>\n",
       "      <th>3109</th>\n",
       "      <td>d3116844e4e048f99614eb30be3214e0</td>\n",
       "      <td>ХЛЕБ ДА ВЫПЕЧКА</td>\n",
       "      <td>кафе</td>\n",
       "      <td>МОСКВА, ЯРЦЕВСКАЯ УЛИЦА, 19</td>\n",
       "      <td>Западный административный округ</td>\n",
       "      <td>Информация отсутсвует</td>\n",
       "      <td>4.1</td>\n",
       "      <td>0</td>\n",
       "      <td>276</td>\n",
       "      <td>NaN</td>\n",
       "      <td>NaN</td>\n",
       "      <td>NaN</td>\n",
       "      <td>NaN</td>\n",
       "    </tr>\n",
       "  </tbody>\n",
       "</table>\n",
       "</div>"
      ],
      "text/plain": [
       "                                    id                       name  category  \\\n",
       "189   072032ce16dc47bfbc63b672c75bd371                       КАФЕ      кафе   \n",
       "215   897ddbc6746c4388b19dc8a9fcdbb488                       КАФЕ      кафе   \n",
       "1430  62608690e9cc464fbcd980cfd552e334                  MORE POKE  ресторан   \n",
       "1511  a69f018d5c064873a3b491b0121bc1b4                  MORE POKE  ресторан   \n",
       "2211  c6ef39ae8a8c483d8f9a6531bc386a2c  РАКОВАРНЯ КЛЕШНИ И ХВОСТЫ  ресторан   \n",
       "2420  aba1de7ad7d64ac0a3f8684bda29d905  РАКОВАРНЯ КЛЕШНИ И ХВОСТЫ   бар,паб   \n",
       "3091  3c2a73ea79a04be48858fab3685f2f37            ХЛЕБ ДА ВЫПЕЧКА  булочная   \n",
       "3109  d3116844e4e048f99614eb30be3214e0            ХЛЕБ ДА ВЫПЕЧКА      кафе   \n",
       "\n",
       "                                      address  \\\n",
       "189              МОСКВА, ПАРК АНГАРСКИЕ ПРУДЫ   \n",
       "215              МОСКВА, ПАРК АНГАРСКИЕ ПРУДЫ   \n",
       "1430  МОСКВА, ВОЛОКОЛАМСКОЕ ШОССЕ, 11, СТР. 2   \n",
       "1511  МОСКВА, ВОЛОКОЛАМСКОЕ ШОССЕ, 11, СТР. 2   \n",
       "2211               МОСКВА, ПРОСПЕКТ МИРА, 118   \n",
       "2420               МОСКВА, ПРОСПЕКТ МИРА, 118   \n",
       "3091              МОСКВА, ЯРЦЕВСКАЯ УЛИЦА, 19   \n",
       "3109              МОСКВА, ЯРЦЕВСКАЯ УЛИЦА, 19   \n",
       "\n",
       "                                     district  \\\n",
       "189           Северный административный округ   \n",
       "215           Северный административный округ   \n",
       "1430          Северный административный округ   \n",
       "1511          Северный административный округ   \n",
       "2211  Северо-Восточный административный округ   \n",
       "2420  Северо-Восточный административный округ   \n",
       "3091          Западный административный округ   \n",
       "3109          Западный административный округ   \n",
       "\n",
       "                                                  hours  rating  chain  seats  \\\n",
       "189                              ежедневно, 09:00–23:00     3.2      0   <NA>   \n",
       "215                              ежедневно, 10:00–22:00     3.2      0   <NA>   \n",
       "1430                             ежедневно, 09:00–21:00     4.2      0    188   \n",
       "1511  пн-чт 09:00–18:00; пт,сб 09:00–21:00; вс 09:00...     4.2      1    188   \n",
       "2211                             ежедневно, 12:00–00:00     4.4      0    150   \n",
       "2420  пн-чт 12:00–00:00; пт,сб 12:00–01:00; вс 12:00...     4.4      1    150   \n",
       "3091                             ежедневно, 09:00–22:00     4.1      1    276   \n",
       "3109                              Информация отсутсвует     4.1      0    276   \n",
       "\n",
       "     price avg_bill  middle_avg_bill  middle_coffee_cup  \n",
       "189    NaN      NaN              NaN                NaN  \n",
       "215    NaN      NaN              NaN                NaN  \n",
       "1430   NaN      NaN              NaN                NaN  \n",
       "1511   NaN      NaN              NaN                NaN  \n",
       "2211   NaN      NaN              NaN                NaN  \n",
       "2420   NaN      NaN              NaN                NaN  \n",
       "3091   NaN      NaN              NaN                NaN  \n",
       "3109   NaN      NaN              NaN                NaN  "
      ]
     },
     "execution_count": 23,
     "metadata": {},
     "output_type": "execute_result"
    }
   ],
   "source": [
    "#Проверим дубликаты в паре Наименование - Адрес:\n",
    "df.loc[df.duplicated(subset = ['name','address'], keep = False)]\n"
   ]
  },
  {
   "cell_type": "code",
   "execution_count": 24,
   "id": "48298cc2",
   "metadata": {},
   "outputs": [],
   "source": [
    "#Удалим дубликаты:\n",
    "df = df.drop_duplicates(subset=['name', 'address'], keep='first')"
   ]
  },
  {
   "cell_type": "code",
   "execution_count": 25,
   "id": "abddca33",
   "metadata": {},
   "outputs": [
    {
     "name": "stdout",
     "output_type": "stream",
     "text": [
      "<class 'pandas.core.frame.DataFrame'>\n",
      "Int64Index: 8402 entries, 0 to 8405\n",
      "Data columns (total 13 columns):\n",
      " #   Column             Non-Null Count  Dtype  \n",
      "---  ------             --------------  -----  \n",
      " 0   id                 8402 non-null   object \n",
      " 1   name               8402 non-null   object \n",
      " 2   category           8402 non-null   object \n",
      " 3   address            8402 non-null   object \n",
      " 4   district           8402 non-null   object \n",
      " 5   hours              8402 non-null   object \n",
      " 6   rating             8402 non-null   float64\n",
      " 7   chain              8402 non-null   int8   \n",
      " 8   seats              4792 non-null   Int64  \n",
      " 9   price              3315 non-null   object \n",
      " 10  avg_bill           3816 non-null   object \n",
      " 11  middle_avg_bill    3149 non-null   float64\n",
      " 12  middle_coffee_cup  535 non-null    float64\n",
      "dtypes: Int64(1), float64(3), int8(1), object(8)\n",
      "memory usage: 869.7+ KB\n"
     ]
    }
   ],
   "source": [
    "#проверим датафрейм\n",
    "df.info()"
   ]
  },
  {
   "cell_type": "markdown",
   "id": "e6ae9576",
   "metadata": {},
   "source": [
    "Было найдено 4 неявных дубликата. Для их удаления был использован метод `drop_duplicated`. После удаления дубликатов в датасете осталось 8402 строки."
   ]
  },
  {
   "cell_type": "markdown",
   "id": "0b4bba64",
   "metadata": {
    "id": "d8a8a963"
   },
   "source": [
    "Для дальнейшей работы создадим столбец `is_24_7` с обозначением того, что заведение работает ежедневно и круглосуточно, то есть 24/7:"
   ]
  },
  {
   "cell_type": "code",
   "execution_count": 26,
   "id": "42d1e685",
   "metadata": {
    "id": "42d1e685"
   },
   "outputs": [
    {
     "data": {
      "text/plain": [
       "730"
      ]
     },
     "execution_count": 26,
     "metadata": {},
     "output_type": "execute_result"
    }
   ],
   "source": [
    "#создаём столбец `is_24_7`\n",
    "df['is_24_7'] = df['hours'] == 'ежедневно, круглосуточно'\n",
    "#проверяем содержимое\n",
    "df['is_24_7'].sum()"
   ]
  },
  {
   "cell_type": "code",
   "execution_count": 27,
   "id": "516a104c",
   "metadata": {},
   "outputs": [
    {
     "data": {
      "text/plain": [
       "dtype('bool')"
      ]
     },
     "execution_count": 27,
     "metadata": {},
     "output_type": "execute_result"
    }
   ],
   "source": [
    "#проверка типа данных нового столбца\n",
    "df['is_24_7'].dtype"
   ]
  },
  {
   "cell_type": "code",
   "execution_count": 28,
   "id": "6d56fe63",
   "metadata": {},
   "outputs": [
    {
     "data": {
      "text/plain": [
       "False    7672\n",
       "True      730\n",
       "Name: is_24_7, dtype: int64"
      ]
     },
     "execution_count": 28,
     "metadata": {},
     "output_type": "execute_result"
    }
   ],
   "source": [
    "# Комментарий ревьюера\n",
    "df['is_24_7'].value_counts()"
   ]
  },
  {
   "cell_type": "markdown",
   "id": "3f499b71",
   "metadata": {
    "id": "61304e83"
   },
   "source": [
    "Анализ показал, что 730 заведений работают ежедневно, круглосуточно."
   ]
  },
  {
   "cell_type": "code",
   "execution_count": 29,
   "id": "08e41576",
   "metadata": {},
   "outputs": [
    {
     "name": "stdout",
     "output_type": "stream",
     "text": [
      " Было строк в исходном датасете 8406 \n",
      " Осталось строк в датасете после обработки 8402 \n",
      " Удалено строк в датасете после обработки 4 \n",
      " Процент потерь 0.05\n"
     ]
    }
   ],
   "source": [
    "# Комментарий ревьюера\n",
    "# Проверим сколько удалено строк датасета\n",
    "a, b = len(temp), len(df)\n",
    "print(\" Было строк в исходном датасете\", a,\n",
    "      '\\n', \"Осталось строк в датасете после обработки\", b,\n",
    "      '\\n', \"Удалено строк в датасете после обработки\", a-b,\n",
    "      '\\n', \"Процент потерь\", round((a-b)/a*100, 2))"
   ]
  },
  {
   "cell_type": "markdown",
   "id": "562f30ab",
   "metadata": {
    "id": "562f30ab"
   },
   "source": [
    "---\n",
    "\n",
    "### Промежуточный вывод\n",
    "\n"
   ]
  },
  {
   "cell_type": "markdown",
   "id": "b00b8ae5",
   "metadata": {
    "id": "b55c46cb"
   },
   "source": [
    "Во время предобработки данных были выполнены следующие действия:\n",
    "- оптимизация типов данных: столбец `seats` был приведён к типу `Int64`, стлобец `chain` - к типу `int8`;\n",
    "- обработка пропусков: в столбце `hours` заполнены значением `нет информации` (536 строк);\n",
    "- очистка от дубликатов: удалено 4 дубликата (0,05% данных) по связке 'название + адрес'. Итоговый объём датасета составил 8402 значения;\n",
    "- добавлен новый столбец-признак `is_24_7`, благодаря чему было выявлено 730 круглосуточных заведений.\n",
    "Было замечено, что данные о средней цене чашки кофе присутсвуют только у 6,4 % заведений (преимущественно в кофейнях), 43% заведений не содержат информацию о посадочных местах.\n",
    "Данные подготовлены для исследовательского анализа.\n"
   ]
  },
  {
   "cell_type": "markdown",
   "id": "6953e84c",
   "metadata": {
    "id": "6953e84c"
   },
   "source": [
    "## 3. Исследовательский анализ данных\n",
    "<a id='chapter3'></a>\n"
   ]
  },
  {
   "cell_type": "markdown",
   "id": "8555d840",
   "metadata": {
    "id": "8555d840"
   },
   "source": [
    "---\n",
    "\n",
    "### Задача 1\n",
    "\n",
    "Какие категории заведений представлены в данных? Исследуйте количество объектов общественного питания по каждой категории. Результат сопроводите подходящей визуализацией."
   ]
  },
  {
   "cell_type": "markdown",
   "id": "30c4b46e",
   "metadata": {},
   "source": [
    "Разберём столбец `category`, который хранит категории заведений. Рассчитаем количество объектов общественного питания по каждой категории: "
   ]
  },
  {
   "cell_type": "code",
   "execution_count": 30,
   "id": "0e020e9f",
   "metadata": {},
   "outputs": [
    {
     "name": "stdout",
     "output_type": "stream",
     "text": [
      "Распределение заведений по категориям столбца \"category\":\n"
     ]
    },
    {
     "data": {
      "text/plain": [
       "кафе               2376\n",
       "ресторан           2042\n",
       "кофейня            1413\n",
       "бар,паб             764\n",
       "пиццерия            633\n",
       "быстрое питание     603\n",
       "столовая            315\n",
       "булочная            256\n",
       "Name: category, dtype: int64"
      ]
     },
     "execution_count": 30,
     "metadata": {},
     "output_type": "execute_result"
    }
   ],
   "source": [
    "#проверяем распределение заведений по категориям\n",
    "print('Распределение заведений по категориям столбца \"category\":')\n",
    "df['category'].value_counts()"
   ]
  },
  {
   "cell_type": "markdown",
   "id": "4f15e0a9",
   "metadata": {},
   "source": [
    "Результаты показывают, что всего в этом столбце 8 уникальных категорий.\n",
    "\n",
    "Для визуального анализа такого распределения можно использовать столбчатые диаграммы. Визуализируем распределение в столбце `category`:"
   ]
  },
  {
   "cell_type": "code",
   "execution_count": 31,
   "id": "ef2bffe9",
   "metadata": {
    "id": "ef2bffe9"
   },
   "outputs": [
    {
     "data": {
      "image/png": "[encoded data removed]",
      "text/plain": [
       "<Figure size 576x288 with 1 Axes>"
      ]
     },
     "metadata": {
      "needs_background": "light"
     },
     "output_type": "display_data"
    }
   ],
   "source": [
    "#создаём контейнер графика matplotlib и задаём его размер\n",
    "plt.figure(figsize =(8, 4))\n",
    "\n",
    "#строим столбчатую горизонтальную диаграмму с помощью pandas через plot\n",
    "df['category'].value_counts().sort_values(ascending = True).plot(\n",
    "               kind = 'barh',\n",
    "               legend = False, \n",
    "               title = 'Количество объектов общественного питания по каждой категории')\n",
    "\n",
    "#настраиваем оформление\n",
    "plt.xlabel('Количество заведений')\n",
    "plt.ylabel('Категории заведений')\n",
    "plt.grid(axis = 'x')\n"
   ]
  },
  {
   "cell_type": "markdown",
   "id": "13bd01a4",
   "metadata": {
    "id": "71ab5e91"
   },
   "source": [
    "Визуализация полностью отражает распределение категорий согласно расчетам сверху. Из распределения видно, что кафе (2376) и ресторан (2042) - самые популярные категории, а столовая (315) и булочная (256) - самые непопулярные."
   ]
  },
  {
   "cell_type": "markdown",
   "id": "6821e1d0",
   "metadata": {
    "id": "6821e1d0"
   },
   "source": [
    "---\n",
    "\n",
    "### Задача 2\n",
    "\n",
    "Какие административные районы Москвы присутствуют в данных? Исследуйте распределение количества заведений по административным районам Москвы, а также отдельно распределение заведений каждой категории в Центральном административном округе Москвы. Результат сопроводите подходящими визуализациями."
   ]
  },
  {
   "cell_type": "markdown",
   "id": "a5337580",
   "metadata": {
    "id": "e62f31be"
   },
   "source": [
    "Узнаем, какие уникальные административные округа есть в Москве и получим количество заведений в каждом методом `value_counts()`:"
   ]
  },
  {
   "cell_type": "code",
   "execution_count": 32,
   "id": "0a290cd1",
   "metadata": {
    "id": "0a290cd1"
   },
   "outputs": [
    {
     "data": {
      "text/plain": [
       "Центральный административный округ         2242\n",
       "Северный административный округ             898\n",
       "Южный административный округ                892\n",
       "Северо-Восточный административный округ     890\n",
       "Западный административный округ             850\n",
       "Восточный административный округ            798\n",
       "Юго-Восточный административный округ        714\n",
       "Юго-Западный административный округ         709\n",
       "Северо-Западный административный округ      409\n",
       "Name: district, dtype: int64"
      ]
     },
     "execution_count": 32,
     "metadata": {},
     "output_type": "execute_result"
    }
   ],
   "source": [
    " df['district'].value_counts()"
   ]
  },
  {
   "cell_type": "markdown",
   "id": "9194ee87",
   "metadata": {},
   "source": [
    "Визуализируем распределение с помощью библиотеки `seaborn`:"
   ]
  },
  {
   "cell_type": "code",
   "execution_count": 33,
   "id": "87dd5ee8",
   "metadata": {},
   "outputs": [
    {
     "data": {
      "image/png": "[encoded data removed]",
      "text/plain": [
       "<Figure size 576x288 with 1 Axes>"
      ]
     },
     "metadata": {
      "needs_background": "light"
     },
     "output_type": "display_data"
    }
   ],
   "source": [
    "#создаём контейнер для графика matplotlib и задаём его размер\n",
    "plt.figure(figsize =(8, 4))\n",
    "\n",
    "#строим график\n",
    "ax = sns.countplot(\n",
    "                  data = df, \n",
    "                  y = 'district', \n",
    "                  color = '#1f77b4',\n",
    "                  order = df['district'].value_counts().index)\n",
    "\n",
    "plt.title('Распределение заведений по административным округам Москвы')\n",
    "plt.xlabel('Количество заведений')\n",
    "plt.ylabel('Административный округ')\n",
    "plt.grid(axis = 'x')"
   ]
  },
  {
   "cell_type": "markdown",
   "id": "8a108761",
   "metadata": {
    "id": "41f1654a"
   },
   "source": [
    "Из диаграммы следует, что Центральный АО является лидером по количеству заведений (2242), тогда как Северо-Западный АО имеет самое меньшее количество (409). Остальные округа распределены равномерно в диапазоне 700-900.\n",
    "\n",
    "Теперь рассмотрим распределение категорий заведений в Центральном административном округе Москвы:"
   ]
  },
  {
   "cell_type": "code",
   "execution_count": 34,
   "id": "857906df",
   "metadata": {},
   "outputs": [
    {
     "name": "stdout",
     "output_type": "stream",
     "text": [
      "             index  category\n",
      "0         ресторан       670\n",
      "1             кафе       464\n",
      "2          кофейня       428\n",
      "3          бар,паб       364\n",
      "4         пиццерия       113\n",
      "5  быстрое питание        87\n",
      "6         столовая        66\n",
      "7         булочная        50\n"
     ]
    }
   ],
   "source": [
    "#считаем распределение категорий заведений в ЦАО\n",
    "c_district = df.loc[df['district'] == 'Центральный административный округ', 'category'].value_counts().reset_index()\n",
    "print(c_district)"
   ]
  },
  {
   "cell_type": "code",
   "execution_count": 35,
   "id": "6d4f96cf",
   "metadata": {},
   "outputs": [
    {
     "data": {
      "image/png": "[encoded data removed]",
      "text/plain": [
       "<Figure size 576x288 with 1 Axes>"
      ]
     },
     "metadata": {
      "needs_background": "light"
     },
     "output_type": "display_data"
    }
   ],
   "source": [
    "#создаём контейнер для графика и задаём его размер\n",
    "plt.figure(figsize =(8, 4))\n",
    "\n",
    "#строим диаграмму\n",
    "ax = sns.barplot(\n",
    "        data = c_district,\n",
    "        x = 'index',\n",
    "        y = 'category',\n",
    "        color = '#1f77b4')\n",
    "\n",
    "plt.title('Распределение заведений по категориям в Центральном АО')\n",
    "plt.xlabel('Категория')\n",
    "plt.ylabel('Количество заведений')\n",
    "plt.xticks(rotation = 30)\n",
    "plt.show()"
   ]
  },
  {
   "cell_type": "markdown",
   "id": "8b9014f2",
   "metadata": {},
   "source": [
    "Из распределения видно, что самая популярная категория заведений в ЦАО - ресторан (670). Также популярны кафе (464), кофейня (428), бар,паб (364). Наименее популярная категория - булочная (50)."
   ]
  },
  {
   "cell_type": "markdown",
   "id": "7c824f58",
   "metadata": {
    "id": "7c824f58"
   },
   "source": [
    "---\n",
    "\n",
    "### Задача 3\n",
    "\n",
    "Изучите соотношение сетевых и несетевых заведений в целом по всем данным и в разрезе категорий заведения. Каких заведений больше — сетевых или несетевых? Какие категории заведений чаще являются сетевыми? Исследуйте данные, ответьте на вопросы и постройте необходимые визуализации."
   ]
  },
  {
   "cell_type": "markdown",
   "id": "07e7956e",
   "metadata": {
    "id": "ef442d1a"
   },
   "source": [
    "Расчитаем сотношение сетевых и несетевых заведений в целом по всем данным:"
   ]
  },
  {
   "cell_type": "code",
   "execution_count": 36,
   "id": "0de29fa2",
   "metadata": {
    "id": "0de29fa2"
   },
   "outputs": [
    {
     "name": "stdout",
     "output_type": "stream",
     "text": [
      "0    61.878124\n",
      "1    38.121876\n",
      "Name: chain, dtype: float64\n"
     ]
    }
   ],
   "source": [
    "#расчёт соотношения сетевых и несетевых заведений\n",
    "is_chain = df['chain'].value_counts(normalize = True) * 100\n",
    "print(is_chain)"
   ]
  },
  {
   "cell_type": "code",
   "execution_count": 37,
   "id": "a139bd72",
   "metadata": {
    "id": "a139bd72"
   },
   "outputs": [
    {
     "data": {
      "image/png": "[encoded data removed]",
      "text/plain": [
       "<Figure size 576x288 with 1 Axes>"
      ]
     },
     "metadata": {
      "needs_background": "light"
     },
     "output_type": "display_data"
    }
   ],
   "source": [
    "#создаём контейнер графика matplotlib и задаём его размер\n",
    "plt.figure(figsize=(8, 4))\n",
    "\n",
    "#строим график\n",
    "is_chain.plot(\n",
    "    kind = 'bar',\n",
    "    color=['#1f77b4', '#ff7f0e'],\n",
    "    title = 'Соотношение сетевых и несетевых заведений')\n",
    "plt.xlabel('Тип заведения')\n",
    "plt.ylabel('Доля заведений, %')\n",
    "plt.xticks([0, 1], ['Несетевые', 'Сетевые'], rotation = 0)\n",
    "plt.grid(axis='y')"
   ]
  },
  {
   "cell_type": "markdown",
   "id": "7ba9968d",
   "metadata": {},
   "source": [
    "Только 38,1 % заведений относятся к какой-либо сети, остальные 61,9% - несетевые. \n",
    "\n",
    "Рассмотрим категории заведения в зависимости от типа, найдём наиболее популярные среди сетевых:"
   ]
  },
  {
   "cell_type": "code",
   "execution_count": 38,
   "id": "f78c8320",
   "metadata": {},
   "outputs": [
    {
     "data": {
      "text/plain": [
       "category         chain\n",
       "бар,паб          0         596\n",
       "                 1         168\n",
       "булочная         1         157\n",
       "                 0          99\n",
       "быстрое питание  0         371\n",
       "                 1         232\n",
       "кафе             0        1597\n",
       "                 1         779\n",
       "кофейня          1         720\n",
       "                 0         693\n",
       "пиццерия         1         330\n",
       "                 0         303\n",
       "ресторан         0        1313\n",
       "                 1         729\n",
       "столовая         0         227\n",
       "                 1          88\n",
       "Name: chain, dtype: int64"
      ]
     },
     "execution_count": 38,
     "metadata": {},
     "output_type": "execute_result"
    }
   ],
   "source": [
    "#расчитаем количество заведений по категориям в зависимости от типа\n",
    "df.groupby('category')['chain'].value_counts()"
   ]
  },
  {
   "cell_type": "code",
   "execution_count": 39,
   "id": "9d0e8fcc",
   "metadata": {},
   "outputs": [
    {
     "data": {
      "image/png": "[encoded data removed]",
      "text/plain": [
       "<Figure size 720x432 with 1 Axes>"
      ]
     },
     "metadata": {
      "needs_background": "light"
     },
     "output_type": "display_data"
    }
   ],
   "source": [
    "#создаём контейнер графика matplotlib и задаём его размер\n",
    "plt.figure(figsize=(10, 6))\n",
    "\n",
    "sns.countplot(\n",
    "    data = df,\n",
    "    y = 'category',\n",
    "    hue = 'chain')\n",
    "\n",
    "plt.title('Соотношение категорий заведений и типа заведений')\n",
    "plt.xlabel('Количество заведений')\n",
    "plt.ylabel('Категория')\n",
    "plt.grid(axis = 'x')\n",
    "\n",
    "plt.legend(\n",
    "    title='Тип заведения',\n",
    "    labels=['Несетевое', 'Сетевое'])\n",
    "plt.show()"
   ]
  },
  {
   "cell_type": "markdown",
   "id": "a91a66d3",
   "metadata": {},
   "source": [
    "Из соотношения видно, что чаще являются сетевыми заведениями такие категории:\n",
    "- кофейня (720 сетевых и 693 несетевых);\n",
    "- пиццерия (330 сетевых и 303 несетевых);\n",
    "- булочная (157 сетевых и 99 несетевых)."
   ]
  },
  {
   "cell_type": "markdown",
   "id": "5913c3e3",
   "metadata": {
    "id": "5913c3e3"
   },
   "source": [
    "---\n",
    "\n",
    "### Задача 4\n",
    "\n",
    "Исследуйте количество посадочных мест в заведениях. Встречаются ли в данных аномальные значения или выбросы? Если да, то с чем они могут быть связаны? Приведите для каждой категории заведений наиболее типичное для него количество посадочных мест. Результат сопроводите подходящими визуализациями.\n"
   ]
  },
  {
   "cell_type": "markdown",
   "id": "202848f0",
   "metadata": {
    "id": "6cb238d2"
   },
   "source": [
    "Построим данные о количестве посадочных мест в заведениях в столбце `seats`. При знакомстве с подобными данными стоит оценить статистические показатели. Воспользуемся методом `describe()`:"
   ]
  },
  {
   "cell_type": "code",
   "execution_count": 40,
   "id": "b65b5db9",
   "metadata": {},
   "outputs": [
    {
     "name": "stdout",
     "output_type": "stream",
     "text": [
      "Изучаем статистические показатели столбца seats:\n"
     ]
    },
    {
     "data": {
      "text/plain": [
       "count    4792.000000\n",
       "mean      108.361436\n",
       "std       122.841130\n",
       "min         0.000000\n",
       "25%        40.000000\n",
       "50%        75.000000\n",
       "75%       140.000000\n",
       "max      1288.000000\n",
       "Name: seats, dtype: float64"
      ]
     },
     "execution_count": 40,
     "metadata": {},
     "output_type": "execute_result"
    }
   ],
   "source": [
    "print('Изучаем статистические показатели столбца seats:')\n",
    "df['seats'].describe()"
   ]
  },
  {
   "cell_type": "markdown",
   "id": "4d62ef31",
   "metadata": {},
   "source": [
    "Можно предположить, что данные о количестве мест имеют распределение, близкое к правому ассиметричному, так как медиана (75) меньше среднего (108.4). Значение стандартного отклонения имеет значение 122.8, что в данном случае может говорить о широком разбросе. Разница между максимальным значением и минимальным это подтверждает.\n",
    "\n",
    "Дополнительно проверим это и построим гистограмму распределения значений и диаграмму размаха:"
   ]
  },
  {
   "cell_type": "code",
   "execution_count": 41,
   "id": "059fe955",
   "metadata": {},
   "outputs": [
    {
     "data": {
      "image/png": "[encoded data removed]",
      "text/plain": [
       "<Figure size 576x288 with 1 Axes>"
      ]
     },
     "metadata": {
      "needs_background": "light"
     },
     "output_type": "display_data"
    }
   ],
   "source": [
    "# Создаём контейнер графика matplotlib и задаём его размер\n",
    "plt.figure(figsize=(8, 4))\n",
    "\n",
    "# Строим гистограмму с помощью pandas через plot(kind='hist')\n",
    "df['seats'].plot(\n",
    "              kind = 'hist',\n",
    "              bins = 50,\n",
    "              alpha = 0.75,\n",
    "              edgecolor = 'black',\n",
    "              rot = 0)\n",
    "\n",
    "#настраиваем оформление\n",
    "plt.title('Распределение количества посадочных мест в заведениях')\n",
    "plt.xlabel('Количество мест')\n",
    "plt.ylabel('Частота')\n",
    "plt.grid()\n",
    "plt.show()\n",
    "\n"
   ]
  },
  {
   "cell_type": "code",
   "execution_count": 42,
   "id": "89ac229e",
   "metadata": {},
   "outputs": [
    {
     "data": {
      "image/png": "[encoded data removed]",
      "text/plain": [
       "<Figure size 720x432 with 1 Axes>"
      ]
     },
     "metadata": {
      "needs_background": "light"
     },
     "output_type": "display_data"
    }
   ],
   "source": [
    "# Создаём контейнер графика matplotlib и задаём его размер\n",
    "plt.figure(figsize=(10, 6))\n",
    "\n",
    "# Строим диаграмму размаха значений в столбце balance\n",
    "df.boxplot(column='seats', vert=False)\n",
    "\n",
    "# Добавляем заголовок и метки оси\n",
    "plt.title('Распределение значений баланса клиента')\n",
    "plt.xlabel('Баланс клиента')\n",
    "\n",
    "# Выводим график\n",
    "plt.show()"
   ]
  },
  {
   "cell_type": "markdown",
   "id": "1674fbd5",
   "metadata": {},
   "source": [
    "Распределение данных действительно выглядит как правое ассиметричное и характеризуется \"хвостами\" в правой части диаграмм. Такие высокие значения можно отнести к выбросам. Однако сами значения, как минимальные, так и максимальные, не выглядят ошибкой, и такое количество посадочных мест вполне допустимо. Поэтому при анализе их оставим.\n",
    "\n",
    "Теперь для каждой категории приведём типичное для неё количество мест:"
   ]
  },
  {
   "cell_type": "code",
   "execution_count": 43,
   "id": "f89f66da",
   "metadata": {},
   "outputs": [
    {
     "name": "stdout",
     "output_type": "stream",
     "text": [
      "Медианное количество посадочных мест по категориям:\n",
      "          category  seats\n",
      "0         ресторан   86.0\n",
      "1          бар,паб   82.0\n",
      "2          кофейня   80.0\n",
      "3         столовая   75.5\n",
      "4  быстрое питание   65.0\n",
      "5             кафе   60.0\n",
      "6         пиццерия   55.0\n",
      "7         булочная   50.0\n"
     ]
    },
    {
     "data": {
      "image/png": "[encoded data removed]",
      "text/plain": [
       "<Figure size 576x432 with 1 Axes>"
      ]
     },
     "metadata": {
      "needs_background": "light"
     },
     "output_type": "display_data"
    }
   ],
   "source": [
    "#рассчитываем медианные значения\n",
    "median_seats = df.groupby('category')['seats'].median().sort_values(ascending=False).reset_index()\n",
    "print('Медианное количество посадочных мест по категориям:')\n",
    "print(median_seats)\n",
    "#создаём график\n",
    "plt.figure(figsize=(8, 6))\n",
    "sns.barplot(\n",
    "       data = median_seats,\n",
    "       x = 'seats',\n",
    "       y = 'category',\n",
    "    color = '#1f77b4')\n",
    "plt.title(\"Медианное количество посадочных мест по категориям\")\n",
    "plt.xlabel(\"Количество посадочных мест\")\n",
    "plt.ylabel(\"Категория заведений\")\n",
    "plt.grid(axis = 'x')\n",
    "plt.show()"
   ]
  },
  {
   "cell_type": "markdown",
   "id": "40279d48",
   "metadata": {},
   "source": [
    "Распределение показывает, что самое большое типичное количество посадочных мест имеют рестораны (86), бары, пабы(82) и кофейни (80), тогда как булочные наименьшее (50).\n"
   ]
  },
  {
   "cell_type": "markdown",
   "id": "8ed065ea",
   "metadata": {
    "id": "8ed065ea"
   },
   "source": [
    "---\n",
    "\n",
    "### Задача 5\n",
    "\n",
    "Исследуйте рейтинг заведений. Визуализируйте распределение средних рейтингов по категориям заведений. Сильно ли различаются усреднённые рейтинги для разных типов общепита?"
   ]
  },
  {
   "cell_type": "markdown",
   "id": "18a6c491",
   "metadata": {},
   "source": [
    "Рассчитаем и визуализируем распределение средних рейтингов по категориям заведений:"
   ]
  },
  {
   "cell_type": "code",
   "execution_count": 44,
   "id": "19d06c81",
   "metadata": {
    "id": "cc5206f8"
   },
   "outputs": [
    {
     "name": "stdout",
     "output_type": "stream",
     "text": [
      "Усреднённые значения рейтинга по категориям заведений:\n",
      "          category    rating\n",
      "0          бар,паб  4.387696\n",
      "1         пиццерия  4.301264\n",
      "2         ресторан  4.290402\n",
      "3          кофейня  4.277282\n",
      "4         булочная  4.268359\n",
      "5         столовая  4.211429\n",
      "6             кафе  4.124285\n",
      "7  быстрое питание  4.050249\n"
     ]
    },
    {
     "data": {
      "text/plain": [
       "<Figure size 864x432 with 0 Axes>"
      ]
     },
     "metadata": {},
     "output_type": "display_data"
    }
   ],
   "source": [
    "mean_ratings = df.groupby('category')['rating'].mean().sort_values(ascending=False).reset_index()\n",
    "plt.figure(figsize=(12, 6))\n",
    "print('Усреднённые значения рейтинга по категориям заведений:')\n",
    "print(mean_ratings)"
   ]
  },
  {
   "cell_type": "code",
   "execution_count": 45,
   "id": "3e0ec5d7",
   "metadata": {
    "id": "3e0ec5d7"
   },
   "outputs": [
    {
     "data": {
      "image/png": "[encoded data removed]",
      "text/plain": [
       "<Figure size 576x432 with 1 Axes>"
      ]
     },
     "metadata": {
      "needs_background": "light"
     },
     "output_type": "display_data"
    }
   ],
   "source": [
    "#создаём график\n",
    "plt.figure(figsize=(8, 6))\n",
    "sns.barplot(\n",
    "       data = mean_ratings,\n",
    "       x = 'rating',\n",
    "       y = 'category',\n",
    "    color = '#1f77b4')\n",
    "plt.title(\"Распределение среднего рейтинга по категориям\")\n",
    "plt.xlabel(\"Рейтинг\")\n",
    "plt.ylabel(\"Категория заведений\")\n",
    "plt.grid(axis = 'x')\n",
    "plt.show()"
   ]
  },
  {
   "cell_type": "markdown",
   "id": "5b42755e",
   "metadata": {
    "id": "766c86cb"
   },
   "source": [
    "Исходя из результатов визуализации, усреднённые рейтинги для разных типов общепита имеют небольшой разброс. Так, наивысший рейтинг имеют бары, пабы - 4.39, а низший - заведения быстрого питания - 4.05."
   ]
  },
  {
   "cell_type": "markdown",
   "id": "dd9702d9",
   "metadata": {
    "id": "dd9702d9"
   },
   "source": [
    "---\n",
    "\n",
    "### Задача 6\n",
    "\n",
    "Изучите, с какими данными показывают самую сильную корреляцию рейтинги заведений? Постройте и визуализируйте матрицу корреляции рейтинга заведения с разными данными: его категория, положение (административный район Москвы), статус сетевого заведения, количество мест, ценовая категория и признак, является ли заведения круглосуточным. Выберите самую сильную связь и проверьте её."
   ]
  },
  {
   "cell_type": "markdown",
   "id": "9ec1011a",
   "metadata": {
    "id": "15400eb9"
   },
   "source": [
    "Чтобы понять, существует ли связь между данными, воспользуемся матрицей корреляции рейтинга заведения с другими столбцами. Для этого воспользуемся универсальной библиотекой `phik`, которая помогает изучить связи между данными разного типа. Для составления матрицы были выбраны данные, которые могут влиять на рейтинг заведений: категория, положение, статус сетевого заведения, количество мест, ценовая категория и режим работы:"
   ]
  },
  {
   "cell_type": "code",
   "execution_count": 46,
   "id": "8f0379af",
   "metadata": {
    "id": "8f0379af"
   },
   "outputs": [
    {
     "name": "stdout",
     "output_type": "stream",
     "text": [
      "Корреляционная матрица с коэффициентом phi_k для переменной rating\n"
     ]
    },
    {
     "data": {
      "text/html": [
       "<div>\n",
       "<style scoped>\n",
       "    .dataframe tbody tr th:only-of-type {\n",
       "        vertical-align: middle;\n",
       "    }\n",
       "\n",
       "    .dataframe tbody tr th {\n",
       "        vertical-align: top;\n",
       "    }\n",
       "\n",
       "    .dataframe thead th {\n",
       "        text-align: right;\n",
       "    }\n",
       "</style>\n",
       "<table border=\"1\" class=\"dataframe\">\n",
       "  <thead>\n",
       "    <tr style=\"text-align: right;\">\n",
       "      <th></th>\n",
       "      <th>rating</th>\n",
       "    </tr>\n",
       "  </thead>\n",
       "  <tbody>\n",
       "    <tr>\n",
       "      <th>price</th>\n",
       "      <td>0.220295</td>\n",
       "    </tr>\n",
       "    <tr>\n",
       "      <th>district</th>\n",
       "      <td>0.200761</td>\n",
       "    </tr>\n",
       "    <tr>\n",
       "      <th>category</th>\n",
       "      <td>0.189716</td>\n",
       "    </tr>\n",
       "    <tr>\n",
       "      <th>seats</th>\n",
       "      <td>0.152723</td>\n",
       "    </tr>\n",
       "    <tr>\n",
       "      <th>is_24_7</th>\n",
       "      <td>0.150365</td>\n",
       "    </tr>\n",
       "    <tr>\n",
       "      <th>chain</th>\n",
       "      <td>0.107833</td>\n",
       "    </tr>\n",
       "  </tbody>\n",
       "</table>\n",
       "</div>"
      ],
      "text/plain": [
       "            rating\n",
       "price     0.220295\n",
       "district  0.200761\n",
       "category  0.189716\n",
       "seats     0.152723\n",
       "is_24_7   0.150365\n",
       "chain     0.107833"
      ]
     },
     "execution_count": 46,
     "metadata": {},
     "output_type": "execute_result"
    }
   ],
   "source": [
    "# Вычисляем корреляционную матрицу с использованием phi_k\n",
    "corr_matrix = df[['category', 'district', 'chain', 'seats', 'price', 'is_24_7', 'rating']].phik_matrix(interval_cols = ['rating'])\n",
    "\n",
    "# выводим результат, оставив только корреляцию со столбцом рейтинга\n",
    "print('Корреляционная матрица с коэффициентом phi_k для переменной rating')\n",
    "corr_matrix.loc[corr_matrix.index != 'rating'][['rating']].sort_values(by='rating', ascending=False)"
   ]
  },
  {
   "cell_type": "markdown",
   "id": "f4655599",
   "metadata": {
    "id": "1a65a84d"
   },
   "source": [
    "Наибольшая корреляция, хоть и небольшая, наблюдается ценовой категорией заведения (0,22) и административным районом Москвы (0,2). У остальных признаков коэффициент корреляции снижается с 0,19 до 0,11. Визуализируем результат корреляции с помощью тепловой карты:"
   ]
  },
  {
   "cell_type": "code",
   "execution_count": 47,
   "id": "f267db13",
   "metadata": {},
   "outputs": [
    {
     "data": {
      "image/png": "[encoded data removed]",
      "text/plain": [
       "<Figure size 144x432 with 1 Axes>"
      ]
     },
     "metadata": {
      "needs_background": "light"
     },
     "output_type": "display_data"
    }
   ],
   "source": [
    "# Строим тепловую карту\n",
    "plt.figure(figsize=(2, 6))\n",
    "\n",
    "# Сохраняем матрицу корреляции признака rating с другими признаками клиента\n",
    "data_heatmap = corr_matrix.loc[corr_matrix.index != 'rating'][['rating']].sort_values(by='rating', ascending=False)\n",
    "sns.heatmap(data_heatmap,\n",
    "            annot=True, \n",
    "            fmt='.2f', \n",
    "            cmap='coolwarm', \n",
    "            linewidths=0.5, \n",
    "            cbar=False\n",
    "           )\n",
    "\n",
    "# Добавляем заголовок и подпись по оси Х\n",
    "plt.title('Тепловая карта коэффициента phi_k \\n для данных rating')\n",
    "\n",
    "# Выводим график\n",
    "plt.show()"
   ]
  },
  {
   "cell_type": "markdown",
   "id": "6e1f5b56",
   "metadata": {},
   "source": [
    "Теперь корреляция между рейтингом заведений и другими признаками наглядно отображена. Можно продолжить исследование данных. Рассмотрим связь между рейтингом заведения и ценовой категорией:"
   ]
  },
  {
   "cell_type": "code",
   "execution_count": 48,
   "id": "81f6e1ef",
   "metadata": {},
   "outputs": [
    {
     "data": {
      "image/png": "[encoded data removed]",
      "text/plain": [
       "<Figure size 720x432 with 1 Axes>"
      ]
     },
     "metadata": {
      "needs_background": "light"
     },
     "output_type": "display_data"
    }
   ],
   "source": [
    "plt.figure(figsize=(10, 6))\n",
    "sns.boxplot(\n",
    "    data=df,\n",
    "    x='price',\n",
    "    y='rating')\n",
    "plt.title('Распределение рейтинга по ценовым категориям')\n",
    "plt.xlabel('Ценовая категория')\n",
    "plt.ylabel('Рейтинг (0-5)')\n",
    "plt.grid(axis='y', alpha=0.3)\n",
    "plt.show()"
   ]
  },
  {
   "cell_type": "code",
   "execution_count": 49,
   "id": "adfe9362",
   "metadata": {},
   "outputs": [
    {
     "name": "stdout",
     "output_type": "stream",
     "text": [
      "Средние значения рейтинга по ценовой категории заведений:\n",
      "           price    rating\n",
      "0        высокие  4.436611\n",
      "1  выше среднего  4.386348\n",
      "2        средние  4.297874\n",
      "3         низкие  4.173077\n"
     ]
    },
    {
     "data": {
      "text/plain": [
       "<Figure size 864x432 with 0 Axes>"
      ]
     },
     "metadata": {},
     "output_type": "display_data"
    },
    {
     "data": {
      "image/png": "[encoded data removed]",
      "text/plain": [
       "<Figure size 576x432 with 1 Axes>"
      ]
     },
     "metadata": {
      "needs_background": "light"
     },
     "output_type": "display_data"
    }
   ],
   "source": [
    "mean_ratings_price = df.groupby('price')['rating'].mean().sort_values(ascending=False).reset_index()\n",
    "plt.figure(figsize=(12, 6))\n",
    "print('Средние значения рейтинга по ценовой категории заведений:')\n",
    "print(mean_ratings_price)\n",
    "#создаём график\n",
    "plt.figure(figsize=(8, 6))\n",
    "sns.barplot(\n",
    "       data = mean_ratings_price,\n",
    "       x = 'price',\n",
    "       y = 'rating',\n",
    "    color = '#1f77b4')\n",
    "plt.title(\"Распределение среднего рейтинга по ценовым категориям\")\n",
    "plt.xlabel(\"Ценовая категория заведения\")\n",
    "plt.ylabel(\"Средний рейтинг\")\n",
    "plt.grid(axis = 'y')\n",
    "plt.show()"
   ]
  },
  {
   "cell_type": "markdown",
   "id": "02973016",
   "metadata": {},
   "source": [
    "Наибольший медианный рейтинг имеют заведения с высокими ценами, а наименьшей - с низкими. При этом заведения среднего диапазона имеют наибольшие выбросы в сторону меньших значений рейтинга.\n",
    "Можно отметить, что средний рейтинг увеличивается с ростом ценовой категории заведения"
   ]
  },
  {
   "cell_type": "markdown",
   "id": "370de703",
   "metadata": {
    "id": "370de703"
   },
   "source": [
    "---\n",
    "\n",
    "### Задача 7\n",
    "\n",
    "Сгруппируйте данные по названиям заведений и найдите топ-15 популярных сетей в Москве. Для них посчитайте значения среднего рейтинга. Под популярностью понимается количество заведений этой сети в регионе. К какой категории заведений они относятся? Результат сопроводите подходящими визуализациями."
   ]
  },
  {
   "cell_type": "markdown",
   "id": "ca3ba84b",
   "metadata": {},
   "source": [
    "Сгруппируем данные по названию заведений и найдём топ-15 популярных сетевых заведений в Москве:"
   ]
  },
  {
   "cell_type": "code",
   "execution_count": 50,
   "id": "162e5827",
   "metadata": {},
   "outputs": [
    {
     "name": "stdout",
     "output_type": "stream",
     "text": [
      "ШОКОЛАДНИЦА                            120\n",
      "ДОМИНО'С ПИЦЦА                          76\n",
      "ДОДО ПИЦЦА                              74\n",
      "ONE PRICE COFFEE                        71\n",
      "ЯНДЕКС ЛАВКА                            69\n",
      "COFIX                                   65\n",
      "PRIME                                   50\n",
      "ХИНКАЛЬНАЯ                              44\n",
      "КОФЕПОРТ                                42\n",
      "КУЛИНАРНАЯ ЛАВКА БРАТЬЕВ КАРАВАЕВЫХ     39\n",
      "ТЕРЕМОК                                 38\n",
      "ЧАЙХАНА                                 37\n",
      "COFEFEST                                32\n",
      "БУХАНКА                                 32\n",
      "МУ-МУ                                   27\n",
      "Name: name, dtype: int64\n"
     ]
    },
    {
     "data": {
      "image/png": "[encoded data removed]",
      "text/plain": [
       "<Figure size 720x576 with 1 Axes>"
      ]
     },
     "metadata": {
      "needs_background": "light"
     },
     "output_type": "display_data"
    }
   ],
   "source": [
    "top_15 = df[df['chain'] == 1]['name'].value_counts().head(15)\n",
    "print(top_15)\n",
    "#создаём график\n",
    "plt.figure(figsize=(10, 8))\n",
    "sns.barplot(\n",
    "       x = top_15.values,\n",
    "       y = top_15.index,\n",
    "       color = '#1f77b4')\n",
    "plt.title(\"Топ-15\")\n",
    "plt.xlabel(\"Количество заведений\")\n",
    "plt.ylabel(\"Название заведения\")\n",
    "plt.grid(axis = 'x')\n",
    "plt.show()"
   ]
  },
  {
   "cell_type": "markdown",
   "id": "d75d4a23",
   "metadata": {
    "id": "d013c598"
   },
   "source": [
    "Самым популярным заведением является \"Шоколадница\", имеющая 120 торговых точек. Рассмотрим значение среднего рейтинга и категорию популярных заведений:"
   ]
  },
  {
   "cell_type": "code",
   "execution_count": 51,
   "id": "774348d5",
   "metadata": {
    "id": "774348d5"
   },
   "outputs": [
    {
     "name": "stdout",
     "output_type": "stream",
     "text": [
      "                                     num_locations  avg_rating main_category\n",
      "name                                                                        \n",
      "ШОКОЛАДНИЦА                                    120    4.177500       кофейня\n",
      "ДОМИНО'С ПИЦЦА                                  76    4.169737      пиццерия\n",
      "ДОДО ПИЦЦА                                      74    4.286486      пиццерия\n",
      "ONE PRICE COFFEE                                71    4.064789       кофейня\n",
      "ЯНДЕКС ЛАВКА                                    69    3.872464      ресторан\n",
      "COFIX                                           65    4.075385       кофейня\n",
      "PRIME                                           50    4.116000      ресторан\n",
      "ХИНКАЛЬНАЯ                                      44    4.322727          кафе\n",
      "КОФЕПОРТ                                        42    4.147619       кофейня\n",
      "КУЛИНАРНАЯ ЛАВКА БРАТЬЕВ КАРАВАЕВЫХ             39    4.394872          кафе\n",
      "ТЕРЕМОК                                         38    4.123684      ресторан\n",
      "ЧАЙХАНА                                         37    3.924324          кафе\n",
      "COFEFEST                                        32    3.984375       кофейня\n",
      "БУХАНКА                                         32    4.396875      булочная\n",
      "МУ-МУ                                           27    4.229630          кафе\n"
     ]
    }
   ],
   "source": [
    "\n",
    "top_15_full = (\n",
    "    df[df['chain'] == 1]\n",
    "    .groupby('name')\n",
    "    .agg(\n",
    "        num_locations=('name', 'count'),\n",
    "        avg_rating=('rating', 'mean'),\n",
    "        main_category=('category', pd.Series.mode))\n",
    "    .sort_values('num_locations', ascending=False)\n",
    "    .head(15))\n",
    "print(top_15_full)"
   ]
  },
  {
   "attachments": {
    "image.png": {
     "image/png": "[encoded data removed]"
    }
   },
   "cell_type": "markdown",
   "id": "664602e5",
   "metadata": {},
   "source": [
    "<font color='DarkBlue'><b>Комментарий ревьюера</b></font><br>\n",
    "<font color='Red'>🛠 Не сделана визуализация среднего рейтинга сетевых заведений. Лучше строить горизонтальную столбчатую диаграмму, примерно вот так:</font>\n",
    "![image.png](attachment:image.png)"
   ]
  },
  {
   "cell_type": "markdown",
   "id": "e40ec811",
   "metadata": {},
   "source": [
    "</font><font color='Blue'><b>Комментарий студента</b></font><br>\n",
    "Добавлена визуализация среднего рейтинга для топ-15 популярных сетевых заведений:"
   ]
  },
  {
   "cell_type": "code",
   "execution_count": 52,
   "id": "384ffd7a",
   "metadata": {},
   "outputs": [
    {
     "data": {
      "image/png": "[encoded data removed]",
      "text/plain": [
       "<Figure size 576x432 with 1 Axes>"
      ]
     },
     "metadata": {
      "needs_background": "light"
     },
     "output_type": "display_data"
    }
   ],
   "source": [
    "#создаём график\n",
    "plt.figure(figsize=(8, 6))\n",
    "sns.barplot(\n",
    "       data = top_15_full,\n",
    "       x = 'avg_rating',\n",
    "       y = top_15_full.index,\n",
    "    color = '#1f77b4')\n",
    "plt.title(\"Средний рейтинг топ-15 популярных заведений\")\n",
    "plt.xlabel(\"Рейтинг\")\n",
    "plt.ylabel(\"Название заведения\")\n",
    "plt.grid(axis = 'x')\n",
    "plt.show()"
   ]
  },
  {
   "cell_type": "markdown",
   "id": "bdea1d01",
   "metadata": {},
   "source": [
    "Среди 15 популярных сетевых заведений 5 относятся к кофейням, 4 к кафе, 3 к ресторанам, 2 к пиццериям и 1 к булочным. Средний рейтинг находится в диапазоне от 3.87 (Яндекс.Лавка, 5 место) до 4.4 (Буханка, 14 место)."
   ]
  },
  {
   "cell_type": "markdown",
   "id": "85a90a94",
   "metadata": {
    "id": "85a90a94"
   },
   "source": [
    "---\n",
    "\n",
    "### Задача 8\n",
    "\n",
    "Изучите вариацию среднего чека заведения (столбец `middle_avg_bill`) в зависимости от района Москвы. Проанализируйте цены в Центральном административном округе и других. Как удалённость от центра влияет на цены в заведениях? Результат сопроводите подходящими визуализациями.\n"
   ]
  },
  {
   "attachments": {
    "image-2.png": {
     "image/png": "[encoded data removed]"
    },
    "image.png": {
     "image/png": "[encoded data removed]"
    }
   },
   "cell_type": "markdown",
   "id": "8b8e29c5",
   "metadata": {},
   "source": [
    "<font color='DarkBlue'><b>Комментарий ревьюера</b></font><br>\n",
    "<font color='DarkMagenta'>Следовало проанализировать статистические показатели данных по среднему чеку заведений методом `.describe()`.</font><br>\n",
    "<font color='Red'> Следует визуализировать анализ среднего чека заведений гистограммой и диаграммой размаха, для оценки размаха распределения, его симметричности и наличия выбросов. Примерно вот так:</font>\n",
    "![image.png](attachment:image.png)\n",
    "![image-2.png](attachment:image-2.png)"
   ]
  },
  {
   "cell_type": "markdown",
   "id": "b78bc518",
   "metadata": {},
   "source": [
    "</font><font color='Blue'><b>Комментарий студента</b></font><br>\n",
    "Внесены необходимы доработки: использован метод descibe(), использованы визуализации в виде гистограммы и диаграммы размаха:"
   ]
  },
  {
   "cell_type": "code",
   "execution_count": 53,
   "id": "ccb6d8b5",
   "metadata": {},
   "outputs": [
    {
     "data": {
      "text/plain": [
       "count     3149.000000\n",
       "mean       958.053668\n",
       "std       1009.732845\n",
       "min          0.000000\n",
       "25%        375.000000\n",
       "50%        750.000000\n",
       "75%       1250.000000\n",
       "max      35000.000000\n",
       "Name: middle_avg_bill, dtype: float64"
      ]
     },
     "execution_count": 53,
     "metadata": {},
     "output_type": "execute_result"
    }
   ],
   "source": [
    "df['middle_avg_bill'].describe()"
   ]
  },
  {
   "cell_type": "markdown",
   "id": "89fe9637",
   "metadata": {},
   "source": [
    "Медиана (750) меньше чем среднее (958), что говорит о том, что распределение данных по среднему чеку правое ассиметричное. Также имеется высокое отклонение (1009.7). Построим гистрограмму и диаграмму размаха:"
   ]
  },
  {
   "cell_type": "code",
   "execution_count": 54,
   "id": "cc148ab2",
   "metadata": {},
   "outputs": [
    {
     "data": {
      "image/png": "[encoded data removed]",
      "text/plain": [
       "<Figure size 576x288 with 1 Axes>"
      ]
     },
     "metadata": {
      "needs_background": "light"
     },
     "output_type": "display_data"
    }
   ],
   "source": [
    "# Создаём контейнер графика matplotlib и задаём его размер\n",
    "plt.figure(figsize=(8, 4))\n",
    "\n",
    "# Строим гистограмму с помощью pandas через plot(kind='hist')\n",
    "df['middle_avg_bill'].plot(\n",
    "              kind = 'hist',\n",
    "              bins = 50,\n",
    "              alpha = 0.75,\n",
    "              edgecolor = 'black',\n",
    "              rot = 0)\n",
    "\n",
    "#настраиваем оформление\n",
    "plt.title('Распределение значений среднего чека:')\n",
    "plt.xlabel('Средний чек')\n",
    "plt.ylabel('Частота')\n",
    "plt.grid()\n",
    "plt.show()\n"
   ]
  },
  {
   "cell_type": "code",
   "execution_count": 55,
   "id": "40c4003f",
   "metadata": {},
   "outputs": [
    {
     "data": {
      "image/png": "[encoded data removed]",
      "text/plain": [
       "<Figure size 720x432 with 1 Axes>"
      ]
     },
     "metadata": {
      "needs_background": "light"
     },
     "output_type": "display_data"
    }
   ],
   "source": [
    "# Создаём контейнер графика matplotlib и задаём его размер\n",
    "plt.figure(figsize=(10, 6))\n",
    "\n",
    "# Строим диаграмму размаха значений в столбце balance\n",
    "df.boxplot(column='middle_avg_bill', vert=False)\n",
    "\n",
    "# Добавляем заголовок и метки оси\n",
    "plt.title('Распределение значений среднего чека')\n",
    "\n",
    "# Выводим график\n",
    "plt.show()"
   ]
  },
  {
   "cell_type": "markdown",
   "id": "e36d691d",
   "metadata": {},
   "source": [
    "<font color='DarkBlue'><b>Комментарий ревьюера 2</b></font><br>\n",
    "<font color='DarkMagenta'>👉 График не оформлен необходимым образом, нет подписи оси Х.</font>"
   ]
  },
  {
   "cell_type": "markdown",
   "id": "764fca17",
   "metadata": {},
   "source": [
    "Распределение данных действительно выглядит как правое ассиметричное и характеризуется \"хвостами\" в правой части диаграмм. Такие высокие значения можно отнести к выбросам. Однако сами значения, даже максимальные, не выглядят ошибкой, и такое размер чека может быть допустим. Поэтому при анализе их оставим."
   ]
  },
  {
   "cell_type": "code",
   "execution_count": 56,
   "id": "5fb4ffc6",
   "metadata": {
    "id": "5fb4ffc6"
   },
   "outputs": [
    {
     "name": "stdout",
     "output_type": "stream",
     "text": [
      "Средние значения среднего чека:\n",
      "                                  district  middle_avg_bill\n",
      "0       Центральный административный округ      1191.057547\n",
      "1          Западный административный округ      1053.225490\n",
      "2          Северный административный округ       927.959627\n",
      "3             Южный административный округ       834.398089\n",
      "4   Северо-Западный административный округ       822.222930\n",
      "5         Восточный административный округ       820.626923\n",
      "6      Юго-Западный административный округ       792.561702\n",
      "7  Северо-Восточный административный округ       716.611296\n",
      "8     Юго-Восточный административный округ       654.097938\n"
     ]
    },
    {
     "data": {
      "text/plain": [
       "<Figure size 864x432 with 0 Axes>"
      ]
     },
     "metadata": {},
     "output_type": "display_data"
    },
    {
     "data": {
      "image/png": "[encoded data removed]",
      "text/plain": [
       "<Figure size 576x432 with 1 Axes>"
      ]
     },
     "metadata": {
      "needs_background": "light"
     },
     "output_type": "display_data"
    }
   ],
   "source": [
    "mean_middle_avg_bill = df.groupby('district')['middle_avg_bill'].mean().sort_values(ascending=False).reset_index()\n",
    "plt.figure(figsize=(12, 6))\n",
    "print('Средние значения среднего чека:')\n",
    "print(mean_middle_avg_bill)\n",
    "\n",
    "#создаём график\n",
    "plt.figure(figsize=(8, 6))\n",
    "sns.barplot(\n",
    "       data = mean_middle_avg_bill,\n",
    "       x = 'middle_avg_bill',\n",
    "       y = 'district',\n",
    "    color = '#1f77b4')\n",
    "plt.title(\"Распределение среднего чека по административным районам\")\n",
    "plt.xlabel(\"Средний чек\")\n",
    "plt.ylabel(\"Административный район\")\n",
    "plt.grid(axis = 'x')\n",
    "plt.show()"
   ]
  },
  {
   "attachments": {
    "image-2.png": {
     "image/png": "[encoded data removed]"
    },
    "image.png": {
     "image/png": "[encoded data removed]"
    }
   },
   "cell_type": "markdown",
   "id": "62dedde2",
   "metadata": {},
   "source": [
    "<font color='DarkBlue'><b>Комментарий ревьюера</b></font><br>\n",
    "<font color='DarkMagenta'>Более полный анализ центральной тенденции среднего чека заведений по административным округам был бы при выводе и медианы, и среднего значения среднего чека, примерно вот так:</font>\n",
    "![image.png](attachment:image.png)<br>\n",
    "<font color='DarkMagenta'>Хорошо визуализированы значения среднего чека заведений по административным округам. Можно было вывести на диаграмму и медианы, и средние значения, примерно вот так:</font>\n",
    "![image-2.png](attachment:image-2.png)"
   ]
  },
  {
   "cell_type": "markdown",
   "id": "57304c5e",
   "metadata": {
    "id": "b98066c1"
   },
   "source": [
    "Как видно из визуализации, самый высокий средний чек имеет Центральный АО (1191), также высокие значения имеют Западный (1053) и Северный (928) АО. Самый низкий средний чек в Юго-Восточном административном округе(654). \n",
    "\n",
    "Проанализируем цены в Центральном административном округе и других:"
   ]
  },
  {
   "cell_type": "code",
   "execution_count": 57,
   "id": "9b5e00a5",
   "metadata": {
    "id": "9b5e00a5"
   },
   "outputs": [
    {
     "data": {
      "image/png": "[encoded data removed]",
      "text/plain": [
       "<Figure size 576x432 with 1 Axes>"
      ]
     },
     "metadata": {
      "needs_background": "light"
     },
     "output_type": "display_data"
    }
   ],
   "source": [
    "#создаём столбец `is_central`\n",
    "df['is_central'] = df['district'] == 'Центральный административный округ'\n",
    "\n",
    "#строим гистограмму распределения среднего чека в ЦАО и других\n",
    "plt.figure(figsize=(8, 6))\n",
    "sns.histplot(\n",
    "    df[df['middle_avg_bill'] < 1500], \n",
    "    x = 'middle_avg_bill',\n",
    "    bins = 100,\n",
    "    hue = 'is_central',\n",
    "    kde = True, element=\"step\")\n",
    "plt.title('Распределение среднего чека в ЦАО и других')\n",
    "plt.legend(\n",
    "    title='АО',\n",
    "    labels=['Центральный', 'Остальные'])\n",
    "plt.show()"
   ]
  },
  {
   "cell_type": "markdown",
   "id": "0b9a12db",
   "metadata": {},
   "source": [
    "Данные были отфильтрованы для более детального рассмотрения в диапазон, близкий к средним значениям для всех округов(до 1500). Распределение на полном диапазоне неинформативно и тяжело для визуального восприятия.\n",
    "\n",
    "Исходя из диаграммы, можно предположить, что размер среднего чека в ЦАО достаточно равномерный во всём диапазоне, тогда как в остальных округах преобладают более низкие значения (до 700). Построим диаграммы размаха:"
   ]
  },
  {
   "cell_type": "markdown",
   "id": "c150bd4f",
   "metadata": {
    "id": "c150bd4f"
   },
   "source": [
    "---\n"
   ]
  },
  {
   "cell_type": "code",
   "execution_count": 58,
   "id": "5ee8b279",
   "metadata": {
    "id": "5ee8b279"
   },
   "outputs": [
    {
     "data": {
      "image/png": "[encoded data removed]",
      "text/plain": [
       "<Figure size 720x432 with 1 Axes>"
      ]
     },
     "metadata": {
      "needs_background": "light"
     },
     "output_type": "display_data"
    }
   ],
   "source": [
    "#строим график\n",
    "plt.figure(figsize=(10, 6))\n",
    "sns.boxplot(\n",
    "     data =df[df['middle_avg_bill'] < 3000],\n",
    "    x='is_central',\n",
    "    y='middle_avg_bill')\n",
    "plt.title('Распределение среднего чека в ЦАО и других')\n",
    "plt.xlabel('Принадлежность ЦАО')\n",
    "plt.ylabel('Средний чек')\n",
    "plt.grid(axis='y', alpha=0.3)\n",
    "plt.show()"
   ]
  },
  {
   "cell_type": "markdown",
   "id": "e82ad6e9",
   "metadata": {
    "id": "c6a666d9"
   },
   "source": [
    "Данные отфильтрованы до 3000 для лучшего визуального восприятия. Из диаграмм видно, что медианное значение среднего чека в ЦАО выше, а само распределение близко к нормальному, тогда как в остальных округах медиана ниже, а распределение правое ассиметричное.\n",
    "\n",
    "Можно сделать вывод, что удалённость от центра влияет на цены в заведениях, а именно: чем дальше от центра - тем ниже цены."
   ]
  },
  {
   "cell_type": "markdown",
   "id": "4b008c09",
   "metadata": {},
   "source": [
    "<font color='DarkBlue'><b>Комментарий ревьюера</b></font><br>\n",
    "<font color='DarkGreen'>Хорошо, что анализ среднего чека заведений по административным округам заканчивается развернутым промежуточным выводом.</font>"
   ]
  },
  {
   "cell_type": "markdown",
   "id": "f2c54e9a",
   "metadata": {
    "id": "f2c54e9a"
   },
   "source": [
    "---\n",
    "\n",
    "### Промежуточный вывод\n"
   ]
  },
  {
   "cell_type": "markdown",
   "id": "027454a8",
   "metadata": {
    "id": "c8869609"
   },
   "source": [
    "Исследовательский анализ данных показал, что: \n",
    "- в данных представлено 8 категорий заведений, среди которых наиболее популярны кафе (2376), рестораны (2042) и кофейни (1413);\n",
    "- центральный АО лидирует по количеству заведений (2242), в нём преобладают рестораны (670), кафе (464) и кофейни (428);\n",
    "- 61,9% заведений - несетевые, 38,1% - сетевые. К категориям, где сетевых заведений больше, относятся: кофейни, пиццерии и булочные;\n",
    "- среднее значение посадочных мест - 108, медианное - 75. Наибольшее количество мест имеют рестораны (86) и бары/пабы(82), наименьшее - булочные (50) и пиццерии (55);\n",
    "- самый высокий рейтинг заведений имеют бары/пабы (4,39), самый низкий - заведения быстрого питания (4,05);\n",
    "- наибольшая корреляция рейтинга с ценовой категорией (0,22). Можно отметить, что чем заведение дороже и ближе к центру, тем рейтинг выше;\n",
    "- лидерами среди популярных сетевых заведений является \"Шоколадница\" (120), \"Додо Пицца\" (74) и \"Буханка\" (32);\n",
    "- расположение влияет на средний чек, так, самый высокий средний чек в Центральном АО (1191), а самый низкий - в Юго-Восточном АО (654). Близость к центру увеличивает средний чек."
   ]
  },
  {
   "cell_type": "markdown",
   "id": "9e50a7d5",
   "metadata": {},
   "source": [
    "<font color='DarkBlue'><b>Комментарий ревьюера</b></font><br>\n",
    "<font color='DarkGreen'> Правильно сделан промежуточный вывод по исследовательскому анализу данных заведений общественного питания.</font>"
   ]
  },
  {
   "cell_type": "markdown",
   "id": "480f3422",
   "metadata": {
    "id": "480f3422"
   },
   "source": [
    "## 4. Итоговый вывод и рекомендации\n",
    "<a id='chapter4'></a>\n",
    "По результатам проведённого исследовательского анализа данных сформулируйте итоговый вывод и рекомендации для заказчика. Старайтесь акцентировать внимание на ключевых моментах исследования.\n",
    "\n",
    "При составлении вывода придерживайтесь такой структуры:\n",
    "\n",
    "1. Общий обзор проделанной работы.\n",
    "2. Ответы на исследовательские вопросы, или главные выводы.\n",
    "3. Рекомендации на основе анализа данных."
   ]
  },
  {
   "cell_type": "markdown",
   "id": "179567eb",
   "metadata": {},
   "source": [
    "### общий обзор проделанной работы\n",
    "\n",
    "В ходе исследования было проведён комплексный анализ данных о заведениях общественного питания Москвы, включающий:\n",
    "- загрузку и предобработку данных (оптимизация типов, пропусков, уладеление дубликатов);\n",
    "- исследовательский анализ по ключевым параметрам: категории заведений, распределение по округам, сетевость, посадочные места, рейтинги, средний чек;\n",
    "- визуализацию результатов с использованием библиотек matplotlib, seaborn и phik для корреляционного анализа.\n",
    "\n",
    "Исходные данные содержали 8406 заведений, после очистки осталось 8402. Были обработаны пропуски в столбце `hours`. Добавлен столбец-индикатор `is_24_7`.\n",
    "\n",
    "### Ответы на исследовательские вопросы и главные выводы\n",
    "\n",
    "1) Какие категории заведений преобладают:\n",
    "- **Лидеры:** кафе (2376), рестораны (2042), кофейни (1413).\n",
    "- **Аутсайдеры:** столовые (315), булочные (256).\n",
    "- **Вывод:** Москва — город кафе и ресторанов, тогда как столовые и булочные менее распространены.\n",
    "\n",
    "2) Как заведения распределены по округам:\n",
    "- **Центральный АО** — абсолютный лидер (2242 заведения).\n",
    "- **Наименьшее число заведений** в Северо-Западном АО (409).\n",
    "- **В ЦАО** преобладают рестораны (670), кафе (464), кофейни (428).\n",
    "\n",
    "3) Соотношение сетевых и несетевых заведений:\n",
    "- **61.9%** — несетевые, **38.1%** — сетевые.\n",
    "- **Сетевые чаще встречаются среди:** кофеен (720), пиццерий (330), булочных (157).\n",
    "- **Вывод:** Кофейни и фастфуд чаще развиваются как сети, тогда как рестораны и кафе остаются локальными.\n",
    "\n",
    "4) Количество посадочных мест:\n",
    "- **Среднее значение:** 108 места, медиана — 75.\n",
    "- **Самые вместительные:** рестораны (86), бары (82).\n",
    "- **Наименьшие:** булочные (50), пиццерии (55).\n",
    "\n",
    "5) Рейтинги заведений:\n",
    "- **Самые высокие оценки:** бары/пабы (4.39), пиццерии (4.30).\n",
    "- **Самые низкие:** фастфуд (4.05).\n",
    "- **Зависимость:** Чем выше ценовая категория, тем выше рейтинг (корреляция 0.22).\n",
    "\n",
    "6) Влияние местоположения на средний чек:\n",
    "- **Центральный АО:** 1191 руб. — самый дорогой.\n",
    "- **Юго-Восточный АО:** 654 руб. — самый дешёвый.\n",
    "- **Вывод:** Удалённость от центра снижает средний чек.\n",
    "\n",
    "7) Топ-15 сетевых заведений:\n",
    "- **Лидеры:** \"Шоколадница\" (120 точек), \"Додо Пицца\" (74), \"Буханка\" (32).\n",
    "- **Средний** рейтинг сетей: 4.0–4.4.\n",
    "\n",
    "8) Влияние расположения на средний чек:\n",
    "- **Самый высокий** средний чек в Центральном АО (1191 руб.).\n",
    "- **Самый низкий** — в Юго-Восточном АО (654 руб.).\n",
    "- **Вывод:** Центр Москвы — наиболее престижная и дорогая локация для общепита.\n",
    "\n",
    "### Рекомендации на основе анализа данных\n",
    "\n",
    "При открытии нового заведения обращать внимание:\n",
    "- Выбор категории:\n",
    "    - Кофейни и пиццерии — высокий спрос + популярность сетевого формата;\n",
    "    - Столовые и булочные — низкая конкуренция, но узкая аудитория.\n",
    "- Выбор локации:\n",
    "    - Центр Москвы — для премиальных заведений (высокий чек, но высокая конкуренция);\n",
    "    - Спальные районы (Юго-Восточный, Северо-Западный АО) — для демократичных кафе с умеренными ценами.\n",
    "    \n",
    "При развитии сетевых проектов стоит остановиться на кофейне и фаст-фуде:\n",
    "- Уже доказанная эффективность сетевой модели (например, \"Шоколадница\", \"Додо Пицца\");\n",
    "- Возможность масштабирования в менее насыщенных округах (Восточный, Юго-Восточный АО).\n",
    " \n",
    "Для повышения рейтинга:\n",
    "- улучшить сервис в фаст-фуде: более низкие рейтинги (4.05) указывают на недовольство клиентов;\n",
    "- акцент на атмосферу в барах/ресторанах: высокие оценки (4.3–4.4) показывают, что клиенты ценят качество обслуживания.\n",
    "\n",
    "Для маркетинговых стратегий:\n",
    "- Продвижение круглосуточных заведений: 730 заведений работают 24/7 — потенциальная аудитория ночных клиентов.\n",
    "- Использование данных о среднем чеке: в ЦАО можно предлагать премиум-меню, в спальных районах — бюджетные варианты.\n",
    "\n"
   ]
  },
  {
   "cell_type": "markdown",
   "id": "ed594248",
   "metadata": {},
   "source": [
    "<font color='DarkBlue'><b>Комментарий ревьюера</b></font><br>\n",
    "<font color='DarkGreen'>👌 Хорошее обобщение всего исследования. 👍</font>\n",
    "<br><font color='DarkMagenta'>👉 После исправления ошибок его необходимо откорректировать.</font>"
   ]
  },
  {
   "cell_type": "markdown",
   "id": "1eea8200",
   "metadata": {},
   "source": [
    "<font color='DarkBlue'><b>Заключительный комментарий ревьюера</b></font><br><br>\n",
    "<font color='DarkGreen'>👌 Данила, проект отлично структурирован и проработан.<br>Так держать и дальше!<br></font>\n",
    "<font color='Red'>🛠 Что нужно, что бы сделать проект лучше:</font><br>\n",
    "<font color='Red'>🛠 Исправить замену пропусков в количестве посадочных мест заведений. Визуализировать средний рейтинг по топ-15 сетевых заведений. Визуализировать анализ среднего чека заведений гистограммой и диаграммой размаха.</font><br>\n",
    "<font color='DarkMagenta'>👉 При исправлении ошибок и недочетов будут приобретены дополнительный опыт и навыки!</font><br>\n",
    "<font color='DarkGreen'>👌 Жду окончательный вариант! Успехов.</font>"
   ]
  },
  {
   "cell_type": "markdown",
   "id": "502b30b0",
   "metadata": {},
   "source": [
    "</font><font color='Blue'><b>Комментарий студента</b></font><br>\n",
    "Критические замечания были исправлены."
   ]
  },
  {
   "attachments": {
    "image.png": {
     "image/png": "[encoded data removed]"
    }
   },
   "cell_type": "markdown",
   "id": "67e68ca3",
   "metadata": {},
   "source": [
    "<font color='DarkBlue'><b>Заключительный комментарий ревьюера 2</b></font><br><br>\n",
    "<font color='DarkGreen'>👌 Данила! Удалось справиться со всеми заданиями в проекте. Молодец! 😄 Спасибо за работу!<br>\n",
    "Входе выполнения проекта научились проводить исследовательский анализ данных, определять когда необходимо анализировать медианы или средние значения и визуализировать анализ. В данном проекте акцентировано внимание, что анализ проводится в целях дальнейшего принятия бизнес-решения по открытию заведения общественного питания инвестиционным фондом.</font><br>\n",
    "<font color='DarkGreen'>👌 Теперь, вперед за новыми знаниями и навыками! Удачи! 😉</font>\n",
    "![image.png](attachment:image.png)"
   ]
  }
 ],
 "metadata": {
  "ExecuteTimeLog": [
   {
    "duration": 65,
    "start_time": "2025-04-11T14:21:43.948Z"
   },
   {
    "duration": 57,
    "start_time": "2025-04-11T14:21:51.185Z"
   },
   {
    "duration": 923,
    "start_time": "2025-04-11T14:21:58.975Z"
   },
   {
    "duration": 8,
    "start_time": "2025-04-11T14:22:15.978Z"
   },
   {
    "duration": 609,
    "start_time": "2025-04-11T14:22:22.068Z"
   },
   {
    "duration": 8,
    "start_time": "2025-04-11T14:22:43.858Z"
   },
   {
    "duration": 10,
    "start_time": "2025-04-11T14:22:48.426Z"
   },
   {
    "duration": 9,
    "start_time": "2025-04-11T14:22:56.588Z"
   },
   {
    "duration": 3436,
    "start_time": "2025-04-11T14:25:48.167Z"
   },
   {
    "duration": 242,
    "start_time": "2025-04-11T14:28:19.045Z"
   },
   {
    "duration": 17,
    "start_time": "2025-04-11T14:29:05.308Z"
   },
   {
    "duration": 11,
    "start_time": "2025-04-11T14:29:46.795Z"
   },
   {
    "duration": 12,
    "start_time": "2025-04-11T14:29:48.988Z"
   },
   {
    "duration": 15,
    "start_time": "2025-04-11T14:30:22.217Z"
   },
   {
    "duration": 4420,
    "start_time": "2025-04-13T08:41:48.435Z"
   },
   {
    "duration": 197,
    "start_time": "2025-04-13T08:41:52.857Z"
   },
   {
    "duration": 15,
    "start_time": "2025-04-13T08:41:53.056Z"
   },
   {
    "duration": 14,
    "start_time": "2025-04-13T08:41:53.072Z"
   },
   {
    "duration": 2317,
    "start_time": "2025-04-13T08:44:13.415Z"
   },
   {
    "duration": 11,
    "start_time": "2025-04-13T09:15:10.462Z"
   },
   {
    "duration": 12,
    "start_time": "2025-04-13T09:16:06.629Z"
   },
   {
    "duration": 14,
    "start_time": "2025-04-13T09:44:00.662Z"
   },
   {
    "duration": 16,
    "start_time": "2025-04-13T09:44:31.693Z"
   },
   {
    "duration": 118,
    "start_time": "2025-04-13T10:16:38.436Z"
   },
   {
    "duration": 10,
    "start_time": "2025-04-13T10:17:02.540Z"
   },
   {
    "duration": 14,
    "start_time": "2025-04-13T10:18:16.276Z"
   },
   {
    "duration": 5,
    "start_time": "2025-04-13T10:22:07.190Z"
   },
   {
    "duration": 9,
    "start_time": "2025-04-13T10:32:00.722Z"
   },
   {
    "duration": 20,
    "start_time": "2025-04-13T10:32:41.153Z"
   },
   {
    "duration": 28,
    "start_time": "2025-04-13T10:33:02.076Z"
   },
   {
    "duration": 5,
    "start_time": "2025-04-13T10:57:13.170Z"
   },
   {
    "duration": 5,
    "start_time": "2025-04-13T10:59:04.267Z"
   },
   {
    "duration": 7,
    "start_time": "2025-04-13T10:59:22.387Z"
   },
   {
    "duration": 7,
    "start_time": "2025-04-13T11:00:58.947Z"
   },
   {
    "duration": 5,
    "start_time": "2025-04-13T11:01:26.724Z"
   },
   {
    "duration": 4,
    "start_time": "2025-04-13T11:01:34.348Z"
   },
   {
    "duration": 14,
    "start_time": "2025-04-13T11:01:47.244Z"
   },
   {
    "duration": 9,
    "start_time": "2025-04-13T11:03:16.045Z"
   },
   {
    "duration": 6,
    "start_time": "2025-04-13T11:03:23.364Z"
   },
   {
    "duration": 2506,
    "start_time": "2025-04-13T11:03:29.313Z"
   },
   {
    "duration": 183,
    "start_time": "2025-04-13T11:03:31.822Z"
   },
   {
    "duration": 16,
    "start_time": "2025-04-13T11:03:32.007Z"
   },
   {
    "duration": 15,
    "start_time": "2025-04-13T11:03:32.025Z"
   },
   {
    "duration": 9,
    "start_time": "2025-04-13T11:03:32.043Z"
   },
   {
    "duration": 17,
    "start_time": "2025-04-13T11:03:32.054Z"
   },
   {
    "duration": 27,
    "start_time": "2025-04-13T11:03:32.073Z"
   },
   {
    "duration": 34,
    "start_time": "2025-04-13T11:03:32.102Z"
   },
   {
    "duration": 9,
    "start_time": "2025-04-13T11:03:32.138Z"
   },
   {
    "duration": 6,
    "start_time": "2025-04-13T11:03:32.149Z"
   },
   {
    "duration": 13,
    "start_time": "2025-04-13T11:03:32.157Z"
   },
   {
    "duration": 28,
    "start_time": "2025-04-13T11:03:32.172Z"
   },
   {
    "duration": 34,
    "start_time": "2025-04-13T11:03:32.203Z"
   },
   {
    "duration": 9,
    "start_time": "2025-04-13T11:03:32.240Z"
   },
   {
    "duration": 122,
    "start_time": "2025-04-13T11:03:32.250Z"
   },
   {
    "duration": 8,
    "start_time": "2025-04-13T11:05:02.388Z"
   },
   {
    "duration": 7,
    "start_time": "2025-04-13T11:05:26.542Z"
   },
   {
    "duration": 5,
    "start_time": "2025-04-13T11:06:32.541Z"
   },
   {
    "duration": 15,
    "start_time": "2025-04-13T11:06:48.854Z"
   },
   {
    "duration": 5,
    "start_time": "2025-04-13T11:06:53.126Z"
   },
   {
    "duration": 2375,
    "start_time": "2025-04-13T11:06:57.881Z"
   },
   {
    "duration": 229,
    "start_time": "2025-04-13T11:07:00.259Z"
   },
   {
    "duration": 13,
    "start_time": "2025-04-13T11:07:00.489Z"
   },
   {
    "duration": 13,
    "start_time": "2025-04-13T11:07:00.504Z"
   },
   {
    "duration": 32,
    "start_time": "2025-04-13T11:07:00.519Z"
   },
   {
    "duration": 31,
    "start_time": "2025-04-13T11:07:00.552Z"
   },
   {
    "duration": 32,
    "start_time": "2025-04-13T11:07:00.586Z"
   },
   {
    "duration": 20,
    "start_time": "2025-04-13T11:07:00.620Z"
   },
   {
    "duration": 9,
    "start_time": "2025-04-13T11:07:00.641Z"
   },
   {
    "duration": 8,
    "start_time": "2025-04-13T11:07:00.652Z"
   },
   {
    "duration": 19,
    "start_time": "2025-04-13T11:07:00.662Z"
   },
   {
    "duration": 129,
    "start_time": "2025-04-13T11:07:00.683Z"
   },
   {
    "duration": 14,
    "start_time": "2025-04-13T11:07:00.814Z"
   },
   {
    "duration": 9,
    "start_time": "2025-04-13T11:07:00.831Z"
   },
   {
    "duration": 28,
    "start_time": "2025-04-13T11:12:04.961Z"
   },
   {
    "duration": 21,
    "start_time": "2025-04-13T11:14:58.483Z"
   },
   {
    "duration": 2349,
    "start_time": "2025-04-13T11:15:03.933Z"
   },
   {
    "duration": 177,
    "start_time": "2025-04-13T11:15:06.285Z"
   },
   {
    "duration": 13,
    "start_time": "2025-04-13T11:15:06.463Z"
   },
   {
    "duration": 28,
    "start_time": "2025-04-13T11:15:06.477Z"
   },
   {
    "duration": 12,
    "start_time": "2025-04-13T11:15:06.508Z"
   },
   {
    "duration": 22,
    "start_time": "2025-04-13T11:15:06.522Z"
   },
   {
    "duration": 13,
    "start_time": "2025-04-13T11:15:06.546Z"
   },
   {
    "duration": 21,
    "start_time": "2025-04-13T11:15:06.562Z"
   },
   {
    "duration": 16,
    "start_time": "2025-04-13T11:15:06.585Z"
   },
   {
    "duration": 19,
    "start_time": "2025-04-13T11:15:06.602Z"
   },
   {
    "duration": 24,
    "start_time": "2025-04-13T11:15:06.622Z"
   },
   {
    "duration": 9,
    "start_time": "2025-04-13T11:15:06.647Z"
   },
   {
    "duration": 7,
    "start_time": "2025-04-13T11:15:06.658Z"
   },
   {
    "duration": 15,
    "start_time": "2025-04-13T11:15:06.668Z"
   },
   {
    "duration": 140,
    "start_time": "2025-04-13T11:15:06.685Z"
   },
   {
    "duration": 22,
    "start_time": "2025-04-13T11:16:43.370Z"
   },
   {
    "duration": 5,
    "start_time": "2025-04-13T11:17:01.018Z"
   },
   {
    "duration": 13,
    "start_time": "2025-04-13T11:19:11.499Z"
   },
   {
    "duration": 12,
    "start_time": "2025-04-13T11:21:23.085Z"
   },
   {
    "duration": 2377,
    "start_time": "2025-04-13T11:21:26.677Z"
   },
   {
    "duration": 355,
    "start_time": "2025-04-13T11:21:29.057Z"
   },
   {
    "duration": 12,
    "start_time": "2025-04-13T11:21:29.413Z"
   },
   {
    "duration": 13,
    "start_time": "2025-04-13T11:21:29.427Z"
   },
   {
    "duration": 9,
    "start_time": "2025-04-13T11:21:29.442Z"
   },
   {
    "duration": 37,
    "start_time": "2025-04-13T11:21:29.453Z"
   },
   {
    "duration": 19,
    "start_time": "2025-04-13T11:21:29.492Z"
   },
   {
    "duration": 13,
    "start_time": "2025-04-13T11:21:29.512Z"
   },
   {
    "duration": 6,
    "start_time": "2025-04-13T11:21:29.527Z"
   },
   {
    "duration": 7,
    "start_time": "2025-04-13T11:21:29.535Z"
   },
   {
    "duration": 9,
    "start_time": "2025-04-13T11:21:29.543Z"
   },
   {
    "duration": 9,
    "start_time": "2025-04-13T11:21:29.553Z"
   },
   {
    "duration": 6,
    "start_time": "2025-04-13T11:21:29.563Z"
   },
   {
    "duration": 7,
    "start_time": "2025-04-13T11:21:29.571Z"
   },
   {
    "duration": 14,
    "start_time": "2025-04-13T11:21:29.579Z"
   },
   {
    "duration": 23,
    "start_time": "2025-04-13T11:21:29.595Z"
   },
   {
    "duration": 23,
    "start_time": "2025-04-13T11:21:43.348Z"
   },
   {
    "duration": 2388,
    "start_time": "2025-04-13T11:21:53.636Z"
   },
   {
    "duration": 212,
    "start_time": "2025-04-13T11:21:56.027Z"
   },
   {
    "duration": 12,
    "start_time": "2025-04-13T11:21:56.241Z"
   },
   {
    "duration": 20,
    "start_time": "2025-04-13T11:21:56.255Z"
   },
   {
    "duration": 9,
    "start_time": "2025-04-13T11:21:56.276Z"
   },
   {
    "duration": 15,
    "start_time": "2025-04-13T11:21:56.286Z"
   },
   {
    "duration": 12,
    "start_time": "2025-04-13T11:21:56.302Z"
   },
   {
    "duration": 37,
    "start_time": "2025-04-13T11:21:56.315Z"
   },
   {
    "duration": 26,
    "start_time": "2025-04-13T11:21:56.354Z"
   },
   {
    "duration": 36,
    "start_time": "2025-04-13T11:21:56.382Z"
   },
   {
    "duration": 9,
    "start_time": "2025-04-13T11:21:56.419Z"
   },
   {
    "duration": 8,
    "start_time": "2025-04-13T11:21:56.430Z"
   },
   {
    "duration": 5,
    "start_time": "2025-04-13T11:21:56.440Z"
   },
   {
    "duration": 11,
    "start_time": "2025-04-13T11:21:56.448Z"
   },
   {
    "duration": 4,
    "start_time": "2025-04-13T11:21:56.461Z"
   },
   {
    "duration": 52,
    "start_time": "2025-04-13T11:21:56.467Z"
   },
   {
    "duration": 2399,
    "start_time": "2025-04-13T11:22:25.645Z"
   },
   {
    "duration": 200,
    "start_time": "2025-04-13T11:22:28.046Z"
   },
   {
    "duration": 13,
    "start_time": "2025-04-13T11:22:28.247Z"
   },
   {
    "duration": 30,
    "start_time": "2025-04-13T11:22:28.261Z"
   },
   {
    "duration": 9,
    "start_time": "2025-04-13T11:22:28.293Z"
   },
   {
    "duration": 10,
    "start_time": "2025-04-13T11:22:28.303Z"
   },
   {
    "duration": 24,
    "start_time": "2025-04-13T11:22:28.315Z"
   },
   {
    "duration": 15,
    "start_time": "2025-04-13T11:22:28.340Z"
   },
   {
    "duration": 24,
    "start_time": "2025-04-13T11:22:28.356Z"
   },
   {
    "duration": 5,
    "start_time": "2025-04-13T11:22:28.382Z"
   },
   {
    "duration": 10,
    "start_time": "2025-04-13T11:22:28.388Z"
   },
   {
    "duration": 30,
    "start_time": "2025-04-13T11:22:28.399Z"
   },
   {
    "duration": 6,
    "start_time": "2025-04-13T11:22:28.430Z"
   },
   {
    "duration": 7,
    "start_time": "2025-04-13T11:22:28.438Z"
   },
   {
    "duration": 5,
    "start_time": "2025-04-13T11:22:28.447Z"
   },
   {
    "duration": 7,
    "start_time": "2025-04-13T11:22:28.454Z"
   },
   {
    "duration": 32,
    "start_time": "2025-04-13T11:23:19.317Z"
   },
   {
    "duration": 8,
    "start_time": "2025-04-13T11:25:03.909Z"
   },
   {
    "duration": 15,
    "start_time": "2025-04-13T11:25:16.869Z"
   },
   {
    "duration": 6,
    "start_time": "2025-04-13T11:33:29.009Z"
   },
   {
    "duration": 7,
    "start_time": "2025-04-13T11:33:45.801Z"
   },
   {
    "duration": 12,
    "start_time": "2025-04-13T11:36:14.170Z"
   },
   {
    "duration": 8,
    "start_time": "2025-04-13T11:36:21.961Z"
   },
   {
    "duration": 2371,
    "start_time": "2025-04-13T11:36:50.343Z"
   },
   {
    "duration": 211,
    "start_time": "2025-04-13T11:36:52.717Z"
   },
   {
    "duration": 13,
    "start_time": "2025-04-13T11:36:52.930Z"
   },
   {
    "duration": 14,
    "start_time": "2025-04-13T11:36:52.945Z"
   },
   {
    "duration": 11,
    "start_time": "2025-04-13T11:36:52.961Z"
   },
   {
    "duration": 13,
    "start_time": "2025-04-13T11:36:52.974Z"
   },
   {
    "duration": 27,
    "start_time": "2025-04-13T11:36:52.989Z"
   },
   {
    "duration": 31,
    "start_time": "2025-04-13T11:36:53.018Z"
   },
   {
    "duration": 8,
    "start_time": "2025-04-13T11:36:53.051Z"
   },
   {
    "duration": 9,
    "start_time": "2025-04-13T11:36:53.061Z"
   },
   {
    "duration": 10,
    "start_time": "2025-04-13T11:36:53.072Z"
   },
   {
    "duration": 14,
    "start_time": "2025-04-13T11:36:53.084Z"
   },
   {
    "duration": 37,
    "start_time": "2025-04-13T11:36:53.100Z"
   },
   {
    "duration": 9,
    "start_time": "2025-04-13T11:36:53.140Z"
   },
   {
    "duration": 8,
    "start_time": "2025-04-13T11:36:53.151Z"
   },
   {
    "duration": 9,
    "start_time": "2025-04-13T11:36:53.161Z"
   },
   {
    "duration": 18,
    "start_time": "2025-04-13T11:38:42.141Z"
   },
   {
    "duration": 16,
    "start_time": "2025-04-13T11:42:25.764Z"
   },
   {
    "duration": 18,
    "start_time": "2025-04-13T11:51:00.865Z"
   },
   {
    "duration": 17,
    "start_time": "2025-04-13T11:51:23.097Z"
   },
   {
    "duration": 6,
    "start_time": "2025-04-13T11:51:38.511Z"
   },
   {
    "duration": 5,
    "start_time": "2025-04-13T11:51:43.576Z"
   },
   {
    "duration": 6,
    "start_time": "2025-04-13T11:51:46.185Z"
   },
   {
    "duration": 5,
    "start_time": "2025-04-13T11:51:58.075Z"
   },
   {
    "duration": 2448,
    "start_time": "2025-04-13T11:52:47.608Z"
   },
   {
    "duration": 258,
    "start_time": "2025-04-13T11:52:50.059Z"
   },
   {
    "duration": 13,
    "start_time": "2025-04-13T11:52:50.319Z"
   },
   {
    "duration": 19,
    "start_time": "2025-04-13T11:52:50.334Z"
   },
   {
    "duration": 9,
    "start_time": "2025-04-13T11:52:50.355Z"
   },
   {
    "duration": 10,
    "start_time": "2025-04-13T11:52:50.366Z"
   },
   {
    "duration": 12,
    "start_time": "2025-04-13T11:52:50.378Z"
   },
   {
    "duration": 14,
    "start_time": "2025-04-13T11:52:50.392Z"
   },
   {
    "duration": 10,
    "start_time": "2025-04-13T11:52:50.446Z"
   },
   {
    "duration": 17,
    "start_time": "2025-04-13T11:52:50.458Z"
   },
   {
    "duration": 19,
    "start_time": "2025-04-13T11:52:50.476Z"
   },
   {
    "duration": 13,
    "start_time": "2025-04-13T11:52:50.497Z"
   },
   {
    "duration": 7,
    "start_time": "2025-04-13T11:52:50.512Z"
   },
   {
    "duration": 20,
    "start_time": "2025-04-13T11:52:50.522Z"
   },
   {
    "duration": 13,
    "start_time": "2025-04-13T11:52:50.544Z"
   },
   {
    "duration": 8,
    "start_time": "2025-04-13T11:52:50.558Z"
   },
   {
    "duration": 14,
    "start_time": "2025-04-13T11:52:50.568Z"
   },
   {
    "duration": 29,
    "start_time": "2025-04-13T11:52:50.584Z"
   },
   {
    "duration": 5,
    "start_time": "2025-04-13T11:52:50.615Z"
   },
   {
    "duration": 48,
    "start_time": "2025-04-13T11:52:50.621Z"
   },
   {
    "duration": 5,
    "start_time": "2025-04-13T11:52:50.671Z"
   },
   {
    "duration": 5,
    "start_time": "2025-04-13T11:53:01.150Z"
   },
   {
    "duration": 2488,
    "start_time": "2025-04-13T11:54:35.989Z"
   },
   {
    "duration": 287,
    "start_time": "2025-04-13T11:54:38.479Z"
   },
   {
    "duration": 13,
    "start_time": "2025-04-13T11:54:38.767Z"
   },
   {
    "duration": 15,
    "start_time": "2025-04-13T11:54:38.782Z"
   },
   {
    "duration": 10,
    "start_time": "2025-04-13T11:54:38.798Z"
   },
   {
    "duration": 16,
    "start_time": "2025-04-13T11:54:38.810Z"
   },
   {
    "duration": 31,
    "start_time": "2025-04-13T11:54:38.827Z"
   },
   {
    "duration": 13,
    "start_time": "2025-04-13T11:54:38.860Z"
   },
   {
    "duration": 9,
    "start_time": "2025-04-13T11:54:38.875Z"
   },
   {
    "duration": 5,
    "start_time": "2025-04-13T11:54:38.886Z"
   },
   {
    "duration": 8,
    "start_time": "2025-04-13T11:54:38.892Z"
   },
   {
    "duration": 43,
    "start_time": "2025-04-13T11:54:38.902Z"
   },
   {
    "duration": 8,
    "start_time": "2025-04-13T11:54:38.947Z"
   },
   {
    "duration": 8,
    "start_time": "2025-04-13T11:54:38.956Z"
   },
   {
    "duration": 7,
    "start_time": "2025-04-13T11:54:38.966Z"
   },
   {
    "duration": 8,
    "start_time": "2025-04-13T11:54:38.975Z"
   },
   {
    "duration": 14,
    "start_time": "2025-04-13T11:54:38.985Z"
   },
   {
    "duration": 46,
    "start_time": "2025-04-13T11:54:39.000Z"
   },
   {
    "duration": 68,
    "start_time": "2025-04-13T11:54:39.051Z"
   },
   {
    "duration": 66,
    "start_time": "2025-04-13T11:54:39.121Z"
   },
   {
    "duration": 0,
    "start_time": "2025-04-13T11:54:39.188Z"
   },
   {
    "duration": 2460,
    "start_time": "2025-04-13T11:54:48.205Z"
   },
   {
    "duration": 190,
    "start_time": "2025-04-13T11:54:50.668Z"
   },
   {
    "duration": 12,
    "start_time": "2025-04-13T11:54:50.860Z"
   },
   {
    "duration": 89,
    "start_time": "2025-04-13T11:54:50.873Z"
   },
   {
    "duration": 35,
    "start_time": "2025-04-13T11:54:50.964Z"
   },
   {
    "duration": 15,
    "start_time": "2025-04-13T11:54:51.001Z"
   },
   {
    "duration": 13,
    "start_time": "2025-04-13T11:54:51.018Z"
   },
   {
    "duration": 30,
    "start_time": "2025-04-13T11:54:51.033Z"
   },
   {
    "duration": 86,
    "start_time": "2025-04-13T11:54:51.065Z"
   },
   {
    "duration": 7,
    "start_time": "2025-04-13T11:54:51.153Z"
   },
   {
    "duration": 36,
    "start_time": "2025-04-13T11:54:51.161Z"
   },
   {
    "duration": 19,
    "start_time": "2025-04-13T11:54:51.199Z"
   },
   {
    "duration": 24,
    "start_time": "2025-04-13T11:54:51.220Z"
   },
   {
    "duration": 8,
    "start_time": "2025-04-13T11:54:51.247Z"
   },
   {
    "duration": 10,
    "start_time": "2025-04-13T11:54:51.256Z"
   },
   {
    "duration": 8,
    "start_time": "2025-04-13T11:54:51.267Z"
   },
   {
    "duration": 13,
    "start_time": "2025-04-13T11:54:51.277Z"
   },
   {
    "duration": 15,
    "start_time": "2025-04-13T11:54:51.291Z"
   },
   {
    "duration": 8,
    "start_time": "2025-04-13T11:54:51.308Z"
   },
   {
    "duration": 24,
    "start_time": "2025-04-13T11:54:51.335Z"
   },
   {
    "duration": 9,
    "start_time": "2025-04-13T11:54:51.361Z"
   },
   {
    "duration": 20,
    "start_time": "2025-04-13T12:00:03.796Z"
   },
   {
    "duration": 20,
    "start_time": "2025-04-13T12:00:12.099Z"
   },
   {
    "duration": 6,
    "start_time": "2025-04-13T12:03:26.893Z"
   },
   {
    "duration": 28,
    "start_time": "2025-04-13T12:04:54.101Z"
   },
   {
    "duration": 2,
    "start_time": "2025-04-13T12:08:35.815Z"
   },
   {
    "duration": 10,
    "start_time": "2025-04-13T12:08:41.696Z"
   },
   {
    "duration": 14,
    "start_time": "2025-04-13T12:08:53.103Z"
   },
   {
    "duration": 45,
    "start_time": "2025-04-13T13:51:55.654Z"
   },
   {
    "duration": 4478,
    "start_time": "2025-04-13T13:52:06.267Z"
   },
   {
    "duration": 418,
    "start_time": "2025-04-13T13:52:10.748Z"
   },
   {
    "duration": 17,
    "start_time": "2025-04-13T13:52:11.168Z"
   },
   {
    "duration": 40,
    "start_time": "2025-04-13T13:52:11.188Z"
   },
   {
    "duration": 71,
    "start_time": "2025-04-13T13:52:11.230Z"
   },
   {
    "duration": 12,
    "start_time": "2025-04-13T13:52:11.303Z"
   },
   {
    "duration": 11,
    "start_time": "2025-04-13T13:52:11.317Z"
   },
   {
    "duration": 15,
    "start_time": "2025-04-13T13:52:11.330Z"
   },
   {
    "duration": 8,
    "start_time": "2025-04-13T13:52:11.347Z"
   },
   {
    "duration": 4,
    "start_time": "2025-04-13T13:52:11.358Z"
   },
   {
    "duration": 10,
    "start_time": "2025-04-13T13:52:11.364Z"
   },
   {
    "duration": 14,
    "start_time": "2025-04-13T13:52:11.376Z"
   },
   {
    "duration": 6,
    "start_time": "2025-04-13T13:52:11.392Z"
   },
   {
    "duration": 11,
    "start_time": "2025-04-13T13:52:11.400Z"
   },
   {
    "duration": 7,
    "start_time": "2025-04-13T13:52:11.413Z"
   },
   {
    "duration": 7,
    "start_time": "2025-04-13T13:52:11.421Z"
   },
   {
    "duration": 43,
    "start_time": "2025-04-13T13:52:11.430Z"
   },
   {
    "duration": 15,
    "start_time": "2025-04-13T13:52:11.474Z"
   },
   {
    "duration": 19,
    "start_time": "2025-04-13T13:52:11.491Z"
   },
   {
    "duration": 14,
    "start_time": "2025-04-13T13:52:11.512Z"
   },
   {
    "duration": 43,
    "start_time": "2025-04-13T13:52:11.528Z"
   },
   {
    "duration": 8,
    "start_time": "2025-04-13T13:52:11.572Z"
   },
   {
    "duration": 13,
    "start_time": "2025-04-13T13:52:11.581Z"
   },
   {
    "duration": 5,
    "start_time": "2025-04-13T13:52:11.595Z"
   },
   {
    "duration": 5,
    "start_time": "2025-04-13T13:53:02.128Z"
   },
   {
    "duration": 5,
    "start_time": "2025-04-13T13:56:54.830Z"
   },
   {
    "duration": 5,
    "start_time": "2025-04-13T13:57:17.171Z"
   },
   {
    "duration": 5,
    "start_time": "2025-04-13T13:57:27.807Z"
   },
   {
    "duration": 7,
    "start_time": "2025-04-13T13:57:34.820Z"
   },
   {
    "duration": 67,
    "start_time": "2025-04-13T13:58:40.679Z"
   },
   {
    "duration": 4,
    "start_time": "2025-04-13T13:58:46.652Z"
   },
   {
    "duration": 5,
    "start_time": "2025-04-13T13:59:06.947Z"
   },
   {
    "duration": 5,
    "start_time": "2025-04-13T13:59:18.081Z"
   },
   {
    "duration": 5,
    "start_time": "2025-04-13T13:59:32.541Z"
   },
   {
    "duration": 6,
    "start_time": "2025-04-13T14:00:19.749Z"
   },
   {
    "duration": 5,
    "start_time": "2025-04-13T14:01:59.224Z"
   },
   {
    "duration": 13,
    "start_time": "2025-04-13T14:13:10.018Z"
   },
   {
    "duration": 2384,
    "start_time": "2025-04-13T14:13:15.933Z"
   },
   {
    "duration": 153,
    "start_time": "2025-04-13T14:13:18.320Z"
   },
   {
    "duration": 12,
    "start_time": "2025-04-13T14:13:18.475Z"
   },
   {
    "duration": 17,
    "start_time": "2025-04-13T14:13:18.489Z"
   },
   {
    "duration": 8,
    "start_time": "2025-04-13T14:13:18.508Z"
   },
   {
    "duration": 11,
    "start_time": "2025-04-13T14:13:18.518Z"
   },
   {
    "duration": 30,
    "start_time": "2025-04-13T14:13:18.530Z"
   },
   {
    "duration": 14,
    "start_time": "2025-04-13T14:13:18.562Z"
   },
   {
    "duration": 7,
    "start_time": "2025-04-13T14:13:18.578Z"
   },
   {
    "duration": 5,
    "start_time": "2025-04-13T14:13:18.587Z"
   },
   {
    "duration": 25,
    "start_time": "2025-04-13T14:13:18.594Z"
   },
   {
    "duration": 11,
    "start_time": "2025-04-13T14:13:18.621Z"
   },
   {
    "duration": 30,
    "start_time": "2025-04-13T14:13:18.634Z"
   },
   {
    "duration": 8,
    "start_time": "2025-04-13T14:13:18.665Z"
   },
   {
    "duration": 8,
    "start_time": "2025-04-13T14:13:18.675Z"
   },
   {
    "duration": 9,
    "start_time": "2025-04-13T14:13:18.685Z"
   },
   {
    "duration": 13,
    "start_time": "2025-04-13T14:13:18.695Z"
   },
   {
    "duration": 51,
    "start_time": "2025-04-13T14:13:18.710Z"
   },
   {
    "duration": 33,
    "start_time": "2025-04-13T14:13:18.763Z"
   },
   {
    "duration": 7,
    "start_time": "2025-04-13T14:13:18.798Z"
   },
   {
    "duration": 23,
    "start_time": "2025-04-13T14:13:18.807Z"
   },
   {
    "duration": 32,
    "start_time": "2025-04-13T14:13:18.832Z"
   },
   {
    "duration": 14,
    "start_time": "2025-04-13T14:13:18.866Z"
   },
   {
    "duration": 5,
    "start_time": "2025-04-13T14:13:18.882Z"
   },
   {
    "duration": 18,
    "start_time": "2025-04-13T14:14:33.463Z"
   },
   {
    "duration": 16,
    "start_time": "2025-04-13T14:15:01.659Z"
   },
   {
    "duration": 4,
    "start_time": "2025-04-13T14:18:24.961Z"
   },
   {
    "duration": 4,
    "start_time": "2025-04-13T14:18:51.041Z"
   },
   {
    "duration": 4,
    "start_time": "2025-04-13T14:44:07.714Z"
   },
   {
    "duration": 6,
    "start_time": "2025-04-13T14:44:23.785Z"
   },
   {
    "duration": 5,
    "start_time": "2025-04-13T14:44:32.562Z"
   },
   {
    "duration": 154,
    "start_time": "2025-04-13T14:47:23.243Z"
   },
   {
    "duration": 69,
    "start_time": "2025-04-14T07:39:17.335Z"
   },
   {
    "duration": 5194,
    "start_time": "2025-04-14T07:39:24.145Z"
   },
   {
    "duration": 217,
    "start_time": "2025-04-14T07:39:29.342Z"
   },
   {
    "duration": 20,
    "start_time": "2025-04-14T07:39:29.561Z"
   },
   {
    "duration": 30,
    "start_time": "2025-04-14T07:39:29.583Z"
   },
   {
    "duration": 9,
    "start_time": "2025-04-14T07:39:29.615Z"
   },
   {
    "duration": 18,
    "start_time": "2025-04-14T07:39:29.626Z"
   },
   {
    "duration": 28,
    "start_time": "2025-04-14T07:39:29.646Z"
   },
   {
    "duration": 25,
    "start_time": "2025-04-14T07:39:29.677Z"
   },
   {
    "duration": 7,
    "start_time": "2025-04-14T07:39:29.704Z"
   },
   {
    "duration": 6,
    "start_time": "2025-04-14T07:39:29.713Z"
   },
   {
    "duration": 11,
    "start_time": "2025-04-14T07:39:29.720Z"
   },
   {
    "duration": 21,
    "start_time": "2025-04-14T07:39:29.763Z"
   },
   {
    "duration": 8,
    "start_time": "2025-04-14T07:39:29.787Z"
   },
   {
    "duration": 7,
    "start_time": "2025-04-14T07:39:29.797Z"
   },
   {
    "duration": 8,
    "start_time": "2025-04-14T07:39:29.805Z"
   },
   {
    "duration": 7,
    "start_time": "2025-04-14T07:39:29.814Z"
   },
   {
    "duration": 25,
    "start_time": "2025-04-14T07:39:29.862Z"
   },
   {
    "duration": 16,
    "start_time": "2025-04-14T07:39:29.889Z"
   },
   {
    "duration": 21,
    "start_time": "2025-04-14T07:39:29.907Z"
   },
   {
    "duration": 36,
    "start_time": "2025-04-14T07:39:29.929Z"
   },
   {
    "duration": 24,
    "start_time": "2025-04-14T07:39:29.968Z"
   },
   {
    "duration": 9,
    "start_time": "2025-04-14T07:39:29.994Z"
   },
   {
    "duration": 23,
    "start_time": "2025-04-14T07:39:30.005Z"
   },
   {
    "duration": 22,
    "start_time": "2025-04-14T07:39:30.030Z"
   },
   {
    "duration": 10,
    "start_time": "2025-04-14T07:39:30.063Z"
   },
   {
    "duration": 93,
    "start_time": "2025-04-14T07:39:30.075Z"
   },
   {
    "duration": 6,
    "start_time": "2025-04-14T07:46:38.352Z"
   },
   {
    "duration": 165,
    "start_time": "2025-04-14T07:58:05.026Z"
   },
   {
    "duration": 156,
    "start_time": "2025-04-14T08:01:00.694Z"
   },
   {
    "duration": 184,
    "start_time": "2025-04-14T08:01:20.562Z"
   },
   {
    "duration": 155,
    "start_time": "2025-04-14T08:01:41.343Z"
   },
   {
    "duration": 2679,
    "start_time": "2025-04-14T08:02:01.914Z"
   },
   {
    "duration": 239,
    "start_time": "2025-04-14T08:02:04.596Z"
   },
   {
    "duration": 13,
    "start_time": "2025-04-14T08:02:04.837Z"
   },
   {
    "duration": 17,
    "start_time": "2025-04-14T08:02:04.852Z"
   },
   {
    "duration": 14,
    "start_time": "2025-04-14T08:02:04.871Z"
   },
   {
    "duration": 13,
    "start_time": "2025-04-14T08:02:04.889Z"
   },
   {
    "duration": 58,
    "start_time": "2025-04-14T08:02:04.903Z"
   },
   {
    "duration": 20,
    "start_time": "2025-04-14T08:02:04.963Z"
   },
   {
    "duration": 35,
    "start_time": "2025-04-14T08:02:04.985Z"
   },
   {
    "duration": 12,
    "start_time": "2025-04-14T08:02:05.024Z"
   },
   {
    "duration": 59,
    "start_time": "2025-04-14T08:02:05.038Z"
   },
   {
    "duration": 28,
    "start_time": "2025-04-14T08:02:05.099Z"
   },
   {
    "duration": 14,
    "start_time": "2025-04-14T08:02:05.129Z"
   },
   {
    "duration": 10,
    "start_time": "2025-04-14T08:02:05.145Z"
   },
   {
    "duration": 28,
    "start_time": "2025-04-14T08:02:05.156Z"
   },
   {
    "duration": 23,
    "start_time": "2025-04-14T08:02:05.187Z"
   },
   {
    "duration": 38,
    "start_time": "2025-04-14T08:02:05.212Z"
   },
   {
    "duration": 16,
    "start_time": "2025-04-14T08:02:05.252Z"
   },
   {
    "duration": 30,
    "start_time": "2025-04-14T08:02:05.271Z"
   },
   {
    "duration": 36,
    "start_time": "2025-04-14T08:02:05.304Z"
   },
   {
    "duration": 50,
    "start_time": "2025-04-14T08:02:05.341Z"
   },
   {
    "duration": 10,
    "start_time": "2025-04-14T08:02:05.393Z"
   },
   {
    "duration": 21,
    "start_time": "2025-04-14T08:02:05.404Z"
   },
   {
    "duration": 23,
    "start_time": "2025-04-14T08:02:05.427Z"
   },
   {
    "duration": 56,
    "start_time": "2025-04-14T08:02:05.452Z"
   },
   {
    "duration": 16,
    "start_time": "2025-04-14T08:02:05.509Z"
   },
   {
    "duration": 168,
    "start_time": "2025-04-14T08:02:05.527Z"
   },
   {
    "duration": 144,
    "start_time": "2025-04-14T08:06:40.527Z"
   },
   {
    "duration": 160,
    "start_time": "2025-04-14T08:06:54.787Z"
   },
   {
    "duration": 227,
    "start_time": "2025-04-14T08:07:11.801Z"
   },
   {
    "duration": 5,
    "start_time": "2025-04-14T08:28:54.784Z"
   },
   {
    "duration": 16,
    "start_time": "2025-04-14T08:40:23.696Z"
   },
   {
    "duration": 181,
    "start_time": "2025-04-14T08:40:44.574Z"
   },
   {
    "duration": 20,
    "start_time": "2025-04-14T08:40:59.994Z"
   },
   {
    "duration": 75,
    "start_time": "2025-04-14T08:41:28.873Z"
   },
   {
    "duration": 186,
    "start_time": "2025-04-14T08:41:39.274Z"
   },
   {
    "duration": 202,
    "start_time": "2025-04-14T08:42:14.410Z"
   },
   {
    "duration": 52,
    "start_time": "2025-04-14T10:01:53.939Z"
   },
   {
    "duration": 7,
    "start_time": "2025-04-14T10:38:41.097Z"
   },
   {
    "duration": 5144,
    "start_time": "2025-04-14T10:38:48.741Z"
   },
   {
    "duration": 165,
    "start_time": "2025-04-14T10:38:53.888Z"
   },
   {
    "duration": 18,
    "start_time": "2025-04-14T10:38:54.055Z"
   },
   {
    "duration": 51,
    "start_time": "2025-04-14T10:38:54.074Z"
   },
   {
    "duration": 14,
    "start_time": "2025-04-14T10:38:54.127Z"
   },
   {
    "duration": 23,
    "start_time": "2025-04-14T10:38:54.142Z"
   },
   {
    "duration": 23,
    "start_time": "2025-04-14T10:38:54.167Z"
   },
   {
    "duration": 22,
    "start_time": "2025-04-14T10:38:54.191Z"
   },
   {
    "duration": 9,
    "start_time": "2025-04-14T10:38:54.215Z"
   },
   {
    "duration": 42,
    "start_time": "2025-04-14T10:38:54.225Z"
   },
   {
    "duration": 42,
    "start_time": "2025-04-14T10:38:54.269Z"
   },
   {
    "duration": 47,
    "start_time": "2025-04-14T10:38:54.312Z"
   },
   {
    "duration": 6,
    "start_time": "2025-04-14T10:38:54.360Z"
   },
   {
    "duration": 12,
    "start_time": "2025-04-14T10:38:54.369Z"
   },
   {
    "duration": 9,
    "start_time": "2025-04-14T10:38:54.383Z"
   },
   {
    "duration": 21,
    "start_time": "2025-04-14T10:38:54.393Z"
   },
   {
    "duration": 31,
    "start_time": "2025-04-14T10:38:54.416Z"
   },
   {
    "duration": 33,
    "start_time": "2025-04-14T10:38:54.449Z"
   },
   {
    "duration": 22,
    "start_time": "2025-04-14T10:38:54.483Z"
   },
   {
    "duration": 12,
    "start_time": "2025-04-14T10:38:54.507Z"
   },
   {
    "duration": 60,
    "start_time": "2025-04-14T10:38:54.521Z"
   },
   {
    "duration": 103,
    "start_time": "2025-04-14T10:38:54.582Z"
   },
   {
    "duration": 84,
    "start_time": "2025-04-14T10:38:54.687Z"
   },
   {
    "duration": 31,
    "start_time": "2025-04-14T10:38:54.773Z"
   },
   {
    "duration": 9,
    "start_time": "2025-04-14T10:38:54.806Z"
   },
   {
    "duration": 16,
    "start_time": "2025-04-14T10:38:54.817Z"
   },
   {
    "duration": 203,
    "start_time": "2025-04-14T10:38:54.835Z"
   },
   {
    "duration": 6,
    "start_time": "2025-04-14T10:38:55.041Z"
   },
   {
    "duration": 263,
    "start_time": "2025-04-14T10:38:55.049Z"
   },
   {
    "duration": 95,
    "start_time": "2025-04-14T10:38:55.314Z"
   },
   {
    "duration": 57,
    "start_time": "2025-04-14T10:39:49.341Z"
   },
   {
    "duration": 31,
    "start_time": "2025-04-14T10:39:53.988Z"
   },
   {
    "duration": 13,
    "start_time": "2025-04-14T10:40:12.730Z"
   },
   {
    "duration": 12,
    "start_time": "2025-04-14T10:45:12.730Z"
   },
   {
    "duration": 20,
    "start_time": "2025-04-14T10:46:38.523Z"
   },
   {
    "duration": 191,
    "start_time": "2025-04-14T10:47:34.470Z"
   },
   {
    "duration": 277,
    "start_time": "2025-04-14T10:50:11.770Z"
   },
   {
    "duration": 192,
    "start_time": "2025-04-14T10:51:11.627Z"
   },
   {
    "duration": 144,
    "start_time": "2025-04-14T10:51:49.694Z"
   },
   {
    "duration": 15,
    "start_time": "2025-04-14T10:52:02.813Z"
   },
   {
    "duration": 72,
    "start_time": "2025-04-14T10:52:11.950Z"
   },
   {
    "duration": 204,
    "start_time": "2025-04-14T10:52:34.251Z"
   },
   {
    "duration": 191,
    "start_time": "2025-04-14T10:54:12.348Z"
   },
   {
    "duration": 207,
    "start_time": "2025-04-14T10:55:02.162Z"
   },
   {
    "duration": 8,
    "start_time": "2025-04-14T10:55:23.333Z"
   },
   {
    "duration": 7,
    "start_time": "2025-04-14T10:56:34.391Z"
   },
   {
    "duration": 206,
    "start_time": "2025-04-14T11:01:32.612Z"
   },
   {
    "duration": 196,
    "start_time": "2025-04-14T11:01:41.571Z"
   },
   {
    "duration": 191,
    "start_time": "2025-04-14T11:02:29.611Z"
   },
   {
    "duration": 2651,
    "start_time": "2025-04-14T11:03:48.969Z"
   },
   {
    "duration": 238,
    "start_time": "2025-04-14T11:03:51.622Z"
   },
   {
    "duration": 15,
    "start_time": "2025-04-14T11:03:51.861Z"
   },
   {
    "duration": 36,
    "start_time": "2025-04-14T11:03:51.877Z"
   },
   {
    "duration": 14,
    "start_time": "2025-04-14T11:03:51.915Z"
   },
   {
    "duration": 18,
    "start_time": "2025-04-14T11:03:51.931Z"
   },
   {
    "duration": 20,
    "start_time": "2025-04-14T11:03:51.951Z"
   },
   {
    "duration": 34,
    "start_time": "2025-04-14T11:03:51.973Z"
   },
   {
    "duration": 26,
    "start_time": "2025-04-14T11:03:52.009Z"
   },
   {
    "duration": 11,
    "start_time": "2025-04-14T11:03:52.036Z"
   },
   {
    "duration": 12,
    "start_time": "2025-04-14T11:03:52.048Z"
   },
   {
    "duration": 11,
    "start_time": "2025-04-14T11:03:52.062Z"
   },
   {
    "duration": 23,
    "start_time": "2025-04-14T11:03:52.075Z"
   },
   {
    "duration": 33,
    "start_time": "2025-04-14T11:03:52.101Z"
   },
   {
    "duration": 38,
    "start_time": "2025-04-14T11:03:52.136Z"
   },
   {
    "duration": 9,
    "start_time": "2025-04-14T11:03:52.175Z"
   },
   {
    "duration": 21,
    "start_time": "2025-04-14T11:03:52.186Z"
   },
   {
    "duration": 17,
    "start_time": "2025-04-14T11:03:52.209Z"
   },
   {
    "duration": 22,
    "start_time": "2025-04-14T11:03:52.228Z"
   },
   {
    "duration": 12,
    "start_time": "2025-04-14T11:03:52.252Z"
   },
   {
    "duration": 47,
    "start_time": "2025-04-14T11:03:52.266Z"
   },
   {
    "duration": 11,
    "start_time": "2025-04-14T11:03:52.315Z"
   },
   {
    "duration": 16,
    "start_time": "2025-04-14T11:03:52.328Z"
   },
   {
    "duration": 46,
    "start_time": "2025-04-14T11:03:52.346Z"
   },
   {
    "duration": 11,
    "start_time": "2025-04-14T11:03:52.394Z"
   },
   {
    "duration": 20,
    "start_time": "2025-04-14T11:03:52.406Z"
   },
   {
    "duration": 185,
    "start_time": "2025-04-14T11:03:52.428Z"
   },
   {
    "duration": 6,
    "start_time": "2025-04-14T11:03:52.616Z"
   },
   {
    "duration": 102,
    "start_time": "2025-04-14T11:03:52.624Z"
   },
   {
    "duration": 214,
    "start_time": "2025-04-14T11:03:52.728Z"
   },
   {
    "duration": 322,
    "start_time": "2025-04-14T11:05:31.573Z"
   },
   {
    "duration": 226,
    "start_time": "2025-04-14T11:06:34.174Z"
   },
   {
    "duration": 219,
    "start_time": "2025-04-14T11:06:47.713Z"
   },
   {
    "duration": 221,
    "start_time": "2025-04-14T11:07:39.216Z"
   },
   {
    "duration": 189,
    "start_time": "2025-04-14T11:07:51.001Z"
   },
   {
    "duration": 208,
    "start_time": "2025-04-14T11:10:46.136Z"
   },
   {
    "duration": 21,
    "start_time": "2025-04-14T11:15:19.807Z"
   },
   {
    "duration": 7,
    "start_time": "2025-04-14T11:15:39.060Z"
   },
   {
    "duration": 8,
    "start_time": "2025-04-14T11:17:25.203Z"
   },
   {
    "duration": 20,
    "start_time": "2025-04-14T11:20:27.713Z"
   },
   {
    "duration": 7,
    "start_time": "2025-04-14T11:24:01.716Z"
   },
   {
    "duration": 2599,
    "start_time": "2025-04-14T11:24:09.773Z"
   },
   {
    "duration": 172,
    "start_time": "2025-04-14T11:24:12.375Z"
   },
   {
    "duration": 13,
    "start_time": "2025-04-14T11:24:12.549Z"
   },
   {
    "duration": 17,
    "start_time": "2025-04-14T11:24:12.564Z"
   },
   {
    "duration": 10,
    "start_time": "2025-04-14T11:24:12.583Z"
   },
   {
    "duration": 13,
    "start_time": "2025-04-14T11:24:12.594Z"
   },
   {
    "duration": 15,
    "start_time": "2025-04-14T11:24:12.608Z"
   },
   {
    "duration": 15,
    "start_time": "2025-04-14T11:24:12.624Z"
   },
   {
    "duration": 9,
    "start_time": "2025-04-14T11:24:12.640Z"
   },
   {
    "duration": 8,
    "start_time": "2025-04-14T11:24:12.651Z"
   },
   {
    "duration": 14,
    "start_time": "2025-04-14T11:24:12.661Z"
   },
   {
    "duration": 58,
    "start_time": "2025-04-14T11:24:12.677Z"
   },
   {
    "duration": 7,
    "start_time": "2025-04-14T11:24:12.737Z"
   },
   {
    "duration": 8,
    "start_time": "2025-04-14T11:24:12.746Z"
   },
   {
    "duration": 11,
    "start_time": "2025-04-14T11:24:12.756Z"
   },
   {
    "duration": 12,
    "start_time": "2025-04-14T11:24:12.769Z"
   },
   {
    "duration": 33,
    "start_time": "2025-04-14T11:24:12.783Z"
   },
   {
    "duration": 18,
    "start_time": "2025-04-14T11:24:12.818Z"
   },
   {
    "duration": 118,
    "start_time": "2025-04-14T11:24:12.839Z"
   },
   {
    "duration": 19,
    "start_time": "2025-04-14T11:24:12.959Z"
   },
   {
    "duration": 34,
    "start_time": "2025-04-14T11:24:12.980Z"
   },
   {
    "duration": 9,
    "start_time": "2025-04-14T11:24:13.017Z"
   },
   {
    "duration": 24,
    "start_time": "2025-04-14T11:24:13.028Z"
   },
   {
    "duration": 30,
    "start_time": "2025-04-14T11:24:13.054Z"
   },
   {
    "duration": 6,
    "start_time": "2025-04-14T11:24:13.086Z"
   },
   {
    "duration": 20,
    "start_time": "2025-04-14T11:24:13.093Z"
   },
   {
    "duration": 174,
    "start_time": "2025-04-14T11:24:13.115Z"
   },
   {
    "duration": 13,
    "start_time": "2025-04-14T11:24:13.293Z"
   },
   {
    "duration": 8,
    "start_time": "2025-04-14T11:24:13.308Z"
   },
   {
    "duration": 212,
    "start_time": "2025-04-14T11:24:13.318Z"
   },
   {
    "duration": 7,
    "start_time": "2025-04-14T11:24:13.532Z"
   },
   {
    "duration": 191,
    "start_time": "2025-04-14T11:24:13.541Z"
   },
   {
    "duration": 0,
    "start_time": "2025-04-14T11:24:13.734Z"
   },
   {
    "duration": 8,
    "start_time": "2025-04-14T11:24:38.157Z"
   },
   {
    "duration": 20,
    "start_time": "2025-04-14T11:24:51.616Z"
   },
   {
    "duration": 160,
    "start_time": "2025-04-14T11:24:57.846Z"
   },
   {
    "duration": 171,
    "start_time": "2025-04-14T11:25:10.823Z"
   },
   {
    "duration": 11,
    "start_time": "2025-04-14T11:25:53.531Z"
   },
   {
    "duration": 162,
    "start_time": "2025-04-14T11:26:31.062Z"
   },
   {
    "duration": 182,
    "start_time": "2025-04-14T11:27:59.524Z"
   },
   {
    "duration": 277,
    "start_time": "2025-04-14T11:28:35.097Z"
   },
   {
    "duration": 196,
    "start_time": "2025-04-14T11:29:33.591Z"
   },
   {
    "duration": 182,
    "start_time": "2025-04-14T11:29:44.331Z"
   },
   {
    "duration": 188,
    "start_time": "2025-04-14T11:29:49.670Z"
   },
   {
    "duration": 190,
    "start_time": "2025-04-14T11:30:00.017Z"
   },
   {
    "duration": 188,
    "start_time": "2025-04-14T11:31:11.637Z"
   },
   {
    "duration": 88,
    "start_time": "2025-04-14T11:31:18.196Z"
   },
   {
    "duration": 193,
    "start_time": "2025-04-14T11:31:56.356Z"
   },
   {
    "duration": 2681,
    "start_time": "2025-04-14T11:34:42.551Z"
   },
   {
    "duration": 210,
    "start_time": "2025-04-14T11:34:45.235Z"
   },
   {
    "duration": 15,
    "start_time": "2025-04-14T11:34:45.447Z"
   },
   {
    "duration": 48,
    "start_time": "2025-04-14T11:34:45.464Z"
   },
   {
    "duration": 16,
    "start_time": "2025-04-14T11:34:45.516Z"
   },
   {
    "duration": 39,
    "start_time": "2025-04-14T11:34:45.535Z"
   },
   {
    "duration": 54,
    "start_time": "2025-04-14T11:34:45.576Z"
   },
   {
    "duration": 16,
    "start_time": "2025-04-14T11:34:45.632Z"
   },
   {
    "duration": 10,
    "start_time": "2025-04-14T11:34:45.649Z"
   },
   {
    "duration": 10,
    "start_time": "2025-04-14T11:34:45.660Z"
   },
   {
    "duration": 29,
    "start_time": "2025-04-14T11:34:45.672Z"
   },
   {
    "duration": 12,
    "start_time": "2025-04-14T11:34:45.703Z"
   },
   {
    "duration": 9,
    "start_time": "2025-04-14T11:34:45.717Z"
   },
   {
    "duration": 8,
    "start_time": "2025-04-14T11:34:45.729Z"
   },
   {
    "duration": 9,
    "start_time": "2025-04-14T11:34:45.738Z"
   },
   {
    "duration": 20,
    "start_time": "2025-04-14T11:34:45.749Z"
   },
   {
    "duration": 90,
    "start_time": "2025-04-14T11:34:45.771Z"
   },
   {
    "duration": 19,
    "start_time": "2025-04-14T11:34:45.862Z"
   },
   {
    "duration": 21,
    "start_time": "2025-04-14T11:34:45.883Z"
   },
   {
    "duration": 19,
    "start_time": "2025-04-14T11:34:45.906Z"
   },
   {
    "duration": 25,
    "start_time": "2025-04-14T11:34:45.927Z"
   },
   {
    "duration": 10,
    "start_time": "2025-04-14T11:34:45.954Z"
   },
   {
    "duration": 16,
    "start_time": "2025-04-14T11:34:45.965Z"
   },
   {
    "duration": 25,
    "start_time": "2025-04-14T11:34:45.983Z"
   },
   {
    "duration": 11,
    "start_time": "2025-04-14T11:34:46.009Z"
   },
   {
    "duration": 12,
    "start_time": "2025-04-14T11:34:46.022Z"
   },
   {
    "duration": 198,
    "start_time": "2025-04-14T11:34:46.036Z"
   },
   {
    "duration": 6,
    "start_time": "2025-04-14T11:34:46.236Z"
   },
   {
    "duration": 8,
    "start_time": "2025-04-14T11:34:46.244Z"
   },
   {
    "duration": 231,
    "start_time": "2025-04-14T11:34:46.254Z"
   },
   {
    "duration": 20,
    "start_time": "2025-04-14T11:34:46.488Z"
   },
   {
    "duration": 194,
    "start_time": "2025-04-14T11:34:46.510Z"
   },
   {
    "duration": 307,
    "start_time": "2025-04-14T11:35:39.840Z"
   },
   {
    "duration": 176,
    "start_time": "2025-04-14T11:36:12.236Z"
   },
   {
    "duration": 6,
    "start_time": "2025-04-14T12:31:29.905Z"
   },
   {
    "duration": 7,
    "start_time": "2025-04-14T12:31:38.865Z"
   },
   {
    "duration": 14,
    "start_time": "2025-04-14T12:46:50.867Z"
   },
   {
    "duration": 2603,
    "start_time": "2025-04-14T12:47:04.166Z"
   },
   {
    "duration": 219,
    "start_time": "2025-04-14T12:47:06.772Z"
   },
   {
    "duration": 12,
    "start_time": "2025-04-14T12:47:06.993Z"
   },
   {
    "duration": 27,
    "start_time": "2025-04-14T12:47:07.008Z"
   },
   {
    "duration": 24,
    "start_time": "2025-04-14T12:47:07.037Z"
   },
   {
    "duration": 35,
    "start_time": "2025-04-14T12:47:07.062Z"
   },
   {
    "duration": 92,
    "start_time": "2025-04-14T12:47:07.099Z"
   },
   {
    "duration": 15,
    "start_time": "2025-04-14T12:47:07.193Z"
   },
   {
    "duration": 127,
    "start_time": "2025-04-14T12:47:07.209Z"
   },
   {
    "duration": 22,
    "start_time": "2025-04-14T12:47:07.338Z"
   },
   {
    "duration": 27,
    "start_time": "2025-04-14T12:47:07.361Z"
   },
   {
    "duration": 21,
    "start_time": "2025-04-14T12:47:07.390Z"
   },
   {
    "duration": 31,
    "start_time": "2025-04-14T12:47:07.412Z"
   },
   {
    "duration": 36,
    "start_time": "2025-04-14T12:47:07.444Z"
   },
   {
    "duration": 25,
    "start_time": "2025-04-14T12:47:07.482Z"
   },
   {
    "duration": 28,
    "start_time": "2025-04-14T12:47:07.509Z"
   },
   {
    "duration": 18,
    "start_time": "2025-04-14T12:47:07.539Z"
   },
   {
    "duration": 31,
    "start_time": "2025-04-14T12:47:07.559Z"
   },
   {
    "duration": 24,
    "start_time": "2025-04-14T12:47:07.592Z"
   },
   {
    "duration": 27,
    "start_time": "2025-04-14T12:47:07.617Z"
   },
   {
    "duration": 26,
    "start_time": "2025-04-14T12:47:07.646Z"
   },
   {
    "duration": 11,
    "start_time": "2025-04-14T12:47:07.673Z"
   },
   {
    "duration": 24,
    "start_time": "2025-04-14T12:47:07.686Z"
   },
   {
    "duration": 22,
    "start_time": "2025-04-14T12:47:07.712Z"
   },
   {
    "duration": 16,
    "start_time": "2025-04-14T12:47:07.736Z"
   },
   {
    "duration": 22,
    "start_time": "2025-04-14T12:47:07.754Z"
   },
   {
    "duration": 179,
    "start_time": "2025-04-14T12:47:07.778Z"
   },
   {
    "duration": 7,
    "start_time": "2025-04-14T12:47:07.960Z"
   },
   {
    "duration": 328,
    "start_time": "2025-04-14T12:47:07.969Z"
   },
   {
    "duration": 12,
    "start_time": "2025-04-14T12:47:08.299Z"
   },
   {
    "duration": 194,
    "start_time": "2025-04-14T12:47:08.313Z"
   },
   {
    "duration": 4,
    "start_time": "2025-04-14T12:47:08.510Z"
   },
   {
    "duration": 138,
    "start_time": "2025-04-14T12:47:08.516Z"
   },
   {
    "duration": 137,
    "start_time": "2025-04-14T12:49:31.987Z"
   },
   {
    "duration": 142,
    "start_time": "2025-04-14T12:49:54.216Z"
   },
   {
    "duration": 6,
    "start_time": "2025-04-14T12:51:01.133Z"
   },
   {
    "duration": 140,
    "start_time": "2025-04-14T12:51:50.973Z"
   },
   {
    "duration": 167,
    "start_time": "2025-04-14T12:51:57.426Z"
   },
   {
    "duration": 137,
    "start_time": "2025-04-14T12:52:10.197Z"
   },
   {
    "duration": 150,
    "start_time": "2025-04-14T13:00:39.698Z"
   },
   {
    "duration": 139,
    "start_time": "2025-04-14T13:00:45.498Z"
   },
   {
    "duration": 218,
    "start_time": "2025-04-14T13:35:00.993Z"
   },
   {
    "duration": 219,
    "start_time": "2025-04-14T13:35:21.756Z"
   },
   {
    "duration": 358,
    "start_time": "2025-04-14T13:37:32.488Z"
   },
   {
    "duration": 224,
    "start_time": "2025-04-14T13:38:44.009Z"
   },
   {
    "duration": 222,
    "start_time": "2025-04-14T13:39:24.015Z"
   },
   {
    "duration": 18,
    "start_time": "2025-04-14T13:41:26.270Z"
   },
   {
    "duration": 223,
    "start_time": "2025-04-14T13:43:35.654Z"
   },
   {
    "duration": 243,
    "start_time": "2025-04-14T13:45:30.663Z"
   },
   {
    "duration": 218,
    "start_time": "2025-04-14T13:45:47.411Z"
   },
   {
    "duration": 241,
    "start_time": "2025-04-14T13:45:56.765Z"
   },
   {
    "duration": 232,
    "start_time": "2025-04-14T13:46:34.314Z"
   },
   {
    "duration": 250,
    "start_time": "2025-04-14T13:46:38.082Z"
   },
   {
    "duration": 251,
    "start_time": "2025-04-14T13:48:09.471Z"
   },
   {
    "duration": 241,
    "start_time": "2025-04-14T13:49:02.125Z"
   },
   {
    "duration": 258,
    "start_time": "2025-04-14T13:49:12.705Z"
   },
   {
    "duration": 251,
    "start_time": "2025-04-14T13:49:22.953Z"
   },
   {
    "duration": 374,
    "start_time": "2025-04-14T13:50:27.641Z"
   },
   {
    "duration": 237,
    "start_time": "2025-04-14T13:50:49.095Z"
   },
   {
    "duration": 238,
    "start_time": "2025-04-14T13:50:58.441Z"
   },
   {
    "duration": 10,
    "start_time": "2025-04-14T13:52:55.851Z"
   },
   {
    "duration": 9,
    "start_time": "2025-04-14T13:53:11.803Z"
   },
   {
    "duration": 16,
    "start_time": "2025-04-14T13:53:59.945Z"
   },
   {
    "duration": 8,
    "start_time": "2025-04-14T13:54:07.295Z"
   },
   {
    "duration": 164,
    "start_time": "2025-04-14T14:16:57.259Z"
   },
   {
    "duration": 2848,
    "start_time": "2025-04-14T14:17:14.758Z"
   },
   {
    "duration": 440,
    "start_time": "2025-04-14T14:17:17.609Z"
   },
   {
    "duration": 16,
    "start_time": "2025-04-14T14:17:18.052Z"
   },
   {
    "duration": 103,
    "start_time": "2025-04-14T14:17:18.071Z"
   },
   {
    "duration": 24,
    "start_time": "2025-04-14T14:17:18.176Z"
   },
   {
    "duration": 26,
    "start_time": "2025-04-14T14:17:18.201Z"
   },
   {
    "duration": 17,
    "start_time": "2025-04-14T14:17:18.232Z"
   },
   {
    "duration": 52,
    "start_time": "2025-04-14T14:17:18.252Z"
   },
   {
    "duration": 17,
    "start_time": "2025-04-14T14:17:18.306Z"
   },
   {
    "duration": 28,
    "start_time": "2025-04-14T14:17:18.326Z"
   },
   {
    "duration": 19,
    "start_time": "2025-04-14T14:17:18.356Z"
   },
   {
    "duration": 31,
    "start_time": "2025-04-14T14:17:18.376Z"
   },
   {
    "duration": 23,
    "start_time": "2025-04-14T14:17:18.409Z"
   },
   {
    "duration": 15,
    "start_time": "2025-04-14T14:17:18.434Z"
   },
   {
    "duration": 19,
    "start_time": "2025-04-14T14:17:18.451Z"
   },
   {
    "duration": 13,
    "start_time": "2025-04-14T14:17:18.472Z"
   },
   {
    "duration": 105,
    "start_time": "2025-04-14T14:17:18.486Z"
   },
   {
    "duration": 32,
    "start_time": "2025-04-14T14:17:18.593Z"
   },
   {
    "duration": 24,
    "start_time": "2025-04-14T14:17:18.627Z"
   },
   {
    "duration": 22,
    "start_time": "2025-04-14T14:17:18.653Z"
   },
   {
    "duration": 103,
    "start_time": "2025-04-14T14:17:18.677Z"
   },
   {
    "duration": 10,
    "start_time": "2025-04-14T14:17:18.782Z"
   },
   {
    "duration": 36,
    "start_time": "2025-04-14T14:17:18.793Z"
   },
   {
    "duration": 8,
    "start_time": "2025-04-14T14:17:18.831Z"
   },
   {
    "duration": 29,
    "start_time": "2025-04-14T14:17:18.841Z"
   },
   {
    "duration": 17,
    "start_time": "2025-04-14T14:17:18.872Z"
   },
   {
    "duration": 191,
    "start_time": "2025-04-14T14:17:18.891Z"
   },
   {
    "duration": 7,
    "start_time": "2025-04-14T14:17:19.087Z"
   },
   {
    "duration": 250,
    "start_time": "2025-04-14T14:17:19.096Z"
   },
   {
    "duration": 9,
    "start_time": "2025-04-14T14:17:19.348Z"
   },
   {
    "duration": 208,
    "start_time": "2025-04-14T14:17:19.359Z"
   },
   {
    "duration": 7,
    "start_time": "2025-04-14T14:17:19.569Z"
   },
   {
    "duration": 240,
    "start_time": "2025-04-14T14:17:19.578Z"
   },
   {
    "duration": 11,
    "start_time": "2025-04-14T14:17:19.820Z"
   },
   {
    "duration": 280,
    "start_time": "2025-04-14T14:17:19.833Z"
   },
   {
    "duration": 179,
    "start_time": "2025-04-14T14:17:20.114Z"
   },
   {
    "duration": 147,
    "start_time": "2025-04-14T14:18:03.645Z"
   },
   {
    "duration": 176,
    "start_time": "2025-04-14T14:20:44.163Z"
   },
   {
    "duration": 1498,
    "start_time": "2025-04-14T14:21:48.946Z"
   },
   {
    "duration": 213,
    "start_time": "2025-04-14T14:22:08.625Z"
   },
   {
    "duration": 630,
    "start_time": "2025-04-14T14:22:19.096Z"
   },
   {
    "duration": 15,
    "start_time": "2025-04-14T14:23:42.433Z"
   },
   {
    "duration": 141,
    "start_time": "2025-04-14T14:23:49.941Z"
   },
   {
    "duration": 162,
    "start_time": "2025-04-14T14:24:04.704Z"
   },
   {
    "duration": 176,
    "start_time": "2025-04-14T14:28:37.799Z"
   },
   {
    "duration": 178,
    "start_time": "2025-04-14T14:30:04.777Z"
   },
   {
    "duration": 330,
    "start_time": "2025-04-14T14:30:22.055Z"
   },
   {
    "duration": 136,
    "start_time": "2025-04-14T14:30:43.228Z"
   },
   {
    "duration": 151,
    "start_time": "2025-04-14T14:30:58.730Z"
   },
   {
    "duration": 8,
    "start_time": "2025-04-14T14:32:39.725Z"
   },
   {
    "duration": 50,
    "start_time": "2025-04-15T06:41:24.331Z"
   },
   {
    "duration": 5002,
    "start_time": "2025-04-15T06:41:31.010Z"
   },
   {
    "duration": 282,
    "start_time": "2025-04-15T06:41:36.015Z"
   },
   {
    "duration": 18,
    "start_time": "2025-04-15T06:41:36.298Z"
   },
   {
    "duration": 58,
    "start_time": "2025-04-15T06:41:36.318Z"
   },
   {
    "duration": 23,
    "start_time": "2025-04-15T06:41:36.378Z"
   },
   {
    "duration": 33,
    "start_time": "2025-04-15T06:41:36.403Z"
   },
   {
    "duration": 21,
    "start_time": "2025-04-15T06:41:36.439Z"
   },
   {
    "duration": 27,
    "start_time": "2025-04-15T06:41:36.462Z"
   },
   {
    "duration": 22,
    "start_time": "2025-04-15T06:41:36.491Z"
   },
   {
    "duration": 6,
    "start_time": "2025-04-15T06:41:36.517Z"
   },
   {
    "duration": 28,
    "start_time": "2025-04-15T06:41:36.525Z"
   },
   {
    "duration": 11,
    "start_time": "2025-04-15T06:41:36.555Z"
   },
   {
    "duration": 20,
    "start_time": "2025-04-15T06:41:36.568Z"
   },
   {
    "duration": 21,
    "start_time": "2025-04-15T06:41:36.589Z"
   },
   {
    "duration": 27,
    "start_time": "2025-04-15T06:41:36.612Z"
   },
   {
    "duration": 7,
    "start_time": "2025-04-15T06:41:36.641Z"
   },
   {
    "duration": 28,
    "start_time": "2025-04-15T06:41:36.649Z"
   },
   {
    "duration": 23,
    "start_time": "2025-04-15T06:41:36.679Z"
   },
   {
    "duration": 31,
    "start_time": "2025-04-15T06:41:36.704Z"
   },
   {
    "duration": 6,
    "start_time": "2025-04-15T06:41:36.736Z"
   },
   {
    "duration": 27,
    "start_time": "2025-04-15T06:41:36.744Z"
   },
   {
    "duration": 8,
    "start_time": "2025-04-15T06:41:36.773Z"
   },
   {
    "duration": 15,
    "start_time": "2025-04-15T06:41:36.783Z"
   },
   {
    "duration": 12,
    "start_time": "2025-04-15T06:41:36.800Z"
   },
   {
    "duration": 28,
    "start_time": "2025-04-15T06:41:36.814Z"
   },
   {
    "duration": 49,
    "start_time": "2025-04-15T06:41:36.844Z"
   },
   {
    "duration": 191,
    "start_time": "2025-04-15T06:41:36.895Z"
   },
   {
    "duration": 6,
    "start_time": "2025-04-15T06:41:37.089Z"
   },
   {
    "duration": 210,
    "start_time": "2025-04-15T06:41:37.096Z"
   },
   {
    "duration": 84,
    "start_time": "2025-04-15T06:41:37.308Z"
   },
   {
    "duration": 0,
    "start_time": "2025-04-15T06:41:37.393Z"
   },
   {
    "duration": 0,
    "start_time": "2025-04-15T06:41:37.395Z"
   },
   {
    "duration": 0,
    "start_time": "2025-04-15T06:41:37.396Z"
   },
   {
    "duration": 0,
    "start_time": "2025-04-15T06:41:37.397Z"
   },
   {
    "duration": 0,
    "start_time": "2025-04-15T06:41:37.398Z"
   },
   {
    "duration": 0,
    "start_time": "2025-04-15T06:41:37.400Z"
   },
   {
    "duration": 0,
    "start_time": "2025-04-15T06:41:37.401Z"
   },
   {
    "duration": 0,
    "start_time": "2025-04-15T06:41:37.402Z"
   },
   {
    "duration": 12,
    "start_time": "2025-04-15T06:42:39.975Z"
   },
   {
    "duration": 2455,
    "start_time": "2025-04-15T06:42:49.889Z"
   },
   {
    "duration": 267,
    "start_time": "2025-04-15T06:42:52.347Z"
   },
   {
    "duration": 12,
    "start_time": "2025-04-15T06:42:52.616Z"
   },
   {
    "duration": 39,
    "start_time": "2025-04-15T06:42:52.630Z"
   },
   {
    "duration": 9,
    "start_time": "2025-04-15T06:42:52.671Z"
   },
   {
    "duration": 16,
    "start_time": "2025-04-15T06:42:52.682Z"
   },
   {
    "duration": 13,
    "start_time": "2025-04-15T06:42:52.700Z"
   },
   {
    "duration": 13,
    "start_time": "2025-04-15T06:42:52.714Z"
   },
   {
    "duration": 7,
    "start_time": "2025-04-15T06:42:52.729Z"
   },
   {
    "duration": 4,
    "start_time": "2025-04-15T06:42:52.739Z"
   },
   {
    "duration": 18,
    "start_time": "2025-04-15T06:42:52.745Z"
   },
   {
    "duration": 21,
    "start_time": "2025-04-15T06:42:52.765Z"
   },
   {
    "duration": 24,
    "start_time": "2025-04-15T06:42:52.788Z"
   },
   {
    "duration": 9,
    "start_time": "2025-04-15T06:42:52.814Z"
   },
   {
    "duration": 13,
    "start_time": "2025-04-15T06:42:52.824Z"
   },
   {
    "duration": 8,
    "start_time": "2025-04-15T06:42:52.838Z"
   },
   {
    "duration": 24,
    "start_time": "2025-04-15T06:42:52.848Z"
   },
   {
    "duration": 22,
    "start_time": "2025-04-15T06:42:52.874Z"
   },
   {
    "duration": 30,
    "start_time": "2025-04-15T06:42:52.898Z"
   },
   {
    "duration": 22,
    "start_time": "2025-04-15T06:42:52.929Z"
   },
   {
    "duration": 26,
    "start_time": "2025-04-15T06:42:52.953Z"
   },
   {
    "duration": 11,
    "start_time": "2025-04-15T06:42:52.980Z"
   },
   {
    "duration": 12,
    "start_time": "2025-04-15T06:42:52.993Z"
   },
   {
    "duration": 6,
    "start_time": "2025-04-15T06:42:53.006Z"
   },
   {
    "duration": 5,
    "start_time": "2025-04-15T06:42:53.013Z"
   },
   {
    "duration": 23,
    "start_time": "2025-04-15T06:42:53.019Z"
   },
   {
    "duration": 162,
    "start_time": "2025-04-15T06:42:53.043Z"
   },
   {
    "duration": 6,
    "start_time": "2025-04-15T06:42:53.209Z"
   },
   {
    "duration": 214,
    "start_time": "2025-04-15T06:42:53.216Z"
   },
   {
    "duration": 20,
    "start_time": "2025-04-15T06:42:53.431Z"
   },
   {
    "duration": 0,
    "start_time": "2025-04-15T06:42:53.453Z"
   },
   {
    "duration": 0,
    "start_time": "2025-04-15T06:42:53.454Z"
   },
   {
    "duration": 0,
    "start_time": "2025-04-15T06:42:53.455Z"
   },
   {
    "duration": 0,
    "start_time": "2025-04-15T06:42:53.457Z"
   },
   {
    "duration": 0,
    "start_time": "2025-04-15T06:42:53.458Z"
   },
   {
    "duration": 0,
    "start_time": "2025-04-15T06:42:53.459Z"
   },
   {
    "duration": 0,
    "start_time": "2025-04-15T06:42:53.460Z"
   },
   {
    "duration": 0,
    "start_time": "2025-04-15T06:42:53.461Z"
   },
   {
    "duration": 10,
    "start_time": "2025-04-15T06:43:15.779Z"
   },
   {
    "duration": 5,
    "start_time": "2025-04-15T06:43:51.587Z"
   },
   {
    "duration": 14,
    "start_time": "2025-04-15T06:44:02.165Z"
   },
   {
    "duration": 13,
    "start_time": "2025-04-15T06:44:10.405Z"
   },
   {
    "duration": 8,
    "start_time": "2025-04-15T06:48:00.186Z"
   },
   {
    "duration": 183,
    "start_time": "2025-04-15T06:48:26.185Z"
   },
   {
    "duration": 6,
    "start_time": "2025-04-15T06:48:30.324Z"
   },
   {
    "duration": 127,
    "start_time": "2025-04-15T06:48:32.671Z"
   },
   {
    "duration": 8,
    "start_time": "2025-04-15T06:48:36.026Z"
   },
   {
    "duration": 323,
    "start_time": "2025-04-15T06:48:37.933Z"
   },
   {
    "duration": 14,
    "start_time": "2025-04-15T06:48:41.706Z"
   },
   {
    "duration": 171,
    "start_time": "2025-04-15T07:06:11.841Z"
   },
   {
    "duration": 182,
    "start_time": "2025-04-15T07:06:30.401Z"
   },
   {
    "duration": 204,
    "start_time": "2025-04-15T07:06:38.569Z"
   },
   {
    "duration": 223,
    "start_time": "2025-04-15T07:06:44.321Z"
   },
   {
    "duration": 136,
    "start_time": "2025-04-15T07:07:20.794Z"
   },
   {
    "duration": 139,
    "start_time": "2025-04-15T07:08:11.529Z"
   },
   {
    "duration": 194,
    "start_time": "2025-04-15T07:21:16.395Z"
   },
   {
    "duration": 218,
    "start_time": "2025-04-15T07:21:25.914Z"
   },
   {
    "duration": 194,
    "start_time": "2025-04-15T07:22:32.864Z"
   },
   {
    "duration": 212,
    "start_time": "2025-04-15T07:24:41.087Z"
   },
   {
    "duration": 237,
    "start_time": "2025-04-15T07:35:23.009Z"
   },
   {
    "duration": 159,
    "start_time": "2025-04-15T07:45:39.957Z"
   },
   {
    "duration": 156,
    "start_time": "2025-04-15T07:45:59.786Z"
   },
   {
    "duration": 160,
    "start_time": "2025-04-15T07:46:52.306Z"
   },
   {
    "duration": 169,
    "start_time": "2025-04-15T07:47:46.956Z"
   },
   {
    "duration": 184,
    "start_time": "2025-04-15T07:49:01.300Z"
   },
   {
    "duration": 172,
    "start_time": "2025-04-15T07:49:29.372Z"
   },
   {
    "duration": 8,
    "start_time": "2025-04-15T07:56:55.582Z"
   },
   {
    "duration": 8,
    "start_time": "2025-04-15T07:57:07.503Z"
   },
   {
    "duration": 9,
    "start_time": "2025-04-15T07:58:56.033Z"
   },
   {
    "duration": 18,
    "start_time": "2025-04-15T08:00:46.294Z"
   },
   {
    "duration": 20,
    "start_time": "2025-04-15T08:01:34.294Z"
   },
   {
    "duration": 14,
    "start_time": "2025-04-15T08:27:19.767Z"
   },
   {
    "duration": 11,
    "start_time": "2025-04-15T08:27:35.860Z"
   },
   {
    "duration": 15,
    "start_time": "2025-04-15T08:27:55.702Z"
   },
   {
    "duration": 279,
    "start_time": "2025-04-15T08:28:15.672Z"
   },
   {
    "duration": 9,
    "start_time": "2025-04-15T08:28:41.562Z"
   },
   {
    "duration": 9,
    "start_time": "2025-04-15T08:29:19.351Z"
   },
   {
    "duration": 8,
    "start_time": "2025-04-15T08:33:06.274Z"
   },
   {
    "duration": 8,
    "start_time": "2025-04-15T08:33:12.363Z"
   },
   {
    "duration": 11,
    "start_time": "2025-04-15T08:33:51.823Z"
   },
   {
    "duration": 157,
    "start_time": "2025-04-15T08:35:07.813Z"
   },
   {
    "duration": 5,
    "start_time": "2025-04-15T09:01:47.826Z"
   },
   {
    "duration": 18,
    "start_time": "2025-04-15T09:03:23.896Z"
   },
   {
    "duration": 16,
    "start_time": "2025-04-15T09:04:39.134Z"
   },
   {
    "duration": 2532,
    "start_time": "2025-04-15T09:05:58.447Z"
   },
   {
    "duration": 350,
    "start_time": "2025-04-15T09:06:00.982Z"
   },
   {
    "duration": 13,
    "start_time": "2025-04-15T09:06:01.334Z"
   },
   {
    "duration": 22,
    "start_time": "2025-04-15T09:06:01.349Z"
   },
   {
    "duration": 41,
    "start_time": "2025-04-15T09:06:01.373Z"
   },
   {
    "duration": 156,
    "start_time": "2025-04-15T09:06:01.416Z"
   },
   {
    "duration": 38,
    "start_time": "2025-04-15T09:06:01.574Z"
   },
   {
    "duration": 52,
    "start_time": "2025-04-15T09:06:01.614Z"
   },
   {
    "duration": 21,
    "start_time": "2025-04-15T09:06:01.668Z"
   },
   {
    "duration": 44,
    "start_time": "2025-04-15T09:06:01.693Z"
   },
   {
    "duration": 45,
    "start_time": "2025-04-15T09:06:01.739Z"
   },
   {
    "duration": 38,
    "start_time": "2025-04-15T09:06:01.786Z"
   },
   {
    "duration": 32,
    "start_time": "2025-04-15T09:06:01.825Z"
   },
   {
    "duration": 36,
    "start_time": "2025-04-15T09:06:01.859Z"
   },
   {
    "duration": 27,
    "start_time": "2025-04-15T09:06:01.897Z"
   },
   {
    "duration": 19,
    "start_time": "2025-04-15T09:06:01.925Z"
   },
   {
    "duration": 66,
    "start_time": "2025-04-15T09:06:01.945Z"
   },
   {
    "duration": 46,
    "start_time": "2025-04-15T09:06:02.013Z"
   },
   {
    "duration": 21,
    "start_time": "2025-04-15T09:06:02.061Z"
   },
   {
    "duration": 33,
    "start_time": "2025-04-15T09:06:02.084Z"
   },
   {
    "duration": 36,
    "start_time": "2025-04-15T09:06:02.119Z"
   },
   {
    "duration": 9,
    "start_time": "2025-04-15T09:06:02.157Z"
   },
   {
    "duration": 53,
    "start_time": "2025-04-15T09:06:02.168Z"
   },
   {
    "duration": 38,
    "start_time": "2025-04-15T09:06:02.222Z"
   },
   {
    "duration": 50,
    "start_time": "2025-04-15T09:06:02.261Z"
   },
   {
    "duration": 14,
    "start_time": "2025-04-15T09:06:02.312Z"
   },
   {
    "duration": 179,
    "start_time": "2025-04-15T09:06:02.328Z"
   },
   {
    "duration": 6,
    "start_time": "2025-04-15T09:06:02.510Z"
   },
   {
    "duration": 301,
    "start_time": "2025-04-15T09:06:02.517Z"
   },
   {
    "duration": 19,
    "start_time": "2025-04-15T09:06:02.820Z"
   },
   {
    "duration": 224,
    "start_time": "2025-04-15T09:06:02.840Z"
   },
   {
    "duration": 7,
    "start_time": "2025-04-15T09:06:03.065Z"
   },
   {
    "duration": 236,
    "start_time": "2025-04-15T09:06:03.074Z"
   },
   {
    "duration": 8,
    "start_time": "2025-04-15T09:06:03.312Z"
   },
   {
    "duration": 250,
    "start_time": "2025-04-15T09:06:03.322Z"
   },
   {
    "duration": 13,
    "start_time": "2025-04-15T09:06:03.574Z"
   },
   {
    "duration": 223,
    "start_time": "2025-04-15T09:06:03.589Z"
   },
   {
    "duration": 143,
    "start_time": "2025-04-15T09:06:03.815Z"
   },
   {
    "duration": 187,
    "start_time": "2025-04-15T09:06:03.959Z"
   },
   {
    "duration": 11,
    "start_time": "2025-04-15T09:06:04.148Z"
   },
   {
    "duration": 186,
    "start_time": "2025-04-15T09:06:04.161Z"
   },
   {
    "duration": 5,
    "start_time": "2025-04-15T09:06:04.350Z"
   },
   {
    "duration": 55,
    "start_time": "2025-04-15T09:06:04.357Z"
   },
   {
    "duration": 436,
    "start_time": "2025-04-15T09:08:03.036Z"
   },
   {
    "duration": 277,
    "start_time": "2025-04-15T09:11:09.494Z"
   },
   {
    "duration": 273,
    "start_time": "2025-04-15T09:11:30.456Z"
   },
   {
    "duration": 2112,
    "start_time": "2025-04-15T09:12:37.655Z"
   },
   {
    "duration": 2445,
    "start_time": "2025-04-15T09:17:08.466Z"
   },
   {
    "duration": 257,
    "start_time": "2025-04-15T09:17:10.914Z"
   },
   {
    "duration": 12,
    "start_time": "2025-04-15T09:17:11.172Z"
   },
   {
    "duration": 39,
    "start_time": "2025-04-15T09:17:11.186Z"
   },
   {
    "duration": 11,
    "start_time": "2025-04-15T09:17:11.228Z"
   },
   {
    "duration": 40,
    "start_time": "2025-04-15T09:17:11.240Z"
   },
   {
    "duration": 23,
    "start_time": "2025-04-15T09:17:11.281Z"
   },
   {
    "duration": 14,
    "start_time": "2025-04-15T09:17:11.305Z"
   },
   {
    "duration": 8,
    "start_time": "2025-04-15T09:17:11.320Z"
   },
   {
    "duration": 5,
    "start_time": "2025-04-15T09:17:11.329Z"
   },
   {
    "duration": 27,
    "start_time": "2025-04-15T09:17:11.336Z"
   },
   {
    "duration": 18,
    "start_time": "2025-04-15T09:17:11.365Z"
   },
   {
    "duration": 8,
    "start_time": "2025-04-15T09:17:11.384Z"
   },
   {
    "duration": 17,
    "start_time": "2025-04-15T09:17:11.395Z"
   },
   {
    "duration": 7,
    "start_time": "2025-04-15T09:17:11.413Z"
   },
   {
    "duration": 29,
    "start_time": "2025-04-15T09:17:11.422Z"
   },
   {
    "duration": 19,
    "start_time": "2025-04-15T09:17:11.453Z"
   },
   {
    "duration": 20,
    "start_time": "2025-04-15T09:17:11.474Z"
   },
   {
    "duration": 26,
    "start_time": "2025-04-15T09:17:11.497Z"
   },
   {
    "duration": 11,
    "start_time": "2025-04-15T09:17:11.525Z"
   },
   {
    "duration": 47,
    "start_time": "2025-04-15T09:17:11.539Z"
   },
   {
    "duration": 10,
    "start_time": "2025-04-15T09:17:11.588Z"
   },
   {
    "duration": 15,
    "start_time": "2025-04-15T09:17:11.599Z"
   },
   {
    "duration": 6,
    "start_time": "2025-04-15T09:17:11.616Z"
   },
   {
    "duration": 4,
    "start_time": "2025-04-15T09:17:11.636Z"
   },
   {
    "duration": 8,
    "start_time": "2025-04-15T09:17:11.642Z"
   },
   {
    "duration": 169,
    "start_time": "2025-04-15T09:17:11.652Z"
   },
   {
    "duration": 13,
    "start_time": "2025-04-15T09:17:11.824Z"
   },
   {
    "duration": 212,
    "start_time": "2025-04-15T09:17:11.839Z"
   },
   {
    "duration": 9,
    "start_time": "2025-04-15T09:17:12.052Z"
   },
   {
    "duration": 180,
    "start_time": "2025-04-15T09:17:12.063Z"
   },
   {
    "duration": 6,
    "start_time": "2025-04-15T09:17:12.246Z"
   },
   {
    "duration": 222,
    "start_time": "2025-04-15T09:17:12.254Z"
   },
   {
    "duration": 10,
    "start_time": "2025-04-15T09:17:12.478Z"
   },
   {
    "duration": 242,
    "start_time": "2025-04-15T09:17:12.489Z"
   },
   {
    "duration": 13,
    "start_time": "2025-04-15T09:17:12.736Z"
   },
   {
    "duration": 265,
    "start_time": "2025-04-15T09:17:12.751Z"
   },
   {
    "duration": 145,
    "start_time": "2025-04-15T09:17:13.018Z"
   },
   {
    "duration": 179,
    "start_time": "2025-04-15T09:17:13.165Z"
   },
   {
    "duration": 11,
    "start_time": "2025-04-15T09:17:13.345Z"
   },
   {
    "duration": 179,
    "start_time": "2025-04-15T09:17:13.360Z"
   },
   {
    "duration": 1826,
    "start_time": "2025-04-15T09:17:13.540Z"
   },
   {
    "duration": 378,
    "start_time": "2025-04-15T09:19:40.944Z"
   },
   {
    "duration": 306,
    "start_time": "2025-04-15T09:42:19.526Z"
   },
   {
    "duration": 371,
    "start_time": "2025-04-15T09:42:33.122Z"
   },
   {
    "duration": 370,
    "start_time": "2025-04-15T09:43:21.736Z"
   },
   {
    "duration": 84,
    "start_time": "2025-04-15T09:49:55.944Z"
   },
   {
    "duration": 2522,
    "start_time": "2025-04-15T09:50:06.273Z"
   },
   {
    "duration": 800,
    "start_time": "2025-04-15T09:50:08.798Z"
   },
   {
    "duration": 12,
    "start_time": "2025-04-15T09:50:09.599Z"
   },
   {
    "duration": 31,
    "start_time": "2025-04-15T09:50:09.613Z"
   },
   {
    "duration": 9,
    "start_time": "2025-04-15T09:50:09.645Z"
   },
   {
    "duration": 38,
    "start_time": "2025-04-15T09:50:09.655Z"
   },
   {
    "duration": 13,
    "start_time": "2025-04-15T09:50:09.695Z"
   },
   {
    "duration": 16,
    "start_time": "2025-04-15T09:50:09.710Z"
   },
   {
    "duration": 9,
    "start_time": "2025-04-15T09:50:09.727Z"
   },
   {
    "duration": 5,
    "start_time": "2025-04-15T09:50:09.739Z"
   },
   {
    "duration": 24,
    "start_time": "2025-04-15T09:50:09.746Z"
   },
   {
    "duration": 15,
    "start_time": "2025-04-15T09:50:09.772Z"
   },
   {
    "duration": 6,
    "start_time": "2025-04-15T09:50:09.789Z"
   },
   {
    "duration": 11,
    "start_time": "2025-04-15T09:50:09.797Z"
   },
   {
    "duration": 26,
    "start_time": "2025-04-15T09:50:09.810Z"
   },
   {
    "duration": 8,
    "start_time": "2025-04-15T09:50:09.838Z"
   },
   {
    "duration": 13,
    "start_time": "2025-04-15T09:50:09.847Z"
   },
   {
    "duration": 15,
    "start_time": "2025-04-15T09:50:09.862Z"
   },
   {
    "duration": 21,
    "start_time": "2025-04-15T09:50:09.878Z"
   },
   {
    "duration": 15,
    "start_time": "2025-04-15T09:50:09.900Z"
   },
   {
    "duration": 24,
    "start_time": "2025-04-15T09:50:09.936Z"
   },
   {
    "duration": 8,
    "start_time": "2025-04-15T09:50:09.961Z"
   },
   {
    "duration": 28,
    "start_time": "2025-04-15T09:50:09.970Z"
   },
   {
    "duration": 20,
    "start_time": "2025-04-15T09:50:10.000Z"
   },
   {
    "duration": 8,
    "start_time": "2025-04-15T09:50:10.022Z"
   },
   {
    "duration": 41,
    "start_time": "2025-04-15T09:50:10.032Z"
   },
   {
    "duration": 184,
    "start_time": "2025-04-15T09:50:10.075Z"
   },
   {
    "duration": 7,
    "start_time": "2025-04-15T09:50:10.263Z"
   },
   {
    "duration": 219,
    "start_time": "2025-04-15T09:50:10.271Z"
   },
   {
    "duration": 8,
    "start_time": "2025-04-15T09:50:10.492Z"
   },
   {
    "duration": 193,
    "start_time": "2025-04-15T09:50:10.502Z"
   },
   {
    "duration": 6,
    "start_time": "2025-04-15T09:50:10.697Z"
   },
   {
    "duration": 291,
    "start_time": "2025-04-15T09:50:10.705Z"
   },
   {
    "duration": 9,
    "start_time": "2025-04-15T09:50:10.997Z"
   },
   {
    "duration": 248,
    "start_time": "2025-04-15T09:50:11.008Z"
   },
   {
    "duration": 14,
    "start_time": "2025-04-15T09:50:11.257Z"
   },
   {
    "duration": 312,
    "start_time": "2025-04-15T09:50:11.273Z"
   },
   {
    "duration": 141,
    "start_time": "2025-04-15T09:50:11.587Z"
   },
   {
    "duration": 180,
    "start_time": "2025-04-15T09:50:11.730Z"
   },
   {
    "duration": 11,
    "start_time": "2025-04-15T09:50:11.912Z"
   },
   {
    "duration": 168,
    "start_time": "2025-04-15T09:50:11.936Z"
   },
   {
    "duration": 496,
    "start_time": "2025-04-15T09:50:12.106Z"
   },
   {
    "duration": 52,
    "start_time": "2025-04-15T09:50:12.604Z"
   },
   {
    "duration": 284,
    "start_time": "2025-04-15T09:50:27.625Z"
   },
   {
    "duration": 227,
    "start_time": "2025-04-15T09:51:56.334Z"
   },
   {
    "duration": 108,
    "start_time": "2025-04-15T09:54:38.128Z"
   },
   {
    "duration": 104,
    "start_time": "2025-04-15T09:54:42.334Z"
   },
   {
    "duration": 276,
    "start_time": "2025-04-15T09:54:46.526Z"
   },
   {
    "duration": 153,
    "start_time": "2025-04-15T10:07:50.024Z"
   },
   {
    "duration": 26,
    "start_time": "2025-04-15T10:09:03.654Z"
   },
   {
    "duration": 75,
    "start_time": "2025-04-15T10:10:35.274Z"
   },
   {
    "duration": 126,
    "start_time": "2025-04-15T10:10:40.664Z"
   },
   {
    "duration": 5,
    "start_time": "2025-04-15T10:13:16.544Z"
   },
   {
    "duration": 193,
    "start_time": "2025-04-15T10:14:03.343Z"
   },
   {
    "duration": 15,
    "start_time": "2025-04-15T10:14:26.962Z"
   },
   {
    "duration": 194,
    "start_time": "2025-04-15T10:14:32.165Z"
   },
   {
    "duration": 186,
    "start_time": "2025-04-15T10:14:40.402Z"
   },
   {
    "duration": 189,
    "start_time": "2025-04-15T10:15:02.824Z"
   },
   {
    "duration": 2503,
    "start_time": "2025-04-15T10:15:14.565Z"
   },
   {
    "duration": 175,
    "start_time": "2025-04-15T10:15:17.072Z"
   },
   {
    "duration": 14,
    "start_time": "2025-04-15T10:15:17.249Z"
   },
   {
    "duration": 25,
    "start_time": "2025-04-15T10:15:17.265Z"
   },
   {
    "duration": 12,
    "start_time": "2025-04-15T10:15:17.292Z"
   },
   {
    "duration": 13,
    "start_time": "2025-04-15T10:15:17.305Z"
   },
   {
    "duration": 14,
    "start_time": "2025-04-15T10:15:17.337Z"
   },
   {
    "duration": 17,
    "start_time": "2025-04-15T10:15:17.352Z"
   },
   {
    "duration": 6,
    "start_time": "2025-04-15T10:15:17.371Z"
   },
   {
    "duration": 130,
    "start_time": "2025-04-15T10:15:17.380Z"
   },
   {
    "duration": 10,
    "start_time": "2025-04-15T10:15:17.512Z"
   },
   {
    "duration": 10,
    "start_time": "2025-04-15T10:15:17.524Z"
   },
   {
    "duration": 9,
    "start_time": "2025-04-15T10:15:17.536Z"
   },
   {
    "duration": 7,
    "start_time": "2025-04-15T10:15:17.546Z"
   },
   {
    "duration": 20,
    "start_time": "2025-04-15T10:15:17.555Z"
   },
   {
    "duration": 9,
    "start_time": "2025-04-15T10:15:17.577Z"
   },
   {
    "duration": 15,
    "start_time": "2025-04-15T10:15:17.587Z"
   },
   {
    "duration": 36,
    "start_time": "2025-04-15T10:15:17.604Z"
   },
   {
    "duration": 21,
    "start_time": "2025-04-15T10:15:17.642Z"
   },
   {
    "duration": 6,
    "start_time": "2025-04-15T10:15:17.666Z"
   },
   {
    "duration": 25,
    "start_time": "2025-04-15T10:15:17.674Z"
   },
   {
    "duration": 37,
    "start_time": "2025-04-15T10:15:17.701Z"
   },
   {
    "duration": 13,
    "start_time": "2025-04-15T10:15:17.740Z"
   },
   {
    "duration": 7,
    "start_time": "2025-04-15T10:15:17.755Z"
   },
   {
    "duration": 17,
    "start_time": "2025-04-15T10:15:17.764Z"
   },
   {
    "duration": 12,
    "start_time": "2025-04-15T10:15:17.783Z"
   },
   {
    "duration": 181,
    "start_time": "2025-04-15T10:15:17.803Z"
   },
   {
    "duration": 6,
    "start_time": "2025-04-15T10:15:17.989Z"
   },
   {
    "duration": 339,
    "start_time": "2025-04-15T10:15:17.997Z"
   },
   {
    "duration": 10,
    "start_time": "2025-04-15T10:15:18.338Z"
   },
   {
    "duration": 193,
    "start_time": "2025-04-15T10:15:18.349Z"
   },
   {
    "duration": 7,
    "start_time": "2025-04-15T10:15:18.544Z"
   },
   {
    "duration": 165,
    "start_time": "2025-04-15T10:15:18.553Z"
   },
   {
    "duration": 17,
    "start_time": "2025-04-15T10:15:18.719Z"
   },
   {
    "duration": 402,
    "start_time": "2025-04-15T10:15:18.738Z"
   },
   {
    "duration": 13,
    "start_time": "2025-04-15T10:15:19.142Z"
   },
   {
    "duration": 229,
    "start_time": "2025-04-15T10:15:19.156Z"
   },
   {
    "duration": 140,
    "start_time": "2025-04-15T10:15:19.387Z"
   },
   {
    "duration": 184,
    "start_time": "2025-04-15T10:15:19.529Z"
   },
   {
    "duration": 24,
    "start_time": "2025-04-15T10:15:19.715Z"
   },
   {
    "duration": 171,
    "start_time": "2025-04-15T10:15:19.741Z"
   },
   {
    "duration": 526,
    "start_time": "2025-04-15T10:15:19.913Z"
   },
   {
    "duration": 267,
    "start_time": "2025-04-15T10:15:20.441Z"
   },
   {
    "duration": 4,
    "start_time": "2025-04-15T10:15:20.710Z"
   },
   {
    "duration": 364,
    "start_time": "2025-04-15T10:15:20.715Z"
   },
   {
    "duration": 192,
    "start_time": "2025-04-15T10:15:39.325Z"
   },
   {
    "duration": 209,
    "start_time": "2025-04-15T10:15:47.145Z"
   },
   {
    "duration": 209,
    "start_time": "2025-04-15T10:15:57.294Z"
   },
   {
    "duration": 198,
    "start_time": "2025-04-15T10:19:25.738Z"
   },
   {
    "duration": 12,
    "start_time": "2025-04-15T11:13:27.932Z"
   },
   {
    "duration": 14,
    "start_time": "2025-04-15T11:14:48.672Z"
   },
   {
    "duration": 12,
    "start_time": "2025-04-15T11:16:18.904Z"
   },
   {
    "duration": 29,
    "start_time": "2025-04-15T11:16:37.824Z"
   },
   {
    "duration": 19,
    "start_time": "2025-04-15T11:16:52.691Z"
   },
   {
    "duration": 11,
    "start_time": "2025-04-15T11:17:03.432Z"
   },
   {
    "duration": 15,
    "start_time": "2025-04-15T11:17:49.022Z"
   },
   {
    "duration": 12,
    "start_time": "2025-04-15T11:19:15.040Z"
   },
   {
    "duration": 14,
    "start_time": "2025-04-15T11:19:25.861Z"
   },
   {
    "duration": 18,
    "start_time": "2025-04-15T11:19:38.479Z"
   },
   {
    "duration": 12,
    "start_time": "2025-04-15T11:19:54.760Z"
   },
   {
    "duration": 22,
    "start_time": "2025-04-15T11:21:41.988Z"
   },
   {
    "duration": 208,
    "start_time": "2025-04-15T11:23:22.600Z"
   },
   {
    "duration": 54,
    "start_time": "2025-04-15T11:23:51.045Z"
   },
   {
    "duration": 71,
    "start_time": "2025-04-15T11:26:48.679Z"
   },
   {
    "duration": 67,
    "start_time": "2025-04-15T11:27:00.979Z"
   },
   {
    "duration": 9,
    "start_time": "2025-04-15T11:32:35.826Z"
   },
   {
    "duration": 20,
    "start_time": "2025-04-15T11:33:36.848Z"
   },
   {
    "duration": 18,
    "start_time": "2025-04-15T11:33:49.228Z"
   },
   {
    "duration": 12,
    "start_time": "2025-04-15T11:34:23.928Z"
   },
   {
    "duration": 13,
    "start_time": "2025-04-15T11:34:26.937Z"
   },
   {
    "duration": 11,
    "start_time": "2025-04-15T11:35:47.006Z"
   },
   {
    "duration": 9,
    "start_time": "2025-04-15T11:35:55.206Z"
   },
   {
    "duration": 11,
    "start_time": "2025-04-15T11:36:04.476Z"
   },
   {
    "duration": 10,
    "start_time": "2025-04-15T11:36:13.944Z"
   },
   {
    "duration": 12,
    "start_time": "2025-04-15T11:38:04.506Z"
   },
   {
    "duration": 10,
    "start_time": "2025-04-15T11:38:46.887Z"
   },
   {
    "duration": 21,
    "start_time": "2025-04-15T11:39:49.324Z"
   },
   {
    "duration": 21,
    "start_time": "2025-04-15T11:39:58.127Z"
   },
   {
    "duration": 137,
    "start_time": "2025-04-15T11:40:11.077Z"
   },
   {
    "duration": 135,
    "start_time": "2025-04-15T11:40:55.050Z"
   },
   {
    "duration": 149,
    "start_time": "2025-04-15T11:41:31.541Z"
   },
   {
    "duration": 235,
    "start_time": "2025-04-15T11:45:08.640Z"
   },
   {
    "duration": 353,
    "start_time": "2025-04-15T11:46:19.716Z"
   },
   {
    "duration": 237,
    "start_time": "2025-04-15T11:46:58.205Z"
   },
   {
    "duration": 244,
    "start_time": "2025-04-15T11:47:06.437Z"
   },
   {
    "duration": 249,
    "start_time": "2025-04-15T11:47:13.506Z"
   },
   {
    "duration": 283,
    "start_time": "2025-04-15T11:55:37.202Z"
   },
   {
    "duration": 13,
    "start_time": "2025-04-15T11:57:54.462Z"
   },
   {
    "duration": 102,
    "start_time": "2025-04-15T12:06:54.875Z"
   },
   {
    "duration": 109,
    "start_time": "2025-04-15T12:07:13.275Z"
   },
   {
    "duration": 107,
    "start_time": "2025-04-15T12:07:20.231Z"
   },
   {
    "duration": 1304,
    "start_time": "2025-04-15T12:08:05.282Z"
   },
   {
    "duration": 13,
    "start_time": "2025-04-15T12:08:20.680Z"
   },
   {
    "duration": 60,
    "start_time": "2025-04-15T12:08:26.749Z"
   },
   {
    "duration": 198,
    "start_time": "2025-04-15T12:10:13.579Z"
   },
   {
    "duration": 68,
    "start_time": "2025-04-15T12:10:38.096Z"
   },
   {
    "duration": 4,
    "start_time": "2025-04-15T12:14:20.581Z"
   },
   {
    "duration": 22,
    "start_time": "2025-04-15T12:14:27.646Z"
   },
   {
    "duration": 24,
    "start_time": "2025-04-15T12:14:39.692Z"
   },
   {
    "duration": 20,
    "start_time": "2025-04-15T12:15:45.562Z"
   },
   {
    "duration": 24,
    "start_time": "2025-04-15T12:17:36.131Z"
   },
   {
    "duration": 24,
    "start_time": "2025-04-15T12:17:55.582Z"
   },
   {
    "duration": 25,
    "start_time": "2025-04-15T12:18:02.066Z"
   },
   {
    "duration": 25,
    "start_time": "2025-04-15T12:20:08.220Z"
   },
   {
    "duration": 18,
    "start_time": "2025-04-15T12:20:19.872Z"
   },
   {
    "duration": 21,
    "start_time": "2025-04-15T12:20:39.025Z"
   },
   {
    "duration": 23,
    "start_time": "2025-04-15T12:21:12.196Z"
   },
   {
    "duration": 18,
    "start_time": "2025-04-15T12:25:04.462Z"
   },
   {
    "duration": 16,
    "start_time": "2025-04-15T12:25:19.491Z"
   },
   {
    "duration": 58,
    "start_time": "2025-04-15T12:26:38.145Z"
   },
   {
    "duration": 65,
    "start_time": "2025-04-15T12:26:42.367Z"
   },
   {
    "duration": 36,
    "start_time": "2025-04-15T12:26:48.228Z"
   },
   {
    "duration": 20,
    "start_time": "2025-04-15T12:28:25.752Z"
   },
   {
    "duration": 2592,
    "start_time": "2025-04-15T12:36:16.346Z"
   },
   {
    "duration": 244,
    "start_time": "2025-04-15T12:36:18.941Z"
   },
   {
    "duration": 13,
    "start_time": "2025-04-15T12:36:19.187Z"
   },
   {
    "duration": 20,
    "start_time": "2025-04-15T12:36:19.202Z"
   },
   {
    "duration": 40,
    "start_time": "2025-04-15T12:36:19.224Z"
   },
   {
    "duration": 17,
    "start_time": "2025-04-15T12:36:19.266Z"
   },
   {
    "duration": 18,
    "start_time": "2025-04-15T12:36:19.285Z"
   },
   {
    "duration": 15,
    "start_time": "2025-04-15T12:36:19.305Z"
   },
   {
    "duration": 8,
    "start_time": "2025-04-15T12:36:19.321Z"
   },
   {
    "duration": 13,
    "start_time": "2025-04-15T12:36:19.332Z"
   },
   {
    "duration": 86,
    "start_time": "2025-04-15T12:36:19.346Z"
   },
   {
    "duration": 31,
    "start_time": "2025-04-15T12:36:19.433Z"
   },
   {
    "duration": 10,
    "start_time": "2025-04-15T12:36:19.466Z"
   },
   {
    "duration": 14,
    "start_time": "2025-04-15T12:36:19.477Z"
   },
   {
    "duration": 21,
    "start_time": "2025-04-15T12:36:19.493Z"
   },
   {
    "duration": 26,
    "start_time": "2025-04-15T12:36:19.515Z"
   },
   {
    "duration": 24,
    "start_time": "2025-04-15T12:36:19.543Z"
   },
   {
    "duration": 29,
    "start_time": "2025-04-15T12:36:19.568Z"
   },
   {
    "duration": 38,
    "start_time": "2025-04-15T12:36:19.599Z"
   },
   {
    "duration": 7,
    "start_time": "2025-04-15T12:36:19.639Z"
   },
   {
    "duration": 25,
    "start_time": "2025-04-15T12:36:19.647Z"
   },
   {
    "duration": 9,
    "start_time": "2025-04-15T12:36:19.674Z"
   },
   {
    "duration": 89,
    "start_time": "2025-04-15T12:36:19.685Z"
   },
   {
    "duration": 14,
    "start_time": "2025-04-15T12:36:19.776Z"
   },
   {
    "duration": 10,
    "start_time": "2025-04-15T12:36:19.792Z"
   },
   {
    "duration": 11,
    "start_time": "2025-04-15T12:36:19.803Z"
   },
   {
    "duration": 184,
    "start_time": "2025-04-15T12:36:19.815Z"
   },
   {
    "duration": 7,
    "start_time": "2025-04-15T12:36:20.002Z"
   },
   {
    "duration": 222,
    "start_time": "2025-04-15T12:36:20.011Z"
   },
   {
    "duration": 20,
    "start_time": "2025-04-15T12:36:20.235Z"
   },
   {
    "duration": 182,
    "start_time": "2025-04-15T12:36:20.257Z"
   },
   {
    "duration": 5,
    "start_time": "2025-04-15T12:36:20.441Z"
   },
   {
    "duration": 138,
    "start_time": "2025-04-15T12:36:20.447Z"
   },
   {
    "duration": 8,
    "start_time": "2025-04-15T12:36:20.586Z"
   },
   {
    "duration": 251,
    "start_time": "2025-04-15T12:36:20.596Z"
   },
   {
    "duration": 13,
    "start_time": "2025-04-15T12:36:20.849Z"
   },
   {
    "duration": 224,
    "start_time": "2025-04-15T12:36:20.864Z"
   },
   {
    "duration": 280,
    "start_time": "2025-04-15T12:36:21.089Z"
   },
   {
    "duration": 181,
    "start_time": "2025-04-15T12:36:21.371Z"
   },
   {
    "duration": 11,
    "start_time": "2025-04-15T12:36:21.553Z"
   },
   {
    "duration": 175,
    "start_time": "2025-04-15T12:36:21.566Z"
   },
   {
    "duration": 385,
    "start_time": "2025-04-15T12:36:21.742Z"
   },
   {
    "duration": 282,
    "start_time": "2025-04-15T12:36:22.129Z"
   },
   {
    "duration": 199,
    "start_time": "2025-04-15T12:36:22.413Z"
   },
   {
    "duration": 265,
    "start_time": "2025-04-15T12:36:22.614Z"
   },
   {
    "duration": 61,
    "start_time": "2025-04-15T12:36:22.881Z"
   },
   {
    "duration": 0,
    "start_time": "2025-04-15T12:36:22.944Z"
   },
   {
    "duration": 20,
    "start_time": "2025-04-15T12:36:39.060Z"
   },
   {
    "duration": 65,
    "start_time": "2025-04-15T12:40:50.425Z"
   },
   {
    "duration": 28,
    "start_time": "2025-04-15T12:49:25.574Z"
   },
   {
    "duration": 1182,
    "start_time": "2025-04-15T12:55:32.363Z"
   },
   {
    "duration": 56,
    "start_time": "2025-04-15T12:55:53.308Z"
   },
   {
    "duration": 80,
    "start_time": "2025-04-15T12:56:05.957Z"
   },
   {
    "duration": 2510,
    "start_time": "2025-04-15T12:56:11.265Z"
   },
   {
    "duration": 448,
    "start_time": "2025-04-15T12:56:13.778Z"
   },
   {
    "duration": 14,
    "start_time": "2025-04-15T12:56:14.227Z"
   },
   {
    "duration": 47,
    "start_time": "2025-04-15T12:56:14.243Z"
   },
   {
    "duration": 175,
    "start_time": "2025-04-15T12:56:14.293Z"
   },
   {
    "duration": 46,
    "start_time": "2025-04-15T12:56:14.471Z"
   },
   {
    "duration": 22,
    "start_time": "2025-04-15T12:56:14.519Z"
   },
   {
    "duration": 53,
    "start_time": "2025-04-15T12:56:14.543Z"
   },
   {
    "duration": 42,
    "start_time": "2025-04-15T12:56:14.598Z"
   },
   {
    "duration": 6,
    "start_time": "2025-04-15T12:56:14.642Z"
   },
   {
    "duration": 12,
    "start_time": "2025-04-15T12:56:14.650Z"
   },
   {
    "duration": 31,
    "start_time": "2025-04-15T12:56:14.664Z"
   },
   {
    "duration": 7,
    "start_time": "2025-04-15T12:56:14.697Z"
   },
   {
    "duration": 14,
    "start_time": "2025-04-15T12:56:14.708Z"
   },
   {
    "duration": 27,
    "start_time": "2025-04-15T12:56:14.723Z"
   },
   {
    "duration": 32,
    "start_time": "2025-04-15T12:56:14.752Z"
   },
   {
    "duration": 15,
    "start_time": "2025-04-15T12:56:14.786Z"
   },
   {
    "duration": 19,
    "start_time": "2025-04-15T12:56:14.802Z"
   },
   {
    "duration": 22,
    "start_time": "2025-04-15T12:56:14.822Z"
   },
   {
    "duration": 34,
    "start_time": "2025-04-15T12:56:14.846Z"
   },
   {
    "duration": 44,
    "start_time": "2025-04-15T12:56:14.881Z"
   },
   {
    "duration": 9,
    "start_time": "2025-04-15T12:56:14.927Z"
   },
   {
    "duration": 25,
    "start_time": "2025-04-15T12:56:14.937Z"
   },
   {
    "duration": 6,
    "start_time": "2025-04-15T12:56:14.963Z"
   },
   {
    "duration": 11,
    "start_time": "2025-04-15T12:56:14.971Z"
   },
   {
    "duration": 7,
    "start_time": "2025-04-15T12:56:14.984Z"
   },
   {
    "duration": 170,
    "start_time": "2025-04-15T12:56:14.992Z"
   },
   {
    "duration": 8,
    "start_time": "2025-04-15T12:56:15.164Z"
   },
   {
    "duration": 230,
    "start_time": "2025-04-15T12:56:15.174Z"
   },
   {
    "duration": 9,
    "start_time": "2025-04-15T12:56:15.406Z"
   },
   {
    "duration": 354,
    "start_time": "2025-04-15T12:56:15.417Z"
   },
   {
    "duration": 7,
    "start_time": "2025-04-15T12:56:15.773Z"
   },
   {
    "duration": 216,
    "start_time": "2025-04-15T12:56:15.782Z"
   },
   {
    "duration": 8,
    "start_time": "2025-04-15T12:56:16.000Z"
   },
   {
    "duration": 257,
    "start_time": "2025-04-15T12:56:16.010Z"
   },
   {
    "duration": 13,
    "start_time": "2025-04-15T12:56:16.269Z"
   },
   {
    "duration": 316,
    "start_time": "2025-04-15T12:56:16.284Z"
   },
   {
    "duration": 146,
    "start_time": "2025-04-15T12:56:16.601Z"
   },
   {
    "duration": 193,
    "start_time": "2025-04-15T12:56:16.749Z"
   },
   {
    "duration": 12,
    "start_time": "2025-04-15T12:56:16.943Z"
   },
   {
    "duration": 187,
    "start_time": "2025-04-15T12:56:16.960Z"
   },
   {
    "duration": 514,
    "start_time": "2025-04-15T12:56:17.150Z"
   },
   {
    "duration": 316,
    "start_time": "2025-04-15T12:56:17.666Z"
   },
   {
    "duration": 211,
    "start_time": "2025-04-15T12:56:17.984Z"
   },
   {
    "duration": 263,
    "start_time": "2025-04-15T12:56:18.196Z"
   },
   {
    "duration": 65,
    "start_time": "2025-04-15T12:56:18.461Z"
   },
   {
    "duration": 112,
    "start_time": "2025-04-15T12:57:01.936Z"
   },
   {
    "duration": 119,
    "start_time": "2025-04-15T12:58:01.154Z"
   },
   {
    "duration": 187,
    "start_time": "2025-04-15T13:14:41.374Z"
   },
   {
    "duration": 79,
    "start_time": "2025-04-15T13:15:06.406Z"
   },
   {
    "duration": 180,
    "start_time": "2025-04-15T13:15:19.423Z"
   },
   {
    "duration": 244,
    "start_time": "2025-04-15T13:16:14.138Z"
   },
   {
    "duration": 232,
    "start_time": "2025-04-15T13:16:35.678Z"
   },
   {
    "duration": 4,
    "start_time": "2025-04-15T13:21:56.586Z"
   },
   {
    "duration": 1276,
    "start_time": "2025-04-15T13:24:29.362Z"
   },
   {
    "duration": 180,
    "start_time": "2025-04-15T13:25:04.764Z"
   },
   {
    "duration": 1295,
    "start_time": "2025-04-15T13:26:52.455Z"
   },
   {
    "duration": 1294,
    "start_time": "2025-04-15T13:27:04.112Z"
   },
   {
    "duration": 5,
    "start_time": "2025-04-15T13:27:42.033Z"
   },
   {
    "duration": 312,
    "start_time": "2025-04-15T13:28:28.603Z"
   },
   {
    "duration": 332,
    "start_time": "2025-04-15T13:29:41.392Z"
   },
   {
    "duration": 678,
    "start_time": "2025-04-15T13:29:46.034Z"
   },
   {
    "duration": 533,
    "start_time": "2025-04-15T13:29:54.902Z"
   },
   {
    "duration": 581,
    "start_time": "2025-04-15T13:30:15.942Z"
   },
   {
    "duration": 601,
    "start_time": "2025-04-15T13:31:16.862Z"
   },
   {
    "duration": 723,
    "start_time": "2025-04-15T13:31:43.000Z"
   },
   {
    "duration": 601,
    "start_time": "2025-04-15T13:32:03.945Z"
   },
   {
    "duration": 223,
    "start_time": "2025-04-15T13:33:26.362Z"
   },
   {
    "duration": 154,
    "start_time": "2025-04-15T13:35:50.237Z"
   },
   {
    "duration": 20,
    "start_time": "2025-04-15T13:36:10.742Z"
   },
   {
    "duration": 26,
    "start_time": "2025-04-15T13:37:35.309Z"
   },
   {
    "duration": 2709,
    "start_time": "2025-04-15T13:37:49.397Z"
   },
   {
    "duration": 173,
    "start_time": "2025-04-15T13:37:52.109Z"
   },
   {
    "duration": 14,
    "start_time": "2025-04-15T13:37:52.284Z"
   },
   {
    "duration": 60,
    "start_time": "2025-04-15T13:37:52.299Z"
   },
   {
    "duration": 159,
    "start_time": "2025-04-15T13:37:52.361Z"
   },
   {
    "duration": 48,
    "start_time": "2025-04-15T13:37:52.522Z"
   },
   {
    "duration": 37,
    "start_time": "2025-04-15T13:37:52.572Z"
   },
   {
    "duration": 50,
    "start_time": "2025-04-15T13:37:52.611Z"
   },
   {
    "duration": 25,
    "start_time": "2025-04-15T13:37:52.663Z"
   },
   {
    "duration": 18,
    "start_time": "2025-04-15T13:37:52.690Z"
   },
   {
    "duration": 41,
    "start_time": "2025-04-15T13:37:52.709Z"
   },
   {
    "duration": 26,
    "start_time": "2025-04-15T13:37:52.753Z"
   },
   {
    "duration": 39,
    "start_time": "2025-04-15T13:37:52.781Z"
   },
   {
    "duration": 34,
    "start_time": "2025-04-15T13:37:52.823Z"
   },
   {
    "duration": 21,
    "start_time": "2025-04-15T13:37:52.860Z"
   },
   {
    "duration": 46,
    "start_time": "2025-04-15T13:37:52.884Z"
   },
   {
    "duration": 36,
    "start_time": "2025-04-15T13:37:52.932Z"
   },
   {
    "duration": 25,
    "start_time": "2025-04-15T13:37:52.970Z"
   },
   {
    "duration": 97,
    "start_time": "2025-04-15T13:37:52.997Z"
   },
   {
    "duration": 47,
    "start_time": "2025-04-15T13:37:53.096Z"
   },
   {
    "duration": 37,
    "start_time": "2025-04-15T13:37:53.147Z"
   },
   {
    "duration": 15,
    "start_time": "2025-04-15T13:37:53.186Z"
   },
   {
    "duration": 34,
    "start_time": "2025-04-15T13:37:53.203Z"
   },
   {
    "duration": 21,
    "start_time": "2025-04-15T13:37:53.239Z"
   },
   {
    "duration": 18,
    "start_time": "2025-04-15T13:37:53.262Z"
   },
   {
    "duration": 35,
    "start_time": "2025-04-15T13:37:53.282Z"
   },
   {
    "duration": 186,
    "start_time": "2025-04-15T13:37:53.318Z"
   },
   {
    "duration": 7,
    "start_time": "2025-04-15T13:37:53.506Z"
   },
   {
    "duration": 425,
    "start_time": "2025-04-15T13:37:53.515Z"
   },
   {
    "duration": 14,
    "start_time": "2025-04-15T13:37:53.942Z"
   },
   {
    "duration": 265,
    "start_time": "2025-04-15T13:37:53.958Z"
   },
   {
    "duration": 15,
    "start_time": "2025-04-15T13:37:54.225Z"
   },
   {
    "duration": 167,
    "start_time": "2025-04-15T13:37:54.243Z"
   },
   {
    "duration": 13,
    "start_time": "2025-04-15T13:37:54.412Z"
   },
   {
    "duration": 293,
    "start_time": "2025-04-15T13:37:54.430Z"
   },
   {
    "duration": 28,
    "start_time": "2025-04-15T13:37:54.725Z"
   },
   {
    "duration": 233,
    "start_time": "2025-04-15T13:37:54.756Z"
   },
   {
    "duration": 164,
    "start_time": "2025-04-15T13:37:54.991Z"
   },
   {
    "duration": 196,
    "start_time": "2025-04-15T13:37:55.157Z"
   },
   {
    "duration": 16,
    "start_time": "2025-04-15T13:37:55.355Z"
   },
   {
    "duration": 205,
    "start_time": "2025-04-15T13:37:55.377Z"
   },
   {
    "duration": 427,
    "start_time": "2025-04-15T13:37:55.584Z"
   },
   {
    "duration": 295,
    "start_time": "2025-04-15T13:37:56.013Z"
   },
   {
    "duration": 211,
    "start_time": "2025-04-15T13:37:56.310Z"
   },
   {
    "duration": 422,
    "start_time": "2025-04-15T13:37:56.524Z"
   },
   {
    "duration": 123,
    "start_time": "2025-04-15T13:37:56.948Z"
   },
   {
    "duration": 261,
    "start_time": "2025-04-15T13:37:57.073Z"
   },
   {
    "duration": 269,
    "start_time": "2025-04-15T13:37:57.338Z"
   },
   {
    "duration": 31,
    "start_time": "2025-04-15T13:37:57.609Z"
   },
   {
    "duration": 20,
    "start_time": "2025-04-15T13:39:10.666Z"
   },
   {
    "duration": 19,
    "start_time": "2025-04-15T13:39:26.714Z"
   },
   {
    "duration": 18,
    "start_time": "2025-04-15T13:40:53.373Z"
   },
   {
    "duration": 170,
    "start_time": "2025-04-15T13:41:02.585Z"
   },
   {
    "duration": 155,
    "start_time": "2025-04-15T13:41:11.685Z"
   },
   {
    "duration": 164,
    "start_time": "2025-04-15T13:41:20.715Z"
   },
   {
    "duration": 148,
    "start_time": "2025-04-15T13:41:56.626Z"
   },
   {
    "duration": 3844,
    "start_time": "2025-04-15T15:26:16.897Z"
   },
   {
    "duration": 171,
    "start_time": "2025-04-15T15:26:20.744Z"
   },
   {
    "duration": 18,
    "start_time": "2025-04-15T15:26:20.916Z"
   },
   {
    "duration": 14,
    "start_time": "2025-04-15T15:26:20.936Z"
   },
   {
    "duration": 26,
    "start_time": "2025-04-15T15:26:20.952Z"
   },
   {
    "duration": 32,
    "start_time": "2025-04-15T15:26:20.980Z"
   },
   {
    "duration": 12,
    "start_time": "2025-04-15T15:26:21.014Z"
   },
   {
    "duration": 16,
    "start_time": "2025-04-15T15:26:21.027Z"
   },
   {
    "duration": 8,
    "start_time": "2025-04-15T15:26:21.045Z"
   },
   {
    "duration": 5,
    "start_time": "2025-04-15T15:26:21.057Z"
   },
   {
    "duration": 19,
    "start_time": "2025-04-15T15:26:21.064Z"
   },
   {
    "duration": 13,
    "start_time": "2025-04-15T15:26:21.085Z"
   },
   {
    "duration": 8,
    "start_time": "2025-04-15T15:26:21.100Z"
   },
   {
    "duration": 8,
    "start_time": "2025-04-15T15:26:21.137Z"
   },
   {
    "duration": 26,
    "start_time": "2025-04-15T15:26:21.147Z"
   },
   {
    "duration": 8,
    "start_time": "2025-04-15T15:26:21.175Z"
   },
   {
    "duration": 15,
    "start_time": "2025-04-15T15:26:21.185Z"
   },
   {
    "duration": 18,
    "start_time": "2025-04-15T15:26:21.201Z"
   },
   {
    "duration": 22,
    "start_time": "2025-04-15T15:26:21.237Z"
   },
   {
    "duration": 14,
    "start_time": "2025-04-15T15:26:21.261Z"
   },
   {
    "duration": 27,
    "start_time": "2025-04-15T15:26:21.276Z"
   },
   {
    "duration": 11,
    "start_time": "2025-04-15T15:26:21.305Z"
   },
   {
    "duration": 15,
    "start_time": "2025-04-15T15:26:21.337Z"
   },
   {
    "duration": 6,
    "start_time": "2025-04-15T15:26:21.354Z"
   },
   {
    "duration": 5,
    "start_time": "2025-04-15T15:26:21.362Z"
   },
   {
    "duration": 7,
    "start_time": "2025-04-15T15:26:21.369Z"
   },
   {
    "duration": 244,
    "start_time": "2025-04-15T15:26:21.378Z"
   },
   {
    "duration": 12,
    "start_time": "2025-04-15T15:26:21.626Z"
   },
   {
    "duration": 227,
    "start_time": "2025-04-15T15:26:21.640Z"
   },
   {
    "duration": 8,
    "start_time": "2025-04-15T15:26:21.869Z"
   },
   {
    "duration": 194,
    "start_time": "2025-04-15T15:26:21.879Z"
   },
   {
    "duration": 6,
    "start_time": "2025-04-15T15:26:22.075Z"
   },
   {
    "duration": 160,
    "start_time": "2025-04-15T15:26:22.084Z"
   },
   {
    "duration": 9,
    "start_time": "2025-04-15T15:26:22.246Z"
   },
   {
    "duration": 258,
    "start_time": "2025-04-15T15:26:22.257Z"
   },
   {
    "duration": 25,
    "start_time": "2025-04-15T15:26:22.516Z"
   },
   {
    "duration": 235,
    "start_time": "2025-04-15T15:26:22.543Z"
   },
   {
    "duration": 227,
    "start_time": "2025-04-15T15:26:22.780Z"
   },
   {
    "duration": 189,
    "start_time": "2025-04-15T15:26:23.009Z"
   },
   {
    "duration": 11,
    "start_time": "2025-04-15T15:26:23.200Z"
   },
   {
    "duration": 191,
    "start_time": "2025-04-15T15:26:23.212Z"
   },
   {
    "duration": 405,
    "start_time": "2025-04-15T15:26:23.405Z"
   },
   {
    "duration": 298,
    "start_time": "2025-04-15T15:26:23.812Z"
   },
   {
    "duration": 210,
    "start_time": "2025-04-15T15:26:24.112Z"
   },
   {
    "duration": 382,
    "start_time": "2025-04-15T15:26:24.324Z"
   },
   {
    "duration": 115,
    "start_time": "2025-04-15T15:26:24.708Z"
   },
   {
    "duration": 229,
    "start_time": "2025-04-15T15:26:24.825Z"
   },
   {
    "duration": 233,
    "start_time": "2025-04-15T15:26:25.055Z"
   },
   {
    "duration": 172,
    "start_time": "2025-04-15T15:26:25.290Z"
   },
   {
    "duration": 5,
    "start_time": "2025-04-15T15:31:48.504Z"
   },
   {
    "duration": 84,
    "start_time": "2025-04-15T15:32:14.350Z"
   },
   {
    "duration": 3886,
    "start_time": "2025-04-15T15:32:34.784Z"
   },
   {
    "duration": 229,
    "start_time": "2025-04-15T15:32:38.672Z"
   },
   {
    "duration": 17,
    "start_time": "2025-04-15T15:32:38.903Z"
   },
   {
    "duration": 66,
    "start_time": "2025-04-15T15:32:38.921Z"
   },
   {
    "duration": 27,
    "start_time": "2025-04-15T15:32:38.990Z"
   },
   {
    "duration": 31,
    "start_time": "2025-04-15T15:32:39.019Z"
   },
   {
    "duration": 101,
    "start_time": "2025-04-15T15:32:39.053Z"
   },
   {
    "duration": 21,
    "start_time": "2025-04-15T15:32:39.156Z"
   },
   {
    "duration": 9,
    "start_time": "2025-04-15T15:32:39.178Z"
   },
   {
    "duration": 6,
    "start_time": "2025-04-15T15:32:39.188Z"
   },
   {
    "duration": 8,
    "start_time": "2025-04-15T15:32:39.195Z"
   },
   {
    "duration": 10,
    "start_time": "2025-04-15T15:32:39.205Z"
   },
   {
    "duration": 28,
    "start_time": "2025-04-15T15:32:39.216Z"
   },
   {
    "duration": 67,
    "start_time": "2025-04-15T15:32:39.248Z"
   },
   {
    "duration": 23,
    "start_time": "2025-04-15T15:32:39.316Z"
   },
   {
    "duration": 14,
    "start_time": "2025-04-15T15:32:39.341Z"
   },
   {
    "duration": 13,
    "start_time": "2025-04-15T15:32:39.357Z"
   },
   {
    "duration": 8,
    "start_time": "2025-04-15T15:32:39.372Z"
   },
   {
    "duration": 15,
    "start_time": "2025-04-15T15:32:39.381Z"
   },
   {
    "duration": 45,
    "start_time": "2025-04-15T15:32:39.398Z"
   },
   {
    "duration": 23,
    "start_time": "2025-04-15T15:32:39.445Z"
   },
   {
    "duration": 15,
    "start_time": "2025-04-15T15:32:39.470Z"
   },
   {
    "duration": 30,
    "start_time": "2025-04-15T15:32:39.487Z"
   },
   {
    "duration": 21,
    "start_time": "2025-04-15T15:32:39.518Z"
   },
   {
    "duration": 16,
    "start_time": "2025-04-15T15:32:39.541Z"
   },
   {
    "duration": 7,
    "start_time": "2025-04-15T15:32:39.558Z"
   },
   {
    "duration": 23,
    "start_time": "2025-04-15T15:32:39.567Z"
   },
   {
    "duration": 27,
    "start_time": "2025-04-15T15:32:39.592Z"
   },
   {
    "duration": 194,
    "start_time": "2025-04-15T15:32:39.621Z"
   },
   {
    "duration": 7,
    "start_time": "2025-04-15T15:32:39.817Z"
   },
   {
    "duration": 214,
    "start_time": "2025-04-15T15:32:39.836Z"
   },
   {
    "duration": 8,
    "start_time": "2025-04-15T15:32:40.052Z"
   },
   {
    "duration": 286,
    "start_time": "2025-04-15T15:32:40.063Z"
   },
   {
    "duration": 5,
    "start_time": "2025-04-15T15:32:40.351Z"
   },
   {
    "duration": 146,
    "start_time": "2025-04-15T15:32:40.358Z"
   },
   {
    "duration": 9,
    "start_time": "2025-04-15T15:32:40.506Z"
   },
   {
    "duration": 313,
    "start_time": "2025-04-15T15:32:40.517Z"
   },
   {
    "duration": 16,
    "start_time": "2025-04-15T15:32:40.831Z"
   },
   {
    "duration": 266,
    "start_time": "2025-04-15T15:32:40.848Z"
   },
   {
    "duration": 260,
    "start_time": "2025-04-15T15:32:41.116Z"
   },
   {
    "duration": 184,
    "start_time": "2025-04-15T15:32:41.380Z"
   },
   {
    "duration": 9,
    "start_time": "2025-04-15T15:32:41.566Z"
   },
   {
    "duration": 197,
    "start_time": "2025-04-15T15:32:41.577Z"
   },
   {
    "duration": 415,
    "start_time": "2025-04-15T15:32:41.776Z"
   },
   {
    "duration": 307,
    "start_time": "2025-04-15T15:32:42.193Z"
   },
   {
    "duration": 202,
    "start_time": "2025-04-15T15:32:42.502Z"
   },
   {
    "duration": 346,
    "start_time": "2025-04-15T15:32:42.706Z"
   },
   {
    "duration": 120,
    "start_time": "2025-04-15T15:32:43.054Z"
   },
   {
    "duration": 245,
    "start_time": "2025-04-15T15:32:43.176Z"
   },
   {
    "duration": 242,
    "start_time": "2025-04-15T15:32:43.423Z"
   },
   {
    "duration": 164,
    "start_time": "2025-04-15T15:32:43.667Z"
   },
   {
    "duration": 8,
    "start_time": "2025-04-15T15:41:05.863Z"
   },
   {
    "duration": 12,
    "start_time": "2025-04-15T15:41:55.854Z"
   },
   {
    "duration": 6400,
    "start_time": "2025-04-16T06:46:56.180Z"
   },
   {
    "duration": 470,
    "start_time": "2025-04-16T06:47:02.583Z"
   },
   {
    "duration": 20,
    "start_time": "2025-04-16T06:47:03.054Z"
   },
   {
    "duration": 117,
    "start_time": "2025-04-16T06:47:03.076Z"
   },
   {
    "duration": 57,
    "start_time": "2025-04-16T06:47:03.197Z"
   },
   {
    "duration": 49,
    "start_time": "2025-04-16T06:47:03.255Z"
   },
   {
    "duration": 20,
    "start_time": "2025-04-16T06:47:03.306Z"
   },
   {
    "duration": 124,
    "start_time": "2025-04-16T06:47:03.328Z"
   },
   {
    "duration": 52,
    "start_time": "2025-04-16T06:47:03.454Z"
   },
   {
    "duration": 9,
    "start_time": "2025-04-16T06:47:03.508Z"
   },
   {
    "duration": 55,
    "start_time": "2025-04-16T06:47:03.518Z"
   },
   {
    "duration": 21,
    "start_time": "2025-04-16T06:47:03.575Z"
   },
   {
    "duration": 28,
    "start_time": "2025-04-16T06:47:03.599Z"
   },
   {
    "duration": 127,
    "start_time": "2025-04-16T06:47:03.630Z"
   },
   {
    "duration": 8,
    "start_time": "2025-04-16T06:47:03.758Z"
   },
   {
    "duration": 32,
    "start_time": "2025-04-16T06:47:03.769Z"
   },
   {
    "duration": 10,
    "start_time": "2025-04-16T06:47:03.804Z"
   },
   {
    "duration": 14,
    "start_time": "2025-04-16T06:47:03.816Z"
   },
   {
    "duration": 41,
    "start_time": "2025-04-16T06:47:03.832Z"
   },
   {
    "duration": 56,
    "start_time": "2025-04-16T06:47:03.875Z"
   },
   {
    "duration": 41,
    "start_time": "2025-04-16T06:47:03.933Z"
   },
   {
    "duration": 47,
    "start_time": "2025-04-16T06:47:03.976Z"
   },
   {
    "duration": 37,
    "start_time": "2025-04-16T06:47:04.025Z"
   },
   {
    "duration": 25,
    "start_time": "2025-04-16T06:47:04.064Z"
   },
   {
    "duration": 31,
    "start_time": "2025-04-16T06:47:04.091Z"
   },
   {
    "duration": 20,
    "start_time": "2025-04-16T06:47:04.125Z"
   },
   {
    "duration": 26,
    "start_time": "2025-04-16T06:47:04.147Z"
   },
   {
    "duration": 131,
    "start_time": "2025-04-16T06:47:04.175Z"
   },
   {
    "duration": 74,
    "start_time": "2025-04-16T06:47:04.308Z"
   },
   {
    "duration": 34,
    "start_time": "2025-04-16T06:47:04.384Z"
   },
   {
    "duration": 233,
    "start_time": "2025-04-16T06:47:04.421Z"
   },
   {
    "duration": 10,
    "start_time": "2025-04-16T06:47:04.655Z"
   },
   {
    "duration": 353,
    "start_time": "2025-04-16T06:47:04.668Z"
   },
   {
    "duration": 10,
    "start_time": "2025-04-16T06:47:05.022Z"
   },
   {
    "duration": 297,
    "start_time": "2025-04-16T06:47:05.034Z"
   },
   {
    "duration": 6,
    "start_time": "2025-04-16T06:47:05.332Z"
   },
   {
    "duration": 226,
    "start_time": "2025-04-16T06:47:05.339Z"
   },
   {
    "duration": 54,
    "start_time": "2025-04-16T06:47:05.567Z"
   },
   {
    "duration": 318,
    "start_time": "2025-04-16T06:47:05.624Z"
   },
   {
    "duration": 23,
    "start_time": "2025-04-16T06:47:05.944Z"
   },
   {
    "duration": 275,
    "start_time": "2025-04-16T06:47:05.972Z"
   },
   {
    "duration": 246,
    "start_time": "2025-04-16T06:47:06.248Z"
   },
   {
    "duration": 214,
    "start_time": "2025-04-16T06:47:06.496Z"
   },
   {
    "duration": 12,
    "start_time": "2025-04-16T06:47:06.712Z"
   },
   {
    "duration": 253,
    "start_time": "2025-04-16T06:47:06.726Z"
   },
   {
    "duration": 403,
    "start_time": "2025-04-16T06:47:06.981Z"
   },
   {
    "duration": 264,
    "start_time": "2025-04-16T06:47:07.387Z"
   },
   {
    "duration": 222,
    "start_time": "2025-04-16T06:47:07.661Z"
   },
   {
    "duration": 287,
    "start_time": "2025-04-16T06:47:07.885Z"
   },
   {
    "duration": 147,
    "start_time": "2025-04-16T06:47:08.174Z"
   },
   {
    "duration": 385,
    "start_time": "2025-04-16T06:47:08.323Z"
   },
   {
    "duration": 266,
    "start_time": "2025-04-16T06:47:08.709Z"
   },
   {
    "duration": 169,
    "start_time": "2025-04-16T06:47:08.977Z"
   },
   {
    "duration": 2841,
    "start_time": "2025-04-16T07:00:45.069Z"
   },
   {
    "duration": 992,
    "start_time": "2025-04-16T07:00:47.913Z"
   },
   {
    "duration": 15,
    "start_time": "2025-04-16T07:00:48.907Z"
   },
   {
    "duration": 25,
    "start_time": "2025-04-16T07:00:48.924Z"
   },
   {
    "duration": 15,
    "start_time": "2025-04-16T07:00:48.951Z"
   },
   {
    "duration": 36,
    "start_time": "2025-04-16T07:00:48.969Z"
   },
   {
    "duration": 31,
    "start_time": "2025-04-16T07:00:49.007Z"
   },
   {
    "duration": 19,
    "start_time": "2025-04-16T07:00:49.039Z"
   },
   {
    "duration": 66,
    "start_time": "2025-04-16T07:00:49.060Z"
   },
   {
    "duration": 40,
    "start_time": "2025-04-16T07:00:49.129Z"
   },
   {
    "duration": 27,
    "start_time": "2025-04-16T07:00:49.171Z"
   },
   {
    "duration": 29,
    "start_time": "2025-04-16T07:00:49.201Z"
   },
   {
    "duration": 31,
    "start_time": "2025-04-16T07:00:49.232Z"
   },
   {
    "duration": 42,
    "start_time": "2025-04-16T07:00:49.266Z"
   },
   {
    "duration": 6,
    "start_time": "2025-04-16T07:00:49.310Z"
   },
   {
    "duration": 8,
    "start_time": "2025-04-16T07:00:49.317Z"
   },
   {
    "duration": 4,
    "start_time": "2025-04-16T07:00:49.327Z"
   },
   {
    "duration": 29,
    "start_time": "2025-04-16T07:00:49.333Z"
   },
   {
    "duration": 32,
    "start_time": "2025-04-16T07:00:49.364Z"
   },
   {
    "duration": 18,
    "start_time": "2025-04-16T07:00:49.398Z"
   },
   {
    "duration": 22,
    "start_time": "2025-04-16T07:00:49.418Z"
   },
   {
    "duration": 24,
    "start_time": "2025-04-16T07:00:49.443Z"
   },
   {
    "duration": 31,
    "start_time": "2025-04-16T07:00:49.469Z"
   },
   {
    "duration": 13,
    "start_time": "2025-04-16T07:00:49.503Z"
   },
   {
    "duration": 18,
    "start_time": "2025-04-16T07:00:49.518Z"
   },
   {
    "duration": 9,
    "start_time": "2025-04-16T07:00:49.560Z"
   },
   {
    "duration": 26,
    "start_time": "2025-04-16T07:00:49.571Z"
   },
   {
    "duration": 8,
    "start_time": "2025-04-16T07:00:49.602Z"
   },
   {
    "duration": 10,
    "start_time": "2025-04-16T07:00:49.611Z"
   },
   {
    "duration": 9,
    "start_time": "2025-04-16T07:00:49.623Z"
   },
   {
    "duration": 191,
    "start_time": "2025-04-16T07:00:49.633Z"
   },
   {
    "duration": 8,
    "start_time": "2025-04-16T07:00:49.826Z"
   },
   {
    "duration": 229,
    "start_time": "2025-04-16T07:00:49.836Z"
   },
   {
    "duration": 12,
    "start_time": "2025-04-16T07:00:50.068Z"
   },
   {
    "duration": 217,
    "start_time": "2025-04-16T07:00:50.082Z"
   },
   {
    "duration": 6,
    "start_time": "2025-04-16T07:00:50.301Z"
   },
   {
    "duration": 147,
    "start_time": "2025-04-16T07:00:50.309Z"
   },
   {
    "duration": 13,
    "start_time": "2025-04-16T07:00:50.461Z"
   },
   {
    "duration": 333,
    "start_time": "2025-04-16T07:00:50.477Z"
   },
   {
    "duration": 12,
    "start_time": "2025-04-16T07:00:50.812Z"
   },
   {
    "duration": 282,
    "start_time": "2025-04-16T07:00:50.826Z"
   },
   {
    "duration": 151,
    "start_time": "2025-04-16T07:00:51.110Z"
   },
   {
    "duration": 344,
    "start_time": "2025-04-16T07:00:51.262Z"
   },
   {
    "duration": 11,
    "start_time": "2025-04-16T07:00:51.608Z"
   },
   {
    "duration": 194,
    "start_time": "2025-04-16T07:00:51.621Z"
   },
   {
    "duration": 404,
    "start_time": "2025-04-16T07:00:51.816Z"
   },
   {
    "duration": 372,
    "start_time": "2025-04-16T07:00:52.221Z"
   },
   {
    "duration": 219,
    "start_time": "2025-04-16T07:00:52.594Z"
   },
   {
    "duration": 324,
    "start_time": "2025-04-16T07:00:52.816Z"
   },
   {
    "duration": 124,
    "start_time": "2025-04-16T07:00:53.142Z"
   },
   {
    "duration": 262,
    "start_time": "2025-04-16T07:00:53.268Z"
   },
   {
    "duration": 346,
    "start_time": "2025-04-16T07:00:53.533Z"
   },
   {
    "duration": 167,
    "start_time": "2025-04-16T07:00:53.881Z"
   },
   {
    "duration": 2820,
    "start_time": "2025-04-16T07:01:25.229Z"
   },
   {
    "duration": 748,
    "start_time": "2025-04-16T07:01:28.051Z"
   },
   {
    "duration": 13,
    "start_time": "2025-04-16T07:01:28.801Z"
   },
   {
    "duration": 70,
    "start_time": "2025-04-16T07:01:28.816Z"
   },
   {
    "duration": 11,
    "start_time": "2025-04-16T07:01:28.889Z"
   },
   {
    "duration": 43,
    "start_time": "2025-04-16T07:01:28.902Z"
   },
   {
    "duration": 26,
    "start_time": "2025-04-16T07:01:28.947Z"
   },
   {
    "duration": 19,
    "start_time": "2025-04-16T07:01:28.975Z"
   },
   {
    "duration": 11,
    "start_time": "2025-04-16T07:01:28.997Z"
   },
   {
    "duration": 15,
    "start_time": "2025-04-16T07:01:29.010Z"
   },
   {
    "duration": 10,
    "start_time": "2025-04-16T07:01:29.027Z"
   },
   {
    "duration": 34,
    "start_time": "2025-04-16T07:01:29.038Z"
   },
   {
    "duration": 16,
    "start_time": "2025-04-16T07:01:29.074Z"
   },
   {
    "duration": 39,
    "start_time": "2025-04-16T07:01:29.094Z"
   },
   {
    "duration": 27,
    "start_time": "2025-04-16T07:01:29.135Z"
   },
   {
    "duration": 67,
    "start_time": "2025-04-16T07:01:29.164Z"
   },
   {
    "duration": 49,
    "start_time": "2025-04-16T07:01:29.233Z"
   },
   {
    "duration": 31,
    "start_time": "2025-04-16T07:01:29.284Z"
   },
   {
    "duration": 19,
    "start_time": "2025-04-16T07:01:29.317Z"
   },
   {
    "duration": 37,
    "start_time": "2025-04-16T07:01:29.337Z"
   },
   {
    "duration": 25,
    "start_time": "2025-04-16T07:01:29.376Z"
   },
   {
    "duration": 31,
    "start_time": "2025-04-16T07:01:29.403Z"
   },
   {
    "duration": 38,
    "start_time": "2025-04-16T07:01:29.436Z"
   },
   {
    "duration": 16,
    "start_time": "2025-04-16T07:01:29.477Z"
   },
   {
    "duration": 16,
    "start_time": "2025-04-16T07:01:29.495Z"
   },
   {
    "duration": 31,
    "start_time": "2025-04-16T07:01:29.513Z"
   },
   {
    "duration": 30,
    "start_time": "2025-04-16T07:01:29.546Z"
   },
   {
    "duration": 21,
    "start_time": "2025-04-16T07:01:29.578Z"
   },
   {
    "duration": 12,
    "start_time": "2025-04-16T07:01:29.602Z"
   },
   {
    "duration": 30,
    "start_time": "2025-04-16T07:01:29.616Z"
   },
   {
    "duration": 196,
    "start_time": "2025-04-16T07:01:29.648Z"
   },
   {
    "duration": 16,
    "start_time": "2025-04-16T07:01:29.846Z"
   },
   {
    "duration": 229,
    "start_time": "2025-04-16T07:01:29.863Z"
   },
   {
    "duration": 12,
    "start_time": "2025-04-16T07:01:30.094Z"
   },
   {
    "duration": 389,
    "start_time": "2025-04-16T07:01:30.108Z"
   },
   {
    "duration": 378,
    "start_time": "2025-04-16T07:01:30.499Z"
   },
   {
    "duration": 177,
    "start_time": "2025-04-16T07:01:30.879Z"
   },
   {
    "duration": 12,
    "start_time": "2025-04-16T07:01:31.061Z"
   },
   {
    "duration": 279,
    "start_time": "2025-04-16T07:01:31.076Z"
   },
   {
    "duration": 15,
    "start_time": "2025-04-16T07:01:31.357Z"
   },
   {
    "duration": 297,
    "start_time": "2025-04-16T07:01:31.378Z"
   },
   {
    "duration": 165,
    "start_time": "2025-04-16T07:01:31.677Z"
   },
   {
    "duration": 245,
    "start_time": "2025-04-16T07:01:31.843Z"
   },
   {
    "duration": 15,
    "start_time": "2025-04-16T07:01:32.090Z"
   },
   {
    "duration": 454,
    "start_time": "2025-04-16T07:01:32.107Z"
   },
   {
    "duration": 402,
    "start_time": "2025-04-16T07:01:32.563Z"
   },
   {
    "duration": 327,
    "start_time": "2025-04-16T07:01:32.967Z"
   },
   {
    "duration": 222,
    "start_time": "2025-04-16T07:01:33.296Z"
   },
   {
    "duration": 294,
    "start_time": "2025-04-16T07:01:33.520Z"
   },
   {
    "duration": 131,
    "start_time": "2025-04-16T07:01:33.816Z"
   },
   {
    "duration": 282,
    "start_time": "2025-04-16T07:01:33.949Z"
   },
   {
    "duration": 249,
    "start_time": "2025-04-16T07:01:34.233Z"
   },
   {
    "duration": 283,
    "start_time": "2025-04-16T07:01:34.484Z"
   },
   {
    "duration": 159,
    "start_time": "2025-04-16T07:07:07.028Z"
   },
   {
    "duration": 137,
    "start_time": "2025-04-16T07:14:30.106Z"
   },
   {
    "duration": 17,
    "start_time": "2025-04-16T07:14:47.337Z"
   },
   {
    "duration": 17,
    "start_time": "2025-04-16T07:15:14.905Z"
   },
   {
    "duration": 22,
    "start_time": "2025-04-16T07:15:19.867Z"
   },
   {
    "duration": 2962,
    "start_time": "2025-04-16T07:15:32.109Z"
   },
   {
    "duration": 836,
    "start_time": "2025-04-16T07:15:35.075Z"
   },
   {
    "duration": 14,
    "start_time": "2025-04-16T07:15:35.913Z"
   },
   {
    "duration": 86,
    "start_time": "2025-04-16T07:15:35.930Z"
   },
   {
    "duration": 72,
    "start_time": "2025-04-16T07:15:36.018Z"
   },
   {
    "duration": 108,
    "start_time": "2025-04-16T07:15:36.092Z"
   },
   {
    "duration": 78,
    "start_time": "2025-04-16T07:15:36.202Z"
   },
   {
    "duration": 109,
    "start_time": "2025-04-16T07:15:36.282Z"
   },
   {
    "duration": 65,
    "start_time": "2025-04-16T07:15:36.394Z"
   },
   {
    "duration": 34,
    "start_time": "2025-04-16T07:15:36.464Z"
   },
   {
    "duration": 49,
    "start_time": "2025-04-16T07:15:36.500Z"
   },
   {
    "duration": 65,
    "start_time": "2025-04-16T07:15:36.551Z"
   },
   {
    "duration": 86,
    "start_time": "2025-04-16T07:15:36.618Z"
   },
   {
    "duration": 163,
    "start_time": "2025-04-16T07:15:36.706Z"
   },
   {
    "duration": 109,
    "start_time": "2025-04-16T07:15:36.872Z"
   },
   {
    "duration": 94,
    "start_time": "2025-04-16T07:15:36.984Z"
   },
   {
    "duration": 90,
    "start_time": "2025-04-16T07:15:37.080Z"
   },
   {
    "duration": 36,
    "start_time": "2025-04-16T07:15:37.172Z"
   },
   {
    "duration": 19,
    "start_time": "2025-04-16T07:15:37.210Z"
   },
   {
    "duration": 46,
    "start_time": "2025-04-16T07:15:37.231Z"
   },
   {
    "duration": 27,
    "start_time": "2025-04-16T07:15:37.279Z"
   },
   {
    "duration": 39,
    "start_time": "2025-04-16T07:15:37.308Z"
   },
   {
    "duration": 81,
    "start_time": "2025-04-16T07:15:37.349Z"
   },
   {
    "duration": 14,
    "start_time": "2025-04-16T07:15:37.432Z"
   },
   {
    "duration": 42,
    "start_time": "2025-04-16T07:15:37.448Z"
   },
   {
    "duration": 46,
    "start_time": "2025-04-16T07:15:37.493Z"
   },
   {
    "duration": 106,
    "start_time": "2025-04-16T07:15:37.542Z"
   },
   {
    "duration": 64,
    "start_time": "2025-04-16T07:15:37.653Z"
   },
   {
    "duration": 36,
    "start_time": "2025-04-16T07:15:37.718Z"
   },
   {
    "duration": 36,
    "start_time": "2025-04-16T07:15:37.756Z"
   },
   {
    "duration": 202,
    "start_time": "2025-04-16T07:15:37.795Z"
   },
   {
    "duration": 7,
    "start_time": "2025-04-16T07:15:37.999Z"
   },
   {
    "duration": 248,
    "start_time": "2025-04-16T07:15:38.008Z"
   },
   {
    "duration": 12,
    "start_time": "2025-04-16T07:15:38.261Z"
   },
   {
    "duration": 250,
    "start_time": "2025-04-16T07:15:38.275Z"
   },
   {
    "duration": 6,
    "start_time": "2025-04-16T07:15:38.526Z"
   },
   {
    "duration": 182,
    "start_time": "2025-04-16T07:15:38.533Z"
   },
   {
    "duration": 9,
    "start_time": "2025-04-16T07:15:38.717Z"
   },
   {
    "duration": 387,
    "start_time": "2025-04-16T07:15:38.728Z"
   },
   {
    "duration": 12,
    "start_time": "2025-04-16T07:15:39.118Z"
   },
   {
    "duration": 379,
    "start_time": "2025-04-16T07:15:39.131Z"
   },
   {
    "duration": 151,
    "start_time": "2025-04-16T07:15:39.512Z"
   },
   {
    "duration": 398,
    "start_time": "2025-04-16T07:15:39.665Z"
   },
   {
    "duration": 14,
    "start_time": "2025-04-16T07:15:40.066Z"
   },
   {
    "duration": 197,
    "start_time": "2025-04-16T07:15:40.081Z"
   },
   {
    "duration": 450,
    "start_time": "2025-04-16T07:15:40.281Z"
   },
   {
    "duration": 312,
    "start_time": "2025-04-16T07:15:40.733Z"
   },
   {
    "duration": 223,
    "start_time": "2025-04-16T07:15:41.048Z"
   },
   {
    "duration": 195,
    "start_time": "2025-04-16T07:15:41.273Z"
   },
   {
    "duration": 290,
    "start_time": "2025-04-16T07:15:41.470Z"
   },
   {
    "duration": 131,
    "start_time": "2025-04-16T07:15:41.762Z"
   },
   {
    "duration": 21,
    "start_time": "2025-04-16T07:15:41.895Z"
   },
   {
    "duration": 0,
    "start_time": "2025-04-16T07:15:41.918Z"
   },
   {
    "duration": 0,
    "start_time": "2025-04-16T07:15:41.920Z"
   },
   {
    "duration": 0,
    "start_time": "2025-04-16T07:15:41.922Z"
   },
   {
    "duration": 375,
    "start_time": "2025-04-16T07:21:20.077Z"
   },
   {
    "duration": 285,
    "start_time": "2025-04-16T07:24:42.877Z"
   },
   {
    "duration": 162,
    "start_time": "2025-04-16T07:24:46.378Z"
   },
   {
    "duration": 254,
    "start_time": "2025-04-16T07:24:51.877Z"
   },
   {
    "duration": 10,
    "start_time": "2025-04-16T07:27:26.525Z"
   },
   {
    "duration": 273,
    "start_time": "2025-04-16T07:34:17.297Z"
   },
   {
    "duration": 156,
    "start_time": "2025-04-16T07:35:30.617Z"
   },
   {
    "duration": 2967,
    "start_time": "2025-04-16T07:38:23.015Z"
   },
   {
    "duration": 471,
    "start_time": "2025-04-16T07:38:25.986Z"
   },
   {
    "duration": 15,
    "start_time": "2025-04-16T07:38:26.458Z"
   },
   {
    "duration": 28,
    "start_time": "2025-04-16T07:38:26.475Z"
   },
   {
    "duration": 13,
    "start_time": "2025-04-16T07:38:26.506Z"
   },
   {
    "duration": 73,
    "start_time": "2025-04-16T07:38:26.521Z"
   },
   {
    "duration": 16,
    "start_time": "2025-04-16T07:38:26.597Z"
   },
   {
    "duration": 18,
    "start_time": "2025-04-16T07:38:26.614Z"
   },
   {
    "duration": 47,
    "start_time": "2025-04-16T07:38:26.633Z"
   },
   {
    "duration": 8,
    "start_time": "2025-04-16T07:38:26.682Z"
   },
   {
    "duration": 13,
    "start_time": "2025-04-16T07:38:26.692Z"
   },
   {
    "duration": 12,
    "start_time": "2025-04-16T07:38:26.707Z"
   },
   {
    "duration": 15,
    "start_time": "2025-04-16T07:38:26.721Z"
   },
   {
    "duration": 107,
    "start_time": "2025-04-16T07:38:26.740Z"
   },
   {
    "duration": 107,
    "start_time": "2025-04-16T07:38:26.849Z"
   },
   {
    "duration": 14,
    "start_time": "2025-04-16T07:38:26.958Z"
   },
   {
    "duration": 96,
    "start_time": "2025-04-16T07:38:26.974Z"
   },
   {
    "duration": 29,
    "start_time": "2025-04-16T07:38:27.072Z"
   },
   {
    "duration": 19,
    "start_time": "2025-04-16T07:38:27.103Z"
   },
   {
    "duration": 24,
    "start_time": "2025-04-16T07:38:27.124Z"
   },
   {
    "duration": 26,
    "start_time": "2025-04-16T07:38:27.150Z"
   },
   {
    "duration": 16,
    "start_time": "2025-04-16T07:38:27.178Z"
   },
   {
    "duration": 80,
    "start_time": "2025-04-16T07:38:27.196Z"
   },
   {
    "duration": 10,
    "start_time": "2025-04-16T07:38:27.278Z"
   },
   {
    "duration": 30,
    "start_time": "2025-04-16T07:38:27.290Z"
   },
   {
    "duration": 10,
    "start_time": "2025-04-16T07:38:27.322Z"
   },
   {
    "duration": 26,
    "start_time": "2025-04-16T07:38:27.334Z"
   },
   {
    "duration": 36,
    "start_time": "2025-04-16T07:38:27.362Z"
   },
   {
    "duration": 10,
    "start_time": "2025-04-16T07:38:27.400Z"
   },
   {
    "duration": 31,
    "start_time": "2025-04-16T07:38:27.411Z"
   },
   {
    "duration": 220,
    "start_time": "2025-04-16T07:38:27.444Z"
   },
   {
    "duration": 8,
    "start_time": "2025-04-16T07:38:27.666Z"
   },
   {
    "duration": 247,
    "start_time": "2025-04-16T07:38:27.676Z"
   },
   {
    "duration": 11,
    "start_time": "2025-04-16T07:38:27.925Z"
   },
   {
    "duration": 203,
    "start_time": "2025-04-16T07:38:27.938Z"
   },
   {
    "duration": 19,
    "start_time": "2025-04-16T07:38:28.143Z"
   },
   {
    "duration": 149,
    "start_time": "2025-04-16T07:38:28.164Z"
   },
   {
    "duration": 10,
    "start_time": "2025-04-16T07:38:28.315Z"
   },
   {
    "duration": 428,
    "start_time": "2025-04-16T07:38:28.328Z"
   },
   {
    "duration": 14,
    "start_time": "2025-04-16T07:38:28.758Z"
   },
   {
    "duration": 288,
    "start_time": "2025-04-16T07:38:28.777Z"
   },
   {
    "duration": 168,
    "start_time": "2025-04-16T07:38:29.067Z"
   },
   {
    "duration": 217,
    "start_time": "2025-04-16T07:38:29.237Z"
   },
   {
    "duration": 20,
    "start_time": "2025-04-16T07:38:29.455Z"
   },
   {
    "duration": 212,
    "start_time": "2025-04-16T07:38:29.477Z"
   },
   {
    "duration": 552,
    "start_time": "2025-04-16T07:38:29.691Z"
   },
   {
    "duration": 294,
    "start_time": "2025-04-16T07:38:30.245Z"
   },
   {
    "duration": 224,
    "start_time": "2025-04-16T07:38:30.541Z"
   },
   {
    "duration": 171,
    "start_time": "2025-04-16T07:38:30.768Z"
   },
   {
    "duration": 288,
    "start_time": "2025-04-16T07:38:30.941Z"
   },
   {
    "duration": 125,
    "start_time": "2025-04-16T07:38:31.231Z"
   },
   {
    "duration": 287,
    "start_time": "2025-04-16T07:38:31.361Z"
   },
   {
    "duration": 19,
    "start_time": "2025-04-16T07:38:31.651Z"
   },
   {
    "duration": 271,
    "start_time": "2025-04-16T07:38:31.672Z"
   },
   {
    "duration": 171,
    "start_time": "2025-04-16T07:38:31.945Z"
   },
   {
    "duration": 258,
    "start_time": "2025-04-16T07:38:32.119Z"
   },
   {
    "duration": 257,
    "start_time": "2025-04-16T07:38:32.379Z"
   },
   {
    "duration": 266,
    "start_time": "2025-04-16T07:38:32.638Z"
   },
   {
    "duration": 3825,
    "start_time": "2025-04-16T18:08:06.536Z"
   },
   {
    "duration": 462,
    "start_time": "2025-04-16T18:08:10.363Z"
   },
   {
    "duration": 18,
    "start_time": "2025-04-16T18:08:10.827Z"
   },
   {
    "duration": 15,
    "start_time": "2025-04-16T18:08:10.847Z"
   },
   {
    "duration": 9,
    "start_time": "2025-04-16T18:08:10.864Z"
   },
   {
    "duration": 34,
    "start_time": "2025-04-16T18:08:10.875Z"
   },
   {
    "duration": 15,
    "start_time": "2025-04-16T18:08:10.910Z"
   },
   {
    "duration": 17,
    "start_time": "2025-04-16T18:08:10.927Z"
   },
   {
    "duration": 17,
    "start_time": "2025-04-16T18:08:10.946Z"
   },
   {
    "duration": 6,
    "start_time": "2025-04-16T18:08:10.964Z"
   },
   {
    "duration": 7,
    "start_time": "2025-04-16T18:08:10.972Z"
   },
   {
    "duration": 14,
    "start_time": "2025-04-16T18:08:10.981Z"
   },
   {
    "duration": 12,
    "start_time": "2025-04-16T18:08:10.997Z"
   },
   {
    "duration": 93,
    "start_time": "2025-04-16T18:08:11.012Z"
   },
   {
    "duration": 5,
    "start_time": "2025-04-16T18:08:11.107Z"
   },
   {
    "duration": 118,
    "start_time": "2025-04-16T18:08:11.113Z"
   },
   {
    "duration": 8,
    "start_time": "2025-04-16T18:08:11.232Z"
   },
   {
    "duration": 9,
    "start_time": "2025-04-16T18:08:11.242Z"
   },
   {
    "duration": 17,
    "start_time": "2025-04-16T18:08:11.253Z"
   },
   {
    "duration": 17,
    "start_time": "2025-04-16T18:08:11.271Z"
   },
   {
    "duration": 21,
    "start_time": "2025-04-16T18:08:11.289Z"
   },
   {
    "duration": 8,
    "start_time": "2025-04-16T18:08:11.311Z"
   },
   {
    "duration": 52,
    "start_time": "2025-04-16T18:08:11.321Z"
   },
   {
    "duration": 8,
    "start_time": "2025-04-16T18:08:11.374Z"
   },
   {
    "duration": 23,
    "start_time": "2025-04-16T18:08:11.384Z"
   },
   {
    "duration": 15,
    "start_time": "2025-04-16T18:08:11.409Z"
   },
   {
    "duration": 6,
    "start_time": "2025-04-16T18:08:11.426Z"
   },
   {
    "duration": 10,
    "start_time": "2025-04-16T18:08:11.433Z"
   },
   {
    "duration": 20,
    "start_time": "2025-04-16T18:08:11.444Z"
   },
   {
    "duration": 10,
    "start_time": "2025-04-16T18:08:11.465Z"
   },
   {
    "duration": 188,
    "start_time": "2025-04-16T18:08:11.477Z"
   },
   {
    "duration": 8,
    "start_time": "2025-04-16T18:08:11.667Z"
   },
   {
    "duration": 259,
    "start_time": "2025-04-16T18:08:11.676Z"
   },
   {
    "duration": 9,
    "start_time": "2025-04-16T18:08:11.937Z"
   },
   {
    "duration": 182,
    "start_time": "2025-04-16T18:08:11.960Z"
   },
   {
    "duration": 6,
    "start_time": "2025-04-16T18:08:12.143Z"
   },
   {
    "duration": 138,
    "start_time": "2025-04-16T18:08:12.159Z"
   },
   {
    "duration": 9,
    "start_time": "2025-04-16T18:08:12.299Z"
   },
   {
    "duration": 282,
    "start_time": "2025-04-16T18:08:12.310Z"
   },
   {
    "duration": 13,
    "start_time": "2025-04-16T18:08:12.594Z"
   },
   {
    "duration": 246,
    "start_time": "2025-04-16T18:08:12.611Z"
   },
   {
    "duration": 219,
    "start_time": "2025-04-16T18:08:12.860Z"
   },
   {
    "duration": 181,
    "start_time": "2025-04-16T18:08:13.081Z"
   },
   {
    "duration": 11,
    "start_time": "2025-04-16T18:08:13.264Z"
   },
   {
    "duration": 184,
    "start_time": "2025-04-16T18:08:13.276Z"
   },
   {
    "duration": 404,
    "start_time": "2025-04-16T18:08:13.462Z"
   },
   {
    "duration": 258,
    "start_time": "2025-04-16T18:08:13.868Z"
   },
   {
    "duration": 203,
    "start_time": "2025-04-16T18:08:14.127Z"
   },
   {
    "duration": 156,
    "start_time": "2025-04-16T18:08:14.332Z"
   },
   {
    "duration": 341,
    "start_time": "2025-04-16T18:08:14.490Z"
   },
   {
    "duration": 112,
    "start_time": "2025-04-16T18:08:14.832Z"
   },
   {
    "duration": 242,
    "start_time": "2025-04-16T18:08:14.946Z"
   },
   {
    "duration": 9,
    "start_time": "2025-04-16T18:08:15.189Z"
   },
   {
    "duration": 271,
    "start_time": "2025-04-16T18:08:15.199Z"
   },
   {
    "duration": 146,
    "start_time": "2025-04-16T18:08:15.472Z"
   },
   {
    "duration": 276,
    "start_time": "2025-04-16T18:08:15.620Z"
   },
   {
    "duration": 239,
    "start_time": "2025-04-16T18:08:15.897Z"
   },
   {
    "duration": 156,
    "start_time": "2025-04-16T18:08:16.137Z"
   },
   {
    "duration": 3790,
    "start_time": "2025-04-16T18:12:36.793Z"
   },
   {
    "duration": 151,
    "start_time": "2025-04-16T18:12:40.585Z"
   },
   {
    "duration": 19,
    "start_time": "2025-04-16T18:12:40.738Z"
   },
   {
    "duration": 16,
    "start_time": "2025-04-16T18:12:40.759Z"
   },
   {
    "duration": 12,
    "start_time": "2025-04-16T18:12:40.778Z"
   },
   {
    "duration": 11,
    "start_time": "2025-04-16T18:12:40.792Z"
   },
   {
    "duration": 13,
    "start_time": "2025-04-16T18:12:40.805Z"
   },
   {
    "duration": 53,
    "start_time": "2025-04-16T18:12:40.820Z"
   },
   {
    "duration": 10,
    "start_time": "2025-04-16T18:12:40.875Z"
   },
   {
    "duration": 6,
    "start_time": "2025-04-16T18:12:40.887Z"
   },
   {
    "duration": 6,
    "start_time": "2025-04-16T18:12:40.895Z"
   },
   {
    "duration": 10,
    "start_time": "2025-04-16T18:12:40.903Z"
   },
   {
    "duration": 51,
    "start_time": "2025-04-16T18:12:40.916Z"
   },
   {
    "duration": 65,
    "start_time": "2025-04-16T18:12:40.970Z"
   },
   {
    "duration": 5,
    "start_time": "2025-04-16T18:12:41.037Z"
   },
   {
    "duration": 7,
    "start_time": "2025-04-16T18:12:41.060Z"
   },
   {
    "duration": 2,
    "start_time": "2025-04-16T18:12:41.069Z"
   },
   {
    "duration": 8,
    "start_time": "2025-04-16T18:12:41.073Z"
   },
   {
    "duration": 14,
    "start_time": "2025-04-16T18:12:41.083Z"
   },
   {
    "duration": 18,
    "start_time": "2025-04-16T18:12:41.099Z"
   },
   {
    "duration": 141,
    "start_time": "2025-04-16T18:12:41.119Z"
   },
   {
    "duration": 7,
    "start_time": "2025-04-16T18:12:41.262Z"
   },
   {
    "duration": 36,
    "start_time": "2025-04-16T18:12:41.270Z"
   },
   {
    "duration": 7,
    "start_time": "2025-04-16T18:12:41.308Z"
   },
   {
    "duration": 14,
    "start_time": "2025-04-16T18:12:41.317Z"
   },
   {
    "duration": 28,
    "start_time": "2025-04-16T18:12:41.333Z"
   },
   {
    "duration": 4,
    "start_time": "2025-04-16T18:12:41.363Z"
   },
   {
    "duration": 5,
    "start_time": "2025-04-16T18:12:41.369Z"
   },
   {
    "duration": 5,
    "start_time": "2025-04-16T18:12:41.376Z"
   },
   {
    "duration": 7,
    "start_time": "2025-04-16T18:12:41.383Z"
   },
   {
    "duration": 222,
    "start_time": "2025-04-16T18:12:41.391Z"
   },
   {
    "duration": 6,
    "start_time": "2025-04-16T18:12:41.614Z"
   },
   {
    "duration": 216,
    "start_time": "2025-04-16T18:12:41.622Z"
   },
   {
    "duration": 9,
    "start_time": "2025-04-16T18:12:41.840Z"
   },
   {
    "duration": 190,
    "start_time": "2025-04-16T18:12:41.860Z"
   },
   {
    "duration": 12,
    "start_time": "2025-04-16T18:12:42.052Z"
   },
   {
    "duration": 143,
    "start_time": "2025-04-16T18:12:42.065Z"
   },
   {
    "duration": 9,
    "start_time": "2025-04-16T18:12:42.209Z"
   },
   {
    "duration": 258,
    "start_time": "2025-04-16T18:12:42.219Z"
   },
   {
    "duration": 12,
    "start_time": "2025-04-16T18:12:42.479Z"
   },
   {
    "duration": 252,
    "start_time": "2025-04-16T18:12:42.495Z"
   },
   {
    "duration": 239,
    "start_time": "2025-04-16T18:12:42.749Z"
   },
   {
    "duration": 180,
    "start_time": "2025-04-16T18:12:42.990Z"
   },
   {
    "duration": 11,
    "start_time": "2025-04-16T18:12:43.172Z"
   },
   {
    "duration": 228,
    "start_time": "2025-04-16T18:12:43.184Z"
   },
   {
    "duration": 388,
    "start_time": "2025-04-16T18:12:43.413Z"
   },
   {
    "duration": 275,
    "start_time": "2025-04-16T18:12:43.803Z"
   },
   {
    "duration": 201,
    "start_time": "2025-04-16T18:12:44.080Z"
   },
   {
    "duration": 152,
    "start_time": "2025-04-16T18:12:44.283Z"
   },
   {
    "duration": 351,
    "start_time": "2025-04-16T18:12:44.437Z"
   },
   {
    "duration": 118,
    "start_time": "2025-04-16T18:12:44.789Z"
   },
   {
    "duration": 252,
    "start_time": "2025-04-16T18:12:44.908Z"
   },
   {
    "duration": 9,
    "start_time": "2025-04-16T18:12:45.162Z"
   },
   {
    "duration": 292,
    "start_time": "2025-04-16T18:12:45.173Z"
   },
   {
    "duration": 147,
    "start_time": "2025-04-16T18:12:45.467Z"
   },
   {
    "duration": 268,
    "start_time": "2025-04-16T18:12:45.616Z"
   },
   {
    "duration": 291,
    "start_time": "2025-04-16T18:12:45.886Z"
   },
   {
    "duration": 305,
    "start_time": "2025-04-16T18:12:46.179Z"
   }
  ],
  "colab": {
   "provenance": []
  },
  "kernelspec": {
   "display_name": "Python [conda env:base] *",
   "language": "python",
   "name": "conda-base-py"
  },
  "language_info": {
   "codemirror_mode": {
    "name": "ipython",
    "version": 3
   },
   "file_extension": ".py",
   "mimetype": "text/x-python",
   "name": "python",
   "nbconvert_exporter": "python",
   "pygments_lexer": "ipython3",
   "version": "3.12.7"
  },
  "toc": {
   "base_numbering": 1,
   "nav_menu": {},
   "number_sections": true,
   "sideBar": true,
   "skip_h1_title": true,
   "title_cell": "Table of Contents",
   "title_sidebar": "Contents",
   "toc_cell": false,
   "toc_position": {
    "height": "calc(100% - 180px)",
    "left": "10px",
    "top": "150px",
    "width": "182.932px"
   },
   "toc_section_display": true,
   "toc_window_display": true
  }
 },
 "nbformat": 4,
 "nbformat_minor": 5
}
