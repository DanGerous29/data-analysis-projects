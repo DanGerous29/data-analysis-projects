{
 "cells": [
  {
   "cell_type": "markdown",
   "metadata": {
    "id": "4mJbK1knrJgz"
   },
   "source": [
    "\n",
    "# Проект: Исследование стартапов\n",
    "- Автор: Заславский Данила\n",
    "- Дата: 23.04.2025"
   ]
  },
  {
   "cell_type": "markdown",
   "metadata": {
    "id": "P6j0r3worJg0"
   },
   "source": [
    "## Введение"
   ]
  },
  {
   "cell_type": "markdown",
   "metadata": {
    "id": "8lQtbsIUyFG6"
   },
   "source": [
    "\n",
    "**Цель проекта:** подготовить объединённый датасет и проверить, что данные в нём соответствуют здравому смыслу, а также ответить на вопросы финансовой компании как о предобработке, так и о значении данных для разработки модели бизнеса.\n",
    "\n",
    "**Задачи:** \n",
    "1. Загрузить данные и ознакомиться с их содержимым\n",
    "2. Провести предбоработку данных, совершить предварительное исследование\n",
    "3. Провести исследовательский анализ данных:\n",
    "    - изучить, по каким столбцам следует объединить данные из разных таблиц;\n",
    "    - исследовать, можно ли доверять данным о сотрудниках стартапов и их образовании;\n",
    "    - исследовать компании, которые были куплены за 0 или 1 доллар;\n",
    "    - выделить категории стартапов с типично высокими ценами и наибольшим разбросом цен за стартап;\n",
    "    - Исследовать типичное значение количества раундов для каждого возможного статуса стартапа\n",
    "4. Сформулировать выводы по проведенному анализу    "
   ]
  },
  {
   "cell_type": "markdown",
   "metadata": {},
   "source": [
    "### Описание данных\n",
    "\n",
    "Данные состоят из пяти датасетов:\n",
    "\n",
    "- `company_and_rounds.csv` - cодержит информацию о компаниях и раундах финансирования;\n",
    "- `acquisition.csv` - cодержит информацию о покупках одними компаниями других компаний;\n",
    "- `people.csv` - cодержит информацию о сотрудниках;\n",
    "- `education.csv` - cодержит информацию об образовании сотрудника;\n",
    "- `degrees.csv` - cодержит информацию о типе образования сотрудника.\n",
    "\n",
    "**Описание датасета `company_and_rounds`:**\n",
    "\n",
    "- `company ID` — идентификатор компании.\n",
    "- `name` — название компании.\n",
    "- `category code` — категория области деятельности компании.\n",
    "- `status` — статус компании.\n",
    "- `founded at` — дата инвестирования.\n",
    "- `closed at` — дата закрытия компании.\n",
    "- `domain` — официальный сайт компании.\n",
    "- `network username` — ник компании в сети.\n",
    "- `country code` — код страны компании.\n",
    "- `investment rounds` — число инвестиционных раундов.\n",
    "- `funding rounds` — число раундов финансирования.\n",
    "- `funding total` — сумма финансирования.\n",
    "- `milestones` — вехи финансирования.\n",
    "- `funding round id` — идентификатор этапа финансирования.\n",
    "- `company id` — идентификатор компании.\n",
    "- `funded at` — дата финансирования.\n",
    "- `funding round type` — тип финансирования.\n",
    "- `raised amount` — сумма финансирования.\n",
    "- `pre money valuation` — предварительная денежная оценка.\n",
    "- `participants` — число участников.\n",
    "- `is first round` — является ли раунд первым.\n",
    "- `is last round` — является раунд последним.\n",
    "\n",
    "**Описание датасета `acquisition`:**\n",
    "\n",
    "- `id` — идентификатор покупки.\n",
    "- `acquiring_company_id` — идентификатор покупающей компании.\n",
    "- `acquired_company_id` — идентификатор покупаемой компании.\n",
    "- `term_code` — варианты расчёта.\n",
    "- `price_amount` — сумма сделки.\n",
    "- `acquired_at` — дата сделки.\n",
    "\n",
    "**Описание датасета `people`:**\n",
    "\n",
    "- `id` — идентификатор сотрудника.\n",
    "- `first_name` — имя сотрудника.\n",
    "- `last_name` — фамилия сотрудника.\n",
    "- `company_id` — идентификатор компании.\n",
    "- `network_username` — ник в социальных сетях.\n",
    "\n",
    "**Описание датасета `education`:**\n",
    "\n",
    "- `id` - идентификатор записи об образовании.\n",
    "- `person_id` — идентификатор работника.\n",
    "- `instituition` — название учебного заведения.\n",
    "- `graduated_at` — дата получения образования.\n",
    "\n",
    "**Описание датасета `degrees`:**\n",
    "\n",
    "- `id` — идентификатор записи.\n",
    "- `object_id` — идентификатор сотрудника.\n",
    "- `degree_type` — тип образования.\n",
    "- `subject` — специальность.\n"
   ]
  },
  {
   "cell_type": "markdown",
   "metadata": {},
   "source": [
    "### Содержимое проекта\n",
    "\n",
    "[1. Знакомство с данными: загрузка и первичная предобработка](#chapter1)    \n",
    "[2. Предобработка данных, предварительное исследование](#chapter2)    \n",
    "[3. Исследовательский анализ объединённых таблиц](#chapter3)    \n",
    "[4. Итоговый вывод и рекомендации](#chapter4)"
   ]
  },
  {
   "cell_type": "markdown",
   "metadata": {
    "id": "xqr6uttCrJg0"
   },
   "source": [
    "\n",
    "## Шаг 1. Знакомство с данными: загрузка и первичная предобработка\n",
    "<a id='chapter1'></a>\n",
    "\n",
    "Названия файлов:\n",
    "* acquisition.csv\n",
    "* company_and_rounds.csv\n",
    "* people.csv\n",
    "* education.csv\n",
    "* degrees.csv\n",
    "\n",
    "Опциональные датасеты:\n",
    "* fund.csv\n",
    "* investment.csv\n",
    "\n",
    "\n",
    "Они находятся в папке datasets, если вы выполняете работу на платформе. В случае, если вы делаете работу локально, доступ к файлам в папке можно получить по адресу `https://code.s3.yandex.net/datasets/` + имя файла.\n",
    "\n",
    "### 1.1. Вывод общей информации, исправление названия столбцов\n",
    "\n"
   ]
  },
  {
   "cell_type": "markdown",
   "metadata": {
    "colab": {
     "base_uri": "https://localhost:8080/"
    },
    "id": "W_W4jRazrJg0",
    "outputId": "d2409aad-233f-4bb4-ec71-7da96594f9df",
    "vscode": {
     "languageId": "plaintext"
    }
   },
   "source": [
    "Начнём с загрузки библиотек и датасетов. Будем использовать `pandas` и библиотеки визуализации данных `matplotlib` и `seaborn`."
   ]
  },
  {
   "cell_type": "code",
   "execution_count": 2,
   "metadata": {
    "id": "2Tm4Pk__Felf"
   },
   "outputs": [],
   "source": [
    "# Импортируем библиотеку pandas\n",
    "import pandas as pd\n",
    "\n",
    "#Импортируем библиотеку numpy\n",
    "import numpy as np\n",
    "\n",
    "# Загружаем библиотеки для визуализации данных\n",
    "import matplotlib.pyplot as plt\n",
    "import seaborn as sns\n"
   ]
  },
  {
   "cell_type": "code",
   "execution_count": 3,
   "metadata": {
    "id": "oNqJ2qpRFebv"
   },
   "outputs": [],
   "source": [
    "# Выгружаем данные исходных датасетов\n",
    "company_and_rounds = pd.read_csv('https://code.s3.yandex.net/datasets/company_and_rounds.csv')\n",
    "acquisition = pd.read_csv('https://code.s3.yandex.net/datasets/acquisition.csv')\n",
    "people = pd.read_csv('https://code.s3.yandex.net/datasets/people.csv')\n",
    "education = pd.read_csv('https://code.s3.yandex.net/datasets/education.csv')\n",
    "degrees =  pd.read_csv('https://code.s3.yandex.net/datasets/degrees.csv')"
   ]
  },
  {
   "cell_type": "markdown",
   "metadata": {},
   "source": [
    "Познакомимся с данными датасетов. Начнём с `company_and_rounds`. Выведем первые строки методом `head()`, а информацию о датафрейме методом info():"
   ]
  },
  {
   "cell_type": "code",
   "execution_count": 6,
   "metadata": {},
   "outputs": [
    {
     "data": {
      "text/html": [
       "<div>\n",
       "<style scoped>\n",
       "    .dataframe tbody tr th:only-of-type {\n",
       "        vertical-align: middle;\n",
       "    }\n",
       "\n",
       "    .dataframe tbody tr th {\n",
       "        vertical-align: top;\n",
       "    }\n",
       "\n",
       "    .dataframe thead th {\n",
       "        text-align: right;\n",
       "    }\n",
       "</style>\n",
       "<table border=\"1\" class=\"dataframe\">\n",
       "  <thead>\n",
       "    <tr style=\"text-align: right;\">\n",
       "      <th></th>\n",
       "      <th>company  ID</th>\n",
       "      <th>name</th>\n",
       "      <th>category  code</th>\n",
       "      <th>status</th>\n",
       "      <th>founded  at</th>\n",
       "      <th>closed  at</th>\n",
       "      <th>domain</th>\n",
       "      <th>network  username</th>\n",
       "      <th>country  code</th>\n",
       "      <th>investment  rounds</th>\n",
       "      <th>...</th>\n",
       "      <th>milestones</th>\n",
       "      <th>funding  round  id</th>\n",
       "      <th>company  id</th>\n",
       "      <th>funded  at</th>\n",
       "      <th>funding  round  type</th>\n",
       "      <th>raised  amount</th>\n",
       "      <th>pre  money  valuation</th>\n",
       "      <th>participants</th>\n",
       "      <th>is  first  round</th>\n",
       "      <th>is  last  round</th>\n",
       "    </tr>\n",
       "  </thead>\n",
       "  <tbody>\n",
       "    <tr>\n",
       "      <th>0</th>\n",
       "      <td>1.0</td>\n",
       "      <td>Wetpaint</td>\n",
       "      <td>web</td>\n",
       "      <td>operating</td>\n",
       "      <td>2005-10-17</td>\n",
       "      <td>NaN</td>\n",
       "      <td>wetpaint-inc.com</td>\n",
       "      <td>BachelrWetpaint</td>\n",
       "      <td>USA</td>\n",
       "      <td>0.0</td>\n",
       "      <td>...</td>\n",
       "      <td>5.0</td>\n",
       "      <td>888.0</td>\n",
       "      <td>1.0</td>\n",
       "      <td>2005-10-01</td>\n",
       "      <td>series-a</td>\n",
       "      <td>5250000.0</td>\n",
       "      <td>0.0</td>\n",
       "      <td>2.0</td>\n",
       "      <td>0.0</td>\n",
       "      <td>1.0</td>\n",
       "    </tr>\n",
       "    <tr>\n",
       "      <th>1</th>\n",
       "      <td>1.0</td>\n",
       "      <td>Wetpaint</td>\n",
       "      <td>web</td>\n",
       "      <td>operating</td>\n",
       "      <td>2005-10-17</td>\n",
       "      <td>NaN</td>\n",
       "      <td>wetpaint-inc.com</td>\n",
       "      <td>BachelrWetpaint</td>\n",
       "      <td>USA</td>\n",
       "      <td>0.0</td>\n",
       "      <td>...</td>\n",
       "      <td>5.0</td>\n",
       "      <td>889.0</td>\n",
       "      <td>1.0</td>\n",
       "      <td>2007-01-01</td>\n",
       "      <td>series-b</td>\n",
       "      <td>9500000.0</td>\n",
       "      <td>0.0</td>\n",
       "      <td>3.0</td>\n",
       "      <td>0.0</td>\n",
       "      <td>0.0</td>\n",
       "    </tr>\n",
       "    <tr>\n",
       "      <th>2</th>\n",
       "      <td>1.0</td>\n",
       "      <td>Wetpaint</td>\n",
       "      <td>web</td>\n",
       "      <td>operating</td>\n",
       "      <td>2005-10-17</td>\n",
       "      <td>NaN</td>\n",
       "      <td>wetpaint-inc.com</td>\n",
       "      <td>BachelrWetpaint</td>\n",
       "      <td>USA</td>\n",
       "      <td>0.0</td>\n",
       "      <td>...</td>\n",
       "      <td>5.0</td>\n",
       "      <td>2312.0</td>\n",
       "      <td>1.0</td>\n",
       "      <td>2008-05-19</td>\n",
       "      <td>series-c+</td>\n",
       "      <td>25000000.0</td>\n",
       "      <td>0.0</td>\n",
       "      <td>4.0</td>\n",
       "      <td>1.0</td>\n",
       "      <td>0.0</td>\n",
       "    </tr>\n",
       "    <tr>\n",
       "      <th>3</th>\n",
       "      <td>10.0</td>\n",
       "      <td>Flektor</td>\n",
       "      <td>games_video</td>\n",
       "      <td>acquired</td>\n",
       "      <td>NaN</td>\n",
       "      <td>NaN</td>\n",
       "      <td>flektor.com</td>\n",
       "      <td>NaN</td>\n",
       "      <td>USA</td>\n",
       "      <td>0.0</td>\n",
       "      <td>...</td>\n",
       "      <td>0.0</td>\n",
       "      <td>NaN</td>\n",
       "      <td>NaN</td>\n",
       "      <td>NaN</td>\n",
       "      <td>NaN</td>\n",
       "      <td>NaN</td>\n",
       "      <td>NaN</td>\n",
       "      <td>NaN</td>\n",
       "      <td>NaN</td>\n",
       "      <td>NaN</td>\n",
       "    </tr>\n",
       "    <tr>\n",
       "      <th>4</th>\n",
       "      <td>100.0</td>\n",
       "      <td>There</td>\n",
       "      <td>games_video</td>\n",
       "      <td>acquired</td>\n",
       "      <td>NaN</td>\n",
       "      <td>NaN</td>\n",
       "      <td>there.com</td>\n",
       "      <td>NaN</td>\n",
       "      <td>USA</td>\n",
       "      <td>0.0</td>\n",
       "      <td>...</td>\n",
       "      <td>4.0</td>\n",
       "      <td>NaN</td>\n",
       "      <td>NaN</td>\n",
       "      <td>NaN</td>\n",
       "      <td>NaN</td>\n",
       "      <td>NaN</td>\n",
       "      <td>NaN</td>\n",
       "      <td>NaN</td>\n",
       "      <td>NaN</td>\n",
       "      <td>NaN</td>\n",
       "    </tr>\n",
       "    <tr>\n",
       "      <th>5</th>\n",
       "      <td>10000.0</td>\n",
       "      <td>MYWEBBO</td>\n",
       "      <td>network_hosting</td>\n",
       "      <td>operating</td>\n",
       "      <td>2008-07-26</td>\n",
       "      <td>NaN</td>\n",
       "      <td>mywebbo.com</td>\n",
       "      <td>NaN</td>\n",
       "      <td>NaN</td>\n",
       "      <td>0.0</td>\n",
       "      <td>...</td>\n",
       "      <td>0.0</td>\n",
       "      <td>NaN</td>\n",
       "      <td>NaN</td>\n",
       "      <td>NaN</td>\n",
       "      <td>NaN</td>\n",
       "      <td>NaN</td>\n",
       "      <td>NaN</td>\n",
       "      <td>NaN</td>\n",
       "      <td>NaN</td>\n",
       "      <td>NaN</td>\n",
       "    </tr>\n",
       "    <tr>\n",
       "      <th>6</th>\n",
       "      <td>10001.0</td>\n",
       "      <td>THE Movie Streamer</td>\n",
       "      <td>games_video</td>\n",
       "      <td>operating</td>\n",
       "      <td>2008-07-26</td>\n",
       "      <td>NaN</td>\n",
       "      <td>themoviestreamer.com</td>\n",
       "      <td>NaN</td>\n",
       "      <td>NaN</td>\n",
       "      <td>0.0</td>\n",
       "      <td>...</td>\n",
       "      <td>0.0</td>\n",
       "      <td>NaN</td>\n",
       "      <td>NaN</td>\n",
       "      <td>NaN</td>\n",
       "      <td>NaN</td>\n",
       "      <td>NaN</td>\n",
       "      <td>NaN</td>\n",
       "      <td>NaN</td>\n",
       "      <td>NaN</td>\n",
       "      <td>NaN</td>\n",
       "    </tr>\n",
       "    <tr>\n",
       "      <th>7</th>\n",
       "      <td>10002.0</td>\n",
       "      <td>Synergie Media</td>\n",
       "      <td>advertising</td>\n",
       "      <td>operating</td>\n",
       "      <td>2007-06-27</td>\n",
       "      <td>NaN</td>\n",
       "      <td>synergie-media.com</td>\n",
       "      <td>NaN</td>\n",
       "      <td>MAR</td>\n",
       "      <td>0.0</td>\n",
       "      <td>...</td>\n",
       "      <td>0.0</td>\n",
       "      <td>NaN</td>\n",
       "      <td>NaN</td>\n",
       "      <td>NaN</td>\n",
       "      <td>NaN</td>\n",
       "      <td>NaN</td>\n",
       "      <td>NaN</td>\n",
       "      <td>NaN</td>\n",
       "      <td>NaN</td>\n",
       "      <td>NaN</td>\n",
       "    </tr>\n",
       "    <tr>\n",
       "      <th>8</th>\n",
       "      <td>10003.0</td>\n",
       "      <td>Green Basti Ecosystems</td>\n",
       "      <td>cleantech</td>\n",
       "      <td>operating</td>\n",
       "      <td>2008-08-20</td>\n",
       "      <td>NaN</td>\n",
       "      <td>NaN</td>\n",
       "      <td>NaN</td>\n",
       "      <td>IND</td>\n",
       "      <td>0.0</td>\n",
       "      <td>...</td>\n",
       "      <td>0.0</td>\n",
       "      <td>NaN</td>\n",
       "      <td>NaN</td>\n",
       "      <td>NaN</td>\n",
       "      <td>NaN</td>\n",
       "      <td>NaN</td>\n",
       "      <td>NaN</td>\n",
       "      <td>NaN</td>\n",
       "      <td>NaN</td>\n",
       "      <td>NaN</td>\n",
       "    </tr>\n",
       "    <tr>\n",
       "      <th>9</th>\n",
       "      <td>100042.0</td>\n",
       "      <td>HostNine</td>\n",
       "      <td>NaN</td>\n",
       "      <td>operating</td>\n",
       "      <td>NaN</td>\n",
       "      <td>NaN</td>\n",
       "      <td>hostnine.com</td>\n",
       "      <td>Hostnine</td>\n",
       "      <td>NaN</td>\n",
       "      <td>0.0</td>\n",
       "      <td>...</td>\n",
       "      <td>1.0</td>\n",
       "      <td>NaN</td>\n",
       "      <td>NaN</td>\n",
       "      <td>NaN</td>\n",
       "      <td>NaN</td>\n",
       "      <td>NaN</td>\n",
       "      <td>NaN</td>\n",
       "      <td>NaN</td>\n",
       "      <td>NaN</td>\n",
       "      <td>NaN</td>\n",
       "    </tr>\n",
       "    <tr>\n",
       "      <th>10</th>\n",
       "      <td>10005.0</td>\n",
       "      <td>Thomas Publishing</td>\n",
       "      <td>advertising</td>\n",
       "      <td>operating</td>\n",
       "      <td>NaN</td>\n",
       "      <td>NaN</td>\n",
       "      <td>thomaspublishing.com</td>\n",
       "      <td>NaN</td>\n",
       "      <td>USA</td>\n",
       "      <td>0.0</td>\n",
       "      <td>...</td>\n",
       "      <td>1.0</td>\n",
       "      <td>NaN</td>\n",
       "      <td>NaN</td>\n",
       "      <td>NaN</td>\n",
       "      <td>NaN</td>\n",
       "      <td>NaN</td>\n",
       "      <td>NaN</td>\n",
       "      <td>NaN</td>\n",
       "      <td>NaN</td>\n",
       "      <td>NaN</td>\n",
       "    </tr>\n",
       "    <tr>\n",
       "      <th>11</th>\n",
       "      <td>100062.0</td>\n",
       "      <td>Vetter Idea Management System</td>\n",
       "      <td>enterprise</td>\n",
       "      <td>operating</td>\n",
       "      <td>2011-08-01</td>\n",
       "      <td>NaN</td>\n",
       "      <td>getvetter.com</td>\n",
       "      <td>getvetter</td>\n",
       "      <td>NaN</td>\n",
       "      <td>0.0</td>\n",
       "      <td>...</td>\n",
       "      <td>1.0</td>\n",
       "      <td>NaN</td>\n",
       "      <td>NaN</td>\n",
       "      <td>NaN</td>\n",
       "      <td>NaN</td>\n",
       "      <td>NaN</td>\n",
       "      <td>NaN</td>\n",
       "      <td>NaN</td>\n",
       "      <td>NaN</td>\n",
       "      <td>NaN</td>\n",
       "    </tr>\n",
       "    <tr>\n",
       "      <th>12</th>\n",
       "      <td>100068.0</td>\n",
       "      <td>ChatRandom</td>\n",
       "      <td>games_video</td>\n",
       "      <td>operating</td>\n",
       "      <td>2011-02-01</td>\n",
       "      <td>NaN</td>\n",
       "      <td>chatrandom.com</td>\n",
       "      <td>chatrandom</td>\n",
       "      <td>NaN</td>\n",
       "      <td>0.0</td>\n",
       "      <td>...</td>\n",
       "      <td>1.0</td>\n",
       "      <td>NaN</td>\n",
       "      <td>NaN</td>\n",
       "      <td>NaN</td>\n",
       "      <td>NaN</td>\n",
       "      <td>NaN</td>\n",
       "      <td>NaN</td>\n",
       "      <td>NaN</td>\n",
       "      <td>NaN</td>\n",
       "      <td>NaN</td>\n",
       "    </tr>\n",
       "    <tr>\n",
       "      <th>13</th>\n",
       "      <td>10008.0</td>\n",
       "      <td>ScapadasAmorosas</td>\n",
       "      <td>other</td>\n",
       "      <td>operating</td>\n",
       "      <td>2007-03-01</td>\n",
       "      <td>NaN</td>\n",
       "      <td>scapadasamorosas.com</td>\n",
       "      <td>NaN</td>\n",
       "      <td>NaN</td>\n",
       "      <td>0.0</td>\n",
       "      <td>...</td>\n",
       "      <td>0.0</td>\n",
       "      <td>NaN</td>\n",
       "      <td>NaN</td>\n",
       "      <td>NaN</td>\n",
       "      <td>NaN</td>\n",
       "      <td>NaN</td>\n",
       "      <td>NaN</td>\n",
       "      <td>NaN</td>\n",
       "      <td>NaN</td>\n",
       "      <td>NaN</td>\n",
       "    </tr>\n",
       "    <tr>\n",
       "      <th>14</th>\n",
       "      <td>10009.0</td>\n",
       "      <td>dimension5 labs</td>\n",
       "      <td>advertising</td>\n",
       "      <td>operating</td>\n",
       "      <td>2008-08-01</td>\n",
       "      <td>NaN</td>\n",
       "      <td>d5labs.com</td>\n",
       "      <td>NaN</td>\n",
       "      <td>USA</td>\n",
       "      <td>0.0</td>\n",
       "      <td>...</td>\n",
       "      <td>1.0</td>\n",
       "      <td>NaN</td>\n",
       "      <td>NaN</td>\n",
       "      <td>NaN</td>\n",
       "      <td>NaN</td>\n",
       "      <td>NaN</td>\n",
       "      <td>NaN</td>\n",
       "      <td>NaN</td>\n",
       "      <td>NaN</td>\n",
       "      <td>NaN</td>\n",
       "    </tr>\n",
       "    <tr>\n",
       "      <th>15</th>\n",
       "      <td>1001.0</td>\n",
       "      <td>FriendFeed</td>\n",
       "      <td>web</td>\n",
       "      <td>acquired</td>\n",
       "      <td>2007-10-01</td>\n",
       "      <td>NaN</td>\n",
       "      <td>friendfeed.com</td>\n",
       "      <td>friendfeed</td>\n",
       "      <td>USA</td>\n",
       "      <td>0.0</td>\n",
       "      <td>...</td>\n",
       "      <td>3.0</td>\n",
       "      <td>1644.0</td>\n",
       "      <td>1001.0</td>\n",
       "      <td>2008-02-26</td>\n",
       "      <td>series-a</td>\n",
       "      <td>5000000.0</td>\n",
       "      <td>0.0</td>\n",
       "      <td>3.0</td>\n",
       "      <td>1.0</td>\n",
       "      <td>1.0</td>\n",
       "    </tr>\n",
       "    <tr>\n",
       "      <th>16</th>\n",
       "      <td>10010.0</td>\n",
       "      <td>Whooligan</td>\n",
       "      <td>games_video</td>\n",
       "      <td>operating</td>\n",
       "      <td>2007-12-01</td>\n",
       "      <td>NaN</td>\n",
       "      <td>whooligan.com</td>\n",
       "      <td>NaN</td>\n",
       "      <td>NaN</td>\n",
       "      <td>0.0</td>\n",
       "      <td>...</td>\n",
       "      <td>0.0</td>\n",
       "      <td>NaN</td>\n",
       "      <td>NaN</td>\n",
       "      <td>NaN</td>\n",
       "      <td>NaN</td>\n",
       "      <td>NaN</td>\n",
       "      <td>NaN</td>\n",
       "      <td>NaN</td>\n",
       "      <td>NaN</td>\n",
       "      <td>NaN</td>\n",
       "    </tr>\n",
       "    <tr>\n",
       "      <th>17</th>\n",
       "      <td>10011.0</td>\n",
       "      <td>PoetryVisualized.com</td>\n",
       "      <td>games_video</td>\n",
       "      <td>operating</td>\n",
       "      <td>2008-01-01</td>\n",
       "      <td>NaN</td>\n",
       "      <td>poetryvisualized.com</td>\n",
       "      <td>NaN</td>\n",
       "      <td>USA</td>\n",
       "      <td>0.0</td>\n",
       "      <td>...</td>\n",
       "      <td>1.0</td>\n",
       "      <td>NaN</td>\n",
       "      <td>NaN</td>\n",
       "      <td>NaN</td>\n",
       "      <td>NaN</td>\n",
       "      <td>NaN</td>\n",
       "      <td>NaN</td>\n",
       "      <td>NaN</td>\n",
       "      <td>NaN</td>\n",
       "      <td>NaN</td>\n",
       "    </tr>\n",
       "    <tr>\n",
       "      <th>18</th>\n",
       "      <td>10012.0</td>\n",
       "      <td>moviestring.com</td>\n",
       "      <td>games_video</td>\n",
       "      <td>closed</td>\n",
       "      <td>2008-08-22</td>\n",
       "      <td>2010-01-01</td>\n",
       "      <td>moviestring.com</td>\n",
       "      <td>NaN</td>\n",
       "      <td>NaN</td>\n",
       "      <td>0.0</td>\n",
       "      <td>...</td>\n",
       "      <td>0.0</td>\n",
       "      <td>NaN</td>\n",
       "      <td>NaN</td>\n",
       "      <td>NaN</td>\n",
       "      <td>NaN</td>\n",
       "      <td>NaN</td>\n",
       "      <td>NaN</td>\n",
       "      <td>NaN</td>\n",
       "      <td>NaN</td>\n",
       "      <td>NaN</td>\n",
       "    </tr>\n",
       "    <tr>\n",
       "      <th>19</th>\n",
       "      <td>10013.0</td>\n",
       "      <td>The Adory</td>\n",
       "      <td>consulting</td>\n",
       "      <td>operating</td>\n",
       "      <td>2008-01-01</td>\n",
       "      <td>NaN</td>\n",
       "      <td>theadory.com</td>\n",
       "      <td>the_adory</td>\n",
       "      <td>NaN</td>\n",
       "      <td>0.0</td>\n",
       "      <td>...</td>\n",
       "      <td>0.0</td>\n",
       "      <td>NaN</td>\n",
       "      <td>NaN</td>\n",
       "      <td>NaN</td>\n",
       "      <td>NaN</td>\n",
       "      <td>NaN</td>\n",
       "      <td>NaN</td>\n",
       "      <td>NaN</td>\n",
       "      <td>NaN</td>\n",
       "      <td>NaN</td>\n",
       "    </tr>\n",
       "    <tr>\n",
       "      <th>20</th>\n",
       "      <td>10014.0</td>\n",
       "      <td>Mobclix</td>\n",
       "      <td>mobile</td>\n",
       "      <td>acquired</td>\n",
       "      <td>2008-03-01</td>\n",
       "      <td>NaN</td>\n",
       "      <td>mobclix.com</td>\n",
       "      <td>mobclix</td>\n",
       "      <td>USA</td>\n",
       "      <td>0.0</td>\n",
       "      <td>...</td>\n",
       "      <td>4.0</td>\n",
       "      <td>6682.0</td>\n",
       "      <td>10014.0</td>\n",
       "      <td>2008-09-01</td>\n",
       "      <td>angel</td>\n",
       "      <td>0.0</td>\n",
       "      <td>0.0</td>\n",
       "      <td>1.0</td>\n",
       "      <td>1.0</td>\n",
       "      <td>1.0</td>\n",
       "    </tr>\n",
       "    <tr>\n",
       "      <th>21</th>\n",
       "      <td>10015.0</td>\n",
       "      <td>Fitbit</td>\n",
       "      <td>health</td>\n",
       "      <td>operating</td>\n",
       "      <td>2007-10-01</td>\n",
       "      <td>NaN</td>\n",
       "      <td>fitbit.com</td>\n",
       "      <td>fitbit</td>\n",
       "      <td>USA</td>\n",
       "      <td>0.0</td>\n",
       "      <td>...</td>\n",
       "      <td>0.0</td>\n",
       "      <td>3619.0</td>\n",
       "      <td>10015.0</td>\n",
       "      <td>2008-10-10</td>\n",
       "      <td>series-a</td>\n",
       "      <td>2000000.0</td>\n",
       "      <td>0.0</td>\n",
       "      <td>2.0</td>\n",
       "      <td>0.0</td>\n",
       "      <td>1.0</td>\n",
       "    </tr>\n",
       "    <tr>\n",
       "      <th>22</th>\n",
       "      <td>10015.0</td>\n",
       "      <td>Fitbit</td>\n",
       "      <td>health</td>\n",
       "      <td>operating</td>\n",
       "      <td>2007-10-01</td>\n",
       "      <td>NaN</td>\n",
       "      <td>fitbit.com</td>\n",
       "      <td>fitbit</td>\n",
       "      <td>USA</td>\n",
       "      <td>0.0</td>\n",
       "      <td>...</td>\n",
       "      <td>0.0</td>\n",
       "      <td>18213.0</td>\n",
       "      <td>10015.0</td>\n",
       "      <td>2010-09-10</td>\n",
       "      <td>series-b</td>\n",
       "      <td>9000000.0</td>\n",
       "      <td>0.0</td>\n",
       "      <td>4.0</td>\n",
       "      <td>0.0</td>\n",
       "      <td>0.0</td>\n",
       "    </tr>\n",
       "    <tr>\n",
       "      <th>23</th>\n",
       "      <td>10015.0</td>\n",
       "      <td>Fitbit</td>\n",
       "      <td>health</td>\n",
       "      <td>operating</td>\n",
       "      <td>2007-10-01</td>\n",
       "      <td>NaN</td>\n",
       "      <td>fitbit.com</td>\n",
       "      <td>fitbit</td>\n",
       "      <td>USA</td>\n",
       "      <td>0.0</td>\n",
       "      <td>...</td>\n",
       "      <td>0.0</td>\n",
       "      <td>27747.0</td>\n",
       "      <td>10015.0</td>\n",
       "      <td>2012-01-24</td>\n",
       "      <td>series-c+</td>\n",
       "      <td>12000000.0</td>\n",
       "      <td>0.0</td>\n",
       "      <td>4.0</td>\n",
       "      <td>0.0</td>\n",
       "      <td>0.0</td>\n",
       "    </tr>\n",
       "    <tr>\n",
       "      <th>24</th>\n",
       "      <td>10015.0</td>\n",
       "      <td>Fitbit</td>\n",
       "      <td>health</td>\n",
       "      <td>operating</td>\n",
       "      <td>2007-10-01</td>\n",
       "      <td>NaN</td>\n",
       "      <td>fitbit.com</td>\n",
       "      <td>fitbit</td>\n",
       "      <td>USA</td>\n",
       "      <td>0.0</td>\n",
       "      <td>...</td>\n",
       "      <td>0.0</td>\n",
       "      <td>45409.0</td>\n",
       "      <td>10015.0</td>\n",
       "      <td>2013-08-13</td>\n",
       "      <td>series-c+</td>\n",
       "      <td>43000000.0</td>\n",
       "      <td>0.0</td>\n",
       "      <td>5.0</td>\n",
       "      <td>1.0</td>\n",
       "      <td>0.0</td>\n",
       "    </tr>\n",
       "    <tr>\n",
       "      <th>25</th>\n",
       "      <td>10015.0</td>\n",
       "      <td>Fitbit</td>\n",
       "      <td>health</td>\n",
       "      <td>operating</td>\n",
       "      <td>2007-10-01</td>\n",
       "      <td>NaN</td>\n",
       "      <td>fitbit.com</td>\n",
       "      <td>fitbit</td>\n",
       "      <td>USA</td>\n",
       "      <td>0.0</td>\n",
       "      <td>...</td>\n",
       "      <td>0.0</td>\n",
       "      <td>54006.0</td>\n",
       "      <td>10015.0</td>\n",
       "      <td>2012-01-01</td>\n",
       "      <td>venture</td>\n",
       "      <td>2069200.0</td>\n",
       "      <td>0.0</td>\n",
       "      <td>4.0</td>\n",
       "      <td>0.0</td>\n",
       "      <td>0.0</td>\n",
       "    </tr>\n",
       "  </tbody>\n",
       "</table>\n",
       "<p>26 rows × 22 columns</p>\n",
       "</div>"
      ],
      "text/plain": [
       "    company  ID                           name   category  code     status  \\\n",
       "0           1.0                       Wetpaint              web  operating   \n",
       "1           1.0                       Wetpaint              web  operating   \n",
       "2           1.0                       Wetpaint              web  operating   \n",
       "3          10.0                        Flektor      games_video   acquired   \n",
       "4         100.0                          There      games_video   acquired   \n",
       "5       10000.0                        MYWEBBO  network_hosting  operating   \n",
       "6       10001.0             THE Movie Streamer      games_video  operating   \n",
       "7       10002.0                 Synergie Media      advertising  operating   \n",
       "8       10003.0         Green Basti Ecosystems        cleantech  operating   \n",
       "9      100042.0                       HostNine              NaN  operating   \n",
       "10      10005.0              Thomas Publishing      advertising  operating   \n",
       "11     100062.0  Vetter Idea Management System       enterprise  operating   \n",
       "12     100068.0                     ChatRandom      games_video  operating   \n",
       "13      10008.0               ScapadasAmorosas            other  operating   \n",
       "14      10009.0                dimension5 labs      advertising  operating   \n",
       "15       1001.0                     FriendFeed              web   acquired   \n",
       "16      10010.0                      Whooligan      games_video  operating   \n",
       "17      10011.0           PoetryVisualized.com      games_video  operating   \n",
       "18      10012.0                moviestring.com      games_video     closed   \n",
       "19      10013.0                      The Adory       consulting  operating   \n",
       "20      10014.0                        Mobclix           mobile   acquired   \n",
       "21      10015.0                         Fitbit           health  operating   \n",
       "22      10015.0                         Fitbit           health  operating   \n",
       "23      10015.0                         Fitbit           health  operating   \n",
       "24      10015.0                         Fitbit           health  operating   \n",
       "25      10015.0                         Fitbit           health  operating   \n",
       "\n",
       "   founded  at  closed  at                domain network  username  \\\n",
       "0   2005-10-17         NaN      wetpaint-inc.com   BachelrWetpaint   \n",
       "1   2005-10-17         NaN      wetpaint-inc.com   BachelrWetpaint   \n",
       "2   2005-10-17         NaN      wetpaint-inc.com   BachelrWetpaint   \n",
       "3          NaN         NaN           flektor.com               NaN   \n",
       "4          NaN         NaN             there.com               NaN   \n",
       "5   2008-07-26         NaN           mywebbo.com               NaN   \n",
       "6   2008-07-26         NaN  themoviestreamer.com               NaN   \n",
       "7   2007-06-27         NaN    synergie-media.com               NaN   \n",
       "8   2008-08-20         NaN                   NaN               NaN   \n",
       "9          NaN         NaN          hostnine.com          Hostnine   \n",
       "10         NaN         NaN  thomaspublishing.com               NaN   \n",
       "11  2011-08-01         NaN         getvetter.com         getvetter   \n",
       "12  2011-02-01         NaN        chatrandom.com        chatrandom   \n",
       "13  2007-03-01         NaN  scapadasamorosas.com               NaN   \n",
       "14  2008-08-01         NaN            d5labs.com               NaN   \n",
       "15  2007-10-01         NaN        friendfeed.com        friendfeed   \n",
       "16  2007-12-01         NaN         whooligan.com               NaN   \n",
       "17  2008-01-01         NaN  poetryvisualized.com               NaN   \n",
       "18  2008-08-22  2010-01-01       moviestring.com               NaN   \n",
       "19  2008-01-01         NaN          theadory.com         the_adory   \n",
       "20  2008-03-01         NaN           mobclix.com           mobclix   \n",
       "21  2007-10-01         NaN            fitbit.com            fitbit   \n",
       "22  2007-10-01         NaN            fitbit.com            fitbit   \n",
       "23  2007-10-01         NaN            fitbit.com            fitbit   \n",
       "24  2007-10-01         NaN            fitbit.com            fitbit   \n",
       "25  2007-10-01         NaN            fitbit.com            fitbit   \n",
       "\n",
       "   country  code  investment  rounds  ...  milestones  funding  round  id  \\\n",
       "0            USA                 0.0  ...         5.0               888.0   \n",
       "1            USA                 0.0  ...         5.0               889.0   \n",
       "2            USA                 0.0  ...         5.0              2312.0   \n",
       "3            USA                 0.0  ...         0.0                 NaN   \n",
       "4            USA                 0.0  ...         4.0                 NaN   \n",
       "5            NaN                 0.0  ...         0.0                 NaN   \n",
       "6            NaN                 0.0  ...         0.0                 NaN   \n",
       "7            MAR                 0.0  ...         0.0                 NaN   \n",
       "8            IND                 0.0  ...         0.0                 NaN   \n",
       "9            NaN                 0.0  ...         1.0                 NaN   \n",
       "10           USA                 0.0  ...         1.0                 NaN   \n",
       "11           NaN                 0.0  ...         1.0                 NaN   \n",
       "12           NaN                 0.0  ...         1.0                 NaN   \n",
       "13           NaN                 0.0  ...         0.0                 NaN   \n",
       "14           USA                 0.0  ...         1.0                 NaN   \n",
       "15           USA                 0.0  ...         3.0              1644.0   \n",
       "16           NaN                 0.0  ...         0.0                 NaN   \n",
       "17           USA                 0.0  ...         1.0                 NaN   \n",
       "18           NaN                 0.0  ...         0.0                 NaN   \n",
       "19           NaN                 0.0  ...         0.0                 NaN   \n",
       "20           USA                 0.0  ...         4.0              6682.0   \n",
       "21           USA                 0.0  ...         0.0              3619.0   \n",
       "22           USA                 0.0  ...         0.0             18213.0   \n",
       "23           USA                 0.0  ...         0.0             27747.0   \n",
       "24           USA                 0.0  ...         0.0             45409.0   \n",
       "25           USA                 0.0  ...         0.0             54006.0   \n",
       "\n",
       "    company  id  funded  at  funding  round  type raised  amount  \\\n",
       "0           1.0  2005-10-01              series-a      5250000.0   \n",
       "1           1.0  2007-01-01              series-b      9500000.0   \n",
       "2           1.0  2008-05-19             series-c+     25000000.0   \n",
       "3           NaN         NaN                   NaN            NaN   \n",
       "4           NaN         NaN                   NaN            NaN   \n",
       "5           NaN         NaN                   NaN            NaN   \n",
       "6           NaN         NaN                   NaN            NaN   \n",
       "7           NaN         NaN                   NaN            NaN   \n",
       "8           NaN         NaN                   NaN            NaN   \n",
       "9           NaN         NaN                   NaN            NaN   \n",
       "10          NaN         NaN                   NaN            NaN   \n",
       "11          NaN         NaN                   NaN            NaN   \n",
       "12          NaN         NaN                   NaN            NaN   \n",
       "13          NaN         NaN                   NaN            NaN   \n",
       "14          NaN         NaN                   NaN            NaN   \n",
       "15       1001.0  2008-02-26              series-a      5000000.0   \n",
       "16          NaN         NaN                   NaN            NaN   \n",
       "17          NaN         NaN                   NaN            NaN   \n",
       "18          NaN         NaN                   NaN            NaN   \n",
       "19          NaN         NaN                   NaN            NaN   \n",
       "20      10014.0  2008-09-01                 angel            0.0   \n",
       "21      10015.0  2008-10-10              series-a      2000000.0   \n",
       "22      10015.0  2010-09-10              series-b      9000000.0   \n",
       "23      10015.0  2012-01-24             series-c+     12000000.0   \n",
       "24      10015.0  2013-08-13             series-c+     43000000.0   \n",
       "25      10015.0  2012-01-01               venture      2069200.0   \n",
       "\n",
       "   pre  money  valuation  participants  is  first  round  is  last  round  \n",
       "0                    0.0           2.0               0.0              1.0  \n",
       "1                    0.0           3.0               0.0              0.0  \n",
       "2                    0.0           4.0               1.0              0.0  \n",
       "3                    NaN           NaN               NaN              NaN  \n",
       "4                    NaN           NaN               NaN              NaN  \n",
       "5                    NaN           NaN               NaN              NaN  \n",
       "6                    NaN           NaN               NaN              NaN  \n",
       "7                    NaN           NaN               NaN              NaN  \n",
       "8                    NaN           NaN               NaN              NaN  \n",
       "9                    NaN           NaN               NaN              NaN  \n",
       "10                   NaN           NaN               NaN              NaN  \n",
       "11                   NaN           NaN               NaN              NaN  \n",
       "12                   NaN           NaN               NaN              NaN  \n",
       "13                   NaN           NaN               NaN              NaN  \n",
       "14                   NaN           NaN               NaN              NaN  \n",
       "15                   0.0           3.0               1.0              1.0  \n",
       "16                   NaN           NaN               NaN              NaN  \n",
       "17                   NaN           NaN               NaN              NaN  \n",
       "18                   NaN           NaN               NaN              NaN  \n",
       "19                   NaN           NaN               NaN              NaN  \n",
       "20                   0.0           1.0               1.0              1.0  \n",
       "21                   0.0           2.0               0.0              1.0  \n",
       "22                   0.0           4.0               0.0              0.0  \n",
       "23                   0.0           4.0               0.0              0.0  \n",
       "24                   0.0           5.0               1.0              0.0  \n",
       "25                   0.0           4.0               0.0              0.0  \n",
       "\n",
       "[26 rows x 22 columns]"
      ]
     },
     "execution_count": 6,
     "metadata": {},
     "output_type": "execute_result"
    }
   ],
   "source": [
    "#выводим первые строки датафрейма на экран\n",
    "company_and_rounds.head(26)"
   ]
  },
  {
   "cell_type": "code",
   "execution_count": 4,
   "metadata": {
    "scrolled": true
   },
   "outputs": [
    {
     "name": "stdout",
     "output_type": "stream",
     "text": [
      "<class 'pandas.core.frame.DataFrame'>\n",
      "RangeIndex: 217774 entries, 0 to 217773\n",
      "Data columns (total 22 columns):\n",
      " #   Column                 Non-Null Count   Dtype  \n",
      "---  ------                 --------------   -----  \n",
      " 0   company  ID            217472 non-null  float64\n",
      " 1   name                   217472 non-null  object \n",
      " 2   category  code         143886 non-null  object \n",
      " 3   status                 217472 non-null  object \n",
      " 4   founded  at            109956 non-null  object \n",
      " 5   closed  at             3449 non-null    object \n",
      " 6   domain                 147159 non-null  object \n",
      " 7   network  username      95534 non-null   object \n",
      " 8   country  code          108607 non-null  object \n",
      " 9   investment  rounds     217472 non-null  float64\n",
      " 10  funding  rounds        217472 non-null  float64\n",
      " 11  funding  total         217472 non-null  float64\n",
      " 12  milestones             217472 non-null  float64\n",
      " 13  funding  round  id     52928 non-null   float64\n",
      " 14  company  id            52928 non-null   float64\n",
      " 15  funded  at             52680 non-null   object \n",
      " 16  funding  round  type   52928 non-null   object \n",
      " 17  raised  amount         52928 non-null   float64\n",
      " 18  pre  money  valuation  52928 non-null   float64\n",
      " 19  participants           52928 non-null   float64\n",
      " 20  is  first  round       52928 non-null   float64\n",
      " 21  is  last  round        52928 non-null   float64\n",
      "dtypes: float64(12), object(10)\n",
      "memory usage: 36.6+ MB\n"
     ]
    }
   ],
   "source": [
    "#Выводим информацию о датафрейме\n",
    "company_and_rounds.info()"
   ]
  },
  {
   "cell_type": "markdown",
   "metadata": {},
   "source": [
    "Датасет `company_and_rounds` содержит 22 столбца и 217472 строки, в которым предсатавлена информация о компаниях и раундах финансирования.\n",
    "\n",
    "После первичного анализа можно сделать выводы:\n",
    "- названия столбцов отражают содержимое столбцов, но их необходимо привести к стилю snake case;\n",
    "- 10 столбцов представлены типом object. Это `name`, `category  code`, `status`, `founded  at`, `closed  at`,  `domain`, `network  username`, `country  code`, `funded  at`, `funding  round  type`. Столбцы `founded  at`, `closed  at` и  `funded  at` содержат информацию о дате, рекомендуется использовать тип `datetime64`; \n",
    "- 12 столбцов представлены типов float64: `company  ID`, `investment  rounds`, `funding  rounds`, `funding  total`, `milestones`,  `funding  round  id` `company  id`, `raised  amount`, `pre  money  valuation`, `participants`, `is  first  round`, `is  last  round`. \n",
    "Столбцы `company  ID`, `investment  rounds`, `funding  rounds`,  `funding  round  id`,  `pre  money  valuation`, `participants` содержат целочисленные значения, рекомендуется привести к Int64. \n",
    "Столбцы `is  first  round` и `is  last  round` содержат булевы значения, рекомендуется использовать тип `bool`.\n",
    "- столбец `company  id` стоит переименовать, так как при приведении к одному формату его наименование будет дублироваться с  `company  ID`."
   ]
  },
  {
   "cell_type": "markdown",
   "metadata": {},
   "source": []
  },
  {
   "cell_type": "markdown",
   "metadata": {},
   "source": [
    "Теперь рассмотрим данные датасета `acquisition`:"
   ]
  },
  {
   "cell_type": "code",
   "execution_count": 5,
   "metadata": {},
   "outputs": [
    {
     "data": {
      "text/html": [
       "<div>\n",
       "<style scoped>\n",
       "    .dataframe tbody tr th:only-of-type {\n",
       "        vertical-align: middle;\n",
       "    }\n",
       "\n",
       "    .dataframe tbody tr th {\n",
       "        vertical-align: top;\n",
       "    }\n",
       "\n",
       "    .dataframe thead th {\n",
       "        text-align: right;\n",
       "    }\n",
       "</style>\n",
       "<table border=\"1\" class=\"dataframe\">\n",
       "  <thead>\n",
       "    <tr style=\"text-align: right;\">\n",
       "      <th></th>\n",
       "      <th>id</th>\n",
       "      <th>acquiring_company_id</th>\n",
       "      <th>acquired_company_id</th>\n",
       "      <th>term_code</th>\n",
       "      <th>price_amount</th>\n",
       "      <th>acquired_at</th>\n",
       "    </tr>\n",
       "  </thead>\n",
       "  <tbody>\n",
       "    <tr>\n",
       "      <th>0</th>\n",
       "      <td>1</td>\n",
       "      <td>11</td>\n",
       "      <td>10</td>\n",
       "      <td>NaN</td>\n",
       "      <td>20000000</td>\n",
       "      <td>2007-05-30</td>\n",
       "    </tr>\n",
       "    <tr>\n",
       "      <th>1</th>\n",
       "      <td>7</td>\n",
       "      <td>59</td>\n",
       "      <td>72</td>\n",
       "      <td>cash</td>\n",
       "      <td>60000000</td>\n",
       "      <td>2007-07-01</td>\n",
       "    </tr>\n",
       "    <tr>\n",
       "      <th>2</th>\n",
       "      <td>8</td>\n",
       "      <td>24</td>\n",
       "      <td>132</td>\n",
       "      <td>cash</td>\n",
       "      <td>280000000</td>\n",
       "      <td>2007-05-01</td>\n",
       "    </tr>\n",
       "    <tr>\n",
       "      <th>3</th>\n",
       "      <td>9</td>\n",
       "      <td>59</td>\n",
       "      <td>155</td>\n",
       "      <td>cash</td>\n",
       "      <td>100000000</td>\n",
       "      <td>2007-06-01</td>\n",
       "    </tr>\n",
       "    <tr>\n",
       "      <th>4</th>\n",
       "      <td>10</td>\n",
       "      <td>212</td>\n",
       "      <td>215</td>\n",
       "      <td>cash</td>\n",
       "      <td>25000000</td>\n",
       "      <td>2007-07-01</td>\n",
       "    </tr>\n",
       "  </tbody>\n",
       "</table>\n",
       "</div>"
      ],
      "text/plain": [
       "   id  acquiring_company_id  acquired_company_id term_code  price_amount  \\\n",
       "0   1                    11                   10       NaN      20000000   \n",
       "1   7                    59                   72      cash      60000000   \n",
       "2   8                    24                  132      cash     280000000   \n",
       "3   9                    59                  155      cash     100000000   \n",
       "4  10                   212                  215      cash      25000000   \n",
       "\n",
       "  acquired_at  \n",
       "0  2007-05-30  \n",
       "1  2007-07-01  \n",
       "2  2007-05-01  \n",
       "3  2007-06-01  \n",
       "4  2007-07-01  "
      ]
     },
     "execution_count": 5,
     "metadata": {},
     "output_type": "execute_result"
    }
   ],
   "source": [
    "#выводим первые строки датафрейма на экран\n",
    "acquisition.head()"
   ]
  },
  {
   "cell_type": "code",
   "execution_count": 6,
   "metadata": {},
   "outputs": [
    {
     "name": "stdout",
     "output_type": "stream",
     "text": [
      "<class 'pandas.core.frame.DataFrame'>\n",
      "RangeIndex: 9407 entries, 0 to 9406\n",
      "Data columns (total 6 columns):\n",
      " #   Column                Non-Null Count  Dtype \n",
      "---  ------                --------------  ----- \n",
      " 0   id                    9407 non-null   int64 \n",
      " 1   acquiring_company_id  9407 non-null   int64 \n",
      " 2   acquired_company_id   9407 non-null   int64 \n",
      " 3   term_code             1831 non-null   object\n",
      " 4   price_amount          9407 non-null   int64 \n",
      " 5   acquired_at           9378 non-null   object\n",
      "dtypes: int64(4), object(2)\n",
      "memory usage: 441.1+ KB\n"
     ]
    }
   ],
   "source": [
    "#Выводим информацию о датафрейме\n",
    "acquisition.info()"
   ]
  },
  {
   "cell_type": "markdown",
   "metadata": {},
   "source": [
    "Датасет `acquisition` содержит 6 столбцов и 9407 строк, которые содержат информацию о покупках одними компаниями других компаний. После первичного анализа можно сделать выводы:\n",
    "- названия столбцов приведены к одному виду и отражают содержимое столбцов;\n",
    "- 4 столбца (`id`, `acquiring_company_id`, `acquired_company_id`, `price_amount`) имеют тип int64. Тип данных соответсвует содержимому столбцов;\n",
    "- столбец `term_code` имеет тип `object`, рекомендуется привести к типу `category`, столбец `acquired_at`, также имеющий тип `object`, рекомендуется привести к типу `datetime64`. "
   ]
  },
  {
   "cell_type": "markdown",
   "metadata": {},
   "source": [
    "Далее рассмотрим датасет `people`:"
   ]
  },
  {
   "cell_type": "code",
   "execution_count": 7,
   "metadata": {},
   "outputs": [
    {
     "data": {
      "text/html": [
       "<div>\n",
       "<style scoped>\n",
       "    .dataframe tbody tr th:only-of-type {\n",
       "        vertical-align: middle;\n",
       "    }\n",
       "\n",
       "    .dataframe tbody tr th {\n",
       "        vertical-align: top;\n",
       "    }\n",
       "\n",
       "    .dataframe thead th {\n",
       "        text-align: right;\n",
       "    }\n",
       "</style>\n",
       "<table border=\"1\" class=\"dataframe\">\n",
       "  <thead>\n",
       "    <tr style=\"text-align: right;\">\n",
       "      <th></th>\n",
       "      <th>id</th>\n",
       "      <th>first_name</th>\n",
       "      <th>last_name</th>\n",
       "      <th>company_id</th>\n",
       "      <th>network_username</th>\n",
       "    </tr>\n",
       "  </thead>\n",
       "  <tbody>\n",
       "    <tr>\n",
       "      <th>0</th>\n",
       "      <td>10</td>\n",
       "      <td>Mark</td>\n",
       "      <td>Zuckerberg</td>\n",
       "      <td>5.0</td>\n",
       "      <td>NaN</td>\n",
       "    </tr>\n",
       "    <tr>\n",
       "      <th>1</th>\n",
       "      <td>100</td>\n",
       "      <td>Peter</td>\n",
       "      <td>Lester</td>\n",
       "      <td>27.0</td>\n",
       "      <td>NaN</td>\n",
       "    </tr>\n",
       "    <tr>\n",
       "      <th>2</th>\n",
       "      <td>1000</td>\n",
       "      <td>Dr. Steven</td>\n",
       "      <td>E. Saunders</td>\n",
       "      <td>292.0</td>\n",
       "      <td>NaN</td>\n",
       "    </tr>\n",
       "    <tr>\n",
       "      <th>3</th>\n",
       "      <td>10000</td>\n",
       "      <td>Neil</td>\n",
       "      <td>Capel</td>\n",
       "      <td>2526.0</td>\n",
       "      <td>NaN</td>\n",
       "    </tr>\n",
       "    <tr>\n",
       "      <th>4</th>\n",
       "      <td>100000</td>\n",
       "      <td>Sue</td>\n",
       "      <td>Pilsch</td>\n",
       "      <td>NaN</td>\n",
       "      <td>NaN</td>\n",
       "    </tr>\n",
       "  </tbody>\n",
       "</table>\n",
       "</div>"
      ],
      "text/plain": [
       "       id  first_name    last_name  company_id network_username\n",
       "0      10        Mark   Zuckerberg         5.0              NaN\n",
       "1     100       Peter       Lester        27.0              NaN\n",
       "2    1000  Dr. Steven  E. Saunders       292.0              NaN\n",
       "3   10000        Neil        Capel      2526.0              NaN\n",
       "4  100000         Sue       Pilsch         NaN              NaN"
      ]
     },
     "execution_count": 7,
     "metadata": {},
     "output_type": "execute_result"
    }
   ],
   "source": [
    "#выводим первые строки датафрейма на экран\n",
    "people.head()"
   ]
  },
  {
   "cell_type": "code",
   "execution_count": 8,
   "metadata": {},
   "outputs": [
    {
     "name": "stdout",
     "output_type": "stream",
     "text": [
      "<class 'pandas.core.frame.DataFrame'>\n",
      "RangeIndex: 226709 entries, 0 to 226708\n",
      "Data columns (total 5 columns):\n",
      " #   Column            Non-Null Count   Dtype  \n",
      "---  ------            --------------   -----  \n",
      " 0   id                226709 non-null  int64  \n",
      " 1   first_name        226704 non-null  object \n",
      " 2   last_name         226708 non-null  object \n",
      " 3   company_id        34615 non-null   float64\n",
      " 4   network_username  38867 non-null   object \n",
      "dtypes: float64(1), int64(1), object(3)\n",
      "memory usage: 8.6+ MB\n"
     ]
    }
   ],
   "source": [
    "#Выводим информацию о датафрейме\n",
    "people.info()"
   ]
  },
  {
   "cell_type": "markdown",
   "metadata": {},
   "source": [
    "Датасет `people` содержит 5 строк и 226709 строк, в которых содержится информация о сотрудниках. После первичного анализа можно сделать выводы:\n",
    "- названия столбцов приведены к одному виду и отражают содержимое столбцов;\n",
    "- столбец `company_id`, имеющий тип `float64`, стоит привести к типу `int64`.\n"
   ]
  },
  {
   "cell_type": "markdown",
   "metadata": {},
   "source": [
    "Далее рассмотрим датасет `education`:"
   ]
  },
  {
   "cell_type": "code",
   "execution_count": 9,
   "metadata": {},
   "outputs": [
    {
     "data": {
      "text/html": [
       "<div>\n",
       "<style scoped>\n",
       "    .dataframe tbody tr th:only-of-type {\n",
       "        vertical-align: middle;\n",
       "    }\n",
       "\n",
       "    .dataframe tbody tr th {\n",
       "        vertical-align: top;\n",
       "    }\n",
       "\n",
       "    .dataframe thead th {\n",
       "        text-align: right;\n",
       "    }\n",
       "</style>\n",
       "<table border=\"1\" class=\"dataframe\">\n",
       "  <thead>\n",
       "    <tr style=\"text-align: right;\">\n",
       "      <th></th>\n",
       "      <th>id</th>\n",
       "      <th>person_id</th>\n",
       "      <th>instituition</th>\n",
       "      <th>graduated_at</th>\n",
       "    </tr>\n",
       "  </thead>\n",
       "  <tbody>\n",
       "    <tr>\n",
       "      <th>0</th>\n",
       "      <td>1</td>\n",
       "      <td>6117</td>\n",
       "      <td>NaN</td>\n",
       "      <td>NaN</td>\n",
       "    </tr>\n",
       "    <tr>\n",
       "      <th>1</th>\n",
       "      <td>2</td>\n",
       "      <td>6136</td>\n",
       "      <td>Washington University, St. Louis</td>\n",
       "      <td>1990-01-01</td>\n",
       "    </tr>\n",
       "    <tr>\n",
       "      <th>2</th>\n",
       "      <td>3</td>\n",
       "      <td>6136</td>\n",
       "      <td>Boston University</td>\n",
       "      <td>1992-01-01</td>\n",
       "    </tr>\n",
       "    <tr>\n",
       "      <th>3</th>\n",
       "      <td>4</td>\n",
       "      <td>6005</td>\n",
       "      <td>University of Greenwich</td>\n",
       "      <td>2006-01-01</td>\n",
       "    </tr>\n",
       "    <tr>\n",
       "      <th>4</th>\n",
       "      <td>5</td>\n",
       "      <td>5832</td>\n",
       "      <td>Rice University</td>\n",
       "      <td>NaN</td>\n",
       "    </tr>\n",
       "  </tbody>\n",
       "</table>\n",
       "</div>"
      ],
      "text/plain": [
       "   id  person_id                      instituition graduated_at\n",
       "0   1       6117                               NaN          NaN\n",
       "1   2       6136  Washington University, St. Louis   1990-01-01\n",
       "2   3       6136                 Boston University   1992-01-01\n",
       "3   4       6005           University of Greenwich   2006-01-01\n",
       "4   5       5832                   Rice University          NaN"
      ]
     },
     "execution_count": 9,
     "metadata": {},
     "output_type": "execute_result"
    }
   ],
   "source": [
    "#выводим первые строки датафрейма на экран\n",
    "education.head()"
   ]
  },
  {
   "cell_type": "code",
   "execution_count": 10,
   "metadata": {},
   "outputs": [
    {
     "name": "stdout",
     "output_type": "stream",
     "text": [
      "<class 'pandas.core.frame.DataFrame'>\n",
      "RangeIndex: 109610 entries, 0 to 109609\n",
      "Data columns (total 4 columns):\n",
      " #   Column        Non-Null Count   Dtype \n",
      "---  ------        --------------   ----- \n",
      " 0   id            109610 non-null  int64 \n",
      " 1   person_id     109610 non-null  int64 \n",
      " 2   instituition  109555 non-null  object\n",
      " 3   graduated_at  58054 non-null   object\n",
      "dtypes: int64(2), object(2)\n",
      "memory usage: 3.3+ MB\n"
     ]
    }
   ],
   "source": [
    "#Выводим информацию о датафрейме\n",
    "education.info()"
   ]
  },
  {
   "cell_type": "markdown",
   "metadata": {},
   "source": [
    "Датафрейм содержит 4 столба и 109610 строк об образовании сотрудников. После первичного анализа можно сделать выводы:\n",
    "- названия столбцов приведены к одному виду и отражают содержимое столбцов;\n",
    "- столбец `graduated_at`, относящийся к типу object и содержащий дату получения образования, стоит привести к типу datetime64."
   ]
  },
  {
   "cell_type": "markdown",
   "metadata": {},
   "source": [
    "Теперь рассмотрим данные датасета `degrees`:"
   ]
  },
  {
   "cell_type": "code",
   "execution_count": 11,
   "metadata": {},
   "outputs": [
    {
     "data": {
      "text/html": [
       "<div>\n",
       "<style scoped>\n",
       "    .dataframe tbody tr th:only-of-type {\n",
       "        vertical-align: middle;\n",
       "    }\n",
       "\n",
       "    .dataframe tbody tr th {\n",
       "        vertical-align: top;\n",
       "    }\n",
       "\n",
       "    .dataframe thead th {\n",
       "        text-align: right;\n",
       "    }\n",
       "</style>\n",
       "<table border=\"1\" class=\"dataframe\">\n",
       "  <thead>\n",
       "    <tr style=\"text-align: right;\">\n",
       "      <th></th>\n",
       "      <th>id</th>\n",
       "      <th>object_id</th>\n",
       "      <th>degree_type</th>\n",
       "      <th>subject</th>\n",
       "    </tr>\n",
       "  </thead>\n",
       "  <tbody>\n",
       "    <tr>\n",
       "      <th>0</th>\n",
       "      <td>1</td>\n",
       "      <td>p:6117</td>\n",
       "      <td>MBA</td>\n",
       "      <td>NaN</td>\n",
       "    </tr>\n",
       "    <tr>\n",
       "      <th>1</th>\n",
       "      <td>2</td>\n",
       "      <td>p:6136</td>\n",
       "      <td>BA</td>\n",
       "      <td>English, French</td>\n",
       "    </tr>\n",
       "    <tr>\n",
       "      <th>2</th>\n",
       "      <td>3</td>\n",
       "      <td>p:6136</td>\n",
       "      <td>MS</td>\n",
       "      <td>Mass Communication</td>\n",
       "    </tr>\n",
       "    <tr>\n",
       "      <th>3</th>\n",
       "      <td>4</td>\n",
       "      <td>p:6005</td>\n",
       "      <td>MS</td>\n",
       "      <td>Internet Technology</td>\n",
       "    </tr>\n",
       "    <tr>\n",
       "      <th>4</th>\n",
       "      <td>5</td>\n",
       "      <td>p:5832</td>\n",
       "      <td>BCS</td>\n",
       "      <td>Computer Science, Psychology</td>\n",
       "    </tr>\n",
       "  </tbody>\n",
       "</table>\n",
       "</div>"
      ],
      "text/plain": [
       "   id object_id degree_type                       subject\n",
       "0   1    p:6117         MBA                           NaN\n",
       "1   2    p:6136          BA               English, French\n",
       "2   3    p:6136          MS            Mass Communication\n",
       "3   4    p:6005          MS           Internet Technology\n",
       "4   5    p:5832         BCS  Computer Science, Psychology"
      ]
     },
     "execution_count": 11,
     "metadata": {},
     "output_type": "execute_result"
    }
   ],
   "source": [
    "#выводим первые строки датафрейма на экран\n",
    "degrees.head()"
   ]
  },
  {
   "cell_type": "code",
   "execution_count": 12,
   "metadata": {},
   "outputs": [
    {
     "name": "stdout",
     "output_type": "stream",
     "text": [
      "<class 'pandas.core.frame.DataFrame'>\n",
      "RangeIndex: 109610 entries, 0 to 109609\n",
      "Data columns (total 4 columns):\n",
      " #   Column       Non-Null Count   Dtype \n",
      "---  ------       --------------   ----- \n",
      " 0   id           109610 non-null  int64 \n",
      " 1   object_id    109610 non-null  object\n",
      " 2   degree_type  98392 non-null   object\n",
      " 3   subject      81298 non-null   object\n",
      "dtypes: int64(1), object(3)\n",
      "memory usage: 3.3+ MB\n"
     ]
    }
   ],
   "source": [
    "degrees.info()"
   ]
  },
  {
   "cell_type": "markdown",
   "metadata": {},
   "source": [
    "Датафрейм содержит 4 строки и 109610 строк о типе образования сотрудника. осле первичного анализа можно сделать выводы:\n",
    "- названия столбцов приведены к одному виду и отражают содержимое столбцов;\n",
    "- данные столбца `object_id` следует отредактировать: оставить только числовой номер и привести к типу int64."
   ]
  },
  {
   "cell_type": "markdown",
   "metadata": {
    "id": "mg2gEwh0rJg0"
   },
   "source": [
    "### 1.2. Смена типов и анализ пропусков\n",
    "\n",
    "- Обработайте типы данных в столбцах, которые хранят значения даты и времени, если это необходимо.\n",
    "- Оцените полноту данных — сделайте предварительный вывод, достаточно ли данных для решения задач проекта."
   ]
  },
  {
   "cell_type": "markdown",
   "metadata": {},
   "source": [
    "Преобразуем столбцы, содержащие даты, к типу данных datetime:"
   ]
  },
  {
   "cell_type": "code",
   "execution_count": 13,
   "metadata": {
    "id": "FsL0A8RBrJg1",
    "vscode": {
     "languageId": "plaintext"
    }
   },
   "outputs": [
    {
     "data": {
      "text/plain": [
       "company  ID                     float64\n",
       "name                             object\n",
       "category  code                   object\n",
       "status                           object\n",
       "founded  at              datetime64[ns]\n",
       "closed  at               datetime64[ns]\n",
       "domain                           object\n",
       "network  username                object\n",
       "country  code                    object\n",
       "investment  rounds              float64\n",
       "funding  rounds                 float64\n",
       "funding  total                  float64\n",
       "milestones                      float64\n",
       "funding  round  id              float64\n",
       "company  id                     float64\n",
       "funded  at               datetime64[ns]\n",
       "funding  round  type             object\n",
       "raised  amount                  float64\n",
       "pre  money  valuation           float64\n",
       "participants                    float64\n",
       "is  first  round                float64\n",
       "is  last  round                 float64\n",
       "dtype: object"
      ]
     },
     "execution_count": 13,
     "metadata": {},
     "output_type": "execute_result"
    }
   ],
   "source": [
    "# Преобразование типа данных в датафрейме 'company_and_rounds'\n",
    "date_cols_company = ['founded  at', 'closed  at', 'funded  at']\n",
    "for col in date_cols_company:\n",
    "    company_and_rounds[col] = pd.to_datetime(company_and_rounds[col], errors='coerce')\n",
    "\n",
    "#проверяем преобразование  \n",
    "company_and_rounds.dtypes"
   ]
  },
  {
   "cell_type": "code",
   "execution_count": 14,
   "metadata": {
    "id": "46VskrGyFeJ-"
   },
   "outputs": [
    {
     "data": {
      "text/plain": [
       "id                               int64\n",
       "acquiring_company_id             int64\n",
       "acquired_company_id              int64\n",
       "term_code                       object\n",
       "price_amount                     int64\n",
       "acquired_at             datetime64[ns]\n",
       "dtype: object"
      ]
     },
     "execution_count": 14,
     "metadata": {},
     "output_type": "execute_result"
    }
   ],
   "source": [
    "# Преобразование типа данных в датафрейме 'acquisition'\n",
    "acquisition['acquired_at'] = pd.to_datetime(acquisition['acquired_at'], errors='coerce')\n",
    "acquisition.dtypes"
   ]
  },
  {
   "cell_type": "code",
   "execution_count": 15,
   "metadata": {
    "id": "DEg1tl8DFeBn"
   },
   "outputs": [
    {
     "data": {
      "text/plain": [
       "id                       int64\n",
       "person_id                int64\n",
       "instituition            object\n",
       "graduated_at    datetime64[ns]\n",
       "dtype: object"
      ]
     },
     "execution_count": 15,
     "metadata": {},
     "output_type": "execute_result"
    }
   ],
   "source": [
    "# Преобразование типа данных в датафрейме 'education'\n",
    "education['graduated_at'] = pd.to_datetime(education['graduated_at'], errors='coerce')\n",
    "education.dtypes"
   ]
  },
  {
   "cell_type": "markdown",
   "metadata": {},
   "source": [
    "В столбцах, которые содержатся информация о датах, тип данных успешно изменился с `object` на `datetime64`. Далее оценим полноты данных:"
   ]
  },
  {
   "cell_type": "code",
   "execution_count": 16,
   "metadata": {
    "scrolled": true
   },
   "outputs": [
    {
     "data": {
      "text/html": [
       "<style  type=\"text/css\" >\n",
       "#T_b0a8c_row0_col0,#T_b0a8c_row0_col1,#T_b0a8c_row1_col0,#T_b0a8c_row1_col1,#T_b0a8c_row3_col0,#T_b0a8c_row3_col1,#T_b0a8c_row9_col0,#T_b0a8c_row9_col1,#T_b0a8c_row10_col0,#T_b0a8c_row10_col1,#T_b0a8c_row11_col0,#T_b0a8c_row11_col1,#T_b0a8c_row12_col0,#T_b0a8c_row12_col1{\n",
       "            background-color:  #3b4cc0;\n",
       "            color:  #f1f1f1;\n",
       "        }#T_b0a8c_row2_col0,#T_b0a8c_row2_col1{\n",
       "            background-color:  #aec9fc;\n",
       "            color:  #000000;\n",
       "        }#T_b0a8c_row4_col0,#T_b0a8c_row4_col1{\n",
       "            background-color:  #dddcdc;\n",
       "            color:  #000000;\n",
       "        }#T_b0a8c_row5_col0,#T_b0a8c_row5_col1{\n",
       "            background-color:  #b40426;\n",
       "            color:  #f1f1f1;\n",
       "        }#T_b0a8c_row6_col0,#T_b0a8c_row6_col1{\n",
       "            background-color:  #a9c6fd;\n",
       "            color:  #000000;\n",
       "        }#T_b0a8c_row7_col0,#T_b0a8c_row7_col1{\n",
       "            background-color:  #edd2c3;\n",
       "            color:  #000000;\n",
       "        }#T_b0a8c_row8_col0,#T_b0a8c_row8_col1{\n",
       "            background-color:  #dfdbd9;\n",
       "            color:  #000000;\n",
       "        }#T_b0a8c_row13_col0,#T_b0a8c_row13_col1,#T_b0a8c_row14_col0,#T_b0a8c_row14_col1,#T_b0a8c_row16_col0,#T_b0a8c_row16_col1,#T_b0a8c_row17_col0,#T_b0a8c_row17_col1,#T_b0a8c_row18_col0,#T_b0a8c_row18_col1,#T_b0a8c_row19_col0,#T_b0a8c_row19_col1,#T_b0a8c_row20_col0,#T_b0a8c_row20_col1,#T_b0a8c_row21_col0,#T_b0a8c_row21_col1{\n",
       "            background-color:  #f29274;\n",
       "            color:  #000000;\n",
       "        }#T_b0a8c_row15_col0,#T_b0a8c_row15_col1{\n",
       "            background-color:  #f29072;\n",
       "            color:  #000000;\n",
       "        }</style><table id=\"T_b0a8c_\" ><thead>    <tr>        <th class=\"blank level0\" ></th>        <th class=\"col_heading level0 col0\" >Кол-во пропусков</th>        <th class=\"col_heading level0 col1\" >Доля пропусков</th>    </tr></thead><tbody>\n",
       "                <tr>\n",
       "                        <th id=\"T_b0a8c_level0_row0\" class=\"row_heading level0 row0\" >company  ID</th>\n",
       "                        <td id=\"T_b0a8c_row0_col0\" class=\"data row0 col0\" >302</td>\n",
       "                        <td id=\"T_b0a8c_row0_col1\" class=\"data row0 col1\" >0.001400</td>\n",
       "            </tr>\n",
       "            <tr>\n",
       "                        <th id=\"T_b0a8c_level0_row1\" class=\"row_heading level0 row1\" >name</th>\n",
       "                        <td id=\"T_b0a8c_row1_col0\" class=\"data row1 col0\" >302</td>\n",
       "                        <td id=\"T_b0a8c_row1_col1\" class=\"data row1 col1\" >0.001400</td>\n",
       "            </tr>\n",
       "            <tr>\n",
       "                        <th id=\"T_b0a8c_level0_row2\" class=\"row_heading level0 row2\" >category  code</th>\n",
       "                        <td id=\"T_b0a8c_row2_col0\" class=\"data row2 col0\" >73888</td>\n",
       "                        <td id=\"T_b0a8c_row2_col1\" class=\"data row2 col1\" >0.339300</td>\n",
       "            </tr>\n",
       "            <tr>\n",
       "                        <th id=\"T_b0a8c_level0_row3\" class=\"row_heading level0 row3\" >status</th>\n",
       "                        <td id=\"T_b0a8c_row3_col0\" class=\"data row3 col0\" >302</td>\n",
       "                        <td id=\"T_b0a8c_row3_col1\" class=\"data row3 col1\" >0.001400</td>\n",
       "            </tr>\n",
       "            <tr>\n",
       "                        <th id=\"T_b0a8c_level0_row4\" class=\"row_heading level0 row4\" >founded  at</th>\n",
       "                        <td id=\"T_b0a8c_row4_col0\" class=\"data row4 col0\" >107818</td>\n",
       "                        <td id=\"T_b0a8c_row4_col1\" class=\"data row4 col1\" >0.495100</td>\n",
       "            </tr>\n",
       "            <tr>\n",
       "                        <th id=\"T_b0a8c_level0_row5\" class=\"row_heading level0 row5\" >closed  at</th>\n",
       "                        <td id=\"T_b0a8c_row5_col0\" class=\"data row5 col0\" >214325</td>\n",
       "                        <td id=\"T_b0a8c_row5_col1\" class=\"data row5 col1\" >0.984200</td>\n",
       "            </tr>\n",
       "            <tr>\n",
       "                        <th id=\"T_b0a8c_level0_row6\" class=\"row_heading level0 row6\" >domain</th>\n",
       "                        <td id=\"T_b0a8c_row6_col0\" class=\"data row6 col0\" >70615</td>\n",
       "                        <td id=\"T_b0a8c_row6_col1\" class=\"data row6 col1\" >0.324300</td>\n",
       "            </tr>\n",
       "            <tr>\n",
       "                        <th id=\"T_b0a8c_level0_row7\" class=\"row_heading level0 row7\" >network  username</th>\n",
       "                        <td id=\"T_b0a8c_row7_col0\" class=\"data row7 col0\" >122240</td>\n",
       "                        <td id=\"T_b0a8c_row7_col1\" class=\"data row7 col1\" >0.561300</td>\n",
       "            </tr>\n",
       "            <tr>\n",
       "                        <th id=\"T_b0a8c_level0_row8\" class=\"row_heading level0 row8\" >country  code</th>\n",
       "                        <td id=\"T_b0a8c_row8_col0\" class=\"data row8 col0\" >109167</td>\n",
       "                        <td id=\"T_b0a8c_row8_col1\" class=\"data row8 col1\" >0.501300</td>\n",
       "            </tr>\n",
       "            <tr>\n",
       "                        <th id=\"T_b0a8c_level0_row9\" class=\"row_heading level0 row9\" >investment  rounds</th>\n",
       "                        <td id=\"T_b0a8c_row9_col0\" class=\"data row9 col0\" >302</td>\n",
       "                        <td id=\"T_b0a8c_row9_col1\" class=\"data row9 col1\" >0.001400</td>\n",
       "            </tr>\n",
       "            <tr>\n",
       "                        <th id=\"T_b0a8c_level0_row10\" class=\"row_heading level0 row10\" >funding  rounds</th>\n",
       "                        <td id=\"T_b0a8c_row10_col0\" class=\"data row10 col0\" >302</td>\n",
       "                        <td id=\"T_b0a8c_row10_col1\" class=\"data row10 col1\" >0.001400</td>\n",
       "            </tr>\n",
       "            <tr>\n",
       "                        <th id=\"T_b0a8c_level0_row11\" class=\"row_heading level0 row11\" >funding  total</th>\n",
       "                        <td id=\"T_b0a8c_row11_col0\" class=\"data row11 col0\" >302</td>\n",
       "                        <td id=\"T_b0a8c_row11_col1\" class=\"data row11 col1\" >0.001400</td>\n",
       "            </tr>\n",
       "            <tr>\n",
       "                        <th id=\"T_b0a8c_level0_row12\" class=\"row_heading level0 row12\" >milestones</th>\n",
       "                        <td id=\"T_b0a8c_row12_col0\" class=\"data row12 col0\" >302</td>\n",
       "                        <td id=\"T_b0a8c_row12_col1\" class=\"data row12 col1\" >0.001400</td>\n",
       "            </tr>\n",
       "            <tr>\n",
       "                        <th id=\"T_b0a8c_level0_row13\" class=\"row_heading level0 row13\" >funding  round  id</th>\n",
       "                        <td id=\"T_b0a8c_row13_col0\" class=\"data row13 col0\" >164846</td>\n",
       "                        <td id=\"T_b0a8c_row13_col1\" class=\"data row13 col1\" >0.757000</td>\n",
       "            </tr>\n",
       "            <tr>\n",
       "                        <th id=\"T_b0a8c_level0_row14\" class=\"row_heading level0 row14\" >company  id</th>\n",
       "                        <td id=\"T_b0a8c_row14_col0\" class=\"data row14 col0\" >164846</td>\n",
       "                        <td id=\"T_b0a8c_row14_col1\" class=\"data row14 col1\" >0.757000</td>\n",
       "            </tr>\n",
       "            <tr>\n",
       "                        <th id=\"T_b0a8c_level0_row15\" class=\"row_heading level0 row15\" >funded  at</th>\n",
       "                        <td id=\"T_b0a8c_row15_col0\" class=\"data row15 col0\" >165094</td>\n",
       "                        <td id=\"T_b0a8c_row15_col1\" class=\"data row15 col1\" >0.758100</td>\n",
       "            </tr>\n",
       "            <tr>\n",
       "                        <th id=\"T_b0a8c_level0_row16\" class=\"row_heading level0 row16\" >funding  round  type</th>\n",
       "                        <td id=\"T_b0a8c_row16_col0\" class=\"data row16 col0\" >164846</td>\n",
       "                        <td id=\"T_b0a8c_row16_col1\" class=\"data row16 col1\" >0.757000</td>\n",
       "            </tr>\n",
       "            <tr>\n",
       "                        <th id=\"T_b0a8c_level0_row17\" class=\"row_heading level0 row17\" >raised  amount</th>\n",
       "                        <td id=\"T_b0a8c_row17_col0\" class=\"data row17 col0\" >164846</td>\n",
       "                        <td id=\"T_b0a8c_row17_col1\" class=\"data row17 col1\" >0.757000</td>\n",
       "            </tr>\n",
       "            <tr>\n",
       "                        <th id=\"T_b0a8c_level0_row18\" class=\"row_heading level0 row18\" >pre  money  valuation</th>\n",
       "                        <td id=\"T_b0a8c_row18_col0\" class=\"data row18 col0\" >164846</td>\n",
       "                        <td id=\"T_b0a8c_row18_col1\" class=\"data row18 col1\" >0.757000</td>\n",
       "            </tr>\n",
       "            <tr>\n",
       "                        <th id=\"T_b0a8c_level0_row19\" class=\"row_heading level0 row19\" >participants</th>\n",
       "                        <td id=\"T_b0a8c_row19_col0\" class=\"data row19 col0\" >164846</td>\n",
       "                        <td id=\"T_b0a8c_row19_col1\" class=\"data row19 col1\" >0.757000</td>\n",
       "            </tr>\n",
       "            <tr>\n",
       "                        <th id=\"T_b0a8c_level0_row20\" class=\"row_heading level0 row20\" >is  first  round</th>\n",
       "                        <td id=\"T_b0a8c_row20_col0\" class=\"data row20 col0\" >164846</td>\n",
       "                        <td id=\"T_b0a8c_row20_col1\" class=\"data row20 col1\" >0.757000</td>\n",
       "            </tr>\n",
       "            <tr>\n",
       "                        <th id=\"T_b0a8c_level0_row21\" class=\"row_heading level0 row21\" >is  last  round</th>\n",
       "                        <td id=\"T_b0a8c_row21_col0\" class=\"data row21 col0\" >164846</td>\n",
       "                        <td id=\"T_b0a8c_row21_col1\" class=\"data row21 col1\" >0.757000</td>\n",
       "            </tr>\n",
       "    </tbody></table>"
      ],
      "text/plain": [
       "<pandas.io.formats.style.Styler at 0x7f337952c7f0>"
      ]
     },
     "execution_count": 16,
     "metadata": {},
     "output_type": "execute_result"
    }
   ],
   "source": [
    "#функция для анализа пропусков в датафрейме\n",
    "def missing(dataset):\n",
    "   \n",
    "    result = pd.DataFrame({\n",
    "        'Кол-во пропусков': dataset.isnull().sum(),\n",
    "        'Доля пропусков': dataset.isnull().mean().round(4)\n",
    "    })\n",
    "    \n",
    "    return result.style.background_gradient(cmap='coolwarm')\n",
    "\n",
    "#анализ пропусков для датафрейма company_and_rounds\n",
    "missing(company_and_rounds)"
   ]
  },
  {
   "cell_type": "code",
   "execution_count": 17,
   "metadata": {},
   "outputs": [
    {
     "data": {
      "text/html": [
       "<style  type=\"text/css\" >\n",
       "#T_8fd77_row0_col0,#T_8fd77_row0_col1,#T_8fd77_row1_col0,#T_8fd77_row1_col1,#T_8fd77_row2_col0,#T_8fd77_row2_col1,#T_8fd77_row4_col0,#T_8fd77_row4_col1,#T_8fd77_row5_col0,#T_8fd77_row5_col1{\n",
       "            background-color:  #3b4cc0;\n",
       "            color:  #f1f1f1;\n",
       "        }#T_8fd77_row3_col0,#T_8fd77_row3_col1{\n",
       "            background-color:  #b40426;\n",
       "            color:  #f1f1f1;\n",
       "        }</style><table id=\"T_8fd77_\" ><thead>    <tr>        <th class=\"blank level0\" ></th>        <th class=\"col_heading level0 col0\" >Кол-во пропусков</th>        <th class=\"col_heading level0 col1\" >Доля пропусков</th>    </tr></thead><tbody>\n",
       "                <tr>\n",
       "                        <th id=\"T_8fd77_level0_row0\" class=\"row_heading level0 row0\" >id</th>\n",
       "                        <td id=\"T_8fd77_row0_col0\" class=\"data row0 col0\" >0</td>\n",
       "                        <td id=\"T_8fd77_row0_col1\" class=\"data row0 col1\" >0.000000</td>\n",
       "            </tr>\n",
       "            <tr>\n",
       "                        <th id=\"T_8fd77_level0_row1\" class=\"row_heading level0 row1\" >acquiring_company_id</th>\n",
       "                        <td id=\"T_8fd77_row1_col0\" class=\"data row1 col0\" >0</td>\n",
       "                        <td id=\"T_8fd77_row1_col1\" class=\"data row1 col1\" >0.000000</td>\n",
       "            </tr>\n",
       "            <tr>\n",
       "                        <th id=\"T_8fd77_level0_row2\" class=\"row_heading level0 row2\" >acquired_company_id</th>\n",
       "                        <td id=\"T_8fd77_row2_col0\" class=\"data row2 col0\" >0</td>\n",
       "                        <td id=\"T_8fd77_row2_col1\" class=\"data row2 col1\" >0.000000</td>\n",
       "            </tr>\n",
       "            <tr>\n",
       "                        <th id=\"T_8fd77_level0_row3\" class=\"row_heading level0 row3\" >term_code</th>\n",
       "                        <td id=\"T_8fd77_row3_col0\" class=\"data row3 col0\" >7576</td>\n",
       "                        <td id=\"T_8fd77_row3_col1\" class=\"data row3 col1\" >0.805400</td>\n",
       "            </tr>\n",
       "            <tr>\n",
       "                        <th id=\"T_8fd77_level0_row4\" class=\"row_heading level0 row4\" >price_amount</th>\n",
       "                        <td id=\"T_8fd77_row4_col0\" class=\"data row4 col0\" >0</td>\n",
       "                        <td id=\"T_8fd77_row4_col1\" class=\"data row4 col1\" >0.000000</td>\n",
       "            </tr>\n",
       "            <tr>\n",
       "                        <th id=\"T_8fd77_level0_row5\" class=\"row_heading level0 row5\" >acquired_at</th>\n",
       "                        <td id=\"T_8fd77_row5_col0\" class=\"data row5 col0\" >29</td>\n",
       "                        <td id=\"T_8fd77_row5_col1\" class=\"data row5 col1\" >0.003100</td>\n",
       "            </tr>\n",
       "    </tbody></table>"
      ],
      "text/plain": [
       "<pandas.io.formats.style.Styler at 0x7f337958e0a0>"
      ]
     },
     "execution_count": 17,
     "metadata": {},
     "output_type": "execute_result"
    }
   ],
   "source": [
    "#анализ пропусков для датафрейма acquisition\n",
    "missing(acquisition)"
   ]
  },
  {
   "cell_type": "code",
   "execution_count": 18,
   "metadata": {},
   "outputs": [
    {
     "data": {
      "text/html": [
       "<style  type=\"text/css\" >\n",
       "#T_54b8f_row0_col0,#T_54b8f_row0_col1,#T_54b8f_row1_col0,#T_54b8f_row1_col1,#T_54b8f_row2_col0,#T_54b8f_row2_col1{\n",
       "            background-color:  #3b4cc0;\n",
       "            color:  #f1f1f1;\n",
       "        }#T_54b8f_row3_col0,#T_54b8f_row3_col1{\n",
       "            background-color:  #b40426;\n",
       "            color:  #f1f1f1;\n",
       "        }#T_54b8f_row4_col0,#T_54b8f_row4_col1{\n",
       "            background-color:  #bb1b2c;\n",
       "            color:  #f1f1f1;\n",
       "        }</style><table id=\"T_54b8f_\" ><thead>    <tr>        <th class=\"blank level0\" ></th>        <th class=\"col_heading level0 col0\" >Кол-во пропусков</th>        <th class=\"col_heading level0 col1\" >Доля пропусков</th>    </tr></thead><tbody>\n",
       "                <tr>\n",
       "                        <th id=\"T_54b8f_level0_row0\" class=\"row_heading level0 row0\" >id</th>\n",
       "                        <td id=\"T_54b8f_row0_col0\" class=\"data row0 col0\" >0</td>\n",
       "                        <td id=\"T_54b8f_row0_col1\" class=\"data row0 col1\" >0.000000</td>\n",
       "            </tr>\n",
       "            <tr>\n",
       "                        <th id=\"T_54b8f_level0_row1\" class=\"row_heading level0 row1\" >first_name</th>\n",
       "                        <td id=\"T_54b8f_row1_col0\" class=\"data row1 col0\" >5</td>\n",
       "                        <td id=\"T_54b8f_row1_col1\" class=\"data row1 col1\" >0.000000</td>\n",
       "            </tr>\n",
       "            <tr>\n",
       "                        <th id=\"T_54b8f_level0_row2\" class=\"row_heading level0 row2\" >last_name</th>\n",
       "                        <td id=\"T_54b8f_row2_col0\" class=\"data row2 col0\" >1</td>\n",
       "                        <td id=\"T_54b8f_row2_col1\" class=\"data row2 col1\" >0.000000</td>\n",
       "            </tr>\n",
       "            <tr>\n",
       "                        <th id=\"T_54b8f_level0_row3\" class=\"row_heading level0 row3\" >company_id</th>\n",
       "                        <td id=\"T_54b8f_row3_col0\" class=\"data row3 col0\" >192094</td>\n",
       "                        <td id=\"T_54b8f_row3_col1\" class=\"data row3 col1\" >0.847300</td>\n",
       "            </tr>\n",
       "            <tr>\n",
       "                        <th id=\"T_54b8f_level0_row4\" class=\"row_heading level0 row4\" >network_username</th>\n",
       "                        <td id=\"T_54b8f_row4_col0\" class=\"data row4 col0\" >187842</td>\n",
       "                        <td id=\"T_54b8f_row4_col1\" class=\"data row4 col1\" >0.828600</td>\n",
       "            </tr>\n",
       "    </tbody></table>"
      ],
      "text/plain": [
       "<pandas.io.formats.style.Styler at 0x7f3379516370>"
      ]
     },
     "execution_count": 18,
     "metadata": {},
     "output_type": "execute_result"
    }
   ],
   "source": [
    "#анализ пропусков для датафрейма people\n",
    "missing(people)"
   ]
  },
  {
   "cell_type": "code",
   "execution_count": 19,
   "metadata": {},
   "outputs": [
    {
     "data": {
      "text/html": [
       "<style  type=\"text/css\" >\n",
       "#T_19141_row0_col0,#T_19141_row0_col1,#T_19141_row1_col0,#T_19141_row1_col1,#T_19141_row2_col0,#T_19141_row2_col1{\n",
       "            background-color:  #3b4cc0;\n",
       "            color:  #f1f1f1;\n",
       "        }#T_19141_row3_col0,#T_19141_row3_col1{\n",
       "            background-color:  #b40426;\n",
       "            color:  #f1f1f1;\n",
       "        }</style><table id=\"T_19141_\" ><thead>    <tr>        <th class=\"blank level0\" ></th>        <th class=\"col_heading level0 col0\" >Кол-во пропусков</th>        <th class=\"col_heading level0 col1\" >Доля пропусков</th>    </tr></thead><tbody>\n",
       "                <tr>\n",
       "                        <th id=\"T_19141_level0_row0\" class=\"row_heading level0 row0\" >id</th>\n",
       "                        <td id=\"T_19141_row0_col0\" class=\"data row0 col0\" >0</td>\n",
       "                        <td id=\"T_19141_row0_col1\" class=\"data row0 col1\" >0.000000</td>\n",
       "            </tr>\n",
       "            <tr>\n",
       "                        <th id=\"T_19141_level0_row1\" class=\"row_heading level0 row1\" >person_id</th>\n",
       "                        <td id=\"T_19141_row1_col0\" class=\"data row1 col0\" >0</td>\n",
       "                        <td id=\"T_19141_row1_col1\" class=\"data row1 col1\" >0.000000</td>\n",
       "            </tr>\n",
       "            <tr>\n",
       "                        <th id=\"T_19141_level0_row2\" class=\"row_heading level0 row2\" >instituition</th>\n",
       "                        <td id=\"T_19141_row2_col0\" class=\"data row2 col0\" >55</td>\n",
       "                        <td id=\"T_19141_row2_col1\" class=\"data row2 col1\" >0.000500</td>\n",
       "            </tr>\n",
       "            <tr>\n",
       "                        <th id=\"T_19141_level0_row3\" class=\"row_heading level0 row3\" >graduated_at</th>\n",
       "                        <td id=\"T_19141_row3_col0\" class=\"data row3 col0\" >51556</td>\n",
       "                        <td id=\"T_19141_row3_col1\" class=\"data row3 col1\" >0.470400</td>\n",
       "            </tr>\n",
       "    </tbody></table>"
      ],
      "text/plain": [
       "<pandas.io.formats.style.Styler at 0x7f337952c280>"
      ]
     },
     "execution_count": 19,
     "metadata": {},
     "output_type": "execute_result"
    }
   ],
   "source": [
    "#анализ пропусков для датафрейма education\n",
    "missing(education)"
   ]
  },
  {
   "cell_type": "code",
   "execution_count": 20,
   "metadata": {},
   "outputs": [
    {
     "data": {
      "text/html": [
       "<style  type=\"text/css\" >\n",
       "#T_269e6_row0_col0,#T_269e6_row0_col1,#T_269e6_row1_col0,#T_269e6_row1_col1{\n",
       "            background-color:  #3b4cc0;\n",
       "            color:  #f1f1f1;\n",
       "        }#T_269e6_row2_col0,#T_269e6_row2_col1{\n",
       "            background-color:  #bfd3f6;\n",
       "            color:  #000000;\n",
       "        }#T_269e6_row3_col0,#T_269e6_row3_col1{\n",
       "            background-color:  #b40426;\n",
       "            color:  #f1f1f1;\n",
       "        }</style><table id=\"T_269e6_\" ><thead>    <tr>        <th class=\"blank level0\" ></th>        <th class=\"col_heading level0 col0\" >Кол-во пропусков</th>        <th class=\"col_heading level0 col1\" >Доля пропусков</th>    </tr></thead><tbody>\n",
       "                <tr>\n",
       "                        <th id=\"T_269e6_level0_row0\" class=\"row_heading level0 row0\" >id</th>\n",
       "                        <td id=\"T_269e6_row0_col0\" class=\"data row0 col0\" >0</td>\n",
       "                        <td id=\"T_269e6_row0_col1\" class=\"data row0 col1\" >0.000000</td>\n",
       "            </tr>\n",
       "            <tr>\n",
       "                        <th id=\"T_269e6_level0_row1\" class=\"row_heading level0 row1\" >object_id</th>\n",
       "                        <td id=\"T_269e6_row1_col0\" class=\"data row1 col0\" >0</td>\n",
       "                        <td id=\"T_269e6_row1_col1\" class=\"data row1 col1\" >0.000000</td>\n",
       "            </tr>\n",
       "            <tr>\n",
       "                        <th id=\"T_269e6_level0_row2\" class=\"row_heading level0 row2\" >degree_type</th>\n",
       "                        <td id=\"T_269e6_row2_col0\" class=\"data row2 col0\" >11218</td>\n",
       "                        <td id=\"T_269e6_row2_col1\" class=\"data row2 col1\" >0.102300</td>\n",
       "            </tr>\n",
       "            <tr>\n",
       "                        <th id=\"T_269e6_level0_row3\" class=\"row_heading level0 row3\" >subject</th>\n",
       "                        <td id=\"T_269e6_row3_col0\" class=\"data row3 col0\" >28312</td>\n",
       "                        <td id=\"T_269e6_row3_col1\" class=\"data row3 col1\" >0.258300</td>\n",
       "            </tr>\n",
       "    </tbody></table>"
      ],
      "text/plain": [
       "<pandas.io.formats.style.Styler at 0x7f3378c67d30>"
      ]
     },
     "execution_count": 20,
     "metadata": {},
     "output_type": "execute_result"
    }
   ],
   "source": [
    "#анализ пропусков для датафрейма degrees\n",
    "missing(degrees)"
   ]
  },
  {
   "cell_type": "markdown",
   "metadata": {},
   "source": [
    "### Промежуточный вывод\n",
    "\n",
    "На основе проведённого анализа структуры данных и пропусков можно сделать вывод, что в данных есть информация о 217 тыс. компаний с указанием их статуса (operating, acquired, closed), присутсвуют данные о раундах финансирования, имеется 9,4 тыс. записей о покупках с указанием цены (`price_amount`). \n",
    "\n",
    "Проблемными местами являются 75% пропусков в данных о сумме привлеченных инвестиций (`raised_amount`), что усложнит анализ зависимости успеха компании от объема инвестиций. Также к проблемам можно отнести 85% отсутсвие данных о компании у сотрудников, ~50% пропусков в данных об образовании, из-за чего Исследование влияния команды/образования на успех стартапа может быть ограничено. В столбце `acquisition` у 80% записей отсутствуют данные о форме расчёта. \n",
    "\n",
    "Таким образом, данных достаточно для решения большинства задач проекта, однако высокое количество пропусков в необходимых для анализа столбцах может сильно уменьшить выборку и снизит репрезентативность.\n",
    "\n"
   ]
  },
  {
   "cell_type": "markdown",
   "metadata": {
    "id": "u60cHsn6rJg1"
   },
   "source": [
    "## Шаг 2. Предобработка данных, предварительное исследование\n",
    "\n",
    "<a id='chapter2'></a>"
   ]
  },
  {
   "cell_type": "markdown",
   "metadata": {
    "id": "g2bHIIjcrJg1"
   },
   "source": [
    "\n",
    "### 2.1. Раунды финансирования по годам\n",
    "\n"
   ]
  },
  {
   "cell_type": "markdown",
   "metadata": {
    "id": "Cf5IjfOQrJg1",
    "vscode": {
     "languageId": "plaintext"
    }
   },
   "source": [
    "Составим сводную таблицу по годам на основании столбца `raised_amount`, в которой есть иноформация о более чем 50 раундах финансирования за год:"
   ]
  },
  {
   "cell_type": "code",
   "execution_count": 21,
   "metadata": {
    "id": "8Fbz6KmzFdYP"
   },
   "outputs": [
    {
     "name": "stdout",
     "output_type": "stream",
     "text": [
      "                typical_funding  rounds_count\n",
      "funded_at_year                               \n",
      "1999.0                2000000.0            76\n",
      "2000.0                4200000.0           125\n",
      "2001.0                3000000.0            96\n",
      "2002.0                4200000.0           116\n",
      "2003.0                3000000.0           159\n",
      "2004.0                5000000.0           291\n",
      "2005.0                5500000.0          1633\n",
      "2006.0                5000000.0          2436\n",
      "2007.0                3973320.0          3279\n",
      "2008.0                3110000.0          3774\n",
      "2009.0                2000000.0          4151\n",
      "2010.0                1602500.0          6221\n",
      "2011.0                1200000.0          9204\n",
      "2012.0                1000000.0          9970\n",
      "2013.0                1200000.0         11072\n"
     ]
    }
   ],
   "source": [
    "# извлекаем год из даты\n",
    "company_and_rounds['funded_at_year'] = company_and_rounds['funded  at'].dt.year\n",
    "\n",
    "#создаём свобдную таблицу\n",
    "pivot_amount = pd.pivot_table(\n",
    "    data = company_and_rounds.dropna(subset = ['raised  amount', 'funded_at_year']),\n",
    "    index = 'funded_at_year',\n",
    "    values = 'raised  amount',\n",
    "    aggfunc = ['median', 'count']\n",
    ")\n",
    "\n",
    "# Переименовываем столбцы для удобства\n",
    "pivot_amount.columns = ['typical_funding', 'rounds_count']\n",
    "#фильтруем таблицу по количеству раундов\n",
    "pivot_amount = pivot_amount[pivot_amount['rounds_count'] > 50]\n",
    "print(pivot_amount)"
   ]
  },
  {
   "cell_type": "markdown",
   "metadata": {
    "id": "Z92DzKMMFdKW"
   },
   "source": [
    "Построим график, который будет отражать динамику типичного размера средств, которые стартапы получали в рамках одного раунда финансирования:"
   ]
  },
  {
   "cell_type": "code",
   "execution_count": 22,
   "metadata": {},
   "outputs": [
    {
     "data": {
      "image/png": "[encoded data removed]",
      "text/plain": [
       "<Figure size 864x432 with 1 Axes>"
      ]
     },
     "metadata": {
      "needs_background": "light"
     },
     "output_type": "display_data"
    }
   ],
   "source": [
    "#строим график\n",
    "plt.figure(figsize=(12, 6))\n",
    "pivot_amount['typical_funding'].plot(\n",
    "    kind='line',\n",
    "    marker='o',\n",
    "    title='Динамика типичного размера выделяемых средств в рамках одного раунда финансирования',\n",
    "    xlabel='Год',\n",
    "    ylabel='Сумма',\n",
    "    grid=True\n",
    ")\n",
    "pivot_amount['typical_funding'].rolling(window=2, min_periods=1).mean().plot(\n",
    "    color='red',\n",
    "    linestyle='--',\n",
    "    label='Скользящая средняя (окно=2)'\n",
    ")\n",
    "\n",
    "plt.legend()\n",
    "plt.show()"
   ]
  },
  {
   "cell_type": "markdown",
   "metadata": {},
   "source": [
    "Исходя из результатов анализа, можно сделать вывод, что типичный размер собранных в рамках одного раунда средств был максимален в **2005** году и составлял 550000.\n",
    "\n",
    "В 2013 году количество раундов и размер средств **увеличился** в сравнении с 2012 годом и составлял 11072 и 120000 соответственно."
   ]
  },
  {
   "cell_type": "markdown",
   "metadata": {
    "id": "45if1en1rJg2"
   },
   "source": [
    "\n",
    "### 2.2. Люди и их образование\n",
    "\n",
    "Заказчик хочет понять, зависит ли полнота сведений о сотрудниках (например, об их образовании) от размера компаний.\n"
   ]
  },
  {
   "cell_type": "code",
   "execution_count": 23,
   "metadata": {
    "id": "psPO7C4MrJg2",
    "vscode": {
     "languageId": "plaintext"
    }
   },
   "outputs": [
    {
     "name": "stdout",
     "output_type": "stream",
     "text": [
      "        Количество компаний  Доля без образования (%)\n",
      "1-10                  22692                      37.6\n",
      "11-50                   216                      27.7\n",
      "51-200                   12                      17.8\n",
      "201+                      2                      19.4\n"
     ]
    }
   ],
   "source": [
    "#объединим датасеты people и education\n",
    "people_education = pd.merge(\n",
    "    people, \n",
    "    education,\n",
    "    left_on = 'id',\n",
    "    right_on = 'person_id',\n",
    "    how = 'left'\n",
    ")\n",
    "\n",
    "#подсчет количества сотрудников по компаниям\n",
    "company_size = people_education.groupby('company_id')['id_x'].count().reset_index()\n",
    "company_size.columns = ['company_id', 'employee_count']\n",
    "\n",
    "#разделение на группы\n",
    "bins = [0, 10, 50, 200, np.inf]\n",
    "labels = ['1-10', '11-50', '51-200', '201+']\n",
    "company_size['size_group'] = pd.cut(company_size['employee_count'], \n",
    "                                   bins=bins, \n",
    "                                   labels=labels)\n",
    "people_education = pd.merge(people_education, company_size, on='company_id', how='left')\n",
    "\n",
    "# Расчет доли сотрудников без данных об образовании\n",
    "\n",
    "#создаем столбец с отметкой о наличии образования\n",
    "people_education['has_education'] = people_education['instituition'].notna()\n",
    "\n",
    "#группируем по размеру компании и считаем среднее\n",
    "education_coverage = people_education.groupby('size_group')['has_education'].mean()\n",
    "\n",
    "#переводим в проценты пропусков\n",
    "missing_education = (1 - education_coverage) * 100\n",
    "\n",
    "#cчитаем количество компаний в каждой группе\n",
    "company_counts = company_size['size_group'].value_counts().sort_index()\n",
    "\n",
    "\n",
    "result = pd.DataFrame({\n",
    "    'Количество компаний': company_counts,\n",
    "    'Доля без образования (%)': missing_education.round(1),\n",
    "})\n",
    "\n",
    "print(result)"
   ]
  },
  {
   "cell_type": "markdown",
   "metadata": {
    "id": "BThTjpLqFcsm"
   },
   "source": [
    "Мы получили распределение количества компаний и долю сотрудников без информации об образовании по выбранным категориям. Категории были выбраны следующим образом:\n",
    "- 1-10 сотрудников: стартап\n",
    "- 11-50 сотрудников: малая компания\n",
    "- 51-200 сотрудников: средняя компания\n",
    "- 201+ сотрудников: крупная компания\n",
    "\n",
    "Для выполнения задания присоединить к этим таблицам таблицу degrees.csv возможно, для этого в столбце 'object_id' нужно с помощью метода `replace('p:', '')` привести столбцы для объединения к одному формату. Однако это может усложнить анализ и уменьшит долю полных записей"
   ]
  },
  {
   "cell_type": "markdown",
   "metadata": {
    "id": "Lz7qjM32xglW"
   },
   "source": [
    "### 2.3. Объединять или не объединять — вот в чём вопрос\n",
    "\n",
    "Некоторые названия столбцов встречаются в датасетах чаще других. В результате предварительной проверки датасетов было выяснено, что столбец `company_id` подходит для объединения данных.\n",
    "\n",
    "- Установите, подходит ли для объединения данных столбец `network_username`, который встречается в нескольких датасетах. Нам необходимо понимать, дублируется ли для разных датасетов информация в столбцах с таким названием, и если да — то насколько часто.\n",
    "- Оцените, можно ли использовать столбцы с именем `network_username` для объединения данных."
   ]
  },
  {
   "cell_type": "code",
   "execution_count": 24,
   "metadata": {
    "id": "zyI3rt0rxg1O"
   },
   "outputs": [
    {
     "name": "stdout",
     "output_type": "stream",
     "text": [
      "company_and_rounds: True\n",
      "acquisition: False\n",
      "people: True\n",
      "education: False\n",
      "degrees: False\n"
     ]
    }
   ],
   "source": [
    "#проверка наличия столбца в датафреймах\n",
    "print('company_and_rounds:', 'network  username' in company_and_rounds.columns)\n",
    "print('acquisition:', 'network_username' in acquisition.columns)\n",
    "print('people:', 'network_username' in people.columns)\n",
    "print('education:', 'network_username' in education.columns)\n",
    "print('degrees:', 'network_username' in degrees.columns)"
   ]
  },
  {
   "cell_type": "markdown",
   "metadata": {
    "id": "RxOS5rwmFcNW"
   },
   "source": [
    "Стобец `network_username` есть в датафрейме `company_and_rounds` и `people`. Проведём анализ заполнености и уникальности:"
   ]
  },
  {
   "cell_type": "code",
   "execution_count": 25,
   "metadata": {
    "id": "_7gjdrGOFcB2"
   },
   "outputs": [
    {
     "name": "stdout",
     "output_type": "stream",
     "text": [
      "\n",
      "В датафрейме \"company_and_rounds\":\n",
      "Заполнено: 95534/217774 43.9%\n",
      "Уникальных: 79571\n",
      "\n",
      "В датафрейме \"people\":\n",
      "Заполнено: 38867/226709 17.1%\n",
      "Уникальных: 38421\n",
      "\n",
      "Общих network_username: 2199\n"
     ]
    }
   ],
   "source": [
    "#для датафрейма company_and_rounds\n",
    "company_usernames = company_and_rounds['network  username'].dropna()\n",
    "print('\\nВ датафрейме \"company_and_rounds\":')\n",
    "print(f'Заполнено: {len(company_usernames)}/{len(company_and_rounds)} {len(company_usernames)/len(company_and_rounds):.1%}')\n",
    "print(f'Уникальных: {company_usernames.nunique()}')\n",
    "\n",
    "#для датафрейма people\n",
    "people_usernames = people['network_username'].dropna()\n",
    "print('\\nВ датафрейме \"people\":')\n",
    "print(f'Заполнено: {len(people_usernames)}/{len(people)} {len(people_usernames)/len(people):.1%}')\n",
    "print(f'Уникальных: {people_usernames.nunique()}')\n",
    "\n",
    "# С помощью пересеченья найдём совпадения\n",
    "common = set(company_usernames) & set(people_usernames)\n",
    "print(f'\\nОбщих network_username: {len(common)}')"
   ]
  },
  {
   "cell_type": "markdown",
   "metadata": {},
   "source": [
    "Датафреймы имеют низкую заполненость в столбце `network_username`. Также наиболее вероятно, что они содержат данные разной природы - в `company_and_rounds` относящиеся к компании, а в `people` - к сотруднику. Низкое количетство общих элементов пересечения подверждает это. Использовать столбец `network_username` для объединения данных **не рекомендуется**."
   ]
  },
  {
   "cell_type": "markdown",
   "metadata": {
    "id": "EHcODomVrJg1"
   },
   "source": [
    "\n",
    "### 2.4. Проблемный датасет и причина возникновения пропусков\n",
    "\n",
    "Во время собственного анализа данных у заказчика больше всего вопросов возникло к датасету `company_and_rounds.csv`. В нём много пропусков как раз в информации о раундах, которая заказчику важна.\n",
    "\n",
    "- Любым удобным способом приведите данные в вид, который позволит в дальнейшем проводить анализ в разрезе отдельных компаний. Обратите внимание на структуру датасета, порядок и названия столбцов, проанализируйте значения.\n",
    "\n",
    "По гипотезе заказчика данные по компаниям из этой таблицы раньше хранились иначе, более удобным для исследования образом.\n",
    "\n",
    "- Максимальным образом сохраняя данные, сохранив их связность и исключив возможные возникающие при этом ошибки, подготовьте данные так, чтобы удобно было отобрать компании по параметрам и рассчитать показатели из расчёта на одну компанию без промежуточных агрегаций."
   ]
  },
  {
   "cell_type": "markdown",
   "metadata": {
    "id": "oSk7xqu_FbaN"
   },
   "source": [
    "Разделим исходный датасет на 2 отдельных датасета `companies` и `rounds`, чтобы устранить дублирование атрибутов компании и уменьшить объём данных:"
   ]
  },
  {
   "cell_type": "code",
   "execution_count": 26,
   "metadata": {
    "id": "9BY9lTUcFbJ-"
   },
   "outputs": [],
   "source": [
    "#выделяем общую информацию о компаниях\n",
    "companies = company_and_rounds.drop_duplicates('company  ID')[[\n",
    "    'company  ID', 'name', 'category  code', 'status', \n",
    "    'founded  at', 'closed  at', 'domain', 'network  username',\n",
    "    'country  code', 'investment  rounds', 'funding  rounds', \n",
    "    'funding  total', 'milestones'\n",
    "]].reset_index(drop=True)\n",
    "\n",
    "#выделяем информацию о раундах финансирования\n",
    "rounds = company_and_rounds[[\n",
    "    'funding  round  id', 'company  id', 'funded  at', \n",
    "    'funding  round  type', 'raised  amount', 'pre  money  valuation',\n",
    "    'participants', 'is  first  round', 'is  last  round'\n",
    "]].dropna(subset=['funding  round  id']).reset_index(drop=True)"
   ]
  },
  {
   "cell_type": "code",
   "execution_count": 27,
   "metadata": {
    "id": "tJ6Sl6MKrJg1",
    "vscode": {
     "languageId": "plaintext"
    }
   },
   "outputs": [
    {
     "name": "stdout",
     "output_type": "stream",
     "text": [
      "<class 'pandas.core.frame.DataFrame'>\n",
      "RangeIndex: 196554 entries, 0 to 196553\n",
      "Data columns (total 13 columns):\n",
      " #   Column              Non-Null Count   Dtype         \n",
      "---  ------              --------------   -----         \n",
      " 0   company  ID         196553 non-null  float64       \n",
      " 1   name                196553 non-null  object        \n",
      " 2   category  code      123186 non-null  object        \n",
      " 3   status              196553 non-null  object        \n",
      " 4   founded  at         91227 non-null   datetime64[ns]\n",
      " 5   closed  at          2620 non-null    datetime64[ns]\n",
      " 6   domain              126545 non-null  object        \n",
      " 7   network  username   80591 non-null   object        \n",
      " 8   country  code       87990 non-null   object        \n",
      " 9   investment  rounds  196553 non-null  float64       \n",
      " 10  funding  rounds     196553 non-null  float64       \n",
      " 11  funding  total      196553 non-null  float64       \n",
      " 12  milestones          196553 non-null  float64       \n",
      "dtypes: datetime64[ns](2), float64(5), object(6)\n",
      "memory usage: 19.5+ MB\n",
      "None\n",
      "<class 'pandas.core.frame.DataFrame'>\n",
      "RangeIndex: 52928 entries, 0 to 52927\n",
      "Data columns (total 9 columns):\n",
      " #   Column                 Non-Null Count  Dtype         \n",
      "---  ------                 --------------  -----         \n",
      " 0   funding  round  id     52928 non-null  float64       \n",
      " 1   company  id            52928 non-null  float64       \n",
      " 2   funded  at             52680 non-null  datetime64[ns]\n",
      " 3   funding  round  type   52928 non-null  object        \n",
      " 4   raised  amount         52928 non-null  float64       \n",
      " 5   pre  money  valuation  52928 non-null  float64       \n",
      " 6   participants           52928 non-null  float64       \n",
      " 7   is  first  round       52928 non-null  float64       \n",
      " 8   is  last  round        52928 non-null  float64       \n",
      "dtypes: datetime64[ns](1), float64(7), object(1)\n",
      "memory usage: 3.6+ MB\n",
      "None\n"
     ]
    }
   ],
   "source": [
    "#проверяем получившиеся датасеты\n",
    "print(companies.info())\n",
    "print(rounds.info())"
   ]
  },
  {
   "cell_type": "markdown",
   "metadata": {},
   "source": [
    "Мы успешно разбили исходный датасет на 2 разных: `companies` и `rounds`.Теперь стало удобно отобирать компании по параметрам и рассчитать показатели из расчёта на одну компанию."
   ]
  },
  {
   "cell_type": "markdown",
   "metadata": {
    "id": "bmVYhphNrJg2"
   },
   "source": [
    "\n",
    "## Шаг 3. Исследовательский анализ объединённых таблиц\n",
    "\n",
    "\n",
    "<a id='chapter3'></a>\n"
   ]
  },
  {
   "cell_type": "markdown",
   "metadata": {
    "id": "3Di6tCT3rJg2"
   },
   "source": [
    "\n",
    "### 3.1. Объединение данных\n",
    "\n",
    "Объедините данные для ответа на вопросы заказчика, которые касаются интересующих его компаний. Заказчика прежде всего интересуют те компании, которые меняли или готовы менять владельцев. Получение инвестиций или финансирования, по мнению заказчика, означает интерес к покупке или продаже компании.\n",
    "\n",
    "В качестве основы для объединённой таблицы возьмите данные из обработанного датасета `company_and_rounds.csv` — выберите только те компании, у которых указаны значения `funding_rounds` или `investment_rounds` больше нуля, или те, у которых в колонке `status` указано `acquired`. В результирующей таблице должно получиться порядка 40 тысяч компаний.\n",
    "\n",
    "Проверьте полноту и корректность получившейся таблицы. Далее работайте только с этими данными."
   ]
  },
  {
   "cell_type": "code",
   "execution_count": 28,
   "metadata": {
    "id": "kuV1b5MXFg3_"
   },
   "outputs": [
    {
     "data": {
      "text/html": [
       "<div>\n",
       "<style scoped>\n",
       "    .dataframe tbody tr th:only-of-type {\n",
       "        vertical-align: middle;\n",
       "    }\n",
       "\n",
       "    .dataframe tbody tr th {\n",
       "        vertical-align: top;\n",
       "    }\n",
       "\n",
       "    .dataframe thead th {\n",
       "        text-align: right;\n",
       "    }\n",
       "</style>\n",
       "<table border=\"1\" class=\"dataframe\">\n",
       "  <thead>\n",
       "    <tr style=\"text-align: right;\">\n",
       "      <th></th>\n",
       "      <th>company  ID</th>\n",
       "      <th>name</th>\n",
       "      <th>category  code</th>\n",
       "      <th>status</th>\n",
       "      <th>founded  at</th>\n",
       "      <th>closed  at</th>\n",
       "      <th>domain</th>\n",
       "      <th>network  username</th>\n",
       "      <th>country  code</th>\n",
       "      <th>investment  rounds</th>\n",
       "      <th>funding  rounds</th>\n",
       "      <th>funding  total</th>\n",
       "      <th>milestones</th>\n",
       "      <th>id</th>\n",
       "      <th>acquiring_company_id</th>\n",
       "      <th>acquired_company_id</th>\n",
       "      <th>term_code</th>\n",
       "      <th>price_amount</th>\n",
       "      <th>acquired_at</th>\n",
       "    </tr>\n",
       "  </thead>\n",
       "  <tbody>\n",
       "    <tr>\n",
       "      <th>0</th>\n",
       "      <td>1.0</td>\n",
       "      <td>Wetpaint</td>\n",
       "      <td>web</td>\n",
       "      <td>operating</td>\n",
       "      <td>2005-10-17</td>\n",
       "      <td>NaT</td>\n",
       "      <td>wetpaint-inc.com</td>\n",
       "      <td>BachelrWetpaint</td>\n",
       "      <td>USA</td>\n",
       "      <td>0.0</td>\n",
       "      <td>3.0</td>\n",
       "      <td>39750000.0</td>\n",
       "      <td>5.0</td>\n",
       "      <td>NaN</td>\n",
       "      <td>NaN</td>\n",
       "      <td>NaN</td>\n",
       "      <td>NaN</td>\n",
       "      <td>NaN</td>\n",
       "      <td>NaT</td>\n",
       "    </tr>\n",
       "    <tr>\n",
       "      <th>1</th>\n",
       "      <td>10.0</td>\n",
       "      <td>Flektor</td>\n",
       "      <td>games_video</td>\n",
       "      <td>acquired</td>\n",
       "      <td>NaT</td>\n",
       "      <td>NaT</td>\n",
       "      <td>flektor.com</td>\n",
       "      <td>NaN</td>\n",
       "      <td>USA</td>\n",
       "      <td>0.0</td>\n",
       "      <td>0.0</td>\n",
       "      <td>0.0</td>\n",
       "      <td>0.0</td>\n",
       "      <td>1.0</td>\n",
       "      <td>11.0</td>\n",
       "      <td>10.0</td>\n",
       "      <td>NaN</td>\n",
       "      <td>20000000.0</td>\n",
       "      <td>2007-05-30</td>\n",
       "    </tr>\n",
       "    <tr>\n",
       "      <th>2</th>\n",
       "      <td>100.0</td>\n",
       "      <td>There</td>\n",
       "      <td>games_video</td>\n",
       "      <td>acquired</td>\n",
       "      <td>NaT</td>\n",
       "      <td>NaT</td>\n",
       "      <td>there.com</td>\n",
       "      <td>NaN</td>\n",
       "      <td>USA</td>\n",
       "      <td>0.0</td>\n",
       "      <td>0.0</td>\n",
       "      <td>0.0</td>\n",
       "      <td>4.0</td>\n",
       "      <td>20.0</td>\n",
       "      <td>377.0</td>\n",
       "      <td>100.0</td>\n",
       "      <td>cash</td>\n",
       "      <td>0.0</td>\n",
       "      <td>2005-05-29</td>\n",
       "    </tr>\n",
       "    <tr>\n",
       "      <th>3</th>\n",
       "      <td>1001.0</td>\n",
       "      <td>FriendFeed</td>\n",
       "      <td>web</td>\n",
       "      <td>acquired</td>\n",
       "      <td>2007-10-01</td>\n",
       "      <td>NaT</td>\n",
       "      <td>friendfeed.com</td>\n",
       "      <td>friendfeed</td>\n",
       "      <td>USA</td>\n",
       "      <td>0.0</td>\n",
       "      <td>1.0</td>\n",
       "      <td>5000000.0</td>\n",
       "      <td>3.0</td>\n",
       "      <td>1901.0</td>\n",
       "      <td>5.0</td>\n",
       "      <td>1001.0</td>\n",
       "      <td>cash_and_stock</td>\n",
       "      <td>47500000.0</td>\n",
       "      <td>2009-08-10</td>\n",
       "    </tr>\n",
       "    <tr>\n",
       "      <th>4</th>\n",
       "      <td>10014.0</td>\n",
       "      <td>Mobclix</td>\n",
       "      <td>mobile</td>\n",
       "      <td>acquired</td>\n",
       "      <td>2008-03-01</td>\n",
       "      <td>NaT</td>\n",
       "      <td>mobclix.com</td>\n",
       "      <td>mobclix</td>\n",
       "      <td>USA</td>\n",
       "      <td>0.0</td>\n",
       "      <td>1.0</td>\n",
       "      <td>0.0</td>\n",
       "      <td>4.0</td>\n",
       "      <td>3878.0</td>\n",
       "      <td>23054.0</td>\n",
       "      <td>10014.0</td>\n",
       "      <td>NaN</td>\n",
       "      <td>0.0</td>\n",
       "      <td>2010-09-30</td>\n",
       "    </tr>\n",
       "  </tbody>\n",
       "</table>\n",
       "</div>"
      ],
      "text/plain": [
       "   company  ID        name category  code     status founded  at closed  at  \\\n",
       "0          1.0    Wetpaint            web  operating  2005-10-17        NaT   \n",
       "1         10.0     Flektor    games_video   acquired         NaT        NaT   \n",
       "2        100.0       There    games_video   acquired         NaT        NaT   \n",
       "3       1001.0  FriendFeed            web   acquired  2007-10-01        NaT   \n",
       "4      10014.0     Mobclix         mobile   acquired  2008-03-01        NaT   \n",
       "\n",
       "             domain network  username country  code  investment  rounds  \\\n",
       "0  wetpaint-inc.com   BachelrWetpaint           USA                 0.0   \n",
       "1       flektor.com               NaN           USA                 0.0   \n",
       "2         there.com               NaN           USA                 0.0   \n",
       "3    friendfeed.com        friendfeed           USA                 0.0   \n",
       "4       mobclix.com           mobclix           USA                 0.0   \n",
       "\n",
       "   funding  rounds  funding  total  milestones      id  acquiring_company_id  \\\n",
       "0              3.0      39750000.0         5.0     NaN                   NaN   \n",
       "1              0.0             0.0         0.0     1.0                  11.0   \n",
       "2              0.0             0.0         4.0    20.0                 377.0   \n",
       "3              1.0       5000000.0         3.0  1901.0                   5.0   \n",
       "4              1.0             0.0         4.0  3878.0               23054.0   \n",
       "\n",
       "   acquired_company_id       term_code  price_amount acquired_at  \n",
       "0                  NaN             NaN           NaN         NaT  \n",
       "1                 10.0             NaN    20000000.0  2007-05-30  \n",
       "2                100.0            cash           0.0  2005-05-29  \n",
       "3               1001.0  cash_and_stock    47500000.0  2009-08-10  \n",
       "4              10014.0             NaN           0.0  2010-09-30  "
      ]
     },
     "execution_count": 28,
     "metadata": {},
     "output_type": "execute_result"
    }
   ],
   "source": [
    "#фильтруем компании по вышеперечисленным условиям\n",
    "filtered_companies = companies[\n",
    "    (companies['funding  rounds'] > 0) |\n",
    "    (companies['investment  rounds'] > 0) |\n",
    "    (companies['status'] == 'acquired')\n",
    "]\n",
    "\n",
    "#объединяем датафреймы с отфильтрованными компаниями и с инофрмацией о покупках одних компаний другими\n",
    "df = pd.merge(\n",
    "    filtered_companies,\n",
    "    acquisition,\n",
    "    left_on='company  ID',\n",
    "    right_on='acquired_company_id',\n",
    "    how='left'\n",
    ")\n",
    "\n",
    "#проверяем результат\n",
    "df.head()\n",
    "\n",
    "\n"
   ]
  },
  {
   "cell_type": "code",
   "execution_count": null,
   "metadata": {},
   "outputs": [],
   "source": []
  },
  {
   "cell_type": "code",
   "execution_count": 29,
   "metadata": {},
   "outputs": [
    {
     "name": "stdout",
     "output_type": "stream",
     "text": [
      "<class 'pandas.core.frame.DataFrame'>\n",
      "Int64Index: 40890 entries, 0 to 40889\n",
      "Data columns (total 19 columns):\n",
      " #   Column                Non-Null Count  Dtype         \n",
      "---  ------                --------------  -----         \n",
      " 0   company  ID           40890 non-null  float64       \n",
      " 1   name                  40890 non-null  object        \n",
      " 2   category  code        35436 non-null  object        \n",
      " 3   status                40890 non-null  object        \n",
      " 4   founded  at           27911 non-null  datetime64[ns]\n",
      " 5   closed  at            2128 non-null   datetime64[ns]\n",
      " 6   domain                35883 non-null  object        \n",
      " 7   network  username     20938 non-null  object        \n",
      " 8   country  code         34858 non-null  object        \n",
      " 9   investment  rounds    40890 non-null  float64       \n",
      " 10  funding  rounds       40890 non-null  float64       \n",
      " 11  funding  total        40890 non-null  float64       \n",
      " 12  milestones            40890 non-null  float64       \n",
      " 13  id                    9390 non-null   float64       \n",
      " 14  acquiring_company_id  9390 non-null   float64       \n",
      " 15  acquired_company_id   9390 non-null   float64       \n",
      " 16  term_code             1830 non-null   object        \n",
      " 17  price_amount          9390 non-null   float64       \n",
      " 18  acquired_at           9361 non-null   datetime64[ns]\n",
      "dtypes: datetime64[ns](3), float64(9), object(7)\n",
      "memory usage: 6.2+ MB\n"
     ]
    }
   ],
   "source": [
    "df.info()"
   ]
  },
  {
   "cell_type": "markdown",
   "metadata": {
    "id": "kuV1b5MXFg3_"
   },
   "source": [
    "Объединение произошло успешно, теперь у нас есть объединённый датасет `df`, содержащий информацию о компании и её участии в покупке/продаже. Как и ожидалось, в таблице получилось порядка 40 тысяч записей.\n"
   ]
  },
  {
   "cell_type": "markdown",
   "metadata": {
    "id": "DFHINkV3rJg2"
   },
   "source": [
    "\n",
    "### 3.2. Анализ выбросов\n",
    "\n",
    "Заказчика интересует обычный для рассматриваемого периода размер средств, который предоставлялся компаниям.\n",
    "\n",
    "- По предобработанному столбцу `funding_total` графическим способом оцените, какой размер общего финансирования для одной компании будет типичным, а какой — выбивающимся.\n",
    "- В процессе расчёта значений обратите внимание, например, на показатели, возвращаемые методом `.describe()`, — объясните их. Применимы ли к таким данным обычные способы нахождения типичных значений?"
   ]
  },
  {
   "cell_type": "code",
   "execution_count": 30,
   "metadata": {
    "id": "8jm75fKXrJg2",
    "vscode": {
     "languageId": "plaintext"
    }
   },
   "outputs": [
    {
     "data": {
      "text/plain": [
       "count    4.089000e+04\n",
       "mean     1.013559e+07\n",
       "std      5.641289e+07\n",
       "min      0.000000e+00\n",
       "25%      0.000000e+00\n",
       "50%      6.000000e+05\n",
       "75%      5.631320e+06\n",
       "max      5.700000e+09\n",
       "Name: funding  total, dtype: float64"
      ]
     },
     "execution_count": 30,
     "metadata": {},
     "output_type": "execute_result"
    }
   ],
   "source": [
    "#применим метод discribe к столбцу funding total\n",
    "df['funding  total'].describe()"
   ]
  },
  {
   "cell_type": "markdown",
   "metadata": {
    "id": "S1jrfr7rFhcw"
   },
   "source": [
    "Можно предположить, что данные имеют вид правого ассиметричного распределения, так как медиана (600 000) сильно меньше среднего (10 135 590). Распределение имеет крайне большое стандартное отклонение (56 412 890), что свидетельсвует о высоком разбросе данных. 25% перцентиль говорит о том, что четверть компаний имеет нулевое финансирование. Построим гистограмму распределения:"
   ]
  },
  {
   "cell_type": "code",
   "execution_count": 31,
   "metadata": {},
   "outputs": [
    {
     "data": {
      "image/png": "[encoded data removed]",
      "text/plain": [
       "<Figure size 432x288 with 1 Axes>"
      ]
     },
     "metadata": {
      "needs_background": "light"
     },
     "output_type": "display_data"
    }
   ],
   "source": [
    "#построим гистограмму с помощью библиотеку seaborn\n",
    "sns.histplot(\n",
    "    data = df,\n",
    "    x = 'funding  total',\n",
    "    bins = 100,\n",
    "    kde = True\n",
    ")\n",
    "\n",
    "plt.title('Распределение общего финансирования')\n",
    "plt.xlabel('Сумма финансирования')\n",
    "plt.ylabel('Количество компаний')\n",
    "plt.show()"
   ]
  },
  {
   "cell_type": "code",
   "execution_count": 32,
   "metadata": {},
   "outputs": [
    {
     "data": {
      "image/png": "[encoded data removed]",
      "text/plain": [
       "<Figure size 720x360 with 1 Axes>"
      ]
     },
     "metadata": {
      "needs_background": "light"
     },
     "output_type": "display_data"
    }
   ],
   "source": [
    "#построение диаграммы с усами \n",
    "plt.figure(figsize=(10, 5))\n",
    "sns.boxplot(\n",
    "    data=df, \n",
    "    x='funding  total')\n",
    "plt.title('Боксплот общего финансирования')\n",
    "plt.show()"
   ]
  },
  {
   "cell_type": "markdown",
   "metadata": {},
   "source": [
    "По полученным результатам анализа видно, что выборка имеет крайне высокие выбросы, сильно искажающие результаты. Для фильтрации типичной компании воспользуемся межквартильным размахом IQR:"
   ]
  },
  {
   "cell_type": "code",
   "execution_count": 33,
   "metadata": {},
   "outputs": [
    {
     "name": "stdout",
     "output_type": "stream",
     "text": [
      "25-й персентиль равен 0.0\n",
      "75-й персентиль равен 5631320.0\n",
      "Межквартильный размах IQR равен 5631320.0\n"
     ]
    },
    {
     "data": {
      "image/png": "[encoded data removed]",
      "text/plain": [
       "<Figure size 1008x864 with 1 Axes>"
      ]
     },
     "metadata": {
      "needs_background": "light"
     },
     "output_type": "display_data"
    }
   ],
   "source": [
    "#находим 25 персентиль\n",
    "q1 = np.percentile(df['funding  total'], 25)\n",
    "print(f'25-й персентиль равен {q1}')\n",
    "\n",
    "#находим 75 персентиль\n",
    "q3 = np.percentile(df['funding  total'], 75)\n",
    "print(f'75-й персентиль равен {q3}')\n",
    "\n",
    "#находим межквартильный размах\n",
    "iqr = q3 - q1\n",
    "print(f'Межквартильный размах IQR равен {iqr}')\n",
    "\n",
    "#фильтруем компании \n",
    "typical_companies = df[df['funding  total'] <= q3 + 1.5*iqr]\n",
    "\n",
    "typical_companies['funding  total'].describe()\n",
    "\n",
    "#построим гистограмму без выбросов\n",
    "\n",
    "plt.figure(figsize=(14, 12))\n",
    "sns.histplot(\n",
    "    data = typical_companies,\n",
    "    x = 'funding  total',\n",
    "    bins = 100,\n",
    "    kde = True\n",
    ")\n",
    "plt.title('Распределение общего финансирования после фильтрации')\n",
    "plt.xlabel('Сумма финансирования')\n",
    "plt.ylabel('Количество компаний')\n",
    "plt.show()"
   ]
  },
  {
   "cell_type": "code",
   "execution_count": 34,
   "metadata": {},
   "outputs": [
    {
     "data": {
      "image/png": "[encoded data removed]",
      "text/plain": [
       "<Figure size 720x360 with 1 Axes>"
      ]
     },
     "metadata": {
      "needs_background": "light"
     },
     "output_type": "display_data"
    }
   ],
   "source": [
    "#построение диаграммы с усами \n",
    "plt.figure(figsize=(10, 5))\n",
    "sns.boxplot(\n",
    "    data=typical_companies, \n",
    "    x='funding  total')\n",
    "plt.title('Боксплот общего финансирования после фильтрации')\n",
    "plt.show()"
   ]
  },
  {
   "cell_type": "code",
   "execution_count": 35,
   "metadata": {},
   "outputs": [
    {
     "data": {
      "text/plain": [
       "count    3.500100e+04\n",
       "mean     1.863263e+06\n",
       "std      3.137507e+06\n",
       "min      0.000000e+00\n",
       "25%      0.000000e+00\n",
       "50%      2.500000e+05\n",
       "75%      2.215410e+06\n",
       "max      1.406980e+07\n",
       "Name: funding  total, dtype: float64"
      ]
     },
     "execution_count": 35,
     "metadata": {},
     "output_type": "execute_result"
    }
   ],
   "source": [
    " typical_companies['funding  total'].describe()"
   ]
  },
  {
   "cell_type": "code",
   "execution_count": 36,
   "metadata": {},
   "outputs": [
    {
     "data": {
      "text/plain": [
       "5889"
      ]
     },
     "execution_count": 36,
     "metadata": {},
     "output_type": "execute_result"
    }
   ],
   "source": [
    "#сколько компаний имеют значения финансирования выше 14.1 млн\n",
    "len(df) - len(typical_companies)"
   ]
  },
  {
   "cell_type": "markdown",
   "metadata": {},
   "source": [
    "Исходя из проведённого выше анализа, можно предположить, что выбивающимися значениями размера общего финансирования для одной компании являются значения выше **14.1 млн**. Также стоит отметить, что 25% компаний име.т нулевое финансирование. После проведения фильтрации типичное среднее значение финансирования составляет 1.85 млн, а более корректное типичное медианное значение финансировния - **250 тыс**. Из 40890 компаний 5889 имеют размер финансирования выше 14.1 млн, что можно отнести к исключительным случаям."
   ]
  },
  {
   "cell_type": "markdown",
   "metadata": {
    "id": "JqkRAQrIrJg2"
   },
   "source": [
    "\n",
    "### 3.3. Куплены забесплатно?\n",
    "\n",
    "- Исследуйте компании, которые были проданы за ноль или за один доллар, и при этом известно, что у них был ненулевой общий объём финансирования.\n",
    "\n",
    "- Рассчитайте аналитически верхнюю и нижнюю границу выбросов для столбца `funding_total` и укажите, каким процентилям границы соответствуют."
   ]
  },
  {
   "cell_type": "code",
   "execution_count": 37,
   "metadata": {
    "id": "wJHXCBwwrJg2",
    "vscode": {
     "languageId": "plaintext"
    }
   },
   "outputs": [
    {
     "name": "stdout",
     "output_type": "stream",
     "text": [
      "Найдено 1618 компаний с \"бесплатной\" ценой\n"
     ]
    }
   ],
   "source": [
    "#фильтрация необходимых компаний\n",
    "zero_one_sales = df[\n",
    "    (df['funding  total'] > 0) &\n",
    "    (df['price_amount'].isin([0, 1]))\n",
    "]\n",
    "print(f'Найдено {len(zero_one_sales)} компаний с \"бесплатной\" ценой')"
   ]
  },
  {
   "cell_type": "code",
   "execution_count": 38,
   "metadata": {},
   "outputs": [
    {
     "data": {
      "image/png": "[encoded data removed]",
      "text/plain": [
       "<Figure size 1008x864 with 1 Axes>"
      ]
     },
     "metadata": {
      "needs_background": "light"
     },
     "output_type": "display_data"
    }
   ],
   "source": [
    "#построим гистограмму для отобранных компаний\n",
    "\n",
    "plt.figure(figsize=(14, 12))\n",
    "sns.histplot(\n",
    "    data = zero_one_sales,\n",
    "    x = 'funding  total',\n",
    "    bins = 100,\n",
    "    kde = True\n",
    ")\n",
    "plt.title('Распределение общего финансирования для \"бесплатных\" компаний')\n",
    "plt.xlabel('Сумма финансирования')\n",
    "plt.ylabel('Количество компаний')\n",
    "plt.show()"
   ]
  },
  {
   "cell_type": "markdown",
   "metadata": {},
   "source": [
    "Теперь аналитически рассчитаем персентили и верхнюю и нижнюю границу выбросов:"
   ]
  },
  {
   "cell_type": "code",
   "execution_count": 39,
   "metadata": {
    "id": "9IDTHfYQFhuX"
   },
   "outputs": [
    {
     "name": "stdout",
     "output_type": "stream",
     "text": [
      "25-й персентиль равен 2000000.0\n",
      "75-й персентиль равен 15500000.0\n",
      "Межквартильный размах IQR равен 13500000.0\n",
      "Нижняя граница выбросов: 0.00 cоответствует 0.0 персентилю\n",
      "Верхняя граница выбросов: 35750000.00 cоответствует 90.9 персентилю\n"
     ]
    }
   ],
   "source": [
    "#находим 25 персентиль\n",
    "q1 = np.percentile(zero_one_sales['funding  total'], 25)\n",
    "print(f'25-й персентиль равен {q1}')\n",
    "\n",
    "#находим 75 персентиль\n",
    "q3 = np.percentile(zero_one_sales['funding  total'], 75)\n",
    "print(f'75-й персентиль равен {q3}')\n",
    "\n",
    "#находим межквартильный размах\n",
    "iqr = q3 - q1\n",
    "print(f'Межквартильный размах IQR равен {iqr}')\n",
    "\n",
    "#находим нижнюю границу выбросов\n",
    "low = max(0, q1 - 1.5*iqr)\n",
    "\n",
    "#находим верхнюю границу выбросов\n",
    "up = q3 + 1.5*iqr\n",
    "\n",
    "# Функция для поиска персентиля\n",
    "def find_percentile(value, sorted_data):\n",
    "    count = len(sorted_data[sorted_data <= value])\n",
    "    return (count / len(sorted_data)) * 100\n",
    "\n",
    "# Применяем к нашим границам\n",
    "low_pct = find_percentile(low, zero_one_sales['funding  total'])\n",
    "up_pct = find_percentile(up, zero_one_sales['funding  total'])\n",
    "\n",
    "print(f\"Нижняя граница выбросов: {low:.2f} cоответствует {low_pct:.1f} персентилю\")\n",
    "print(f\"Верхняя граница выбросов: {up:.2f} cоответствует {up_pct:.1f} персентилю\")\n",
    "\n",
    "\n",
    "\n"
   ]
  },
  {
   "cell_type": "markdown",
   "metadata": {},
   "source": [
    "После проведения аналитического анализа можно отметить, что среди **1618** компаний, которые были проданы за ноль или за один доллар при ненулевом объёме финансирования, нижней границей выбросов является значение **0**, соответвующее **0 персентилю**, а верхней границей является знаячение **35 750 000**, соответсвующее **90.9 персентилю**. "
   ]
  },
  {
   "cell_type": "markdown",
   "metadata": {
    "id": "mEiWpROjrJg2"
   },
   "source": [
    "\n",
    "### 3.4. Цены стартапов по категориям\n",
    "\n",
    "Категории стартапов с типично высокими ценами покупки стартапов и значительным разбросом цен могут быть привлекательными для крупных инвесторов, которые готовы к высоким рискам ради потенциально больших доходов. Среди категорий стартапов выделите категории стартапов, характеризующиеся:\n",
    "\n",
    "- типично высокими ценами;\n",
    "- и наибольшим разбросом цен за стартап.\n",
    "\n",
    "Объясните, почему решили составить топ именно из такого числа категорий и почему рассчитывали именно так."
   ]
  },
  {
   "cell_type": "code",
   "execution_count": 52,
   "metadata": {},
   "outputs": [
    {
     "name": "stdout",
     "output_type": "stream",
     "text": [
      "Категории с самыми высокими типичными ценами:\n",
      "                count       median          mean           std           iqr\n",
      "category  code                                                              \n",
      "nanotech            1  584000000.0  5.840000e+08           NaN  0.000000e+00\n",
      "manufacturing      29   72000000.0  5.892724e+08  9.696580e+08  6.150000e+08\n",
      "real_estate         7   50000000.0  1.256143e+09  2.505123e+09  9.035000e+08\n",
      "automotive          5   43000000.0  1.528600e+09  2.297758e+09  2.400000e+09\n",
      "biotech           454   13200000.0  4.263121e+08  1.540374e+09  2.500000e+08\n",
      "hospitality        11   12500000.0  2.802182e+08  6.514494e+08  1.187500e+08\n",
      "finance            40     600000.0  3.021988e+08  7.960985e+08  1.707500e+08\n",
      "news               27          0.0  3.029630e+07  7.096563e+07  2.100000e+07\n",
      "nonprofit           1          0.0  0.000000e+00           NaN  0.000000e+00\n",
      "other             315          0.0  1.410059e+08  1.085129e+09  5.750000e+05\n"
     ]
    }
   ],
   "source": [
    "#фильтруем только купленные стартапы\n",
    "acquired = df[df['status'] == 'acquired']\n",
    "\n",
    "\n",
    "# Группируем по категориям\n",
    "grouped = acquired.groupby('category  code')['price_amount']\n",
    "\n",
    "\n",
    "# Создаем пустой DataFrame для результатов\n",
    "stats_df = pd.DataFrame()\n",
    "\n",
    "# Заполняем основными статистическими показателями\n",
    "stats_df['count'] = grouped.count()  \n",
    "stats_df['median'] = grouped.median()  \n",
    "stats_df['mean'] = grouped.mean()  \n",
    "stats_df['std'] = grouped.std()  \n",
    "\n",
    "# Расчет IQR через квантили\n",
    "stats_df['iqr'] = grouped.quantile(0.75) - grouped.quantile(0.25)\n",
    "\n",
    "top_median = stats_df.sort_values('median', ascending=False).head(10)\n",
    "top_iqr = stats_df.sort_values('iqr', ascending=False).head()\n",
    "\n",
    "print(\"Категории с самыми высокими типичными ценами:\")\n",
    "print(top_median)"
   ]
  },
  {
   "cell_type": "code",
   "execution_count": 41,
   "metadata": {
    "id": "eF1aULm5FjfY"
   },
   "outputs": [
    {
     "data": {
      "image/png": "[encoded data removed]",
      "text/plain": [
       "<Figure size 720x360 with 1 Axes>"
      ]
     },
     "metadata": {
      "needs_background": "light"
     },
     "output_type": "display_data"
    }
   ],
   "source": [
    "# График топ-5 по медиане\n",
    "plt.figure(figsize=(10,5))\n",
    "top_median['median'].sort_values(ascending=True).plot(kind='barh')\n",
    "plt.title('Топ-5: категории с высокими ценами покупки')\n",
    "plt.xlabel('Медианная цена ($)')\n",
    "plt.show()"
   ]
  },
  {
   "cell_type": "code",
   "execution_count": 42,
   "metadata": {},
   "outputs": [
    {
     "name": "stdout",
     "output_type": "stream",
     "text": [
      "Категории с наибольшим разбросом цен за стартап:\n",
      "                count      median          mean           std           iqr\n",
      "category  code                                                             \n",
      "automotive          5  43000000.0  1.528600e+09  2.297758e+09  2.400000e+09\n",
      "real_estate         7  50000000.0  1.256143e+09  2.505123e+09  9.035000e+08\n",
      "manufacturing      29  72000000.0  5.892724e+08  9.696580e+08  6.150000e+08\n",
      "sports              5         0.0  2.490000e+08  4.265618e+08  2.600000e+08\n",
      "biotech           454  13200000.0  4.263121e+08  1.540374e+09  2.500000e+08\n"
     ]
    }
   ],
   "source": [
    "print(\"Категории с наибольшим разбросом цен за стартап:\")\n",
    "print(top_iqr)\n"
   ]
  },
  {
   "cell_type": "code",
   "execution_count": 43,
   "metadata": {},
   "outputs": [
    {
     "data": {
      "image/png": "[encoded data removed]",
      "text/plain": [
       "<Figure size 720x360 with 1 Axes>"
      ]
     },
     "metadata": {
      "needs_background": "light"
     },
     "output_type": "display_data"
    }
   ],
   "source": [
    "# График топ-5 по разбросу\n",
    "plt.figure(figsize=(10,5))\n",
    "top_iqr['iqr'].sort_values(ascending=True).plot(kind='barh')\n",
    "plt.title('Топ-5: категории с наибольшим разбросом цен за стартап')\n",
    "plt.xlabel('Медианная цена ($)')\n",
    "plt.show()"
   ]
  },
  {
   "cell_type": "markdown",
   "metadata": {},
   "source": [
    "Исследовательский анализ показал, что к стартапам с типично высокой медианной ценой относятся категории: `nanotech`, `manufacturing`, `real_estate`, `automative`, `biotech`. Наибольший разрбос цен за стартап имеют: `automotive`, `real_estate`, `manufacturing`, `sports`, `biotech`.\n",
    "Топ составили из пяти по той причине, что у такого количества позиций в топе высокая наглядность, их легко сравнить и запомнить, а также достаточность - топ-5 охватывает основные тренды. В качестве метрик были выбраны медиана (не искажается редкими дорогими сделками) и межквартильный размах IQR - разброс между 25 и 75 процентилями."
   ]
  },
  {
   "cell_type": "markdown",
   "metadata": {},
   "source": []
  },
  {
   "cell_type": "markdown",
   "metadata": {
    "id": "ADOfyVY_rJg3"
   },
   "source": [
    "\n",
    "### 3.5. Сколько раундов продержится стартап перед покупкой\n",
    "\n",
    "- Необходимо проанализировать столбец `funding_rounds`. Исследуйте значения столбца. Заказчика интересует типичное значение количества раундов для каждого возможного статуса стартапа.\n",
    "- Постройте график, который отображает, сколько в среднем раундов финансирования проходило для стартапов из каждой группы. Сделайте выводы."
   ]
  },
  {
   "cell_type": "code",
   "execution_count": 44,
   "metadata": {
    "id": "hgXMPC4WrJg3",
    "vscode": {
     "languageId": "plaintext"
    }
   },
   "outputs": [
    {
     "name": "stdout",
     "output_type": "stream",
     "text": [
      "Распределение компаний по статусам:\n",
      "operating    28621\n",
      "acquired      9537\n",
      "closed        2092\n",
      "ipo            640\n",
      "Name: status, dtype: int64\n"
     ]
    }
   ],
   "source": [
    "#проверим уникальные статусы и посчитаем, сколько компаний принадлежит каждому из них\n",
    "status_count = df['status'].value_counts()\n",
    "\n",
    "print(\"Распределение компаний по статусам:\")\n",
    "print(status_count)\n"
   ]
  },
  {
   "cell_type": "code",
   "execution_count": 45,
   "metadata": {
    "id": "pV3e7kw5Fj1Y"
   },
   "outputs": [
    {
     "name": "stdout",
     "output_type": "stream",
     "text": [
      "\n",
      "Среднее количество раундов по статусам:\n",
      "status\n",
      "ipo          2.5\n",
      "acquired     1.9\n",
      "operating    1.6\n",
      "closed       1.4\n",
      "Name: funding  rounds, dtype: float64\n"
     ]
    }
   ],
   "source": [
    "#фильтруем компании с количеством раундов больше нуля\n",
    "df1 = df[df['funding  rounds'] > 0]\n",
    "\n",
    "#группируем по статусу и считаем среднее количество раундов\n",
    "rounds_by_status = df1.groupby('status')['funding  rounds'].mean().sort_values(ascending=False)\n",
    "\n",
    "print(\"\\nСреднее количество раундов по статусам:\")\n",
    "print(rounds_by_status.round(1))"
   ]
  },
  {
   "cell_type": "code",
   "execution_count": 46,
   "metadata": {},
   "outputs": [
    {
     "data": {
      "image/png": "[encoded data removed]",
      "text/plain": [
       "<Figure size 864x432 with 1 Axes>"
      ]
     },
     "metadata": {
      "needs_background": "light"
     },
     "output_type": "display_data"
    }
   ],
   "source": [
    "#задаём размер \n",
    "plt.figure(figsize=(12, 6))\n",
    "\n",
    "# строим диаграмму среднего количества раундов\n",
    "rounds_by_status.plot(kind='bar')\n",
    "plt.title('Среднее количество раундов финансирования по статусам компаний')\n",
    "plt.xlabel('Статус компании')\n",
    "plt.ylabel('Среднее количество раундов')\n",
    "plt.xticks(rotation=45)\n",
    "plt.grid(axis='y', alpha=0.7)\n",
    "plt.show()"
   ]
  },
  {
   "cell_type": "markdown",
   "metadata": {},
   "source": [
    "Анализ показал, что публичные компании `IPO` имеют в среднем больше раундов (2.5), тогда как закрытые компании `closed` всех меньше - 1.4. Проданные компании `acquired` имеют значение 1.9 , а дейсвующие `operating` 1.6."
   ]
  },
  {
   "cell_type": "markdown",
   "metadata": {},
   "source": [
    "<div class=\"alert alert-block alert-danger\">✍\n",
    "    \n",
    "\n",
    "__Комментарий от ревьюера №2__\n",
    "\n",
    "Для начала нужно отфильтровать только компании, у которых больше 0 раундов, т.е те компании, которые в принципе проходили процедуру финансирования по раундам.\n",
    "</div>"
   ]
  },
  {
   "cell_type": "markdown",
   "metadata": {},
   "source": [
    "<div class=\"alert alert-info\"> <b>Комментарии студента №2:</b> Добавил фильтрацию перед анализом и исправил выводы.</div>"
   ]
  },
  {
   "cell_type": "markdown",
   "metadata": {},
   "source": [
    "<div class=\"alert alert-info\"> <b>Комментарии студента №2:</b> Спасибо за проделанную работу, с тобой было комфортно работать и ты подсказал мне новые интересные вещи.</div>"
   ]
  },
  {
   "cell_type": "markdown",
   "metadata": {},
   "source": [
    "<div class=\"alert alert-block alert-success\">✔️\n",
    "    \n",
    "\n",
    "__Комментарий от ревьюера №3__\n",
    "\n",
    "\n",
    "\n",
    "Данила, это тебе спасибо за обратную связь и классный проект ^^ Очень рад, что понравился стиль ревью"
   ]
  },
  {
   "cell_type": "markdown",
   "metadata": {
    "id": "VAFEZ2HBrJg3"
   },
   "source": [
    "\n",
    "## Шаг 4. Итоговый вывод и рекомендации\n",
    "\n",
    "<a id='chapter4'></a>\n",
    "\n"
   ]
  },
  {
   "cell_type": "markdown",
   "metadata": {},
   "source": [
    "В ходе проекта по исследованию стартапов мы подготавливали объединённый датасет и проверили, соответствуют ли данные в нём здравому смыслу.\n",
    "\n",
    "Была произведена загрузка данных и их исследование. Ознакомление показало, что данные содержали информацию о 217 тыс. компаний с указанием их статуса. Также данные содержат информацию о финансировании, раундах финансирования, записи о покупках компаний, а также информацию о сотрудниках и их образовании. Было выявлено высокое количество пропусков, которые могли бы повлиять на размер выборки и снизить репрезентативность.\n",
    "\n",
    "В результате предобработки были сделаны сдедующие выводы:\n",
    "\n",
    "**- Раунды финансирования по годам:**\n",
    "типичный размер собранных в рамках одного раунда средств был максимален в 2005 году и составлял 550000. В 2013 году количество раундов и размер средств увеличился в сравнении с 2012 годом и составлял 11072 и 120000 соответственно.\n",
    "\n",
    "**- Люди и их образование:**\n",
    "    - к стартапам (1-10 чел.) относятся 22692 компании, в которых без образования (данных об образовании) 37.6% сорудников;\n",
    "    - к малым компаниям (11-50 чел.) относятся 216 компаний, в которых без образования (данных об образовании) 27.7% сорудников; \n",
    "    - к средним компаниям (51-200 чел.) относятся 12 компаний, в которых без образования (данных об образовании) 17.8% сорудников;\n",
    "    - к большим компаниям (201+ чел.) относятся 2 компании, в которых без образования (данных об образовании) 19.4% сорудников.\n",
    "    \n",
    "**- Объединять или не объединять — вот в чём вопрос:**\n",
    "Датафреймы имеют низкую заполненость в столбце network_username. Также наиболее вероятно, что они содержат данные разной природы - в company_and_rounds относящиеся к компании, а в people - к сотруднику. Низкое количетство общих элементов пересечения подверждает это. Использовать столбец network_username для объединения данных не рекомендуется.\n",
    "\n",
    "**- Проблемный датасет и причина возникновения пропусков:**\n",
    "Мы успешно разбили исходный датасет `company_and_rounds` на 2 разных: `companies` и `rounds`. После этого стало удобно отбирать компании по параметрам и рассчитать показатели из расчёта на одну компанию.\n",
    "\n",
    "Во время исследовательского анализа данных мы отобрали компании по необходимым критериям и объединили нужные для анализа датафреймы. \n",
    "\n",
    "Анализ выбросов показал, что выборка имеет крайне высокие выбросы, сильно искажающие результаты. Для фильтрации типичной компании мы воспользовались межквартильным размахом IQR, после чего рассчитали, что выбивающимися значениями размера общего финансирования для одной компании являются значения **выше 14.1 млн**. Также стоит отметить, что 25% компаний имеют нулевое финансирование. После проведения фильтрации типичное среднее значение финансирования составляет **1.85** млн, а более корректное типичное медианное значение финансировния - **250 тыс.** Из 40890 компаний 5889 имеют размер финансирования выше 14.1 млн, что можно отнести к исключительным случаям.\n",
    "\n",
    "После проведения аналитического анализа компаний, проданных за 0 или 1 доллар при ненулевом объёме финансирования можно отметить, что среди **1618** компаний, которые были проданы за ноль или за один доллар при ненулевом объёме финансирования, нижней границей выбросов является значение **0**, соответвующее **0 персентилю**, а верхней границей является знаячение **35 750 000**, соответсвующее **90.9 персентилю**.\n",
    "\n",
    "Исследовательский анализ по категориям показал, что к стартапам с типично высокой медианной ценой относятся категории: `nanotech`, `manufacturing`, `real_estate`, `automative`, `biotech`. Наибольший разрбос цен за стартап имеют: `automotive`, `real_estate`, `manufacturing`, `sports`, `biotech`. Топ составили из пяти по той причине, что у такого количества позиций в топе высокая наглядность, их легко сравнить и запомнить, а также достаточность - топ-5 охватывает основные тренды. В качестве метрик были выбраны медиана (не искажается редкими дорогими сделками) и межквартильный размах IQR - разброс между 25 и 75 процентилями.\n",
    "\n",
    "Анализ количества раундов показал, что публичные компании `IPO` имеют в среднем больше раундов (2.5), тогда как закрытые компании `closed` всех меньше - 1.4. Проданные компании `acquired` имеют значение 1.9 , а дейсвующие `operating` 1.6. Чем успешнее итоговый статус компании (IPO > acquired > operating > closed), тем больше раундов финансирования она обычно проходит. Это коррелирует с необходимостью масштабирования бизнеса для достижения высоких результатов.\n",
    "\n",
    "В качестве рекомендации можно сделать вывод, что полученные результаты частично подкрепляют друг друга, но в некоторых местах противоречат логике и заставляют сомневаться в результатах. Так, 25% компаний с нулевым финансированием стоит изучить глубже или исключить из анализа, в топ-5 категорий с высокой ценой стоит изучить количество компаний в каждой категории, некоторые отрасли могут быть дорогими из-за единичных дорогих сделок.  \n",
    "\n",
    "Инвесторам стоит сфокусироваться на высокомедианных категориях, таких как `biotech`, `nanitech`, `real_estate` и стоит быть осторожными с категорями, имеющими высокий разброс цен, как `automotive` и `manufacturing`. Также стоит изучить пик инвестиций 2005 года, исследовать, какие факторы к этому привели. Также стоит избегать стартапов с нулевым финансированием. \n"
   ]
  },
  {
   "cell_type": "markdown",
   "metadata": {},
   "source": [
    "<div class=\"alert alert-block alert-success\">✔️\n",
    "    \n",
    "\n",
    "__Комментарий от ревьюера №2__\n",
    "\n",
    "Итоговый вывод завершает твое исследование. Представлены основные результаты полученные в ходе анализа, но самое главное - даны рекомендации заказчику. Это важное качество для специалиста. Развивай его и дальше\n",
    "</div>"
   ]
  },
  {
   "cell_type": "markdown",
   "metadata": {},
   "source": []
  },
  {
   "cell_type": "markdown",
   "metadata": {},
   "source": [
    "<div style=\"border:solid blue 3px; padding: 20px\">\n",
    "<div class=\"alert alert-block alert-success\">✔️\n",
    "    \n",
    "\n",
    "__Коментарий от ревьюера №3__\n",
    "\n",
    "\n",
    "В остальном всё чудно😊. Твой проект так и просится на github =)   \n",
    "    \n",
    "Поздравляю с успешным завершением проекта 😊👍\n",
    "И желаю успехов в новых работах 😊\n",
    "    \n",
    "---\n",
    "    \n",
    "От себя хочу порекомендовать тебе отличную книгу про язык Python. Она очень классная (можно купить как новую, так и на Авито попадается. Вот ссылка на pdf этой книги)\n",
    "    \n",
    "https://monster-book.com/avtomatizaciya-zadach-s-python\n",
    "</div>"
   ]
  }
 ],
 "metadata": {
  "ExecuteTimeLog": [
   {
    "duration": 1274,
    "start_time": "2025-04-21T08:45:55.579Z"
   },
   {
    "duration": 2116,
    "start_time": "2025-04-21T08:49:39.509Z"
   },
   {
    "duration": 26,
    "start_time": "2025-04-21T08:52:11.512Z"
   },
   {
    "duration": 108,
    "start_time": "2025-04-21T08:53:08.121Z"
   },
   {
    "duration": 30,
    "start_time": "2025-04-21T08:54:02.439Z"
   },
   {
    "duration": 67,
    "start_time": "2025-04-21T10:40:27.348Z"
   },
   {
    "duration": 1220,
    "start_time": "2025-04-21T10:40:34.033Z"
   },
   {
    "duration": 3688,
    "start_time": "2025-04-21T10:40:35.255Z"
   },
   {
    "duration": 25,
    "start_time": "2025-04-21T10:40:38.944Z"
   },
   {
    "duration": 94,
    "start_time": "2025-04-21T10:40:38.971Z"
   },
   {
    "duration": 88,
    "start_time": "2025-04-21T11:48:08.225Z"
   },
   {
    "duration": 5,
    "start_time": "2025-04-21T11:49:02.752Z"
   },
   {
    "duration": 6,
    "start_time": "2025-04-21T11:49:09.614Z"
   },
   {
    "duration": 62,
    "start_time": "2025-04-21T11:49:15.425Z"
   },
   {
    "duration": 5,
    "start_time": "2025-04-21T11:49:18.337Z"
   },
   {
    "duration": 5,
    "start_time": "2025-04-21T11:49:36.545Z"
   },
   {
    "duration": 8,
    "start_time": "2025-04-21T11:51:53.506Z"
   },
   {
    "duration": 12,
    "start_time": "2025-04-21T11:52:06.313Z"
   },
   {
    "duration": 1414,
    "start_time": "2025-04-21T11:53:14.856Z"
   },
   {
    "duration": 8,
    "start_time": "2025-04-21T11:53:28.122Z"
   },
   {
    "duration": 11,
    "start_time": "2025-04-21T11:53:53.582Z"
   },
   {
    "duration": 9,
    "start_time": "2025-04-21T11:54:15.782Z"
   },
   {
    "duration": 6,
    "start_time": "2025-04-21T11:59:39.943Z"
   },
   {
    "duration": 27,
    "start_time": "2025-04-21T11:59:46.875Z"
   },
   {
    "duration": 7,
    "start_time": "2025-04-21T12:00:25.984Z"
   },
   {
    "duration": 6,
    "start_time": "2025-04-21T12:02:23.624Z"
   },
   {
    "duration": 5,
    "start_time": "2025-04-21T12:02:27.002Z"
   },
   {
    "duration": 9,
    "start_time": "2025-04-21T12:05:27.711Z"
   },
   {
    "duration": 10,
    "start_time": "2025-04-21T12:05:36.715Z"
   },
   {
    "duration": 11,
    "start_time": "2025-04-21T12:05:43.905Z"
   },
   {
    "duration": 11,
    "start_time": "2025-04-21T12:05:55.154Z"
   },
   {
    "duration": 12,
    "start_time": "2025-04-21T12:06:01.117Z"
   },
   {
    "duration": 10,
    "start_time": "2025-04-21T12:06:35.705Z"
   },
   {
    "duration": 16,
    "start_time": "2025-04-21T12:06:41.634Z"
   },
   {
    "duration": 10,
    "start_time": "2025-04-21T12:09:26.635Z"
   },
   {
    "duration": 3,
    "start_time": "2025-04-21T12:09:42.154Z"
   },
   {
    "duration": 4933,
    "start_time": "2025-04-21T12:09:42.158Z"
   },
   {
    "duration": 28,
    "start_time": "2025-04-21T12:09:47.093Z"
   },
   {
    "duration": 104,
    "start_time": "2025-04-21T12:09:47.123Z"
   },
   {
    "duration": 10,
    "start_time": "2025-04-21T12:09:47.228Z"
   },
   {
    "duration": 1355,
    "start_time": "2025-04-21T12:10:02.235Z"
   },
   {
    "duration": 10,
    "start_time": "2025-04-21T12:10:55.383Z"
   },
   {
    "duration": 14,
    "start_time": "2025-04-21T12:11:23.872Z"
   },
   {
    "duration": 8,
    "start_time": "2025-04-21T12:12:10.798Z"
   },
   {
    "duration": 23,
    "start_time": "2025-04-21T12:15:58.514Z"
   },
   {
    "duration": 9,
    "start_time": "2025-04-21T12:16:09.123Z"
   },
   {
    "duration": 10,
    "start_time": "2025-04-21T12:16:37.535Z"
   },
   {
    "duration": 4,
    "start_time": "2025-04-21T12:27:04.992Z"
   },
   {
    "duration": 120,
    "start_time": "2025-04-21T12:39:04.224Z"
   },
   {
    "duration": 9,
    "start_time": "2025-04-21T12:39:47.266Z"
   },
   {
    "duration": 35,
    "start_time": "2025-04-21T12:40:09.383Z"
   },
   {
    "duration": 7,
    "start_time": "2025-04-21T12:56:20.264Z"
   },
   {
    "duration": 18,
    "start_time": "2025-04-21T12:56:32.686Z"
   },
   {
    "duration": 7,
    "start_time": "2025-04-21T12:59:51.513Z"
   },
   {
    "duration": 21,
    "start_time": "2025-04-21T13:00:03.584Z"
   },
   {
    "duration": 111,
    "start_time": "2025-04-21T13:59:26.786Z"
   },
   {
    "duration": 8,
    "start_time": "2025-04-21T14:00:29.144Z"
   },
   {
    "duration": 1267,
    "start_time": "2025-04-21T14:01:10.178Z"
   },
   {
    "duration": 19,
    "start_time": "2025-04-21T14:01:25.106Z"
   },
   {
    "duration": 150,
    "start_time": "2025-04-21T14:31:34.195Z"
   },
   {
    "duration": 169,
    "start_time": "2025-04-21T14:31:48.148Z"
   },
   {
    "duration": 13,
    "start_time": "2025-04-21T14:34:30.656Z"
   },
   {
    "duration": 66,
    "start_time": "2025-04-21T14:34:32.674Z"
   },
   {
    "duration": 22,
    "start_time": "2025-04-21T14:34:35.036Z"
   },
   {
    "duration": 37,
    "start_time": "2025-04-21T14:34:36.986Z"
   },
   {
    "duration": 1423,
    "start_time": "2025-04-22T06:29:19.546Z"
   },
   {
    "duration": 3058,
    "start_time": "2025-04-22T06:29:20.972Z"
   },
   {
    "duration": 29,
    "start_time": "2025-04-22T06:29:24.032Z"
   },
   {
    "duration": 171,
    "start_time": "2025-04-22T06:29:24.063Z"
   },
   {
    "duration": 8,
    "start_time": "2025-04-22T06:29:24.236Z"
   },
   {
    "duration": 30,
    "start_time": "2025-04-22T06:29:24.246Z"
   },
   {
    "duration": 16,
    "start_time": "2025-04-22T06:29:24.278Z"
   },
   {
    "duration": 57,
    "start_time": "2025-04-22T06:29:24.295Z"
   },
   {
    "duration": 64,
    "start_time": "2025-04-22T06:29:24.354Z"
   },
   {
    "duration": 30,
    "start_time": "2025-04-22T06:29:24.422Z"
   },
   {
    "duration": 27,
    "start_time": "2025-04-22T06:29:24.453Z"
   },
   {
    "duration": 41,
    "start_time": "2025-04-22T06:29:24.482Z"
   },
   {
    "duration": 319,
    "start_time": "2025-04-22T06:29:24.525Z"
   },
   {
    "duration": 10,
    "start_time": "2025-04-22T06:29:24.845Z"
   },
   {
    "duration": 30,
    "start_time": "2025-04-22T06:29:24.856Z"
   },
   {
    "duration": 108,
    "start_time": "2025-04-22T06:29:24.887Z"
   },
   {
    "duration": 0,
    "start_time": "2025-04-22T06:29:24.997Z"
   },
   {
    "duration": 0,
    "start_time": "2025-04-22T06:29:24.999Z"
   },
   {
    "duration": 0,
    "start_time": "2025-04-22T06:29:25.004Z"
   },
   {
    "duration": 205,
    "start_time": "2025-04-22T06:31:39.614Z"
   },
   {
    "duration": 16,
    "start_time": "2025-04-22T06:31:43.092Z"
   },
   {
    "duration": 76,
    "start_time": "2025-04-22T06:31:45.381Z"
   },
   {
    "duration": 23,
    "start_time": "2025-04-22T06:31:47.935Z"
   },
   {
    "duration": 49,
    "start_time": "2025-04-22T06:31:50.171Z"
   },
   {
    "duration": 1859,
    "start_time": "2025-04-22T07:17:33.707Z"
   },
   {
    "duration": 15,
    "start_time": "2025-04-22T07:17:59.550Z"
   },
   {
    "duration": 18,
    "start_time": "2025-04-22T07:26:12.961Z"
   },
   {
    "duration": 19,
    "start_time": "2025-04-22T07:26:25.969Z"
   },
   {
    "duration": 18,
    "start_time": "2025-04-22T07:26:40.234Z"
   },
   {
    "duration": 58,
    "start_time": "2025-04-22T07:27:13.146Z"
   },
   {
    "duration": 21,
    "start_time": "2025-04-22T07:27:15.203Z"
   },
   {
    "duration": 35,
    "start_time": "2025-04-22T07:27:17.101Z"
   },
   {
    "duration": 44,
    "start_time": "2025-04-22T07:27:25.638Z"
   },
   {
    "duration": 48,
    "start_time": "2025-04-22T07:27:38.623Z"
   },
   {
    "duration": 46,
    "start_time": "2025-04-22T07:27:46.702Z"
   },
   {
    "duration": 197,
    "start_time": "2025-04-22T07:31:17.095Z"
   },
   {
    "duration": 17,
    "start_time": "2025-04-22T07:58:29.535Z"
   },
   {
    "duration": 102,
    "start_time": "2025-04-22T07:58:44.834Z"
   },
   {
    "duration": 164,
    "start_time": "2025-04-22T07:58:57.283Z"
   },
   {
    "duration": 132,
    "start_time": "2025-04-22T08:01:41.823Z"
   },
   {
    "duration": 110,
    "start_time": "2025-04-22T08:01:52.383Z"
   },
   {
    "duration": 121,
    "start_time": "2025-04-22T08:04:49.835Z"
   },
   {
    "duration": 19,
    "start_time": "2025-04-22T08:10:53.995Z"
   },
   {
    "duration": 18,
    "start_time": "2025-04-22T08:11:07.821Z"
   },
   {
    "duration": 19,
    "start_time": "2025-04-22T08:11:39.565Z"
   },
   {
    "duration": 16,
    "start_time": "2025-04-22T08:13:21.386Z"
   },
   {
    "duration": 17,
    "start_time": "2025-04-22T08:13:27.331Z"
   },
   {
    "duration": 23,
    "start_time": "2025-04-22T08:18:02.551Z"
   },
   {
    "duration": 21,
    "start_time": "2025-04-22T08:18:21.515Z"
   },
   {
    "duration": 3,
    "start_time": "2025-04-22T08:18:59.877Z"
   },
   {
    "duration": 2127,
    "start_time": "2025-04-22T08:18:59.882Z"
   },
   {
    "duration": 28,
    "start_time": "2025-04-22T08:19:02.011Z"
   },
   {
    "duration": 135,
    "start_time": "2025-04-22T08:19:02.042Z"
   },
   {
    "duration": 8,
    "start_time": "2025-04-22T08:19:02.179Z"
   },
   {
    "duration": 25,
    "start_time": "2025-04-22T08:19:02.189Z"
   },
   {
    "duration": 24,
    "start_time": "2025-04-22T08:19:02.215Z"
   },
   {
    "duration": 58,
    "start_time": "2025-04-22T08:19:02.241Z"
   },
   {
    "duration": 16,
    "start_time": "2025-04-22T08:19:02.308Z"
   },
   {
    "duration": 98,
    "start_time": "2025-04-22T08:19:02.326Z"
   },
   {
    "duration": 65,
    "start_time": "2025-04-22T08:19:02.426Z"
   },
   {
    "duration": 76,
    "start_time": "2025-04-22T08:19:02.494Z"
   },
   {
    "duration": 249,
    "start_time": "2025-04-22T08:19:02.571Z"
   },
   {
    "duration": 10,
    "start_time": "2025-04-22T08:19:02.826Z"
   },
   {
    "duration": 64,
    "start_time": "2025-04-22T08:19:02.837Z"
   },
   {
    "duration": 181,
    "start_time": "2025-04-22T08:19:02.903Z"
   },
   {
    "duration": 20,
    "start_time": "2025-04-22T08:19:03.086Z"
   },
   {
    "duration": 107,
    "start_time": "2025-04-22T08:19:03.108Z"
   },
   {
    "duration": 40,
    "start_time": "2025-04-22T08:19:03.217Z"
   },
   {
    "duration": 76,
    "start_time": "2025-04-22T08:19:03.259Z"
   },
   {
    "duration": 71,
    "start_time": "2025-04-22T08:19:03.336Z"
   },
   {
    "duration": 216,
    "start_time": "2025-04-22T08:19:03.408Z"
   },
   {
    "duration": 118,
    "start_time": "2025-04-22T08:19:03.626Z"
   },
   {
    "duration": 24,
    "start_time": "2025-04-22T08:19:03.748Z"
   },
   {
    "duration": 99,
    "start_time": "2025-04-22T08:19:32.377Z"
   },
   {
    "duration": 36,
    "start_time": "2025-04-22T08:19:46.743Z"
   },
   {
    "duration": 43,
    "start_time": "2025-04-22T08:20:03.825Z"
   },
   {
    "duration": 56,
    "start_time": "2025-04-22T08:20:45.076Z"
   },
   {
    "duration": 30,
    "start_time": "2025-04-22T08:21:31.363Z"
   },
   {
    "duration": 247,
    "start_time": "2025-04-22T08:26:58.316Z"
   },
   {
    "duration": 255,
    "start_time": "2025-04-22T08:31:45.505Z"
   },
   {
    "duration": 228,
    "start_time": "2025-04-22T08:34:02.856Z"
   },
   {
    "duration": 233,
    "start_time": "2025-04-22T08:34:24.336Z"
   },
   {
    "duration": 312,
    "start_time": "2025-04-22T08:34:35.497Z"
   },
   {
    "duration": 239,
    "start_time": "2025-04-22T08:35:41.610Z"
   },
   {
    "duration": 242,
    "start_time": "2025-04-22T08:37:00.191Z"
   },
   {
    "duration": 232,
    "start_time": "2025-04-22T08:37:43.384Z"
   },
   {
    "duration": 273,
    "start_time": "2025-04-22T08:37:48.175Z"
   },
   {
    "duration": 9,
    "start_time": "2025-04-22T10:36:16.387Z"
   },
   {
    "duration": 3,
    "start_time": "2025-04-22T10:36:29.526Z"
   },
   {
    "duration": 73,
    "start_time": "2025-04-22T10:39:36.304Z"
   },
   {
    "duration": 95,
    "start_time": "2025-04-22T10:39:42.645Z"
   },
   {
    "duration": 60,
    "start_time": "2025-04-22T10:40:25.704Z"
   },
   {
    "duration": 70,
    "start_time": "2025-04-22T10:40:59.163Z"
   },
   {
    "duration": 59,
    "start_time": "2025-04-22T10:41:14.552Z"
   },
   {
    "duration": 3,
    "start_time": "2025-04-22T10:41:29.156Z"
   },
   {
    "duration": 3,
    "start_time": "2025-04-22T10:41:47.872Z"
   },
   {
    "duration": 3,
    "start_time": "2025-04-22T10:41:56.303Z"
   },
   {
    "duration": 3,
    "start_time": "2025-04-22T10:41:58.473Z"
   },
   {
    "duration": 4,
    "start_time": "2025-04-22T10:42:53.913Z"
   },
   {
    "duration": 4,
    "start_time": "2025-04-22T10:43:00.960Z"
   },
   {
    "duration": 5,
    "start_time": "2025-04-22T10:44:13.663Z"
   },
   {
    "duration": 11,
    "start_time": "2025-04-22T10:46:49.114Z"
   },
   {
    "duration": 1243,
    "start_time": "2025-04-22T10:47:14.649Z"
   },
   {
    "duration": 24,
    "start_time": "2025-04-22T10:47:28.166Z"
   },
   {
    "duration": 25,
    "start_time": "2025-04-22T10:47:43.065Z"
   },
   {
    "duration": 88,
    "start_time": "2025-04-22T10:47:52.036Z"
   },
   {
    "duration": 79,
    "start_time": "2025-04-22T10:49:14.814Z"
   },
   {
    "duration": 75,
    "start_time": "2025-04-22T10:49:47.797Z"
   },
   {
    "duration": 83,
    "start_time": "2025-04-22T10:49:56.850Z"
   },
   {
    "duration": 82,
    "start_time": "2025-04-22T10:51:01.934Z"
   },
   {
    "duration": 3,
    "start_time": "2025-04-22T10:55:16.764Z"
   },
   {
    "duration": 2273,
    "start_time": "2025-04-22T10:55:16.770Z"
   },
   {
    "duration": 27,
    "start_time": "2025-04-22T10:55:19.046Z"
   },
   {
    "duration": 149,
    "start_time": "2025-04-22T10:55:19.075Z"
   },
   {
    "duration": 9,
    "start_time": "2025-04-22T10:55:19.227Z"
   },
   {
    "duration": 124,
    "start_time": "2025-04-22T10:55:19.238Z"
   },
   {
    "duration": 36,
    "start_time": "2025-04-22T10:55:19.364Z"
   },
   {
    "duration": 65,
    "start_time": "2025-04-22T10:55:19.402Z"
   },
   {
    "duration": 10,
    "start_time": "2025-04-22T10:55:19.469Z"
   },
   {
    "duration": 41,
    "start_time": "2025-04-22T10:55:19.481Z"
   },
   {
    "duration": 10,
    "start_time": "2025-04-22T10:55:19.526Z"
   },
   {
    "duration": 42,
    "start_time": "2025-04-22T10:55:19.538Z"
   },
   {
    "duration": 326,
    "start_time": "2025-04-22T10:55:19.582Z"
   },
   {
    "duration": 19,
    "start_time": "2025-04-22T10:55:19.910Z"
   },
   {
    "duration": 50,
    "start_time": "2025-04-22T10:55:19.931Z"
   },
   {
    "duration": 175,
    "start_time": "2025-04-22T10:55:19.983Z"
   },
   {
    "duration": 17,
    "start_time": "2025-04-22T10:55:20.160Z"
   },
   {
    "duration": 104,
    "start_time": "2025-04-22T10:55:20.179Z"
   },
   {
    "duration": 39,
    "start_time": "2025-04-22T10:55:20.285Z"
   },
   {
    "duration": 49,
    "start_time": "2025-04-22T10:55:20.327Z"
   },
   {
    "duration": 82,
    "start_time": "2025-04-22T10:55:20.379Z"
   },
   {
    "duration": 195,
    "start_time": "2025-04-22T10:55:20.464Z"
   },
   {
    "duration": 244,
    "start_time": "2025-04-22T10:55:20.661Z"
   },
   {
    "duration": 6,
    "start_time": "2025-04-22T10:55:20.907Z"
   },
   {
    "duration": 290,
    "start_time": "2025-04-22T10:55:20.915Z"
   },
   {
    "duration": 8,
    "start_time": "2025-04-22T10:56:22.403Z"
   },
   {
    "duration": 10,
    "start_time": "2025-04-22T10:56:57.351Z"
   },
   {
    "duration": 30,
    "start_time": "2025-04-22T10:57:01.062Z"
   },
   {
    "duration": 35,
    "start_time": "2025-04-22T10:57:05.394Z"
   },
   {
    "duration": 13,
    "start_time": "2025-04-22T11:03:54.584Z"
   },
   {
    "duration": 83,
    "start_time": "2025-04-22T11:04:37.461Z"
   },
   {
    "duration": 143,
    "start_time": "2025-04-22T11:04:48.665Z"
   },
   {
    "duration": 92,
    "start_time": "2025-04-22T11:05:59.035Z"
   },
   {
    "duration": 66,
    "start_time": "2025-04-22T11:06:56.591Z"
   },
   {
    "duration": 78,
    "start_time": "2025-04-22T11:07:17.776Z"
   },
   {
    "duration": 77,
    "start_time": "2025-04-22T11:08:21.282Z"
   },
   {
    "duration": 49,
    "start_time": "2025-04-22T11:19:37.363Z"
   },
   {
    "duration": 48,
    "start_time": "2025-04-22T11:19:56.282Z"
   },
   {
    "duration": 48,
    "start_time": "2025-04-22T11:20:07.316Z"
   },
   {
    "duration": 51,
    "start_time": "2025-04-22T11:20:14.616Z"
   },
   {
    "duration": 50,
    "start_time": "2025-04-22T11:20:23.970Z"
   },
   {
    "duration": 44,
    "start_time": "2025-04-22T11:20:30.192Z"
   },
   {
    "duration": 1275,
    "start_time": "2025-04-22T11:44:26.807Z"
   },
   {
    "duration": 2349,
    "start_time": "2025-04-22T11:44:28.085Z"
   },
   {
    "duration": 42,
    "start_time": "2025-04-22T11:44:30.436Z"
   },
   {
    "duration": 102,
    "start_time": "2025-04-22T11:44:30.483Z"
   },
   {
    "duration": 7,
    "start_time": "2025-04-22T11:44:30.588Z"
   },
   {
    "duration": 14,
    "start_time": "2025-04-22T11:44:30.597Z"
   },
   {
    "duration": 8,
    "start_time": "2025-04-22T11:44:30.613Z"
   },
   {
    "duration": 54,
    "start_time": "2025-04-22T11:44:30.623Z"
   },
   {
    "duration": 8,
    "start_time": "2025-04-22T11:44:30.679Z"
   },
   {
    "duration": 18,
    "start_time": "2025-04-22T11:44:30.689Z"
   },
   {
    "duration": 8,
    "start_time": "2025-04-22T11:44:30.708Z"
   },
   {
    "duration": 23,
    "start_time": "2025-04-22T11:44:30.717Z"
   },
   {
    "duration": 179,
    "start_time": "2025-04-22T11:44:30.742Z"
   },
   {
    "duration": 10,
    "start_time": "2025-04-22T11:44:30.923Z"
   },
   {
    "duration": 37,
    "start_time": "2025-04-22T11:44:30.934Z"
   },
   {
    "duration": 185,
    "start_time": "2025-04-22T11:44:30.978Z"
   },
   {
    "duration": 24,
    "start_time": "2025-04-22T11:44:31.165Z"
   },
   {
    "duration": 68,
    "start_time": "2025-04-22T11:44:31.191Z"
   },
   {
    "duration": 32,
    "start_time": "2025-04-22T11:44:31.273Z"
   },
   {
    "duration": 41,
    "start_time": "2025-04-22T11:44:31.306Z"
   },
   {
    "duration": 71,
    "start_time": "2025-04-22T11:44:31.349Z"
   },
   {
    "duration": 189,
    "start_time": "2025-04-22T11:44:31.422Z"
   },
   {
    "duration": 224,
    "start_time": "2025-04-22T11:44:31.613Z"
   },
   {
    "duration": 5,
    "start_time": "2025-04-22T11:44:31.839Z"
   },
   {
    "duration": 93,
    "start_time": "2025-04-22T11:44:31.846Z"
   },
   {
    "duration": 93,
    "start_time": "2025-04-22T11:44:31.941Z"
   },
   {
    "duration": 77,
    "start_time": "2025-04-22T11:44:32.036Z"
   },
   {
    "duration": 46,
    "start_time": "2025-04-22T14:49:23.616Z"
   },
   {
    "duration": 1277,
    "start_time": "2025-04-22T14:49:32.080Z"
   },
   {
    "duration": 1944,
    "start_time": "2025-04-22T14:49:33.359Z"
   },
   {
    "duration": 25,
    "start_time": "2025-04-22T14:49:35.305Z"
   },
   {
    "duration": 96,
    "start_time": "2025-04-22T14:49:35.332Z"
   },
   {
    "duration": 11,
    "start_time": "2025-04-22T14:49:35.430Z"
   },
   {
    "duration": 49,
    "start_time": "2025-04-22T14:49:35.443Z"
   },
   {
    "duration": 42,
    "start_time": "2025-04-22T14:49:35.494Z"
   },
   {
    "duration": 65,
    "start_time": "2025-04-22T14:49:35.538Z"
   },
   {
    "duration": 13,
    "start_time": "2025-04-22T14:49:35.604Z"
   },
   {
    "duration": 36,
    "start_time": "2025-04-22T14:49:35.619Z"
   },
   {
    "duration": 47,
    "start_time": "2025-04-22T14:49:35.657Z"
   },
   {
    "duration": 64,
    "start_time": "2025-04-22T14:49:35.705Z"
   },
   {
    "duration": 169,
    "start_time": "2025-04-22T14:49:35.771Z"
   },
   {
    "duration": 8,
    "start_time": "2025-04-22T14:49:35.942Z"
   },
   {
    "duration": 55,
    "start_time": "2025-04-22T14:49:35.952Z"
   },
   {
    "duration": 200,
    "start_time": "2025-04-22T14:49:36.009Z"
   },
   {
    "duration": 13,
    "start_time": "2025-04-22T14:49:36.210Z"
   },
   {
    "duration": 86,
    "start_time": "2025-04-22T14:49:36.224Z"
   },
   {
    "duration": 21,
    "start_time": "2025-04-22T14:49:36.311Z"
   },
   {
    "duration": 43,
    "start_time": "2025-04-22T14:49:36.338Z"
   },
   {
    "duration": 73,
    "start_time": "2025-04-22T14:49:36.383Z"
   },
   {
    "duration": 169,
    "start_time": "2025-04-22T14:49:36.457Z"
   },
   {
    "duration": 206,
    "start_time": "2025-04-22T14:49:36.627Z"
   },
   {
    "duration": 5,
    "start_time": "2025-04-22T14:49:36.838Z"
   },
   {
    "duration": 95,
    "start_time": "2025-04-22T14:49:36.844Z"
   },
   {
    "duration": 98,
    "start_time": "2025-04-22T14:49:36.941Z"
   },
   {
    "duration": 66,
    "start_time": "2025-04-22T14:49:37.041Z"
   },
   {
    "duration": 165,
    "start_time": "2025-04-22T14:53:09.305Z"
   },
   {
    "duration": 45,
    "start_time": "2025-04-22T15:00:12.421Z"
   },
   {
    "duration": 2,
    "start_time": "2025-04-22T15:00:32.122Z"
   },
   {
    "duration": 2108,
    "start_time": "2025-04-22T15:00:32.126Z"
   },
   {
    "duration": 23,
    "start_time": "2025-04-22T15:00:34.236Z"
   },
   {
    "duration": 99,
    "start_time": "2025-04-22T15:00:34.261Z"
   },
   {
    "duration": 8,
    "start_time": "2025-04-22T15:00:34.361Z"
   },
   {
    "duration": 23,
    "start_time": "2025-04-22T15:00:34.370Z"
   },
   {
    "duration": 24,
    "start_time": "2025-04-22T15:00:34.394Z"
   },
   {
    "duration": 48,
    "start_time": "2025-04-22T15:00:34.419Z"
   },
   {
    "duration": 7,
    "start_time": "2025-04-22T15:00:34.469Z"
   },
   {
    "duration": 25,
    "start_time": "2025-04-22T15:00:34.478Z"
   },
   {
    "duration": 28,
    "start_time": "2025-04-22T15:00:34.504Z"
   },
   {
    "duration": 22,
    "start_time": "2025-04-22T15:00:34.534Z"
   },
   {
    "duration": 115,
    "start_time": "2025-04-22T15:00:34.557Z"
   },
   {
    "duration": 8,
    "start_time": "2025-04-22T15:00:34.673Z"
   },
   {
    "duration": 50,
    "start_time": "2025-04-22T15:00:34.682Z"
   },
   {
    "duration": 141,
    "start_time": "2025-04-22T15:00:34.734Z"
   },
   {
    "duration": 12,
    "start_time": "2025-04-22T15:00:34.876Z"
   },
   {
    "duration": 84,
    "start_time": "2025-04-22T15:00:34.890Z"
   },
   {
    "duration": 21,
    "start_time": "2025-04-22T15:00:34.975Z"
   },
   {
    "duration": 50,
    "start_time": "2025-04-22T15:00:34.998Z"
   },
   {
    "duration": 55,
    "start_time": "2025-04-22T15:00:35.049Z"
   },
   {
    "duration": 186,
    "start_time": "2025-04-22T15:00:35.105Z"
   },
   {
    "duration": 194,
    "start_time": "2025-04-22T15:00:35.293Z"
   },
   {
    "duration": 4,
    "start_time": "2025-04-22T15:00:35.488Z"
   },
   {
    "duration": 109,
    "start_time": "2025-04-22T15:00:35.494Z"
   },
   {
    "duration": 88,
    "start_time": "2025-04-22T15:00:35.604Z"
   },
   {
    "duration": 73,
    "start_time": "2025-04-22T15:00:35.693Z"
   },
   {
    "duration": 32,
    "start_time": "2025-04-22T15:05:37.879Z"
   },
   {
    "duration": 3,
    "start_time": "2025-04-22T15:05:46.639Z"
   },
   {
    "duration": 2857,
    "start_time": "2025-04-22T15:05:46.643Z"
   },
   {
    "duration": 22,
    "start_time": "2025-04-22T15:05:49.502Z"
   },
   {
    "duration": 99,
    "start_time": "2025-04-22T15:05:49.526Z"
   },
   {
    "duration": 13,
    "start_time": "2025-04-22T15:05:49.627Z"
   },
   {
    "duration": 12,
    "start_time": "2025-04-22T15:05:49.642Z"
   },
   {
    "duration": 8,
    "start_time": "2025-04-22T15:05:49.656Z"
   },
   {
    "duration": 36,
    "start_time": "2025-04-22T15:05:49.666Z"
   },
   {
    "duration": 6,
    "start_time": "2025-04-22T15:05:49.704Z"
   },
   {
    "duration": 18,
    "start_time": "2025-04-22T15:05:49.739Z"
   },
   {
    "duration": 12,
    "start_time": "2025-04-22T15:05:49.759Z"
   },
   {
    "duration": 29,
    "start_time": "2025-04-22T15:05:49.773Z"
   },
   {
    "duration": 124,
    "start_time": "2025-04-22T15:05:49.804Z"
   },
   {
    "duration": 13,
    "start_time": "2025-04-22T15:05:49.930Z"
   },
   {
    "duration": 19,
    "start_time": "2025-04-22T15:05:49.944Z"
   },
   {
    "duration": 150,
    "start_time": "2025-04-22T15:05:49.964Z"
   },
   {
    "duration": 25,
    "start_time": "2025-04-22T15:05:50.115Z"
   },
   {
    "duration": 67,
    "start_time": "2025-04-22T15:05:50.142Z"
   },
   {
    "duration": 36,
    "start_time": "2025-04-22T15:05:50.210Z"
   },
   {
    "duration": 38,
    "start_time": "2025-04-22T15:05:50.248Z"
   },
   {
    "duration": 55,
    "start_time": "2025-04-22T15:05:50.287Z"
   },
   {
    "duration": 178,
    "start_time": "2025-04-22T15:05:50.344Z"
   },
   {
    "duration": 197,
    "start_time": "2025-04-22T15:05:50.524Z"
   },
   {
    "duration": 4,
    "start_time": "2025-04-22T15:05:50.722Z"
   },
   {
    "duration": 98,
    "start_time": "2025-04-22T15:05:50.739Z"
   },
   {
    "duration": 86,
    "start_time": "2025-04-22T15:05:50.839Z"
   },
   {
    "duration": 85,
    "start_time": "2025-04-22T15:05:50.928Z"
   },
   {
    "duration": 43,
    "start_time": "2025-04-22T15:06:12.645Z"
   },
   {
    "duration": 3,
    "start_time": "2025-04-22T15:15:25.228Z"
   },
   {
    "duration": 1571,
    "start_time": "2025-04-22T15:15:25.232Z"
   },
   {
    "duration": 22,
    "start_time": "2025-04-22T15:15:26.805Z"
   },
   {
    "duration": 95,
    "start_time": "2025-04-22T15:15:26.829Z"
   },
   {
    "duration": 13,
    "start_time": "2025-04-22T15:15:26.927Z"
   },
   {
    "duration": 10,
    "start_time": "2025-04-22T15:15:26.942Z"
   },
   {
    "duration": 7,
    "start_time": "2025-04-22T15:15:26.954Z"
   },
   {
    "duration": 48,
    "start_time": "2025-04-22T15:15:26.962Z"
   },
   {
    "duration": 7,
    "start_time": "2025-04-22T15:15:27.011Z"
   },
   {
    "duration": 20,
    "start_time": "2025-04-22T15:15:27.039Z"
   },
   {
    "duration": 8,
    "start_time": "2025-04-22T15:15:27.061Z"
   },
   {
    "duration": 28,
    "start_time": "2025-04-22T15:15:27.070Z"
   },
   {
    "duration": 140,
    "start_time": "2025-04-22T15:15:27.101Z"
   },
   {
    "duration": 8,
    "start_time": "2025-04-22T15:15:27.242Z"
   },
   {
    "duration": 28,
    "start_time": "2025-04-22T15:15:27.251Z"
   },
   {
    "duration": 149,
    "start_time": "2025-04-22T15:15:27.281Z"
   },
   {
    "duration": 18,
    "start_time": "2025-04-22T15:15:27.432Z"
   },
   {
    "duration": 64,
    "start_time": "2025-04-22T15:15:27.451Z"
   },
   {
    "duration": 50,
    "start_time": "2025-04-22T15:15:27.517Z"
   },
   {
    "duration": 47,
    "start_time": "2025-04-22T15:15:27.569Z"
   },
   {
    "duration": 69,
    "start_time": "2025-04-22T15:15:27.617Z"
   },
   {
    "duration": 180,
    "start_time": "2025-04-22T15:15:27.688Z"
   },
   {
    "duration": 187,
    "start_time": "2025-04-22T15:15:27.870Z"
   },
   {
    "duration": 5,
    "start_time": "2025-04-22T15:15:28.059Z"
   },
   {
    "duration": 89,
    "start_time": "2025-04-22T15:15:28.065Z"
   },
   {
    "duration": 84,
    "start_time": "2025-04-22T15:15:28.155Z"
   },
   {
    "duration": 63,
    "start_time": "2025-04-22T15:15:28.241Z"
   },
   {
    "duration": 21,
    "start_time": "2025-04-22T15:33:53.213Z"
   },
   {
    "duration": 42,
    "start_time": "2025-04-22T15:34:05.459Z"
   },
   {
    "duration": 23,
    "start_time": "2025-04-22T15:34:23.313Z"
   },
   {
    "duration": 29,
    "start_time": "2025-04-22T15:40:40.332Z"
   },
   {
    "duration": 17,
    "start_time": "2025-04-22T15:40:48.005Z"
   },
   {
    "duration": 8,
    "start_time": "2025-04-22T15:42:24.205Z"
   },
   {
    "duration": 16,
    "start_time": "2025-04-22T15:43:26.629Z"
   },
   {
    "duration": 14,
    "start_time": "2025-04-22T15:43:43.597Z"
   },
   {
    "duration": 9,
    "start_time": "2025-04-22T15:43:58.842Z"
   },
   {
    "duration": 9,
    "start_time": "2025-04-22T15:44:10.166Z"
   },
   {
    "duration": 8,
    "start_time": "2025-04-22T15:44:21.669Z"
   },
   {
    "duration": 8,
    "start_time": "2025-04-22T15:44:33.653Z"
   },
   {
    "duration": 21,
    "start_time": "2025-04-22T15:45:38.613Z"
   },
   {
    "duration": 85,
    "start_time": "2025-04-22T16:08:50.526Z"
   },
   {
    "duration": 51,
    "start_time": "2025-04-22T16:08:57.742Z"
   },
   {
    "duration": 77,
    "start_time": "2025-04-22T16:09:04.157Z"
   },
   {
    "duration": 71,
    "start_time": "2025-04-22T16:09:14.678Z"
   },
   {
    "duration": 29,
    "start_time": "2025-04-22T16:24:51.500Z"
   },
   {
    "duration": 50,
    "start_time": "2025-04-22T16:26:46.700Z"
   },
   {
    "duration": 9,
    "start_time": "2025-04-22T16:27:09.237Z"
   },
   {
    "duration": 593,
    "start_time": "2025-04-22T17:33:11.016Z"
   },
   {
    "duration": 546,
    "start_time": "2025-04-22T17:33:23.283Z"
   },
   {
    "duration": 16,
    "start_time": "2025-04-22T17:34:52.971Z"
   },
   {
    "duration": 108,
    "start_time": "2025-04-22T17:35:00.986Z"
   },
   {
    "duration": 54,
    "start_time": "2025-04-22T17:45:38.791Z"
   },
   {
    "duration": 101,
    "start_time": "2025-04-22T17:48:43.952Z"
   },
   {
    "duration": 78,
    "start_time": "2025-04-22T17:48:58.666Z"
   },
   {
    "duration": 91,
    "start_time": "2025-04-22T17:49:17.978Z"
   },
   {
    "duration": 4,
    "start_time": "2025-04-22T17:49:35.375Z"
   },
   {
    "duration": 6,
    "start_time": "2025-04-22T17:49:45.833Z"
   },
   {
    "duration": 6,
    "start_time": "2025-04-22T17:50:11.751Z"
   },
   {
    "duration": 6,
    "start_time": "2025-04-22T17:50:43.253Z"
   },
   {
    "duration": 60,
    "start_time": "2025-04-22T17:51:21.760Z"
   },
   {
    "duration": 55,
    "start_time": "2025-04-22T17:51:26.562Z"
   },
   {
    "duration": 6,
    "start_time": "2025-04-22T17:51:37.376Z"
   },
   {
    "duration": 5,
    "start_time": "2025-04-22T17:52:13.827Z"
   },
   {
    "duration": 7,
    "start_time": "2025-04-22T18:01:24.141Z"
   },
   {
    "duration": 11,
    "start_time": "2025-04-22T18:04:52.192Z"
   },
   {
    "duration": 35,
    "start_time": "2025-04-22T18:05:03.254Z"
   },
   {
    "duration": 521,
    "start_time": "2025-04-22T18:06:13.984Z"
   },
   {
    "duration": 491,
    "start_time": "2025-04-22T18:06:34.170Z"
   },
   {
    "duration": 433,
    "start_time": "2025-04-22T18:06:38.606Z"
   },
   {
    "duration": 416,
    "start_time": "2025-04-22T18:06:54.658Z"
   },
   {
    "duration": 443,
    "start_time": "2025-04-22T18:08:11.343Z"
   },
   {
    "duration": 748,
    "start_time": "2025-04-22T18:08:16.838Z"
   },
   {
    "duration": 616,
    "start_time": "2025-04-22T18:09:17.552Z"
   },
   {
    "duration": 549,
    "start_time": "2025-04-22T18:09:32.232Z"
   },
   {
    "duration": 10,
    "start_time": "2025-04-22T18:09:38.855Z"
   },
   {
    "duration": 113,
    "start_time": "2025-04-22T18:10:28.832Z"
   },
   {
    "duration": 505,
    "start_time": "2025-04-22T18:13:11.177Z"
   },
   {
    "duration": 107,
    "start_time": "2025-04-22T18:27:12.768Z"
   },
   {
    "duration": 10,
    "start_time": "2025-04-22T18:28:30.101Z"
   },
   {
    "duration": 116,
    "start_time": "2025-04-22T18:28:40.775Z"
   },
   {
    "duration": 645,
    "start_time": "2025-04-22T18:28:47.824Z"
   },
   {
    "duration": 564,
    "start_time": "2025-04-22T18:29:07.161Z"
   },
   {
    "duration": 603,
    "start_time": "2025-04-22T18:29:20.722Z"
   },
   {
    "duration": 597,
    "start_time": "2025-04-22T18:29:26.529Z"
   },
   {
    "duration": 4,
    "start_time": "2025-04-22T18:37:11.762Z"
   },
   {
    "duration": 4,
    "start_time": "2025-04-22T18:37:19.395Z"
   },
   {
    "duration": 3,
    "start_time": "2025-04-22T18:37:27.573Z"
   },
   {
    "duration": 4,
    "start_time": "2025-04-22T18:38:27.533Z"
   },
   {
    "duration": 7,
    "start_time": "2025-04-22T18:45:19.494Z"
   },
   {
    "duration": 303,
    "start_time": "2025-04-22T18:50:54.866Z"
   },
   {
    "duration": 327,
    "start_time": "2025-04-22T18:51:07.603Z"
   },
   {
    "duration": 7,
    "start_time": "2025-04-22T18:53:15.562Z"
   },
   {
    "duration": 6,
    "start_time": "2025-04-22T19:12:18.249Z"
   },
   {
    "duration": 57,
    "start_time": "2025-04-22T19:13:17.089Z"
   },
   {
    "duration": 57,
    "start_time": "2025-04-22T19:13:32.723Z"
   },
   {
    "duration": 10,
    "start_time": "2025-04-22T19:13:38.162Z"
   },
   {
    "duration": 10,
    "start_time": "2025-04-22T19:16:23.810Z"
   },
   {
    "duration": 120,
    "start_time": "2025-04-22T19:16:51.298Z"
   },
   {
    "duration": 11,
    "start_time": "2025-04-22T19:17:22.418Z"
   },
   {
    "duration": 10,
    "start_time": "2025-04-22T19:17:32.106Z"
   },
   {
    "duration": 11,
    "start_time": "2025-04-22T19:17:48.052Z"
   },
   {
    "duration": 10,
    "start_time": "2025-04-22T19:19:30.748Z"
   },
   {
    "duration": 9,
    "start_time": "2025-04-22T19:19:50.828Z"
   },
   {
    "duration": 12,
    "start_time": "2025-04-22T19:20:18.435Z"
   },
   {
    "duration": 9,
    "start_time": "2025-04-22T19:20:55.942Z"
   },
   {
    "duration": 201,
    "start_time": "2025-04-22T19:26:27.966Z"
   },
   {
    "duration": 312,
    "start_time": "2025-04-22T19:26:41.349Z"
   },
   {
    "duration": 3,
    "start_time": "2025-04-22T19:27:37.334Z"
   },
   {
    "duration": 1898,
    "start_time": "2025-04-22T19:27:37.339Z"
   },
   {
    "duration": 25,
    "start_time": "2025-04-22T19:27:39.238Z"
   },
   {
    "duration": 111,
    "start_time": "2025-04-22T19:27:39.265Z"
   },
   {
    "duration": 9,
    "start_time": "2025-04-22T19:27:39.378Z"
   },
   {
    "duration": 16,
    "start_time": "2025-04-22T19:27:39.388Z"
   },
   {
    "duration": 9,
    "start_time": "2025-04-22T19:27:39.406Z"
   },
   {
    "duration": 60,
    "start_time": "2025-04-22T19:27:39.417Z"
   },
   {
    "duration": 9,
    "start_time": "2025-04-22T19:27:39.478Z"
   },
   {
    "duration": 23,
    "start_time": "2025-04-22T19:27:39.488Z"
   },
   {
    "duration": 9,
    "start_time": "2025-04-22T19:27:39.539Z"
   },
   {
    "duration": 37,
    "start_time": "2025-04-22T19:27:39.550Z"
   },
   {
    "duration": 142,
    "start_time": "2025-04-22T19:27:39.589Z"
   },
   {
    "duration": 17,
    "start_time": "2025-04-22T19:27:39.733Z"
   },
   {
    "duration": 24,
    "start_time": "2025-04-22T19:27:39.752Z"
   },
   {
    "duration": 167,
    "start_time": "2025-04-22T19:27:39.778Z"
   },
   {
    "duration": 16,
    "start_time": "2025-04-22T19:27:39.946Z"
   },
   {
    "duration": 91,
    "start_time": "2025-04-22T19:27:39.963Z"
   },
   {
    "duration": 25,
    "start_time": "2025-04-22T19:27:40.055Z"
   },
   {
    "duration": 61,
    "start_time": "2025-04-22T19:27:40.082Z"
   },
   {
    "duration": 57,
    "start_time": "2025-04-22T19:27:40.145Z"
   },
   {
    "duration": 207,
    "start_time": "2025-04-22T19:27:40.204Z"
   },
   {
    "duration": 236,
    "start_time": "2025-04-22T19:27:40.412Z"
   },
   {
    "duration": 6,
    "start_time": "2025-04-22T19:27:40.650Z"
   },
   {
    "duration": 97,
    "start_time": "2025-04-22T19:27:40.658Z"
   },
   {
    "duration": 100,
    "start_time": "2025-04-22T19:27:40.757Z"
   },
   {
    "duration": 90,
    "start_time": "2025-04-22T19:27:40.859Z"
   },
   {
    "duration": 123,
    "start_time": "2025-04-22T19:27:40.951Z"
   },
   {
    "duration": 31,
    "start_time": "2025-04-22T19:27:41.078Z"
   },
   {
    "duration": 9,
    "start_time": "2025-04-22T19:27:41.111Z"
   },
   {
    "duration": 554,
    "start_time": "2025-04-22T19:27:41.140Z"
   },
   {
    "duration": 123,
    "start_time": "2025-04-22T19:27:41.696Z"
   },
   {
    "duration": 592,
    "start_time": "2025-04-22T19:27:41.821Z"
   },
   {
    "duration": 142,
    "start_time": "2025-04-22T19:27:42.415Z"
   },
   {
    "duration": 10,
    "start_time": "2025-04-22T19:27:42.558Z"
   },
   {
    "duration": 3,
    "start_time": "2025-04-22T19:27:42.570Z"
   },
   {
    "duration": 10,
    "start_time": "2025-04-22T19:27:42.575Z"
   },
   {
    "duration": 463,
    "start_time": "2025-04-22T19:27:42.587Z"
   },
   {
    "duration": 11,
    "start_time": "2025-04-22T19:27:43.052Z"
   },
   {
    "duration": 8,
    "start_time": "2025-04-22T19:36:22.778Z"
   },
   {
    "duration": 19,
    "start_time": "2025-04-22T19:41:46.595Z"
   },
   {
    "duration": 13,
    "start_time": "2025-04-22T19:41:57.172Z"
   },
   {
    "duration": 20,
    "start_time": "2025-04-22T19:42:34.163Z"
   },
   {
    "duration": 17,
    "start_time": "2025-04-22T19:43:53.468Z"
   },
   {
    "duration": 19,
    "start_time": "2025-04-22T19:44:11.132Z"
   },
   {
    "duration": 21,
    "start_time": "2025-04-22T19:46:16.292Z"
   },
   {
    "duration": 20,
    "start_time": "2025-04-22T19:46:32.365Z"
   },
   {
    "duration": 17,
    "start_time": "2025-04-22T19:46:45.492Z"
   },
   {
    "duration": 192,
    "start_time": "2025-04-22T19:48:30.429Z"
   },
   {
    "duration": 192,
    "start_time": "2025-04-22T19:49:17.805Z"
   },
   {
    "duration": 180,
    "start_time": "2025-04-22T19:49:24.550Z"
   },
   {
    "duration": 17,
    "start_time": "2025-04-22T19:49:47.231Z"
   },
   {
    "duration": 368,
    "start_time": "2025-04-22T19:51:16.550Z"
   },
   {
    "duration": 168,
    "start_time": "2025-04-22T19:51:27.584Z"
   },
   {
    "duration": 17,
    "start_time": "2025-04-22T19:53:15.711Z"
   },
   {
    "duration": 9,
    "start_time": "2025-04-22T19:53:22.419Z"
   },
   {
    "duration": 18,
    "start_time": "2025-04-22T19:54:56.237Z"
   },
   {
    "duration": 19,
    "start_time": "2025-04-22T19:55:13.343Z"
   },
   {
    "duration": 21,
    "start_time": "2025-04-22T19:55:23.993Z"
   },
   {
    "duration": 126,
    "start_time": "2025-04-22T19:55:56.183Z"
   },
   {
    "duration": 18,
    "start_time": "2025-04-22T19:56:13.728Z"
   },
   {
    "duration": 37,
    "start_time": "2025-04-22T19:57:18.231Z"
   },
   {
    "duration": 26,
    "start_time": "2025-04-22T19:58:31.169Z"
   },
   {
    "duration": 33,
    "start_time": "2025-04-22T19:58:43.186Z"
   },
   {
    "duration": 25,
    "start_time": "2025-04-22T19:59:09.905Z"
   },
   {
    "duration": 193,
    "start_time": "2025-04-22T20:00:18.033Z"
   },
   {
    "duration": 133,
    "start_time": "2025-04-22T20:00:36.611Z"
   },
   {
    "duration": 238,
    "start_time": "2025-04-22T20:00:43.337Z"
   },
   {
    "duration": 14,
    "start_time": "2025-04-22T20:01:12.074Z"
   },
   {
    "duration": 132,
    "start_time": "2025-04-22T20:01:23.722Z"
   },
   {
    "duration": 220,
    "start_time": "2025-04-22T20:01:43.011Z"
   },
   {
    "duration": 14,
    "start_time": "2025-04-22T20:01:56.210Z"
   },
   {
    "duration": 135,
    "start_time": "2025-04-22T20:02:15.665Z"
   },
   {
    "duration": 132,
    "start_time": "2025-04-22T20:03:34.545Z"
   },
   {
    "duration": 24,
    "start_time": "2025-04-22T20:04:17.292Z"
   },
   {
    "duration": 9,
    "start_time": "2025-04-22T20:06:06.827Z"
   },
   {
    "duration": 24,
    "start_time": "2025-04-22T20:06:16.653Z"
   },
   {
    "duration": 136,
    "start_time": "2025-04-22T20:06:22.926Z"
   },
   {
    "duration": 7,
    "start_time": "2025-04-22T20:06:25.219Z"
   },
   {
    "duration": 133,
    "start_time": "2025-04-22T20:07:26.755Z"
   },
   {
    "duration": 131,
    "start_time": "2025-04-22T20:08:11.357Z"
   },
   {
    "duration": 135,
    "start_time": "2025-04-22T20:08:21.140Z"
   },
   {
    "duration": 134,
    "start_time": "2025-04-22T20:08:24.312Z"
   },
   {
    "duration": 1331,
    "start_time": "2025-04-23T06:33:45.525Z"
   },
   {
    "duration": 1987,
    "start_time": "2025-04-23T06:33:46.858Z"
   },
   {
    "duration": 27,
    "start_time": "2025-04-23T06:33:48.847Z"
   },
   {
    "duration": 98,
    "start_time": "2025-04-23T06:33:48.875Z"
   },
   {
    "duration": 8,
    "start_time": "2025-04-23T06:33:48.974Z"
   },
   {
    "duration": 28,
    "start_time": "2025-04-23T06:33:48.983Z"
   },
   {
    "duration": 9,
    "start_time": "2025-04-23T06:33:49.012Z"
   },
   {
    "duration": 48,
    "start_time": "2025-04-23T06:33:49.023Z"
   },
   {
    "duration": 7,
    "start_time": "2025-04-23T06:33:49.073Z"
   },
   {
    "duration": 24,
    "start_time": "2025-04-23T06:33:49.083Z"
   },
   {
    "duration": 8,
    "start_time": "2025-04-23T06:33:49.108Z"
   },
   {
    "duration": 42,
    "start_time": "2025-04-23T06:33:49.118Z"
   },
   {
    "duration": 158,
    "start_time": "2025-04-23T06:33:49.162Z"
   },
   {
    "duration": 18,
    "start_time": "2025-04-23T06:33:49.322Z"
   },
   {
    "duration": 20,
    "start_time": "2025-04-23T06:33:49.342Z"
   },
   {
    "duration": 199,
    "start_time": "2025-04-23T06:33:49.364Z"
   },
   {
    "duration": 15,
    "start_time": "2025-04-23T06:33:49.565Z"
   },
   {
    "duration": 88,
    "start_time": "2025-04-23T06:33:49.582Z"
   },
   {
    "duration": 24,
    "start_time": "2025-04-23T06:33:49.672Z"
   },
   {
    "duration": 51,
    "start_time": "2025-04-23T06:33:49.698Z"
   },
   {
    "duration": 62,
    "start_time": "2025-04-23T06:33:49.751Z"
   },
   {
    "duration": 206,
    "start_time": "2025-04-23T06:33:49.815Z"
   },
   {
    "duration": 205,
    "start_time": "2025-04-23T06:33:50.023Z"
   },
   {
    "duration": 4,
    "start_time": "2025-04-23T06:33:50.230Z"
   },
   {
    "duration": 83,
    "start_time": "2025-04-23T06:33:50.240Z"
   },
   {
    "duration": 96,
    "start_time": "2025-04-23T06:33:50.325Z"
   },
   {
    "duration": 75,
    "start_time": "2025-04-23T06:33:50.423Z"
   },
   {
    "duration": 79,
    "start_time": "2025-04-23T06:33:50.501Z"
   },
   {
    "duration": 28,
    "start_time": "2025-04-23T06:33:50.581Z"
   },
   {
    "duration": 9,
    "start_time": "2025-04-23T06:33:50.610Z"
   },
   {
    "duration": 570,
    "start_time": "2025-04-23T06:33:50.620Z"
   },
   {
    "duration": 106,
    "start_time": "2025-04-23T06:33:51.191Z"
   },
   {
    "duration": 602,
    "start_time": "2025-04-23T06:33:51.298Z"
   },
   {
    "duration": 121,
    "start_time": "2025-04-23T06:33:51.902Z"
   },
   {
    "duration": 20,
    "start_time": "2025-04-23T06:33:52.025Z"
   },
   {
    "duration": 3,
    "start_time": "2025-04-23T06:33:52.047Z"
   },
   {
    "duration": 10,
    "start_time": "2025-04-23T06:33:52.052Z"
   },
   {
    "duration": 400,
    "start_time": "2025-04-23T06:33:52.064Z"
   },
   {
    "duration": 10,
    "start_time": "2025-04-23T06:33:52.466Z"
   },
   {
    "duration": 36,
    "start_time": "2025-04-23T06:33:52.477Z"
   },
   {
    "duration": 153,
    "start_time": "2025-04-23T06:33:52.515Z"
   },
   {
    "duration": 6,
    "start_time": "2025-04-23T06:33:52.670Z"
   },
   {
    "duration": 147,
    "start_time": "2025-04-23T06:33:52.678Z"
   },
   {
    "duration": 106,
    "start_time": "2025-04-23T06:43:05.843Z"
   },
   {
    "duration": 8,
    "start_time": "2025-04-23T06:43:14.323Z"
   },
   {
    "duration": 8,
    "start_time": "2025-04-23T06:43:33.680Z"
   },
   {
    "duration": 16,
    "start_time": "2025-04-23T06:46:18.639Z"
   },
   {
    "duration": 330,
    "start_time": "2025-04-23T06:47:26.496Z"
   },
   {
    "duration": 335,
    "start_time": "2025-04-23T06:48:24.686Z"
   },
   {
    "duration": 306,
    "start_time": "2025-04-23T06:48:37.714Z"
   },
   {
    "duration": 305,
    "start_time": "2025-04-23T06:48:46.720Z"
   },
   {
    "duration": 298,
    "start_time": "2025-04-23T06:48:51.755Z"
   },
   {
    "duration": 274,
    "start_time": "2025-04-23T06:49:02.348Z"
   },
   {
    "duration": 331,
    "start_time": "2025-04-23T06:49:20.974Z"
   },
   {
    "duration": 242,
    "start_time": "2025-04-23T06:49:28.737Z"
   },
   {
    "duration": 168,
    "start_time": "2025-04-23T06:49:42.507Z"
   },
   {
    "duration": 4,
    "start_time": "2025-04-23T08:04:12.404Z"
   },
   {
    "duration": 1947,
    "start_time": "2025-04-23T08:04:12.410Z"
   },
   {
    "duration": 23,
    "start_time": "2025-04-23T08:04:14.360Z"
   },
   {
    "duration": 131,
    "start_time": "2025-04-23T08:04:14.386Z"
   },
   {
    "duration": 8,
    "start_time": "2025-04-23T08:04:14.519Z"
   },
   {
    "duration": 58,
    "start_time": "2025-04-23T08:04:14.528Z"
   },
   {
    "duration": 35,
    "start_time": "2025-04-23T08:04:14.587Z"
   },
   {
    "duration": 69,
    "start_time": "2025-04-23T08:04:14.623Z"
   },
   {
    "duration": 7,
    "start_time": "2025-04-23T08:04:14.693Z"
   },
   {
    "duration": 53,
    "start_time": "2025-04-23T08:04:14.703Z"
   },
   {
    "duration": 16,
    "start_time": "2025-04-23T08:04:14.757Z"
   },
   {
    "duration": 54,
    "start_time": "2025-04-23T08:04:14.774Z"
   },
   {
    "duration": 160,
    "start_time": "2025-04-23T08:04:14.830Z"
   },
   {
    "duration": 8,
    "start_time": "2025-04-23T08:04:14.991Z"
   },
   {
    "duration": 83,
    "start_time": "2025-04-23T08:04:15.001Z"
   },
   {
    "duration": 202,
    "start_time": "2025-04-23T08:04:15.086Z"
   },
   {
    "duration": 13,
    "start_time": "2025-04-23T08:04:15.289Z"
   },
   {
    "duration": 100,
    "start_time": "2025-04-23T08:04:15.304Z"
   },
   {
    "duration": 21,
    "start_time": "2025-04-23T08:04:15.406Z"
   },
   {
    "duration": 72,
    "start_time": "2025-04-23T08:04:15.429Z"
   },
   {
    "duration": 67,
    "start_time": "2025-04-23T08:04:15.503Z"
   },
   {
    "duration": 204,
    "start_time": "2025-04-23T08:04:15.572Z"
   },
   {
    "duration": 219,
    "start_time": "2025-04-23T08:04:15.778Z"
   },
   {
    "duration": 5,
    "start_time": "2025-04-23T08:04:15.999Z"
   },
   {
    "duration": 107,
    "start_time": "2025-04-23T08:04:16.006Z"
   },
   {
    "duration": 97,
    "start_time": "2025-04-23T08:04:16.114Z"
   },
   {
    "duration": 78,
    "start_time": "2025-04-23T08:04:16.213Z"
   },
   {
    "duration": 87,
    "start_time": "2025-04-23T08:04:16.295Z"
   },
   {
    "duration": 26,
    "start_time": "2025-04-23T08:04:16.383Z"
   },
   {
    "duration": 8,
    "start_time": "2025-04-23T08:04:16.411Z"
   },
   {
    "duration": 603,
    "start_time": "2025-04-23T08:04:16.421Z"
   },
   {
    "duration": 120,
    "start_time": "2025-04-23T08:04:17.026Z"
   },
   {
    "duration": 630,
    "start_time": "2025-04-23T08:04:17.147Z"
   },
   {
    "duration": 136,
    "start_time": "2025-04-23T08:04:17.779Z"
   },
   {
    "duration": 9,
    "start_time": "2025-04-23T08:04:17.917Z"
   },
   {
    "duration": 20,
    "start_time": "2025-04-23T08:04:17.927Z"
   },
   {
    "duration": 14,
    "start_time": "2025-04-23T08:04:17.948Z"
   },
   {
    "duration": 341,
    "start_time": "2025-04-23T08:04:17.968Z"
   },
   {
    "duration": 9,
    "start_time": "2025-04-23T08:04:18.310Z"
   },
   {
    "duration": 48,
    "start_time": "2025-04-23T08:04:18.320Z"
   },
   {
    "duration": 242,
    "start_time": "2025-04-23T08:04:18.369Z"
   },
   {
    "duration": 6,
    "start_time": "2025-04-23T08:04:18.612Z"
   },
   {
    "duration": 160,
    "start_time": "2025-04-23T08:04:18.620Z"
   },
   {
    "duration": 8,
    "start_time": "2025-04-23T08:04:18.782Z"
   },
   {
    "duration": 21,
    "start_time": "2025-04-23T08:04:18.791Z"
   },
   {
    "duration": 181,
    "start_time": "2025-04-23T08:04:18.814Z"
   },
   {
    "duration": 1183,
    "start_time": "2025-04-23T08:47:42.185Z"
   },
   {
    "duration": 1810,
    "start_time": "2025-04-23T08:47:43.370Z"
   },
   {
    "duration": 26,
    "start_time": "2025-04-23T08:47:45.181Z"
   },
   {
    "duration": 111,
    "start_time": "2025-04-23T08:47:45.209Z"
   },
   {
    "duration": 8,
    "start_time": "2025-04-23T08:47:45.322Z"
   },
   {
    "duration": 23,
    "start_time": "2025-04-23T08:47:45.342Z"
   },
   {
    "duration": 27,
    "start_time": "2025-04-23T08:47:45.367Z"
   },
   {
    "duration": 46,
    "start_time": "2025-04-23T08:47:45.396Z"
   },
   {
    "duration": 12,
    "start_time": "2025-04-23T08:47:45.444Z"
   },
   {
    "duration": 19,
    "start_time": "2025-04-23T08:47:45.458Z"
   },
   {
    "duration": 7,
    "start_time": "2025-04-23T08:47:45.478Z"
   },
   {
    "duration": 35,
    "start_time": "2025-04-23T08:47:45.486Z"
   },
   {
    "duration": 169,
    "start_time": "2025-04-23T08:47:45.523Z"
   },
   {
    "duration": 9,
    "start_time": "2025-04-23T08:47:45.694Z"
   },
   {
    "duration": 40,
    "start_time": "2025-04-23T08:47:45.704Z"
   },
   {
    "duration": 210,
    "start_time": "2025-04-23T08:47:45.746Z"
   },
   {
    "duration": 14,
    "start_time": "2025-04-23T08:47:45.957Z"
   },
   {
    "duration": 81,
    "start_time": "2025-04-23T08:47:45.973Z"
   },
   {
    "duration": 33,
    "start_time": "2025-04-23T08:47:46.058Z"
   },
   {
    "duration": 64,
    "start_time": "2025-04-23T08:47:46.093Z"
   },
   {
    "duration": 62,
    "start_time": "2025-04-23T08:47:46.158Z"
   },
   {
    "duration": 209,
    "start_time": "2025-04-23T08:47:46.222Z"
   },
   {
    "duration": 220,
    "start_time": "2025-04-23T08:47:46.433Z"
   },
   {
    "duration": 5,
    "start_time": "2025-04-23T08:47:46.657Z"
   },
   {
    "duration": 96,
    "start_time": "2025-04-23T08:47:46.663Z"
   },
   {
    "duration": 94,
    "start_time": "2025-04-23T08:47:46.761Z"
   },
   {
    "duration": 69,
    "start_time": "2025-04-23T08:47:46.857Z"
   },
   {
    "duration": 75,
    "start_time": "2025-04-23T08:47:46.940Z"
   },
   {
    "duration": 46,
    "start_time": "2025-04-23T08:47:47.017Z"
   },
   {
    "duration": 9,
    "start_time": "2025-04-23T08:47:47.065Z"
   },
   {
    "duration": 533,
    "start_time": "2025-04-23T08:47:47.075Z"
   },
   {
    "duration": 131,
    "start_time": "2025-04-23T08:47:47.610Z"
   },
   {
    "duration": 593,
    "start_time": "2025-04-23T08:47:47.743Z"
   },
   {
    "duration": 132,
    "start_time": "2025-04-23T08:47:48.338Z"
   },
   {
    "duration": 9,
    "start_time": "2025-04-23T08:47:48.472Z"
   },
   {
    "duration": 33,
    "start_time": "2025-04-23T08:47:48.482Z"
   },
   {
    "duration": 54,
    "start_time": "2025-04-23T08:47:48.516Z"
   },
   {
    "duration": 457,
    "start_time": "2025-04-23T08:47:48.572Z"
   },
   {
    "duration": 14,
    "start_time": "2025-04-23T08:47:49.030Z"
   },
   {
    "duration": 49,
    "start_time": "2025-04-23T08:47:49.049Z"
   },
   {
    "duration": 190,
    "start_time": "2025-04-23T08:47:49.099Z"
   },
   {
    "duration": 6,
    "start_time": "2025-04-23T08:47:49.291Z"
   },
   {
    "duration": 165,
    "start_time": "2025-04-23T08:47:49.299Z"
   },
   {
    "duration": 8,
    "start_time": "2025-04-23T08:47:49.466Z"
   },
   {
    "duration": 38,
    "start_time": "2025-04-23T08:47:49.475Z"
   },
   {
    "duration": 241,
    "start_time": "2025-04-23T08:47:49.515Z"
   },
   {
    "duration": 20,
    "start_time": "2025-04-23T08:59:02.838Z"
   },
   {
    "duration": 3,
    "start_time": "2025-04-23T08:59:10.417Z"
   },
   {
    "duration": 2162,
    "start_time": "2025-04-23T08:59:10.422Z"
   },
   {
    "duration": 25,
    "start_time": "2025-04-23T08:59:12.586Z"
   },
   {
    "duration": 120,
    "start_time": "2025-04-23T08:59:12.613Z"
   },
   {
    "duration": 18,
    "start_time": "2025-04-23T08:59:12.735Z"
   },
   {
    "duration": 12,
    "start_time": "2025-04-23T08:59:12.755Z"
   },
   {
    "duration": 10,
    "start_time": "2025-04-23T08:59:12.769Z"
   },
   {
    "duration": 47,
    "start_time": "2025-04-23T08:59:12.780Z"
   },
   {
    "duration": 23,
    "start_time": "2025-04-23T08:59:12.829Z"
   },
   {
    "duration": 20,
    "start_time": "2025-04-23T08:59:12.857Z"
   },
   {
    "duration": 8,
    "start_time": "2025-04-23T08:59:12.879Z"
   },
   {
    "duration": 25,
    "start_time": "2025-04-23T08:59:12.889Z"
   },
   {
    "duration": 155,
    "start_time": "2025-04-23T08:59:12.941Z"
   },
   {
    "duration": 9,
    "start_time": "2025-04-23T08:59:13.099Z"
   },
   {
    "duration": 42,
    "start_time": "2025-04-23T08:59:13.109Z"
   },
   {
    "duration": 155,
    "start_time": "2025-04-23T08:59:13.153Z"
   },
   {
    "duration": 15,
    "start_time": "2025-04-23T08:59:13.310Z"
   },
   {
    "duration": 91,
    "start_time": "2025-04-23T08:59:13.326Z"
   },
   {
    "duration": 52,
    "start_time": "2025-04-23T08:59:13.419Z"
   },
   {
    "duration": 43,
    "start_time": "2025-04-23T08:59:13.473Z"
   },
   {
    "duration": 65,
    "start_time": "2025-04-23T08:59:13.518Z"
   },
   {
    "duration": 198,
    "start_time": "2025-04-23T08:59:13.585Z"
   },
   {
    "duration": 212,
    "start_time": "2025-04-23T08:59:13.785Z"
   },
   {
    "duration": 5,
    "start_time": "2025-04-23T08:59:13.998Z"
   },
   {
    "duration": 103,
    "start_time": "2025-04-23T08:59:14.005Z"
   },
   {
    "duration": 87,
    "start_time": "2025-04-23T08:59:14.110Z"
   },
   {
    "duration": 95,
    "start_time": "2025-04-23T08:59:14.200Z"
   },
   {
    "duration": 88,
    "start_time": "2025-04-23T08:59:14.297Z"
   },
   {
    "duration": 28,
    "start_time": "2025-04-23T08:59:14.387Z"
   },
   {
    "duration": 35,
    "start_time": "2025-04-23T08:59:14.417Z"
   },
   {
    "duration": 542,
    "start_time": "2025-04-23T08:59:14.455Z"
   },
   {
    "duration": 127,
    "start_time": "2025-04-23T08:59:14.999Z"
   },
   {
    "duration": 695,
    "start_time": "2025-04-23T08:59:15.128Z"
   },
   {
    "duration": 138,
    "start_time": "2025-04-23T08:59:15.825Z"
   },
   {
    "duration": 10,
    "start_time": "2025-04-23T08:59:15.965Z"
   },
   {
    "duration": 15,
    "start_time": "2025-04-23T08:59:15.977Z"
   },
   {
    "duration": 12,
    "start_time": "2025-04-23T08:59:15.994Z"
   },
   {
    "duration": 458,
    "start_time": "2025-04-23T08:59:16.007Z"
   },
   {
    "duration": 9,
    "start_time": "2025-04-23T08:59:16.467Z"
   },
   {
    "duration": 23,
    "start_time": "2025-04-23T08:59:16.477Z"
   },
   {
    "duration": 169,
    "start_time": "2025-04-23T08:59:16.504Z"
   },
   {
    "duration": 6,
    "start_time": "2025-04-23T08:59:16.674Z"
   },
   {
    "duration": 168,
    "start_time": "2025-04-23T08:59:16.682Z"
   },
   {
    "duration": 9,
    "start_time": "2025-04-23T08:59:16.854Z"
   },
   {
    "duration": 23,
    "start_time": "2025-04-23T08:59:16.864Z"
   },
   {
    "duration": 165,
    "start_time": "2025-04-23T08:59:16.889Z"
   },
   {
    "duration": 17,
    "start_time": "2025-04-23T09:08:19.240Z"
   },
   {
    "duration": 8,
    "start_time": "2025-04-23T09:08:44.062Z"
   },
   {
    "duration": 4,
    "start_time": "2025-04-23T09:08:51.597Z"
   },
   {
    "duration": 5,
    "start_time": "2025-04-23T09:09:06.377Z"
   },
   {
    "duration": 11,
    "start_time": "2025-04-23T09:09:18.397Z"
   },
   {
    "duration": 15,
    "start_time": "2025-04-23T09:10:20.264Z"
   },
   {
    "duration": 18,
    "start_time": "2025-04-23T09:10:25.019Z"
   },
   {
    "duration": 11,
    "start_time": "2025-04-23T09:10:32.715Z"
   },
   {
    "duration": 52,
    "start_time": "2025-04-24T07:03:43.109Z"
   },
   {
    "duration": 1520,
    "start_time": "2025-04-24T07:04:00.200Z"
   },
   {
    "duration": 2094,
    "start_time": "2025-04-24T07:04:01.722Z"
   },
   {
    "duration": 32,
    "start_time": "2025-04-24T07:04:03.818Z"
   },
   {
    "duration": 110,
    "start_time": "2025-04-24T07:04:03.852Z"
   },
   {
    "duration": 9,
    "start_time": "2025-04-24T07:04:03.964Z"
   },
   {
    "duration": 26,
    "start_time": "2025-04-24T07:04:03.974Z"
   },
   {
    "duration": 25,
    "start_time": "2025-04-24T07:04:04.001Z"
   },
   {
    "duration": 52,
    "start_time": "2025-04-24T07:04:04.027Z"
   },
   {
    "duration": 8,
    "start_time": "2025-04-24T07:04:04.081Z"
   },
   {
    "duration": 33,
    "start_time": "2025-04-24T07:04:04.090Z"
   },
   {
    "duration": 12,
    "start_time": "2025-04-24T07:04:04.125Z"
   },
   {
    "duration": 31,
    "start_time": "2025-04-24T07:04:04.139Z"
   },
   {
    "duration": 147,
    "start_time": "2025-04-24T07:04:04.172Z"
   },
   {
    "duration": 10,
    "start_time": "2025-04-24T07:04:04.323Z"
   },
   {
    "duration": 37,
    "start_time": "2025-04-24T07:04:04.335Z"
   },
   {
    "duration": 202,
    "start_time": "2025-04-24T07:04:04.374Z"
   },
   {
    "duration": 16,
    "start_time": "2025-04-24T07:04:04.578Z"
   },
   {
    "duration": 90,
    "start_time": "2025-04-24T07:04:04.596Z"
   },
   {
    "duration": 24,
    "start_time": "2025-04-24T07:04:04.688Z"
   },
   {
    "duration": 63,
    "start_time": "2025-04-24T07:04:04.714Z"
   },
   {
    "duration": 64,
    "start_time": "2025-04-24T07:04:04.779Z"
   },
   {
    "duration": 232,
    "start_time": "2025-04-24T07:04:04.845Z"
   },
   {
    "duration": 230,
    "start_time": "2025-04-24T07:04:05.079Z"
   },
   {
    "duration": 5,
    "start_time": "2025-04-24T07:04:05.312Z"
   },
   {
    "duration": 100,
    "start_time": "2025-04-24T07:04:05.319Z"
   },
   {
    "duration": 96,
    "start_time": "2025-04-24T07:04:05.420Z"
   },
   {
    "duration": 80,
    "start_time": "2025-04-24T07:04:05.517Z"
   },
   {
    "duration": 120,
    "start_time": "2025-04-24T07:04:05.599Z"
   },
   {
    "duration": 27,
    "start_time": "2025-04-24T07:04:05.721Z"
   },
   {
    "duration": 10,
    "start_time": "2025-04-24T07:04:05.762Z"
   },
   {
    "duration": 648,
    "start_time": "2025-04-24T07:04:05.773Z"
   },
   {
    "duration": 124,
    "start_time": "2025-04-24T07:04:06.423Z"
   },
   {
    "duration": 604,
    "start_time": "2025-04-24T07:04:06.549Z"
   },
   {
    "duration": 135,
    "start_time": "2025-04-24T07:04:07.162Z"
   },
   {
    "duration": 13,
    "start_time": "2025-04-24T07:04:07.300Z"
   },
   {
    "duration": 15,
    "start_time": "2025-04-24T07:04:07.315Z"
   },
   {
    "duration": 30,
    "start_time": "2025-04-24T07:04:07.332Z"
   },
   {
    "duration": 415,
    "start_time": "2025-04-24T07:04:07.364Z"
   },
   {
    "duration": 8,
    "start_time": "2025-04-24T07:04:07.781Z"
   },
   {
    "duration": 31,
    "start_time": "2025-04-24T07:04:07.791Z"
   },
   {
    "duration": 158,
    "start_time": "2025-04-24T07:04:07.826Z"
   },
   {
    "duration": 7,
    "start_time": "2025-04-24T07:04:07.985Z"
   },
   {
    "duration": 164,
    "start_time": "2025-04-24T07:04:07.994Z"
   },
   {
    "duration": 10,
    "start_time": "2025-04-24T07:04:08.159Z"
   },
   {
    "duration": 18,
    "start_time": "2025-04-24T07:04:08.170Z"
   },
   {
    "duration": 172,
    "start_time": "2025-04-24T07:04:08.190Z"
   },
   {
    "duration": 74,
    "start_time": "2025-04-24T07:04:30.381Z"
   },
   {
    "duration": 107,
    "start_time": "2025-04-24T07:05:00.459Z"
   },
   {
    "duration": 103,
    "start_time": "2025-04-24T07:06:37.929Z"
   },
   {
    "duration": 98,
    "start_time": "2025-04-24T07:08:21.336Z"
   },
   {
    "duration": 94,
    "start_time": "2025-04-24T07:08:30.737Z"
   },
   {
    "duration": 97,
    "start_time": "2025-04-24T07:08:33.436Z"
   },
   {
    "duration": 92,
    "start_time": "2025-04-24T07:08:38.196Z"
   },
   {
    "duration": 99,
    "start_time": "2025-04-24T07:08:49.591Z"
   },
   {
    "duration": 120,
    "start_time": "2025-04-24T07:09:09.260Z"
   },
   {
    "duration": 1333,
    "start_time": "2025-04-24T07:09:27.129Z"
   },
   {
    "duration": 58,
    "start_time": "2025-04-24T07:09:36.176Z"
   },
   {
    "duration": 90,
    "start_time": "2025-04-24T07:10:07.246Z"
   },
   {
    "duration": 60,
    "start_time": "2025-04-24T07:10:13.298Z"
   },
   {
    "duration": 73,
    "start_time": "2025-04-24T07:12:07.180Z"
   },
   {
    "duration": 70,
    "start_time": "2025-04-24T07:12:19.023Z"
   },
   {
    "duration": 68,
    "start_time": "2025-04-24T07:12:56.337Z"
   },
   {
    "duration": 64,
    "start_time": "2025-04-24T07:13:05.863Z"
   },
   {
    "duration": 2,
    "start_time": "2025-04-24T07:14:43.436Z"
   },
   {
    "duration": 1961,
    "start_time": "2025-04-24T07:14:43.444Z"
   },
   {
    "duration": 25,
    "start_time": "2025-04-24T07:14:45.407Z"
   },
   {
    "duration": 116,
    "start_time": "2025-04-24T07:14:45.434Z"
   },
   {
    "duration": 13,
    "start_time": "2025-04-24T07:14:45.552Z"
   },
   {
    "duration": 28,
    "start_time": "2025-04-24T07:14:45.567Z"
   },
   {
    "duration": 9,
    "start_time": "2025-04-24T07:14:45.597Z"
   },
   {
    "duration": 55,
    "start_time": "2025-04-24T07:14:45.608Z"
   },
   {
    "duration": 7,
    "start_time": "2025-04-24T07:14:45.665Z"
   },
   {
    "duration": 26,
    "start_time": "2025-04-24T07:14:45.674Z"
   },
   {
    "duration": 8,
    "start_time": "2025-04-24T07:14:45.704Z"
   },
   {
    "duration": 45,
    "start_time": "2025-04-24T07:14:45.713Z"
   },
   {
    "duration": 133,
    "start_time": "2025-04-24T07:14:45.759Z"
   },
   {
    "duration": 9,
    "start_time": "2025-04-24T07:14:45.894Z"
   },
   {
    "duration": 21,
    "start_time": "2025-04-24T07:14:45.905Z"
   },
   {
    "duration": 172,
    "start_time": "2025-04-24T07:14:45.928Z"
   },
   {
    "duration": 15,
    "start_time": "2025-04-24T07:14:46.102Z"
   },
   {
    "duration": 83,
    "start_time": "2025-04-24T07:14:46.119Z"
   },
   {
    "duration": 24,
    "start_time": "2025-04-24T07:14:46.204Z"
   },
   {
    "duration": 54,
    "start_time": "2025-04-24T07:14:46.229Z"
   },
   {
    "duration": 57,
    "start_time": "2025-04-24T07:14:46.285Z"
   },
   {
    "duration": 208,
    "start_time": "2025-04-24T07:14:46.344Z"
   },
   {
    "duration": 209,
    "start_time": "2025-04-24T07:14:46.553Z"
   },
   {
    "duration": 4,
    "start_time": "2025-04-24T07:14:46.764Z"
   },
   {
    "duration": 85,
    "start_time": "2025-04-24T07:14:46.770Z"
   },
   {
    "duration": 85,
    "start_time": "2025-04-24T07:14:46.862Z"
   },
   {
    "duration": 78,
    "start_time": "2025-04-24T07:14:46.949Z"
   },
   {
    "duration": 84,
    "start_time": "2025-04-24T07:14:47.029Z"
   },
   {
    "duration": 12,
    "start_time": "2025-04-24T07:14:47.117Z"
   },
   {
    "duration": 45,
    "start_time": "2025-04-24T07:14:47.130Z"
   },
   {
    "duration": 8,
    "start_time": "2025-04-24T07:14:47.177Z"
   },
   {
    "duration": 654,
    "start_time": "2025-04-24T07:14:47.187Z"
   },
   {
    "duration": 123,
    "start_time": "2025-04-24T07:14:47.843Z"
   },
   {
    "duration": 584,
    "start_time": "2025-04-24T07:14:47.968Z"
   },
   {
    "duration": 224,
    "start_time": "2025-04-24T07:14:48.554Z"
   },
   {
    "duration": 9,
    "start_time": "2025-04-24T07:14:48.780Z"
   },
   {
    "duration": 3,
    "start_time": "2025-04-24T07:14:48.791Z"
   },
   {
    "duration": 8,
    "start_time": "2025-04-24T07:14:48.796Z"
   },
   {
    "duration": 365,
    "start_time": "2025-04-24T07:14:48.806Z"
   },
   {
    "duration": 9,
    "start_time": "2025-04-24T07:14:49.172Z"
   },
   {
    "duration": 24,
    "start_time": "2025-04-24T07:14:49.183Z"
   },
   {
    "duration": 174,
    "start_time": "2025-04-24T07:14:49.209Z"
   },
   {
    "duration": 6,
    "start_time": "2025-04-24T07:14:49.385Z"
   },
   {
    "duration": 155,
    "start_time": "2025-04-24T07:14:49.393Z"
   },
   {
    "duration": 14,
    "start_time": "2025-04-24T07:14:49.550Z"
   },
   {
    "duration": 27,
    "start_time": "2025-04-24T07:14:49.566Z"
   },
   {
    "duration": 155,
    "start_time": "2025-04-24T07:14:49.595Z"
   },
   {
    "duration": 3,
    "start_time": "2025-04-24T07:16:25.371Z"
   },
   {
    "duration": 3317,
    "start_time": "2025-04-24T07:16:25.395Z"
   },
   {
    "duration": 25,
    "start_time": "2025-04-24T07:16:28.714Z"
   },
   {
    "duration": 106,
    "start_time": "2025-04-24T07:16:28.740Z"
   },
   {
    "duration": 15,
    "start_time": "2025-04-24T07:16:28.848Z"
   },
   {
    "duration": 10,
    "start_time": "2025-04-24T07:16:28.865Z"
   },
   {
    "duration": 11,
    "start_time": "2025-04-24T07:16:28.876Z"
   },
   {
    "duration": 41,
    "start_time": "2025-04-24T07:16:28.888Z"
   },
   {
    "duration": 8,
    "start_time": "2025-04-24T07:16:28.930Z"
   },
   {
    "duration": 20,
    "start_time": "2025-04-24T07:16:28.963Z"
   },
   {
    "duration": 7,
    "start_time": "2025-04-24T07:16:28.986Z"
   },
   {
    "duration": 23,
    "start_time": "2025-04-24T07:16:28.995Z"
   },
   {
    "duration": 159,
    "start_time": "2025-04-24T07:16:29.020Z"
   },
   {
    "duration": 11,
    "start_time": "2025-04-24T07:16:29.182Z"
   },
   {
    "duration": 22,
    "start_time": "2025-04-24T07:16:29.195Z"
   },
   {
    "duration": 171,
    "start_time": "2025-04-24T07:16:29.219Z"
   },
   {
    "duration": 15,
    "start_time": "2025-04-24T07:16:29.391Z"
   },
   {
    "duration": 93,
    "start_time": "2025-04-24T07:16:29.407Z"
   },
   {
    "duration": 24,
    "start_time": "2025-04-24T07:16:29.501Z"
   },
   {
    "duration": 56,
    "start_time": "2025-04-24T07:16:29.527Z"
   },
   {
    "duration": 54,
    "start_time": "2025-04-24T07:16:29.585Z"
   },
   {
    "duration": 202,
    "start_time": "2025-04-24T07:16:29.640Z"
   },
   {
    "duration": 207,
    "start_time": "2025-04-24T07:16:29.844Z"
   },
   {
    "duration": 9,
    "start_time": "2025-04-24T07:16:30.052Z"
   },
   {
    "duration": 128,
    "start_time": "2025-04-24T07:16:30.063Z"
   },
   {
    "duration": 88,
    "start_time": "2025-04-24T07:16:30.193Z"
   },
   {
    "duration": 79,
    "start_time": "2025-04-24T07:16:30.283Z"
   },
   {
    "duration": 96,
    "start_time": "2025-04-24T07:16:30.365Z"
   },
   {
    "duration": 29,
    "start_time": "2025-04-24T07:16:30.464Z"
   },
   {
    "duration": 43,
    "start_time": "2025-04-24T07:16:30.495Z"
   },
   {
    "duration": 591,
    "start_time": "2025-04-24T07:16:30.539Z"
   },
   {
    "duration": 119,
    "start_time": "2025-04-24T07:16:31.131Z"
   },
   {
    "duration": 813,
    "start_time": "2025-04-24T07:16:31.252Z"
   },
   {
    "duration": 125,
    "start_time": "2025-04-24T07:16:32.066Z"
   },
   {
    "duration": 10,
    "start_time": "2025-04-24T07:16:32.193Z"
   },
   {
    "duration": 21,
    "start_time": "2025-04-24T07:16:32.205Z"
   },
   {
    "duration": 18,
    "start_time": "2025-04-24T07:16:32.227Z"
   },
   {
    "duration": 328,
    "start_time": "2025-04-24T07:16:32.247Z"
   },
   {
    "duration": 9,
    "start_time": "2025-04-24T07:16:32.577Z"
   },
   {
    "duration": 38,
    "start_time": "2025-04-24T07:16:32.587Z"
   },
   {
    "duration": 161,
    "start_time": "2025-04-24T07:16:32.627Z"
   },
   {
    "duration": 6,
    "start_time": "2025-04-24T07:16:32.790Z"
   },
   {
    "duration": 167,
    "start_time": "2025-04-24T07:16:32.798Z"
   },
   {
    "duration": 9,
    "start_time": "2025-04-24T07:16:32.967Z"
   },
   {
    "duration": 22,
    "start_time": "2025-04-24T07:16:32.977Z"
   },
   {
    "duration": 180,
    "start_time": "2025-04-24T07:16:33.001Z"
   },
   {
    "duration": 1389,
    "start_time": "2025-04-24T14:05:48.533Z"
   },
   {
    "duration": 2401,
    "start_time": "2025-04-24T14:05:49.924Z"
   },
   {
    "duration": 27,
    "start_time": "2025-04-24T14:05:52.327Z"
   },
   {
    "duration": 110,
    "start_time": "2025-04-24T14:05:52.357Z"
   },
   {
    "duration": 9,
    "start_time": "2025-04-24T14:05:52.469Z"
   },
   {
    "duration": 16,
    "start_time": "2025-04-24T14:05:52.479Z"
   },
   {
    "duration": 33,
    "start_time": "2025-04-24T14:05:52.496Z"
   },
   {
    "duration": 75,
    "start_time": "2025-04-24T14:05:52.531Z"
   },
   {
    "duration": 9,
    "start_time": "2025-04-24T14:05:52.607Z"
   },
   {
    "duration": 43,
    "start_time": "2025-04-24T14:05:52.619Z"
   },
   {
    "duration": 11,
    "start_time": "2025-04-24T14:05:52.664Z"
   },
   {
    "duration": 27,
    "start_time": "2025-04-24T14:05:52.676Z"
   },
   {
    "duration": 163,
    "start_time": "2025-04-24T14:05:52.705Z"
   },
   {
    "duration": 9,
    "start_time": "2025-04-24T14:05:52.869Z"
   },
   {
    "duration": 35,
    "start_time": "2025-04-24T14:05:52.880Z"
   },
   {
    "duration": 205,
    "start_time": "2025-04-24T14:05:52.917Z"
   },
   {
    "duration": 23,
    "start_time": "2025-04-24T14:05:53.124Z"
   },
   {
    "duration": 69,
    "start_time": "2025-04-24T14:05:53.149Z"
   },
   {
    "duration": 36,
    "start_time": "2025-04-24T14:05:53.220Z"
   },
   {
    "duration": 40,
    "start_time": "2025-04-24T14:05:53.258Z"
   },
   {
    "duration": 83,
    "start_time": "2025-04-24T14:05:53.300Z"
   },
   {
    "duration": 219,
    "start_time": "2025-04-24T14:05:53.385Z"
   },
   {
    "duration": 236,
    "start_time": "2025-04-24T14:05:53.606Z"
   },
   {
    "duration": 4,
    "start_time": "2025-04-24T14:05:53.845Z"
   },
   {
    "duration": 115,
    "start_time": "2025-04-24T14:05:53.850Z"
   },
   {
    "duration": 107,
    "start_time": "2025-04-24T14:05:53.968Z"
   },
   {
    "duration": 78,
    "start_time": "2025-04-24T14:05:54.077Z"
   },
   {
    "duration": 81,
    "start_time": "2025-04-24T14:05:54.159Z"
   },
   {
    "duration": 29,
    "start_time": "2025-04-24T14:05:54.242Z"
   },
   {
    "duration": 10,
    "start_time": "2025-04-24T14:05:54.273Z"
   },
   {
    "duration": 649,
    "start_time": "2025-04-24T14:05:54.284Z"
   },
   {
    "duration": 127,
    "start_time": "2025-04-24T14:05:54.935Z"
   },
   {
    "duration": 670,
    "start_time": "2025-04-24T14:05:55.064Z"
   },
   {
    "duration": 228,
    "start_time": "2025-04-24T14:05:55.740Z"
   },
   {
    "duration": 10,
    "start_time": "2025-04-24T14:05:55.969Z"
   },
   {
    "duration": 25,
    "start_time": "2025-04-24T14:05:55.980Z"
   },
   {
    "duration": 15,
    "start_time": "2025-04-24T14:05:56.007Z"
   },
   {
    "duration": 323,
    "start_time": "2025-04-24T14:05:56.024Z"
   },
   {
    "duration": 9,
    "start_time": "2025-04-24T14:05:56.348Z"
   },
   {
    "duration": 63,
    "start_time": "2025-04-24T14:05:56.358Z"
   },
   {
    "duration": 136,
    "start_time": "2025-04-24T14:05:56.423Z"
   },
   {
    "duration": 6,
    "start_time": "2025-04-24T14:05:56.561Z"
   },
   {
    "duration": 145,
    "start_time": "2025-04-24T14:05:56.569Z"
   },
   {
    "duration": 9,
    "start_time": "2025-04-24T14:05:56.716Z"
   },
   {
    "duration": 23,
    "start_time": "2025-04-24T14:05:56.727Z"
   },
   {
    "duration": 157,
    "start_time": "2025-04-24T14:05:56.752Z"
   },
   {
    "duration": 24,
    "start_time": "2025-04-24T14:06:15.486Z"
   },
   {
    "duration": 23,
    "start_time": "2025-04-24T14:06:37.408Z"
   },
   {
    "duration": 115,
    "start_time": "2025-04-24T14:08:52.963Z"
   },
   {
    "duration": 1276,
    "start_time": "2025-04-24T14:08:59.058Z"
   },
   {
    "duration": 34,
    "start_time": "2025-04-24T14:09:12.490Z"
   },
   {
    "duration": 24,
    "start_time": "2025-04-24T14:09:53.103Z"
   },
   {
    "duration": 47,
    "start_time": "2025-04-25T09:01:44.735Z"
   },
   {
    "duration": 1400,
    "start_time": "2025-04-25T09:01:51.242Z"
   },
   {
    "duration": 1835,
    "start_time": "2025-04-25T09:01:53.746Z"
   },
   {
    "duration": 43,
    "start_time": "2025-04-25T09:01:59.134Z"
   },
   {
    "duration": 173,
    "start_time": "2025-04-25T09:02:23.768Z"
   },
   {
    "duration": 39,
    "start_time": "2025-04-25T09:02:50.247Z"
   }
  ],
  "colab": {
   "provenance": []
  },
  "kernelspec": {
   "display_name": "Python [conda env:base] *",
   "language": "python",
   "name": "conda-base-py"
  },
  "language_info": {
   "codemirror_mode": {
    "name": "ipython",
    "version": 3
   },
   "file_extension": ".py",
   "mimetype": "text/x-python",
   "name": "python",
   "nbconvert_exporter": "python",
   "pygments_lexer": "ipython3",
   "version": "3.12.7"
  },
  "toc": {
   "base_numbering": 1,
   "nav_menu": {},
   "number_sections": false,
   "sideBar": true,
   "skip_h1_title": true,
   "title_cell": "Table of Contents",
   "title_sidebar": "Contents",
   "toc_cell": false,
   "toc_position": {},
   "toc_section_display": true,
   "toc_window_display": true
  }
 },
 "nbformat": 4,
 "nbformat_minor": 4
}
